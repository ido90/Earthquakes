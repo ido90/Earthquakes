{
 "cells": [
  {
   "cell_type": "markdown",
   "metadata": {},
   "source": [
    "# LANL Earthquakes Experiment\n",
    "# Spectrogram Analysis"
   ]
  },
  {
   "cell_type": "markdown",
   "metadata": {},
   "source": [
    "This notebook continues from the point where Spectrogram_librosa.ipynb created a directory of spectrograms made using librosa library."
   ]
  },
  {
   "cell_type": "markdown",
   "metadata": {},
   "source": [
    "TODO:\n",
    "* Estimate statistical dependence when multiplying probabilities\n",
    "* Apply prior distribution knowledge."
   ]
  },
  {
   "cell_type": "code",
   "execution_count": 1,
   "metadata": {
    "collapsed": true
   },
   "outputs": [],
   "source": [
    "%reload_ext autoreload\n",
    "%autoreload 2\n",
    "%matplotlib inline"
   ]
  },
  {
   "cell_type": "code",
   "execution_count": 2,
   "metadata": {
    "collapsed": true
   },
   "outputs": [],
   "source": [
    "import numpy as np\n",
    "import scipy as sp\n",
    "import scipy.stats as stats\n",
    "import matplotlib as mpl\n",
    "import matplotlib.pyplot as plt\n",
    "from numpy.polynomial.polynomial import polyfit\n",
    "import pandas as pd\n",
    "import seaborn as sns\n",
    "import re\n",
    "from pathlib import Path\n",
    "import pickle as pkl\n",
    "from time import time\n",
    "from tqdm import tqdm, tnrange, tqdm_notebook\n",
    "from pprint import pprint\n",
    "import os, sys\n",
    "from warnings import warn\n",
    "import itertools\n",
    "from sklearn.model_selection import KFold, StratifiedKFold\n",
    "from fastai.vision import *\n",
    "from fastai.metrics import error_rate#, mean_absolute_error"
   ]
  },
  {
   "cell_type": "code",
   "execution_count": 3,
   "metadata": {
    "collapsed": true
   },
   "outputs": [],
   "source": [
    "# Path consts\n",
    "BASE = Path('../Data')\n",
    "TRAIN = BASE/'train_spec4'\n",
    "TEST = BASE/'test_spec4'\n",
    "\n",
    "# NN consts\n",
    "BS = 32 # 64 already causes OOM error in the regression\n",
    "MIXUP = True\n",
    "\n",
    "# Data consts\n",
    "SIZE = (143,156)\n",
    "meta = pd.read_csv(TRAIN/'train_spec_meta.csv')\n",
    "n_hops = len(meta)"
   ]
  },
  {
   "cell_type": "markdown",
   "metadata": {},
   "source": [
    "## Classification"
   ]
  },
  {
   "cell_type": "code",
   "execution_count": 4,
   "metadata": {
    "collapsed": true
   },
   "outputs": [],
   "source": [
    "class Probs:\n",
    "\n",
    "    def __init__(self, thresholds=(0,0.1917,1,2,3,4,5,6,7,8,9,10,12,16), intervals=None, prior=None, probs=None, n_samples=None):\n",
    "        self.intervals = intervals if intervals is not None else list((ti,tf) for ti,tf in zip(thresholds[:-1],thresholds[1:]))\n",
    "        self.n_ints = len(self.intervals)\n",
    "        self.lens = [I[1]-I[0] for I in self.intervals]\n",
    "        self.means = [(I[0]+I[1])/2 for I in self.intervals]\n",
    "        self.prior = prior if prior is not None else np.repeat(np.array(1/self.n_ints), self.n_ints)\n",
    "        self.prior = self.prior / np.sum(self.prior)\n",
    "        self.probs = None\n",
    "        if probs is None:\n",
    "            self.initialize_probs(n_sampels)\n",
    "        elif type(probs) in (list,tuple):\n",
    "            self.probs = self.list2mat(probs)\n",
    "        else:\n",
    "            self.probs = probs\n",
    "        self.n_samples = self.probs.shape[0]\n",
    "\n",
    "    def initialize_probs(self, n_samples):\n",
    "        self.probs = np.ones(n_samples, self.n_ints)\n",
    "        self.probs = np.apply_along_axis(lambda p: np.multiply(p,self.prior),1,self.probs) # TODO either 0 or 1 axis...\n",
    "\n",
    "    def list2mat(self, probs):\n",
    "        return np.array(probs)\n",
    "\n",
    "    def update_probs(self, p):\n",
    "        if type(p) in (list,tuple):\n",
    "            p = self.list2mat(p)\n",
    "        elif type(p) is Probs:\n",
    "            p = p.probs\n",
    "        self.probs = self.probs.multiply(p)\n",
    "\n",
    "    def get_meds(self):\n",
    "        m = []\n",
    "        for row in self.probs: # TODO numpy iterate over rows\n",
    "            cs = np.cumsum(row)\n",
    "            i0 = int(np.argwhere(cs>0.5)[0][0])\n",
    "            ti,tf = self.intervals[i0]\n",
    "            c0 = cs[i0-1] if i0>0 else 0\n",
    "            m.append( ti + (tf-ti) * (0.5-c0) / (cs[i0]-c0) )\n",
    "        return np.array(m)\n",
    "\n",
    "    def get_MLs(self):\n",
    "        return np.array([self.means[np.argmax(row)] for row in self.probs]) # TODO numpy iterate over rows\n",
    "\n",
    "    def get_means(self):\n",
    "        return np.array([np.sum(row*self.means) for row in self.probs]) # TODO numpy iterate over rows\n",
    "\n",
    "    def expected_errors(self, preds=None):\n",
    "        if preds is None:\n",
    "            preds = self.get_meds()\n",
    "        raise NotImplementedError()\n",
    "\n",
    "    # TODO visualizations etc."
   ]
  },
  {
   "cell_type": "code",
   "execution_count": 5,
   "metadata": {
    "collapsed": true
   },
   "outputs": [],
   "source": [
    "def classification_data(class_limits=(0,0,1,2,3,4,5,6,7,8,10,12,99), verbose=1):\n",
    "#     fnames = [str(TRAIN/nm) for nm in os.listdir(TRAIN) if nm.endswith('.png')]\n",
    "#     x = ImageDataBunch.from_name_func(path=TRAIN, fnames=fnames, test=TEST, valid_pct=0, ds_tfms=[], size=SIZE, bs=BS,\n",
    "#                                       label_func=lambda nm: nm[-9:-4],\n",
    "#                                       classes = [f'{a:02d}-{b:02d}' for a,b in zip(class_limits[:-1],class_limits[1:])])\n",
    "    data = ImageDataBunch.from_folder(\n",
    "        path=TRAIN, train=TRAIN, test='../test_spec4', valid_pct=0, ds_tfms=[], size=SIZE, bs=BS,\n",
    "        classes = [f'{a:02d}-{b:02d}' for a,b in zip(class_limits[:-1],class_limits[1:])]\n",
    "    ).normalize()\n",
    "    \n",
    "    classification_data_info(data, verbose)\n",
    "\n",
    "    return data\n",
    "\n",
    "def classification_data_info(data, verbose):\n",
    "    if verbose >= 1:\n",
    "        print(data)\n",
    "    if verbose >= 2:\n",
    "        data.show_batch(rows=3, figsize=(9,6))\n",
    "    \n",
    "def classes2times(cls):\n",
    "    return np.array([class2time(c) for c in cls])\n",
    "\n",
    "def class2time(c):\n",
    "    t = (int(c[:2])+int(c[-2:]))/2\n",
    "    return min(t,13)"
   ]
  },
  {
   "cell_type": "code",
   "execution_count": 6,
   "metadata": {},
   "outputs": [
    {
     "name": "stderr",
     "output_type": "stream",
     "text": [
      "C:\\Users\\idogr\\Anaconda3\\envs\\fastai_v1\\lib\\site-packages\\fastai\\data_block.py:525: UserWarning: You are labelling your items with CategoryList.\n",
      "Your train set contained the following unknown labels, the corresponding items have been discarded.\n",
      "train_spec4\n",
      "  if getattr(ds, 'warn', False): warn(ds.warn)\n"
     ]
    },
    {
     "name": "stdout",
     "output_type": "stream",
     "text": [
      "ImageDataBunch;\n",
      "\n",
      "Train: LabelList (25160 items)\n",
      "x: ImageList\n",
      "Image (3, 143, 156),Image (3, 143, 156),Image (3, 143, 156),Image (3, 143, 156),Image (3, 143, 156)\n",
      "y: CategoryList\n",
      "0,0,0,0,0\n",
      "Path: ..\\Data\\train_spec4;\n",
      "\n",
      "Valid: LabelList (0 items)\n",
      "x: ImageList\n",
      "\n",
      "y: CategoryList\n",
      "\n",
      "Path: ..\\Data\\train_spec4;\n",
      "\n",
      "Test: LabelList (2624 items)\n",
      "x: ImageList\n",
      "Image (3, 143, 156),Image (3, 143, 156),Image (3, 143, 156),Image (3, 143, 156),Image (3, 143, 156)\n",
      "y: EmptyLabelList\n",
      ",,,,\n",
      "Path: ..\\Data\\train_spec4\n"
     ]
    }
   ],
   "source": [
    "data = classification_data(verbose=1)\n",
    "learn = cnn_learner(data, models.resnet34, metrics=error_rate).mixup()"
   ]
  },
  {
   "cell_type": "code",
   "execution_count": 7,
   "metadata": {
    "collapsed": true
   },
   "outputs": [],
   "source": [
    "test_names = [item.name[:-4] for item in data.test_ds.x.items]"
   ]
  },
  {
   "cell_type": "code",
   "execution_count": 8,
   "metadata": {
    "collapsed": true
   },
   "outputs": [],
   "source": [
    "DO_PREDICT = False\n",
    "\n",
    "if DO_PREDICT:\n",
    "    RES = []\n",
    "    for fold in range(5):\n",
    "        print(f'Fold: {fold:d}')\n",
    "        learn.load(f'model_spec_class_refined_resnet34_freezed_mxp1_'+str(fold))\n",
    "        y = learn.get_preds(DatasetType.Test)[0]\n",
    "        RES.append(np.array(y))\n",
    "\n",
    "    print([r.shape for r in RES])\n",
    "\n",
    "    with open(TRAIN/f'classification_refined_results_mixup{MIXUP:d}_freezed_test.pkl','wb') as fd:\n",
    "        pkl.dump(RES, fd)\n",
    "    \n",
    "    torch.cuda.empty_cache()\n",
    "        \n",
    "else:\n",
    "    with open(TRAIN/f'classification_refined_results_mixup{MIXUP:d}_freezed_test.pkl','rb') as fd:\n",
    "        RES = pkl.load(fd)\n",
    "        for i in range(len(RES)):\n",
    "            RES[i] = np.array(RES[i])"
   ]
  },
  {
   "cell_type": "code",
   "execution_count": 9,
   "metadata": {},
   "outputs": [
    {
     "data": {
      "text/plain": [
       "Text(0, 0.5, 'Mean Probability')"
      ]
     },
     "execution_count": 9,
     "metadata": {},
     "output_type": "execute_result"
    },
    {
     "data": {
      "image/png": "[encoded data removed]",
      "text/plain": [
       "<Figure size 432x288 with 1 Axes>"
      ]
     },
     "metadata": {
      "needs_background": "light"
     },
     "output_type": "display_data"
    }
   ],
   "source": [
    "# mean distribution of each model\n",
    "for i in range(5):\n",
    "    plt.plot(np.apply_along_axis(np.mean, 0, RES[i]))\n",
    "plt.xlabel('Class')\n",
    "plt.ylabel('Mean Probability')"
   ]
  },
  {
   "cell_type": "code",
   "execution_count": 10,
   "metadata": {},
   "outputs": [
    {
     "data": {
      "text/plain": [
       "array([[6.037187, 6.206592, 5.572003, 8.046411, ..., 6.432078, 4.628982, 1.922302, 8.381265],\n",
       "       [5.955882, 5.365289, 5.90369 , 8.165489, ..., 6.130956, 4.134076, 2.366848, 9.027561],\n",
       "       [5.991173, 4.554383, 6.088174, 8.806861, ..., 5.791393, 4.596335, 1.825242, 9.293565],\n",
       "       [6.766256, 4.87453 , 5.636733, 8.797453, ..., 5.819589, 5.121412, 2.038478, 8.260816],\n",
       "       [6.174999, 5.270439, 6.066412, 8.431896, ..., 6.652803, 4.823541, 1.969457, 8.909721]])"
      ]
     },
     "execution_count": 10,
     "metadata": {},
     "output_type": "execute_result"
    }
   ],
   "source": [
    "def get_med(probs, class_limits=(0,0.1917,1,2,3,4,5,6,7,8,10,12,16)):\n",
    "    cs = np.cumsum(probs)\n",
    "    i0 = int(np.argwhere(cs>0.5)[0][0])\n",
    "    ti = class_limits[i0]\n",
    "    tf = class_limits[i0+1]\n",
    "    c0 = cs[i0-1] if i0>0 else 0\n",
    "    return ti + (tf-ti) * (0.5-c0) / (cs[i0]-c0)\n",
    "\n",
    "meds = list()\n",
    "for i in range(5):\n",
    "    meds.append(np.apply_along_axis(get_med, 1, np.array(RES[i])))\n",
    "meds = np.array(meds)\n",
    "meds"
   ]
  },
  {
   "cell_type": "code",
   "execution_count": 11,
   "metadata": {},
   "outputs": [
    {
     "data": {
      "text/plain": [
       "array([[1.      , 0.970467, 0.970052, 0.968828, 0.971869],\n",
       "       [0.970467, 1.      , 0.972054, 0.968994, 0.97067 ],\n",
       "       [0.970052, 0.972054, 1.      , 0.971608, 0.97405 ],\n",
       "       [0.968828, 0.968994, 0.971608, 1.      , 0.971329],\n",
       "       [0.971869, 0.97067 , 0.97405 , 0.971329, 1.      ]])"
      ]
     },
     "execution_count": 11,
     "metadata": {},
     "output_type": "execute_result"
    }
   ],
   "source": [
    "np.corrcoef(meds)"
   ]
  },
  {
   "cell_type": "code",
   "execution_count": 12,
   "metadata": {},
   "outputs": [
    {
     "data": {
      "text/plain": [
       "array([[0.      , 0.565156, 0.494797, 0.489479, 0.467656],\n",
       "       [0.565156, 0.      , 0.447025, 0.517079, 0.494937],\n",
       "       [0.494797, 0.447025, 0.      , 0.447535, 0.430799],\n",
       "       [0.489479, 0.517079, 0.447535, 0.      , 0.461441],\n",
       "       [0.467656, 0.494937, 0.430799, 0.461441, 0.      ]])"
      ]
     },
     "execution_count": 12,
     "metadata": {},
     "output_type": "execute_result"
    }
   ],
   "source": [
    "# L1-differences between medians\n",
    "mean_absolute_distance = lambda x: np.array([[np.mean(np.abs(x1-x2)) for x2 in x] for x1 in x])\n",
    "mean_absolute_distance(meds)"
   ]
  },
  {
   "cell_type": "code",
   "execution_count": 13,
   "metadata": {
    "collapsed": true
   },
   "outputs": [],
   "source": [
    "def expected_errors(probs, Y, ts=(0,0.1917,1,2,3,4,5,6,7,8,10,12,16)):\n",
    "    return [np.sum([p*np.abs((tf-ti)/3 if ti<=y<tf else ((ti+tf)/2-y))\n",
    "                    for p,ti,tf in zip(P,ts[:-1],ts[1:])])\n",
    "            for P,y in zip(probs,Y)]"
   ]
  },
  {
   "cell_type": "code",
   "execution_count": 14,
   "metadata": {},
   "outputs": [
    {
     "data": {
      "text/plain": [
       "[2.390928869799811,\n",
       " 2.2508880892311023,\n",
       " 2.3335470956603834,\n",
       " 2.361372658403817,\n",
       " 2.345979813257258]"
      ]
     },
     "execution_count": 14,
     "metadata": {},
     "output_type": "execute_result"
    }
   ],
   "source": [
    "[np.mean(expected_errors(r, m)) for r,m in zip(RES,meds)]"
   ]
  },
  {
   "cell_type": "code",
   "execution_count": 15,
   "metadata": {},
   "outputs": [
    {
     "data": {
      "text/plain": [
       "array([[1.      , 0.864115, 0.843607, 0.833959, 0.843988],\n",
       "       [0.864115, 1.      , 0.838409, 0.85409 , 0.847349],\n",
       "       [0.843607, 0.838409, 1.      , 0.825829, 0.83397 ],\n",
       "       [0.833959, 0.85409 , 0.825829, 1.      , 0.843974],\n",
       "       [0.843988, 0.847349, 0.83397 , 0.843974, 1.      ]])"
      ]
     },
     "execution_count": 15,
     "metadata": {},
     "output_type": "execute_result"
    }
   ],
   "source": [
    "np.corrcoef([expected_errors(r, m) for r,m in zip(RES,meds)])"
   ]
  },
  {
   "cell_type": "code",
   "execution_count": 16,
   "metadata": {},
   "outputs": [
    {
     "data": {
      "text/plain": [
       "array([6.1851  , 5.254246, 5.853403, 8.449622, ..., 6.165364, 4.660869, 2.024465, 8.774586])"
      ]
     },
     "execution_count": 16,
     "metadata": {},
     "output_type": "execute_result"
    }
   ],
   "source": [
    "naive_stacking = meds.mean(axis=0)\n",
    "naive_stacking"
   ]
  },
  {
   "cell_type": "code",
   "execution_count": 17,
   "metadata": {
    "collapsed": true
   },
   "outputs": [],
   "source": [
    "def stack_probs(PROBS, I=1):\n",
    "    stacked_probs = np.ones(PROBS[0].shape)\n",
    "    for r in PROBS:\n",
    "        stacked_probs *= r\n",
    "    stacked_probs = stacked_probs ** (I/len(PROBS))\n",
    "    stacked_probs = stacked_probs / stacked_probs.sum(axis=1)[:,np.newaxis]\n",
    "    prob_stacking = np.apply_along_axis(get_med, 1, stacked_probs)\n",
    "    return stacked_probs, prob_stacking"
   ]
  },
  {
   "cell_type": "code",
   "execution_count": 18,
   "metadata": {
    "collapsed": true
   },
   "outputs": [],
   "source": [
    "stacked_probs, prob_stacking = stack_probs(RES, 5)\n",
    "aggressive_prob_stacking = prob_stacking"
   ]
  },
  {
   "cell_type": "code",
   "execution_count": 19,
   "metadata": {},
   "outputs": [
    {
     "data": {
      "text/plain": [
       "1.2715616198189816"
      ]
     },
     "execution_count": 19,
     "metadata": {},
     "output_type": "execute_result"
    },
    {
     "data": {
      "image/png": "[encoded data removed]",
      "text/plain": [
       "<Figure size 432x288 with 1 Axes>"
      ]
     },
     "metadata": {
      "needs_background": "light"
     },
     "output_type": "display_data"
    }
   ],
   "source": [
    "sns.distplot(expected_errors(stacked_probs, prob_stacking))\n",
    "plt.xlabel('Expected Error [s]')\n",
    "np.mean(expected_errors(stacked_probs, prob_stacking))"
   ]
  },
  {
   "cell_type": "code",
   "execution_count": 20,
   "metadata": {},
   "outputs": [
    {
     "data": {
      "text/plain": [
       "array([[0.      , 0.962679],\n",
       "       [0.962679, 0.      ]])"
      ]
     },
     "execution_count": 20,
     "metadata": {},
     "output_type": "execute_result"
    }
   ],
   "source": [
    "mean_absolute_distance((naive_stacking,prob_stacking))"
   ]
  },
  {
   "cell_type": "code",
   "execution_count": 21,
   "metadata": {},
   "outputs": [
    {
     "data": {
      "text/plain": [
       "<matplotlib.legend.Legend at 0x1b683fe7710>"
      ]
     },
     "execution_count": 21,
     "metadata": {},
     "output_type": "execute_result"
    },
    {
     "data": {
      "image/png": "[encoded data removed]",
      "text/plain": [
       "<Figure size 432x288 with 1 Axes>"
      ]
     },
     "metadata": {
      "needs_background": "light"
     },
     "output_type": "display_data"
    }
   ],
   "source": [
    "sns.distplot(naive_stacking, label='Naive Average')\n",
    "sns.distplot(prob_stacking, label='Probabilistic Stacking')\n",
    "plt.xlabel('Predicted Time [s]')\n",
    "plt.legend()"
   ]
  },
  {
   "cell_type": "code",
   "execution_count": 22,
   "metadata": {},
   "outputs": [
    {
     "name": "stdout",
     "output_type": "stream",
     "text": [
      "8.162356808555618\n",
      "13.207164032428317\n"
     ]
    }
   ],
   "source": [
    "i0 = np.argmax(prob_stacking-naive_stacking)\n",
    "print(naive_stacking[i0])\n",
    "print(prob_stacking[i0])"
   ]
  },
  {
   "cell_type": "code",
   "execution_count": 23,
   "metadata": {},
   "outputs": [
    {
     "name": "stdout",
     "output_type": "stream",
     "text": [
      "(0, 0.1917, 1, 2, 3, 4, 5, 6, 7, 8, 10, 12, 99)\n",
      "[0.071 0.007 0.01  0.01  0.017 0.041 0.084 0.12  0.132 0.153 0.135 0.219]\n"
     ]
    },
    {
     "data": {
      "text/plain": [
       "[array([0.118, 0.01 , 0.011, 0.011, 0.014, 0.03 , 0.083, 0.133, 0.139, 0.133, 0.125, 0.192], dtype=float32),\n",
       " array([0.04 , 0.008, 0.011, 0.01 , 0.02 , 0.049, 0.066, 0.109, 0.134, 0.173, 0.142, 0.237], dtype=float32),\n",
       " array([0.091, 0.006, 0.008, 0.009, 0.02 , 0.046, 0.088, 0.089, 0.112, 0.118, 0.135, 0.278], dtype=float32),\n",
       " array([0.061, 0.009, 0.01 , 0.009, 0.016, 0.034, 0.07 , 0.125, 0.133, 0.183, 0.131, 0.219], dtype=float32),\n",
       " array([0.063, 0.005, 0.008, 0.01 , 0.016, 0.049, 0.113, 0.144, 0.134, 0.156, 0.132, 0.169], dtype=float32)]"
      ]
     },
     "execution_count": 23,
     "metadata": {},
     "output_type": "execute_result"
    }
   ],
   "source": [
    "print((0,0.1917,1,2,3,4,5,6,7,8,10,12,99))\n",
    "tmp = np.apply_along_axis(np.prod,0,np.array([np.round(r[i0,:],3) for r in RES]))**(1/5)\n",
    "print(np.round(tmp / tmp.sum(), 3))\n",
    "[np.round(r[i0,:],3) for r in RES]"
   ]
  },
  {
   "cell_type": "code",
   "execution_count": 24,
   "metadata": {
    "collapsed": true
   },
   "outputs": [],
   "source": [
    "stacked_probs, prob_stacking = stack_probs(RES, 1.15)"
   ]
  },
  {
   "cell_type": "code",
   "execution_count": 25,
   "metadata": {},
   "outputs": [
    {
     "data": {
      "text/plain": [
       "2.2282950351310395"
      ]
     },
     "execution_count": 25,
     "metadata": {},
     "output_type": "execute_result"
    },
    {
     "data": {
      "image/png": "[encoded data removed]",
      "text/plain": [
       "<Figure size 432x288 with 1 Axes>"
      ]
     },
     "metadata": {
      "needs_background": "light"
     },
     "output_type": "display_data"
    }
   ],
   "source": [
    "sns.distplot(expected_errors(stacked_probs, prob_stacking))\n",
    "plt.xlabel('Expected Error [s]')\n",
    "np.mean(expected_errors(stacked_probs, prob_stacking))"
   ]
  },
  {
   "cell_type": "code",
   "execution_count": 26,
   "metadata": {},
   "outputs": [
    {
     "data": {
      "text/plain": [
       "array([[0.      , 0.131729],\n",
       "       [0.131729, 0.      ]])"
      ]
     },
     "execution_count": 26,
     "metadata": {},
     "output_type": "execute_result"
    }
   ],
   "source": [
    "mean_absolute_distance((naive_stacking,prob_stacking))"
   ]
  },
  {
   "cell_type": "code",
   "execution_count": 27,
   "metadata": {},
   "outputs": [
    {
     "data": {
      "text/plain": [
       "<matplotlib.legend.Legend at 0x1b684118f28>"
      ]
     },
     "execution_count": 27,
     "metadata": {},
     "output_type": "execute_result"
    },
    {
     "data": {
      "image/png": "[encoded data removed]",
      "text/plain": [
       "<Figure size 432x288 with 1 Axes>"
      ]
     },
     "metadata": {
      "needs_background": "light"
     },
     "output_type": "display_data"
    }
   ],
   "source": [
    "sns.distplot(naive_stacking, label='Naive Average')\n",
    "sns.distplot(prob_stacking, label='Probabilistic Stacking')\n",
    "plt.xlabel('Predicted Time [s]')\n",
    "plt.legend()"
   ]
  },
  {
   "cell_type": "code",
   "execution_count": 28,
   "metadata": {},
   "outputs": [
    {
     "name": "stdout",
     "output_type": "stream",
     "text": [
      "2.518812341801655\n",
      "3.8168003180374974\n"
     ]
    }
   ],
   "source": [
    "i0 = np.argmax(prob_stacking-naive_stacking)\n",
    "print(naive_stacking[i0])\n",
    "print(prob_stacking[i0])"
   ]
  },
  {
   "cell_type": "code",
   "execution_count": 29,
   "metadata": {},
   "outputs": [
    {
     "name": "stdout",
     "output_type": "stream",
     "text": [
      "(0, 0.1917, 1, 2, 3, 4, 5, 6, 7, 8, 10, 12, 99)\n",
      "[0.387 0.03  0.011 0.013 0.017 0.057 0.095 0.077 0.077 0.109 0.087 0.041]\n"
     ]
    },
    {
     "data": {
      "text/plain": [
       "[array([0.397, 0.026, 0.009, 0.014, 0.019, 0.053, 0.118, 0.074, 0.084, 0.105, 0.073, 0.029], dtype=float32),\n",
       " array([0.129, 0.027, 0.019, 0.019, 0.03 , 0.114, 0.133, 0.099, 0.128, 0.144, 0.105, 0.054], dtype=float32),\n",
       " array([0.528, 0.021, 0.015, 0.012, 0.015, 0.048, 0.071, 0.061, 0.043, 0.085, 0.061, 0.04 ], dtype=float32),\n",
       " array([0.484, 0.046, 0.008, 0.011, 0.015, 0.033, 0.07 , 0.062, 0.068, 0.079, 0.077, 0.046], dtype=float32),\n",
       " array([0.476, 0.025, 0.007, 0.007, 0.007, 0.046, 0.07 , 0.068, 0.06 , 0.108, 0.098, 0.029], dtype=float32)]"
      ]
     },
     "execution_count": 29,
     "metadata": {},
     "output_type": "execute_result"
    }
   ],
   "source": [
    "print((0,0.1917,1,2,3,4,5,6,7,8,10,12,99))\n",
    "tmp = np.apply_along_axis(np.prod,0,np.array([np.round(r[i0,:],3) for r in RES]))**(1/5)\n",
    "print(np.round(tmp / tmp.sum(), 3))\n",
    "[np.round(r[i0,:],3) for r in RES]"
   ]
  },
  {
   "cell_type": "code",
   "execution_count": 30,
   "metadata": {},
   "outputs": [
    {
     "data": {
      "text/html": [
       "<div>\n",
       "<style scoped>\n",
       "    .dataframe tbody tr th:only-of-type {\n",
       "        vertical-align: middle;\n",
       "    }\n",
       "\n",
       "    .dataframe tbody tr th {\n",
       "        vertical-align: top;\n",
       "    }\n",
       "\n",
       "    .dataframe thead th {\n",
       "        text-align: right;\n",
       "    }\n",
       "</style>\n",
       "<table border=\"1\" class=\"dataframe\">\n",
       "  <thead>\n",
       "    <tr style=\"text-align: right;\">\n",
       "      <th></th>\n",
       "      <th>seg_id</th>\n",
       "      <th>time_to_failure</th>\n",
       "    </tr>\n",
       "  </thead>\n",
       "  <tbody>\n",
       "    <tr>\n",
       "      <th>0</th>\n",
       "      <td>seg_00030f</td>\n",
       "      <td>6.282830</td>\n",
       "    </tr>\n",
       "    <tr>\n",
       "      <th>1</th>\n",
       "      <td>seg_0012b5</td>\n",
       "      <td>5.195931</td>\n",
       "    </tr>\n",
       "    <tr>\n",
       "      <th>2</th>\n",
       "      <td>seg_00184e</td>\n",
       "      <td>5.881454</td>\n",
       "    </tr>\n",
       "    <tr>\n",
       "      <th>3</th>\n",
       "      <td>seg_003339</td>\n",
       "      <td>8.678295</td>\n",
       "    </tr>\n",
       "    <tr>\n",
       "      <th>4</th>\n",
       "      <td>seg_0042cc</td>\n",
       "      <td>6.295842</td>\n",
       "    </tr>\n",
       "  </tbody>\n",
       "</table>\n",
       "</div>"
      ],
      "text/plain": [
       "       seg_id  time_to_failure\n",
       "0  seg_00030f         6.282830\n",
       "1  seg_0012b5         5.195931\n",
       "2  seg_00184e         5.881454\n",
       "3  seg_003339         8.678295\n",
       "4  seg_0042cc         6.295842"
      ]
     },
     "execution_count": 30,
     "metadata": {},
     "output_type": "execute_result"
    }
   ],
   "source": [
    "def save_results(names, preds, filename):\n",
    "    df = pd.DataFrame({'seg_id':names, 'time_to_failure':preds})\n",
    "    if not filename.endswith('.csv'):\n",
    "        filename += '.csv'\n",
    "    df.to_csv(filename, index=False)\n",
    "    return df\n",
    "\n",
    "tmp = save_results(test_names, naive_stacking, 'submission_spect_manual_class_naive')\n",
    "tmp = save_results(test_names, aggressive_prob_stacking, 'submission_spect_manual_class_agg_prob')\n",
    "tmp = save_results(test_names, prob_stacking, 'submission_spect_manual_class_prob')\n",
    "tmp.head()"
   ]
  },
  {
   "cell_type": "code",
   "execution_count": null,
   "metadata": {
    "collapsed": true
   },
   "outputs": [],
   "source": []
  },
  {
   "cell_type": "code",
   "execution_count": null,
   "metadata": {
    "collapsed": true
   },
   "outputs": [],
   "source": []
  },
  {
   "cell_type": "code",
   "execution_count": null,
   "metadata": {
    "collapsed": true
   },
   "outputs": [],
   "source": []
  },
  {
   "cell_type": "code",
   "execution_count": null,
   "metadata": {
    "collapsed": true
   },
   "outputs": [],
   "source": []
  },
  {
   "cell_type": "code",
   "execution_count": 31,
   "metadata": {},
   "outputs": [
    {
     "ename": "Exception",
     "evalue": "hello",
     "output_type": "error",
     "traceback": [
      "\u001b[1;31m---------------------------------------------------------------------------\u001b[0m",
      "\u001b[1;31mException\u001b[0m                                 Traceback (most recent call last)",
      "\u001b[1;32m<ipython-input-31-2679d3bd2de7>\u001b[0m in \u001b[0;36m<module>\u001b[1;34m\u001b[0m\n\u001b[1;32m----> 1\u001b[1;33m \u001b[1;32mraise\u001b[0m \u001b[0mException\u001b[0m\u001b[1;33m(\u001b[0m\u001b[1;34m'hello'\u001b[0m\u001b[1;33m)\u001b[0m\u001b[1;33m\u001b[0m\u001b[1;33m\u001b[0m\u001b[0m\n\u001b[0m",
      "\u001b[1;31mException\u001b[0m: hello"
     ]
    }
   ],
   "source": [
    "raise Exception('hello')"
   ]
  },
  {
   "cell_type": "markdown",
   "metadata": {},
   "source": [
    "## Regression\n",
    "\n",
    "Note: range of MAE should be between 2.0 (excellent) and 2.2 (quite bad), for CV that takes groups of 20 x3-augmented-segments (i.e. 7 original segments, or 1.05M samples) as homogeneous buckets."
   ]
  },
  {
   "cell_type": "code",
   "execution_count": null,
   "metadata": {
    "collapsed": true
   },
   "outputs": [],
   "source": [
    "def regression_data(meta, fold, verbose=1):\n",
    "    validation_set = {nm: k for nm,k in zip(meta.filename,meta.fold)}\n",
    "    \n",
    "    data = (PointsItemList.from_folder(TEST)\n",
    "            .split_by_valid_func(lambda nm: validation_set[os.path.basename(nm)]==fold)\n",
    "            .label_from_df(cols='time', label_cls=FloatList)\n",
    "            .transform(size=SIZE)\n",
    "            .databunch()).normalize()\n",
    "    data.batch_size = BS\n",
    "    # Note: normalize() uses by default self.stats = self.batch_stats() = [torch.mean,torch.std].\n",
    "    # This should be good since we have very weird values and we wish to normalize them to nore conventional values.\n",
    "    # RESNET34 kind of assumes a more specific input distribution (imagenet_stats),\n",
    "    # but as far as we don't have convergence issues, we'll stick to this.\n",
    "    \n",
    "    regression_data_info(data, verbose)\n",
    "    \n",
    "    return data\n",
    "\n",
    "def regression_data_info(data, verbose):\n",
    "    if verbose >= 1:\n",
    "        print(data)\n",
    "        plt.figure(figsize=(8,5))\n",
    "        sns.distplot(data.label_list.train.y.items, color='b', hist=True, label='Train')\n",
    "        sns.distplot(data.label_list.valid.y.items, color='r', hist=True, label='Valid')\n",
    "        plt.xlabel('TTF')\n",
    "        plt.legend()\n",
    "        plt.grid()\n",
    "    if verbose >= 2:\n",
    "        data.show_batch(rows=3, figsize=(9,6))"
   ]
  },
  {
   "cell_type": "code",
   "execution_count": null,
   "metadata": {
    "collapsed": true
   },
   "outputs": [],
   "source": [
    "def regression_learn(data, lr_range=(3e-5,3e-4), cycles=(4,2), mixup=True,\n",
    "                     save_label=None, load=False, predict=True, find_lr=True):\n",
    "    \n",
    "    # initialize\n",
    "    learn = cnn_learner(data, models.resnet34, loss_func=mean_absolute_error, metrics=mean_absolute_error)\n",
    "    learn.loss = F.l1_loss\n",
    "    if mixup:\n",
    "        learn.mixup()\n",
    "    \n",
    "    # train\n",
    "    if load:\n",
    "        if load == 'freezed':\n",
    "            learn.load(f'model_spec_reg_resnet34_freezed_mxp{mixup:d}_'+save_label)\n",
    "        elif load == 'unfreezed':\n",
    "            learn.load(f'model_spec_reg_resnet34_unfreezed_mxp{mixup:d}_'+save_label)\n",
    "        else:\n",
    "            raise ValueError(\"load must be either 'freezed' or 'unfreezed'.\")\n",
    "        \n",
    "    else:\n",
    "        # TODO track training errors (on both train & validation sets)\n",
    "        if cycles[0] > 0:\n",
    "            learn.fit_one_cycle(cycles[0])\n",
    "            if save_label is not None:\n",
    "                learn.save(f'model_spec_reg_resnet34_freezed_mxp{mixup:d}_'+save_label)\n",
    "\n",
    "        if find_lr:\n",
    "            learn.lr_find()\n",
    "            learn.recorder.plot()\n",
    "\n",
    "        if cycles[1] > 0:\n",
    "            learn.unfreeze()\n",
    "            learn.fit_one_cycle(cycles[1], max_lr=slice(lr_range[0],lr_range[1]))\n",
    "            if save_label is not None:\n",
    "                learn.save(f'model_spec_reg_resnet34_unfreezed_mxp{mixup:d}_'+save_label)\n",
    "    \n",
    "    # predict\n",
    "    if predict:\n",
    "        #out = learn.get_preds(learn.data)\n",
    "        yt0 = None # out[1]\n",
    "        yt = None # np.reshape(out[0], (out[0].shape[0],))\n",
    "        yv0 = learn.data.label_list.valid.y.items\n",
    "        yv = np.array([learn.predict(x)[0].data[0] for x in tqdm_notebook(learn.data.label_list.valid.x)])\n",
    "        # ridiculously can't find any better way to get validation predictions. maybe try generalizing from this:\n",
    "        # np.array(model.get_preds(ds_type=DatasetType.Valid)[0])\n",
    "    else:\n",
    "        yt0, yt, yv0, yv = (None for _ in range(4))\n",
    "    \n",
    "    return learn, yt0, yt, yv0, yv\n",
    "\n",
    "def mean_absolute_error(pred:Tensor, targ:Tensor, reduction=None)->Rank0Tensor:\n",
    "    \"Mean absolute error between `pred` and `targ`.\"\n",
    "    \"\"\" A copied version of FastAI function with additional 'reduction' argument,\n",
    "    in sake of compatibility with up-to-date Pytorch. \"\"\"\n",
    "    pred,targ = flatten_check(pred,targ)\n",
    "    errs = torch.abs(targ.float() - pred.float())\n",
    "    if reduction is None or reduction=='mean':\n",
    "        return errs.mean()\n",
    "    if reduction=='none':\n",
    "        return errs\n",
    "    return errs.sum()\n",
    "\n",
    "# class L1LossFlat(nn.L1Loss):\n",
    "#     '''Mean Absolute Error Loss; seems that it is not necessary anymore, and F.l1_loss does fine.'''\n",
    "#     def forward(self, input:Tensor, target:Tensor) -> Rank0Tensor:\n",
    "#         return super().forward(input.view(-1), target.view(-1))\n",
    "# learn.loss = L1LossFlat"
   ]
  },
  {
   "cell_type": "code",
   "execution_count": null,
   "metadata": {
    "collapsed": true
   },
   "outputs": [],
   "source": [
    "if RUN_REGRESSION:\n",
    "\n",
    "    LOAD_ONLY = 'unfreezed' if RUN_REGRESSION==1 else False\n",
    "\n",
    "    K = len(np.unique(meta.fold))\n",
    "    print(f'Number of folders:\\t{K:d}')\n",
    "\n",
    "    YV0 = meta.time\n",
    "    YV = np.zeros(len(meta))\n",
    "    for k in range(0,K):\n",
    "        print('Iteration: ',k)\n",
    "        data = regression_data(meta, k, verbose = (2 if k==0 else 0))\n",
    "        learn, yt0, yt, yv0, yv = regression_learn(data, cycles=(4,3), mixup=MIXUP, save_label=f'{k:d}', load=LOAD_ONLY)\n",
    "        YV[meta.fold==k] = yv\n",
    "        # clean\n",
    "        del learn, data\n",
    "        torch.cuda.empty_cache()\n",
    "    \n",
    "    YV_crop = np.maximum(np.minimum(YV, 16.5), 0)\n",
    "\n",
    "    with open(TRAIN/f'regression_results_mixup{MIXUP:d}_unfreezed.pkl','wb') as fd:\n",
    "        pkl.dump((YV0, YV, YV_crop), fd)\n",
    "    \n",
    "    \n",
    "else:\n",
    "    \n",
    "    with open(TRAIN/f'regression_results_mixup{MIXUP:d}_unfreezed.pkl','rb') as fd:\n",
    "        YV0, YV, YV_crop = pkl.load(fd)"
   ]
  },
  {
   "cell_type": "code",
   "execution_count": null,
   "metadata": {
    "collapsed": true
   },
   "outputs": [],
   "source": [
    "analyze_errors(YV0, YV_crop, 'Regression', meta.fold.values)"
   ]
  },
  {
   "cell_type": "code",
   "execution_count": null,
   "metadata": {
    "collapsed": true
   },
   "outputs": [],
   "source": [
    "if CLASSIFICATION_DONE: class_vs_reg(YV0, YV_crop, YV_MED)"
   ]
  },
  {
   "cell_type": "code",
   "execution_count": null,
   "metadata": {
    "collapsed": true
   },
   "outputs": [],
   "source": [
    "torch.cuda.empty_cache()"
   ]
  }
 ],
 "metadata": {
  "kernelspec": {
   "display_name": "fastai v1",
   "language": "python",
   "name": "fastai_v1"
  },
  "language_info": {
   "codemirror_mode": {
    "name": "ipython",
    "version": 3
   },
   "file_extension": ".py",
   "mimetype": "text/x-python",
   "name": "python",
   "nbconvert_exporter": "python",
   "pygments_lexer": "ipython3",
   "version": "3.6.8"
  }
 },
 "nbformat": 4,
 "nbformat_minor": 2
}
