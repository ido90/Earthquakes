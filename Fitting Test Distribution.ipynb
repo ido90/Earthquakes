{
 "cells": [
  {
   "cell_type": "markdown",
   "metadata": {},
   "source": [
    "# Fitting Test Distribution"
   ]
  },
  {
   "cell_type": "markdown",
   "metadata": {},
   "source": [
    "This notebook take our currently best public-test predictions (according to the leaderboard, updated to 27/4/19), and the distribution of the ttf in the test data (according to the paper from which the data have arguably come), and projects the predictions on the known distribution - through quantile-to-quantile conversion (which preserves order of predictions).\n",
    "\n",
    "Due to suspected low accuracy in long-times predictions, a middle version will be tried as well, in which the projection is only done for segments with predicted time < 6s."
   ]
  },
  {
   "cell_type": "code",
   "execution_count": 1,
   "metadata": {
    "collapsed": true
   },
   "outputs": [],
   "source": [
    "%reload_ext autoreload\n",
    "%autoreload 2\n",
    "%matplotlib inline"
   ]
  },
  {
   "cell_type": "code",
   "execution_count": 2,
   "metadata": {
    "collapsed": true
   },
   "outputs": [],
   "source": [
    "import numpy as np\n",
    "import scipy as sp\n",
    "import scipy.stats as stats\n",
    "import matplotlib as mpl\n",
    "import matplotlib.pyplot as plt\n",
    "import pandas as pd\n",
    "import re\n",
    "from pathlib import Path\n",
    "from time import time\n",
    "from tqdm import tqdm, tnrange, tqdm_notebook\n",
    "from pprint import pprint\n",
    "import os, sys\n",
    "from warnings import warn\n",
    "import itertools"
   ]
  },
  {
   "cell_type": "code",
   "execution_count": 3,
   "metadata": {},
   "outputs": [
    {
     "name": "stdout",
     "output_type": "stream",
     "text": [
      "       seg_id  time_to_failure\n",
      "0  seg_00030f         2.347515\n",
      "1  seg_0012b5         4.450430\n",
      "2  seg_00184e         4.452916\n",
      "3  seg_003339         6.786396\n",
      "4  seg_0042cc         5.562557\n",
      "<class 'pandas.core.frame.DataFrame'>\n",
      "RangeIndex: 2624 entries, 0 to 2623\n",
      "Data columns (total 2 columns):\n",
      "seg_id             2624 non-null object\n",
      "time_to_failure    2624 non-null float64\n",
      "dtypes: float64(1), object(1)\n",
      "memory usage: 41.1+ KB\n",
      "None\n",
      "       time_to_failure\n",
      "count      2624.000000\n",
      "mean          4.222861\n",
      "std           1.886306\n",
      "min           0.000000\n",
      "25%           2.663451\n",
      "50%           3.952185\n",
      "75%           5.743191\n",
      "max           8.780548\n"
     ]
    }
   ],
   "source": [
    "# load submission\n",
    "path = Path('best_submission')\n",
    "df = pd.read_csv(path/'submission-042.csv')\n",
    "n = len(df)\n",
    "print(df.head())\n",
    "print(df.info())\n",
    "print(df.describe())"
   ]
  },
  {
   "cell_type": "code",
   "execution_count": 4,
   "metadata": {},
   "outputs": [
    {
     "name": "stdout",
     "output_type": "stream",
     "text": [
      "1402    0.000000\n",
      "2041    0.172046\n",
      "1795    0.196339\n",
      "2107    0.205923\n",
      "1202    0.218057\n",
      "Name: time_to_failure, dtype: float64\n",
      "       seg_id  time_to_failure     i\n",
      "0  seg_00030f         2.347515   480\n",
      "1  seg_0012b5         4.450430  1509\n",
      "2  seg_00184e         4.452916  1511\n",
      "3  seg_003339         6.786396  2324\n",
      "4  seg_0042cc         5.562557  1902\n",
      "seg_id             seg_8da61a\n",
      "time_to_failure             0\n",
      "i                           0\n",
      "Name: 1402, dtype: object\n"
     ]
    }
   ],
   "source": [
    "# sort data\n",
    "print(df.time_to_failure.sort_values().head())\n",
    "ids = np.array(df.time_to_failure.sort_values().index.values, dtype='int16')\n",
    "df['i'] = 0\n",
    "df.iloc[ids,2] = tuple(range(n))\n",
    "print(df.head())\n",
    "print(df.iloc[1402,:])"
   ]
  },
  {
   "cell_type": "code",
   "execution_count": 5,
   "metadata": {},
   "outputs": [],
   "source": [
    "# get distribution\n",
    "class Projector:\n",
    "    def __init__(self,\n",
    "                 lengths=None, group='train',\n",
    "                 train_lengths=(11.332904, 14.255248, 8.654088, 12.794076, 7.923502, 7.192916, 15.959949,\n",
    "                                7.923502, 9.628203, 11.332904, 11.089375, 8.654088, 8.654088, 14.742305, 9.384674),\n",
    "                 test_lengths=(9.72, 12.550547, 11.332904,  7.436445, 11.332904,\n",
    "                               16.447006,  9.628203, 12.550547, 16.690535),\n",
    "                 segs_per_sec=(4096/0.001064)/150e3,\n",
    "                 verbose=False\n",
    "                ):\n",
    "        \n",
    "        if lengths is None:\n",
    "            if group=='train':\n",
    "                lengths = train_lengths\n",
    "            elif group=='test':\n",
    "                lengths = test_lengths\n",
    "            else:\n",
    "                raise IOError('Invalid group.')\n",
    "                \n",
    "        lengths = sorted(lengths)\n",
    "        n_quakes = len(lengths)\n",
    "        lengths = [0] + lengths\n",
    "        dls = np.diff(lengths)\n",
    "        segs_per_interval = [(n_quakes-i)*l*segs_per_sec for i,l in enumerate(dls)]\n",
    "        segs_per_interval_norm = segs_per_interval/sum(segs_per_interval)\n",
    "        segs_thresholds = np.concatenate(([0],np.cumsum(segs_per_interval_norm)))\n",
    "\n",
    "        if verbose:\n",
    "            print(lengths)\n",
    "            print(dls)\n",
    "            print(np.cumsum(segs_per_interval))\n",
    "            print(segs_thresholds)\n",
    "            \n",
    "        self.lengths = lengths\n",
    "        self.thresholds = segs_thresholds\n",
    "        \n",
    "    def q2t(self, q):\n",
    "        i_seg = sum(q>self.thresholds)\n",
    "        x1 = self.thresholds[i_seg-1]\n",
    "        x2 = self.thresholds[i_seg]\n",
    "        y1 = self.lengths[i_seg-1]\n",
    "        y2 = self.lengths[i_seg]\n",
    "        return y1 + (q-x1)*(y2-y1)/(x2-x1)\n",
    "\n",
    "    def project_preds(self, ids, preds, thres=np.inf):\n",
    "        qs = ids / len(ids)\n",
    "        return np.array([self.q2t(q) if pred<thres and self.q2t(q)<thres else pred\n",
    "                         for q,pred in zip(qs,preds)])"
   ]
  },
  {
   "cell_type": "code",
   "execution_count": 6,
   "metadata": {},
   "outputs": [
    {
     "name": "stdout",
     "output_type": "stream",
     "text": [
      "[0, 7.192916, 7.923502, 7.923502, 8.654088, 8.654088, 8.654088, 9.384674, 9.628203, 11.089375, 11.332904, 11.332904, 12.794076, 14.255248, 14.742305, 15.959949]\n",
      "[7.192916 0.730586 0.       0.730586 0.       0.       0.730586 0.243529\n",
      " 1.461172 0.243529 0.       1.461172 1.461172 0.487057 1.217644]\n",
      "[2769.00224962 3031.50051769 3031.50051769 3256.49903318 3256.49903318\n",
      " 3256.49903318 3425.2479198  3475.24765835 3737.74592642 3775.24573033\n",
      " 3775.24573033 3925.24474065 4037.7439984  4062.74381634 4093.99362727]\n",
      "[0.         0.67635724 0.74047514 0.74047514 0.79543334 0.79543334\n",
      " 0.79543334 0.83665199 0.84886494 0.91298284 0.92214255 0.92214255\n",
      " 0.95878135 0.98626045 0.99236691 1.        ]\n"
     ]
    }
   ],
   "source": [
    "p = Projector(group='train', verbose=True)"
   ]
  },
  {
   "cell_type": "code",
   "execution_count": 7,
   "metadata": {},
   "outputs": [
    {
     "data": {
      "text/plain": [
       "Text(0,0.5,'Time [s]')"
      ]
     },
     "execution_count": 7,
     "metadata": {},
     "output_type": "execute_result"
    },
    {
     "data": {
      "image/png": "[encoded data removed]",
      "text/plain": [
       "<Figure size 432x288 with 1 Axes>"
      ]
     },
     "metadata": {},
     "output_type": "display_data"
    }
   ],
   "source": [
    "plt.plot(range(101), [p.q2t(i/100) for i in range(101)])\n",
    "plt.grid()\n",
    "plt.xlabel('Quantile [%]')\n",
    "plt.ylabel('Time [s]')"
   ]
  },
  {
   "cell_type": "code",
   "execution_count": 8,
   "metadata": {},
   "outputs": [
    {
     "name": "stdout",
     "output_type": "stream",
     "text": [
      "[ 1.94538807  6.11581376  6.12391954 10.46696397  7.74543483]\n",
      "0.0\n"
     ]
    },
    {
     "data": {
      "image/png": "[encoded data removed]",
      "text/plain": [
       "<Figure size 576x864 with 4 Axes>"
      ]
     },
     "metadata": {},
     "output_type": "display_data"
    }
   ],
   "source": [
    "# project predictions on test distribution\n",
    "y_full = p.project_preds(df.i, df.time_to_failure)\n",
    "y_part = p.project_preds(df.i, df.time_to_failure, 6)\n",
    "\n",
    "print(y_full[:5])\n",
    "print(y_full[1402])\n",
    "\n",
    "fig, axs = plt.subplots(4,1, figsize=(8,12))\n",
    "axs[0].hist(df.time_to_failure)\n",
    "axs[1].hist(y_part)\n",
    "axs[2].hist(y_full)\n",
    "axs[3].hist([p.q2t(x) for x in np.random.random(int(1e4))])\n",
    "titles = ('Predictions Hist','Partially-projected Predictions Hist','Fully-projected Predictions Hist',\n",
    "          'Actual Hist (approximated)')\n",
    "for i,ax in enumerate(axs):\n",
    "    ax.set_xlim(p.lengths[0],p.lengths[-1])\n",
    "    ax.grid()\n",
    "    ax.set_xlabel('Time [s]')\n",
    "    ax.set_title(titles[i])\n",
    "plt.tight_layout()"
   ]
  },
  {
   "cell_type": "code",
   "execution_count": 9,
   "metadata": {},
   "outputs": [],
   "source": [
    "# save new submissions\n",
    "pd.DataFrame({'seg_id':df.seg_id, 'time_to_failure':y_full}).to_csv(path/'sub_fully_projected.csv', index=False)\n",
    "pd.DataFrame({'seg_id':df.seg_id, 'time_to_failure':y_part}).to_csv(path/'sub_partially_projected.csv', index=False)"
   ]
  }
 ],
 "metadata": {
  "kernelspec": {
   "display_name": "Python 3",
   "language": "python",
   "name": "python3"
  },
  "language_info": {
   "codemirror_mode": {
    "name": "ipython",
    "version": 3
   },
   "file_extension": ".py",
   "mimetype": "text/x-python",
   "name": "python",
   "nbconvert_exporter": "python",
   "pygments_lexer": "ipython3",
   "version": "3.6.2"
  }
 },
 "nbformat": 4,
 "nbformat_minor": 2
}
