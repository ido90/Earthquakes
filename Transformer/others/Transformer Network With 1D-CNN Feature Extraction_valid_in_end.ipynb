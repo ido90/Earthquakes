{
 "cells": [
  {
   "cell_type": "code",
   "execution_count": 1,
   "metadata": {
    "_kg_hide-input": false,
    "_uuid": "e1baa7518f18a7ff1f2767df1b29c051955502ff"
   },
   "outputs": [
    {
     "name": "stderr",
     "output_type": "stream",
     "text": [
      "Using TensorFlow backend.\n"
     ]
    }
   ],
   "source": [
    "%matplotlib inline\n",
    "\n",
    "from os import listdir, makedirs\n",
    "from os.path import isfile, join, basename, splitext, isfile, exists\n",
    "from pathlib import Path\n",
    "\n",
    "import numpy as np\n",
    "import pandas as pd\n",
    "\n",
    "from tqdm import tqdm_notebook\n",
    "\n",
    "import tensorflow as tf\n",
    "import keras.backend as K\n",
    "\n",
    "import keras\n",
    "from keras.engine.input_layer import Input\n",
    "\n",
    "import matplotlib.pyplot as plt\n",
    "import seaborn as sns\n",
    "\n",
    "import random, os, sys\n",
    "from keras.models import *\n",
    "from keras.layers import *\n",
    "from keras.callbacks import *\n",
    "from keras.initializers import *\n",
    "import tensorflow as tf\n",
    "from keras.engine.topology import Layer\n",
    "\n",
    "pd.set_option('precision', 30)\n",
    "np.set_printoptions(precision = 30)\n",
    "\n",
    "np.random.seed(368)\n",
    "tf.set_random_seed(368)"
   ]
  },
  {
   "cell_type": "code",
   "execution_count": 2,
   "metadata": {},
   "outputs": [],
   "source": [
    "DATA = Path('../../Data')"
   ]
  },
  {
   "cell_type": "code",
   "execution_count": 3,
   "metadata": {
    "_uuid": "ccfffa3051a10a0eb8c74527bd8d788c49a340f2"
   },
   "outputs": [
    {
     "name": "stdout",
     "output_type": "stream",
     "text": [
      "Wall time: 2min 5s\n"
     ]
    }
   ],
   "source": [
    "%time train_df = pd.read_csv(DATA/'train.csv', dtype={'acoustic_data': np.int8, 'time_to_failure': np.float32})"
   ]
  },
  {
   "cell_type": "code",
   "execution_count": 4,
   "metadata": {
    "_kg_hide-input": false,
    "_kg_hide-output": false,
    "_uuid": "30679acc658f8437d3126d4353068f7d40588a29"
   },
   "outputs": [
    {
     "data": {
      "text/html": [
       "<div>\n",
       "<style scoped>\n",
       "    .dataframe tbody tr th:only-of-type {\n",
       "        vertical-align: middle;\n",
       "    }\n",
       "\n",
       "    .dataframe tbody tr th {\n",
       "        vertical-align: top;\n",
       "    }\n",
       "\n",
       "    .dataframe thead th {\n",
       "        text-align: right;\n",
       "    }\n",
       "</style>\n",
       "<table border=\"1\" class=\"dataframe\">\n",
       "  <thead>\n",
       "    <tr style=\"text-align: right;\">\n",
       "      <th></th>\n",
       "      <th>acoustic_data</th>\n",
       "      <th>time_to_failure</th>\n",
       "    </tr>\n",
       "  </thead>\n",
       "  <tbody>\n",
       "    <tr>\n",
       "      <th>0</th>\n",
       "      <td>12</td>\n",
       "      <td>1.46909999847412109375</td>\n",
       "    </tr>\n",
       "    <tr>\n",
       "      <th>1</th>\n",
       "      <td>6</td>\n",
       "      <td>1.46909999847412109375</td>\n",
       "    </tr>\n",
       "    <tr>\n",
       "      <th>2</th>\n",
       "      <td>8</td>\n",
       "      <td>1.46909999847412109375</td>\n",
       "    </tr>\n",
       "    <tr>\n",
       "      <th>3</th>\n",
       "      <td>5</td>\n",
       "      <td>1.46909999847412109375</td>\n",
       "    </tr>\n",
       "    <tr>\n",
       "      <th>4</th>\n",
       "      <td>8</td>\n",
       "      <td>1.46909999847412109375</td>\n",
       "    </tr>\n",
       "  </tbody>\n",
       "</table>\n",
       "</div>"
      ],
      "text/plain": [
       "   acoustic_data         time_to_failure\n",
       "0             12  1.46909999847412109375\n",
       "1              6  1.46909999847412109375\n",
       "2              8  1.46909999847412109375\n",
       "3              5  1.46909999847412109375\n",
       "4              8  1.46909999847412109375"
      ]
     },
     "execution_count": 4,
     "metadata": {},
     "output_type": "execute_result"
    }
   ],
   "source": [
    "train_df.head()"
   ]
  },
  {
   "cell_type": "code",
   "execution_count": 5,
   "metadata": {
    "_uuid": "693ff1759a78bcc26123e47b011355b54a8ac6ab"
   },
   "outputs": [],
   "source": [
    "X_train = train_df.acoustic_data.values\n",
    "y_train = train_df.time_to_failure.values"
   ]
  },
  {
   "cell_type": "markdown",
   "metadata": {
    "_uuid": "10f0836f9ac55fd57430633125ee33293b8c3bab"
   },
   "source": [
    "Find complete segments in the training data (time to failure goes to zero)"
   ]
  },
  {
   "cell_type": "code",
   "execution_count": 6,
   "metadata": {
    "_uuid": "f0f90d3483c4349050cb3e9ada89cfaf974bb0c4"
   },
   "outputs": [
    {
     "name": "stdout",
     "output_type": "stream",
     "text": [
      "[(0, 5656573), (5656573, 50085877), (50085877, 104677355), (104677355, 138772452), (138772452, 187641819), (187641819, 218652629), (218652629, 245829584), (245829584, 307838916), (307838916, 338276286), (338276286, 375377847), (375377847, 419368879), (419368879, 461811622), (461811622, 495800224), (495800224, 528777114), (528777114, 585568143), (585568143, 621985672)]\n"
     ]
    }
   ],
   "source": [
    "ends_mask = np.less(y_train[:-1], y_train[1:])\n",
    "segment_ends = np.nonzero(ends_mask)\n",
    "\n",
    "train_segments = []\n",
    "start = 0\n",
    "for end in segment_ends[0]:\n",
    "    train_segments.append((start, end))\n",
    "    start = end\n",
    "    \n",
    "print(train_segments)"
   ]
  },
  {
   "cell_type": "code",
   "execution_count": 7,
   "metadata": {
    "_uuid": "2e1194a9e1726095db78e14183c971a1dcbc89a1"
   },
   "outputs": [
    {
     "data": {
      "image/png": "[encoded data removed]",
      "text/plain": [
       "<Figure size 432x288 with 1 Axes>"
      ]
     },
     "metadata": {
      "needs_background": "light"
     },
     "output_type": "display_data"
    }
   ],
   "source": [
    "plt.title('Segment sizes')\n",
    "_ = plt.bar(np.arange(len(train_segments)), [ s[1] - s[0] for s in train_segments])"
   ]
  },
  {
   "cell_type": "markdown",
   "metadata": {
    "_uuid": "5ad80d3483b09c18d07bb62229a802d2284cd0e3"
   },
   "source": [
    "The generator samples randomly from the segmens without crossing the boundaries"
   ]
  },
  {
   "cell_type": "code",
   "execution_count": 8,
   "metadata": {
    "_uuid": "389b43c4107c58029e048522b9b29a38662769c8"
   },
   "outputs": [],
   "source": [
    "class EarthQuakeRandom(keras.utils.Sequence):\n",
    "\n",
    "    def __init__(self, x, y, x_mean, x_std, segments, ts_length, batch_size, steps_per_epoch):\n",
    "        self.x = x\n",
    "        self.y = y\n",
    "        self.segments = segments\n",
    "        self.ts_length = ts_length\n",
    "        self.batch_size = batch_size\n",
    "        self.steps_per_epoch = steps_per_epoch\n",
    "        self.segments_size = np.array([s[1] - s[0] for s in segments])\n",
    "        self.segments_p = self.segments_size / self.segments_size.sum()\n",
    "        self.x_mean = x_mean\n",
    "        self.x_std = x_std\n",
    "\n",
    "    def get_batch_size(self):\n",
    "        return self.batch_size\n",
    "\n",
    "    def get_ts_length(self):\n",
    "        return self.ts_length\n",
    "\n",
    "    def get_segments(self):\n",
    "        return self.segments\n",
    "\n",
    "    def get_segments_p(self):\n",
    "        return self.segments_p\n",
    "\n",
    "    def get_segments_size(self):\n",
    "        return self.segments_size\n",
    "\n",
    "    def __len__(self):\n",
    "        return self.steps_per_epoch\n",
    "\n",
    "    def __getitem__(self, idx):\n",
    "        segment_index = np.random.choice(range(len(self.segments)), p=self.segments_p)\n",
    "        segment = self.segments[segment_index]\n",
    "        end_indexes = np.random.randint(segment[0] + self.ts_length, segment[1], size=self.batch_size)\n",
    "\n",
    "        x_batch = np.empty((self.batch_size, self.ts_length))\n",
    "        y_batch = np.empty(self.batch_size, )\n",
    "\n",
    "        for i, end in enumerate(end_indexes):\n",
    "            x_batch[i, :] = self.x[end - self.ts_length: end]\n",
    "            y_batch[i] = self.y[end - 1]\n",
    "            \n",
    "        x_batch = (x_batch - self.x_mean)/self.x_std\n",
    "\n",
    "        return np.expand_dims(x_batch, axis=2), y_batch"
   ]
  },
  {
   "cell_type": "markdown",
   "metadata": {
    "_uuid": "d7985fae8438678b6542b73dc80b64ceb35bde22"
   },
   "source": [
    "We could use any segments for training / validation"
   ]
  },
  {
   "cell_type": "code",
   "execution_count": 9,
   "metadata": {
    "_uuid": "a2287d88c18d90e7f1cf41917265698354b48624"
   },
   "outputs": [],
   "source": [
    "t_segments = [train_segments[i] for i in [ 0, 1, 2, 3, 4, 5, 6, 7, 8, 9, 10, 11]]\n",
    "v_segments = [train_segments[i] for i in [ 12, 13, 14, 15]]"
   ]
  },
  {
   "cell_type": "markdown",
   "metadata": {
    "_uuid": "4c2ed95db99225cf1e8226eee68114f31f982c6a"
   },
   "source": [
    "I think it does not make big difference but lets not leak into the validation data and calculate mean and standrad deviation on the training data only."
   ]
  },
  {
   "cell_type": "code",
   "execution_count": 10,
   "metadata": {
    "_uuid": "fa319e6bdca9dd9866856d514fec8ac093cf818d"
   },
   "outputs": [
    {
     "name": "stdout",
     "output_type": "stream",
     "text": [
      "4.543648782403315 6.225885982222226\n"
     ]
    }
   ],
   "source": [
    "x_sum = 0.\n",
    "count = 0\n",
    "\n",
    "for s in t_segments:\n",
    "    x_sum += X_train[s[0]:s[1]].sum()\n",
    "    count += (s[1] - s[0])\n",
    "\n",
    "X_train_mean = x_sum/count\n",
    "\n",
    "x2_sum = 0.\n",
    "for s in t_segments:\n",
    "    x2_sum += np.power(X_train[s[0]:s[1]] - X_train_mean, 2).sum()\n",
    "\n",
    "X_train_std =  np.sqrt(x2_sum/count)\n",
    "\n",
    "print(X_train_mean, X_train_std)"
   ]
  },
  {
   "cell_type": "code",
   "execution_count": 11,
   "metadata": {
    "_uuid": "5cae20837d7405650f9b09891e5e71a156abf883"
   },
   "outputs": [],
   "source": [
    "train_gen = EarthQuakeRandom(\n",
    "    x = X_train, \n",
    "    y = y_train,\n",
    "    x_mean = X_train_mean, \n",
    "    x_std = X_train_std,\n",
    "    segments = t_segments,\n",
    "    ts_length = 150000,\n",
    "    batch_size = 64,\n",
    "    steps_per_epoch = 400\n",
    ")\n",
    "\n",
    "valid_gen = EarthQuakeRandom(\n",
    "    x = X_train, \n",
    "    y = y_train,\n",
    "    x_mean = X_train_mean, \n",
    "    x_std = X_train_std,\n",
    "    segments = v_segments,\n",
    "    ts_length = 150000,\n",
    "    batch_size = 64,\n",
    "    steps_per_epoch = 400\n",
    ")"
   ]
  },
  {
   "cell_type": "code",
   "execution_count": 12,
   "metadata": {},
   "outputs": [
    {
     "name": "stdout",
     "output_type": "stream",
     "text": [
      "<__main__.EarthQuakeRandom object at 0x000001E3800FAA20>\n"
     ]
    }
   ],
   "source": [
    "print(train_gen)"
   ]
  },
  {
   "cell_type": "markdown",
   "metadata": {
    "_uuid": "70ab7209fe41fac92e9ed89ed0617ce383bd0453"
   },
   "source": [
    "Use convolutional layers to learn the features and reduce the time sequence length "
   ]
  },
  {
   "cell_type": "code",
   "execution_count": 13,
   "metadata": {},
   "outputs": [],
   "source": [
    "# https://www.kaggle.com/shujian/transformer-with-lstm\n",
    "\n",
    "try:\n",
    "    from dataloader import TokenList, pad_to_longest\n",
    "    # for transformer\n",
    "except: pass\n",
    "\n",
    "\n",
    "\n",
    "embed_size = 60\n",
    "\n",
    "class LayerNormalization(Layer):\n",
    "    def __init__(self, eps=1e-6, **kwargs):\n",
    "        self.eps = eps\n",
    "        super(LayerNormalization, self).__init__(**kwargs)\n",
    "    def build(self, input_shape):\n",
    "        self.gamma = self.add_weight(name='gamma', shape=input_shape[-1:],\n",
    "                                     initializer=Ones(), trainable=True)\n",
    "        self.beta = self.add_weight(name='beta', shape=input_shape[-1:],\n",
    "                                    initializer=Zeros(), trainable=True)\n",
    "        super(LayerNormalization, self).build(input_shape)\n",
    "    def call(self, x):\n",
    "        mean = K.mean(x, axis=-1, keepdims=True)\n",
    "        std = K.std(x, axis=-1, keepdims=True)\n",
    "        return self.gamma * (x - mean) / (std + self.eps) + self.beta\n",
    "    def compute_output_shape(self, input_shape):\n",
    "        return input_shape\n",
    "\n",
    "class ScaledDotProductAttention():\n",
    "    def __init__(self, d_model, attn_dropout=0.1):\n",
    "        self.temper = np.sqrt(d_model)\n",
    "        self.dropout = Dropout(attn_dropout)\n",
    "    def __call__(self, q, k, v, mask):\n",
    "        attn = Lambda(lambda x:K.batch_dot(x[0],x[1],axes=[2,2])/self.temper)([q, k])\n",
    "        if mask is not None:\n",
    "            mmask = Lambda(lambda x:(-1e+10)*(1-x))(mask)\n",
    "            attn = Add()([attn, mmask])\n",
    "        attn = Activation('softmax')(attn)\n",
    "        attn = self.dropout(attn)\n",
    "        output = Lambda(lambda x:K.batch_dot(x[0], x[1]))([attn, v])\n",
    "        return output, attn\n",
    "\n",
    "class MultiHeadAttention():\n",
    "    # mode 0 - big martixes, faster; mode 1 - more clear implementation\n",
    "    def __init__(self, n_head, d_model, d_k, d_v, dropout, mode=0, use_norm=True):\n",
    "        self.mode = mode\n",
    "        self.n_head = n_head\n",
    "        self.d_k = d_k\n",
    "        self.d_v = d_v\n",
    "        self.dropout = dropout\n",
    "        if mode == 0:\n",
    "            self.qs_layer = Dense(n_head*d_k, use_bias=False)\n",
    "            self.ks_layer = Dense(n_head*d_k, use_bias=False)\n",
    "            self.vs_layer = Dense(n_head*d_v, use_bias=False)\n",
    "        elif mode == 1:\n",
    "            self.qs_layers = []\n",
    "            self.ks_layers = []\n",
    "            self.vs_layers = []\n",
    "            for _ in range(n_head):\n",
    "                self.qs_layers.append(TimeDistributed(Dense(d_k, use_bias=False)))\n",
    "                self.ks_layers.append(TimeDistributed(Dense(d_k, use_bias=False)))\n",
    "                self.vs_layers.append(TimeDistributed(Dense(d_v, use_bias=False)))\n",
    "        self.attention = ScaledDotProductAttention(d_model)\n",
    "        self.layer_norm = LayerNormalization() if use_norm else None\n",
    "        self.w_o = TimeDistributed(Dense(d_model))\n",
    "\n",
    "    def __call__(self, q, k, v, mask=None):\n",
    "        d_k, d_v = self.d_k, self.d_v\n",
    "        n_head = self.n_head\n",
    "\n",
    "        if self.mode == 0:\n",
    "            qs = self.qs_layer(q)  # [batch_size, len_q, n_head*d_k]\n",
    "            ks = self.ks_layer(k)\n",
    "            vs = self.vs_layer(v)\n",
    "\n",
    "            def reshape1(x):\n",
    "                s = tf.shape(x)   # [batch_size, len_q, n_head * d_k]\n",
    "                x = tf.reshape(x, [s[0], s[1], n_head, d_k])\n",
    "                x = tf.transpose(x, [2, 0, 1, 3])  \n",
    "                x = tf.reshape(x, [-1, s[1], d_k])  # [n_head * batch_size, len_q, d_k]\n",
    "                return x\n",
    "            qs = Lambda(reshape1)(qs)\n",
    "            ks = Lambda(reshape1)(ks)\n",
    "            vs = Lambda(reshape1)(vs)\n",
    "\n",
    "            if mask is not None:\n",
    "                mask = Lambda(lambda x:K.repeat_elements(x, n_head, 0))(mask)\n",
    "            head, attn = self.attention(qs, ks, vs, mask=mask)  \n",
    "                \n",
    "            def reshape2(x):\n",
    "                s = tf.shape(x)   # [n_head * batch_size, len_v, d_v]\n",
    "                x = tf.reshape(x, [n_head, -1, s[1], s[2]]) \n",
    "                x = tf.transpose(x, [1, 2, 0, 3])\n",
    "                x = tf.reshape(x, [-1, s[1], n_head*d_v])  # [batch_size, len_v, n_head * d_v]\n",
    "                return x\n",
    "            head = Lambda(reshape2)(head)\n",
    "        elif self.mode == 1:\n",
    "            heads = []; attns = []\n",
    "            for i in range(n_head):\n",
    "                qs = self.qs_layers[i](q)   \n",
    "                ks = self.ks_layers[i](k) \n",
    "                vs = self.vs_layers[i](v) \n",
    "                head, attn = self.attention(qs, ks, vs, mask)\n",
    "                heads.append(head); attns.append(attn)\n",
    "            head = Concatenate()(heads) if n_head > 1 else heads[0]\n",
    "            attn = Concatenate()(attns) if n_head > 1 else attns[0]\n",
    "\n",
    "        outputs = self.w_o(head)\n",
    "        outputs = Dropout(self.dropout)(outputs)\n",
    "        if not self.layer_norm: return outputs, attn\n",
    "        # outputs = Add()([outputs, q]) # sl: fix\n",
    "        return self.layer_norm(outputs), attn\n",
    "\n",
    "class PositionwiseFeedForward():\n",
    "    def __init__(self, d_hid, d_inner_hid, dropout=0.1):\n",
    "        self.w_1 = Conv1D(d_inner_hid, 1, activation='relu')\n",
    "        self.w_2 = Conv1D(d_hid, 1)\n",
    "        self.layer_norm = LayerNormalization()\n",
    "        self.dropout = Dropout(dropout)\n",
    "    def __call__(self, x):\n",
    "        output = self.w_1(x) \n",
    "        output = self.w_2(output)\n",
    "        output = self.dropout(output)\n",
    "        output = Add()([output, x])\n",
    "        return self.layer_norm(output)\n",
    "\n",
    "class EncoderLayer():\n",
    "    def __init__(self, d_model, d_inner_hid, n_head, d_k, d_v, dropout=0.1):\n",
    "        self.self_att_layer = MultiHeadAttention(n_head, d_model, d_k, d_v, dropout=dropout)\n",
    "        self.pos_ffn_layer  = PositionwiseFeedForward(d_model, d_inner_hid, dropout=dropout)\n",
    "    def __call__(self, enc_input, mask=None):\n",
    "        output, slf_attn = self.self_att_layer(enc_input, enc_input, enc_input, mask=mask)\n",
    "        output = self.pos_ffn_layer(output)\n",
    "        return output, slf_attn\n",
    "\n",
    "\n",
    "def GetPosEncodingMatrix(max_len, d_emb):\n",
    "    pos_enc = np.array([\n",
    "        [pos / np.power(10000, 2 * (j // 2) / d_emb) for j in range(d_emb)] \n",
    "        if pos != 0 else np.zeros(d_emb) \n",
    "            for pos in range(max_len)\n",
    "            ])\n",
    "    pos_enc[1:, 0::2] = np.sin(pos_enc[1:, 0::2]) # dim 2i\n",
    "    pos_enc[1:, 1::2] = np.cos(pos_enc[1:, 1::2]) # dim 2i+1\n",
    "    return pos_enc\n",
    "\n",
    "def GetPadMask(q, k):\n",
    "    ones = K.expand_dims(K.ones_like(q, 'float32'), -1)\n",
    "    mask = K.cast(K.expand_dims(K.not_equal(k, 0), 1), 'float32')\n",
    "    mask = K.batch_dot(ones, mask, axes=[2,1])\n",
    "    return mask\n",
    "\n",
    "def GetSubMask(s):\n",
    "    len_s = tf.shape(s)[1]\n",
    "    bs = tf.shape(s)[:1]\n",
    "    mask = K.cumsum(tf.eye(len_s, batch_shape=bs), 1)\n",
    "    return mask\n",
    "\n"
   ]
  },
  {
   "cell_type": "code",
   "execution_count": 14,
   "metadata": {},
   "outputs": [],
   "source": [
    "def CnnTransformerModel():\n",
    "    i = Input(shape = (150000, 1))\n",
    "    \n",
    "    x = Convolution1D( 8, kernel_size = 10, strides = 10, activation='relu')(i)\n",
    "    x = Convolution1D(16, kernel_size = 10, strides = 10, activation='relu')(x)\n",
    "    x = Convolution1D(16, kernel_size = 10, strides = 10, activation='relu')(x)\n",
    "   # x = (CuDNNLSTM(16, return_sequences = True, return_state = False))(x)\n",
    "    x, slf_attn = MultiHeadAttention(n_head=5, d_model=300, d_k=64, d_v=64, dropout=0.3)(x, x, x)\n",
    "    avg_pool = GlobalAveragePooling1D()(x)\n",
    "    \n",
    "    y = Dense(1)(avg_pool)\n",
    "    \n",
    "\n",
    "    return Model(inputs = [i], outputs = [y])"
   ]
  },
  {
   "cell_type": "code",
   "execution_count": 15,
   "metadata": {
    "_kg_hide-input": false,
    "_kg_hide-output": false,
    "_uuid": "78f8084ea9e762c4e59bd933abea41704ad99bdd"
   },
   "outputs": [
    {
     "name": "stdout",
     "output_type": "stream",
     "text": [
      "WARNING:tensorflow:From C:\\Users\\idogr\\Anaconda3\\envs\\tf_gpu\\lib\\site-packages\\tensorflow\\python\\framework\\op_def_library.py:263: colocate_with (from tensorflow.python.framework.ops) is deprecated and will be removed in a future version.\n",
      "Instructions for updating:\n",
      "Colocations handled automatically by placer.\n",
      "WARNING:tensorflow:From C:\\Users\\idogr\\Anaconda3\\envs\\tf_gpu\\lib\\site-packages\\keras\\backend\\tensorflow_backend.py:3445: calling dropout (from tensorflow.python.ops.nn_ops) with keep_prob is deprecated and will be removed in a future version.\n",
      "Instructions for updating:\n",
      "Please use `rate` instead of `keep_prob`. Rate should be set to `rate = 1 - keep_prob`.\n",
      "__________________________________________________________________________________________________\n",
      "Layer (type)                    Output Shape         Param #     Connected to                     \n",
      "==================================================================================================\n",
      "input_1 (InputLayer)            (None, 150000, 1)    0                                            \n",
      "__________________________________________________________________________________________________\n",
      "conv1d_1 (Conv1D)               (None, 15000, 8)     88          input_1[0][0]                    \n",
      "__________________________________________________________________________________________________\n",
      "conv1d_2 (Conv1D)               (None, 1500, 16)     1296        conv1d_1[0][0]                   \n",
      "__________________________________________________________________________________________________\n",
      "conv1d_3 (Conv1D)               (None, 150, 16)      2576        conv1d_2[0][0]                   \n",
      "__________________________________________________________________________________________________\n",
      "dense_1 (Dense)                 (None, 150, 320)     5120        conv1d_3[0][0]                   \n",
      "__________________________________________________________________________________________________\n",
      "dense_2 (Dense)                 (None, 150, 320)     5120        conv1d_3[0][0]                   \n",
      "__________________________________________________________________________________________________\n",
      "lambda_1 (Lambda)               (None, None, 64)     0           dense_1[0][0]                    \n",
      "__________________________________________________________________________________________________\n",
      "lambda_2 (Lambda)               (None, None, 64)     0           dense_2[0][0]                    \n",
      "__________________________________________________________________________________________________\n",
      "lambda_4 (Lambda)               (None, None, None)   0           lambda_1[0][0]                   \n",
      "                                                                 lambda_2[0][0]                   \n",
      "__________________________________________________________________________________________________\n",
      "activation_1 (Activation)       (None, None, None)   0           lambda_4[0][0]                   \n",
      "__________________________________________________________________________________________________\n",
      "dense_3 (Dense)                 (None, 150, 320)     5120        conv1d_3[0][0]                   \n",
      "__________________________________________________________________________________________________\n",
      "dropout_1 (Dropout)             (None, None, None)   0           activation_1[0][0]               \n",
      "__________________________________________________________________________________________________\n",
      "lambda_3 (Lambda)               (None, None, 64)     0           dense_3[0][0]                    \n",
      "__________________________________________________________________________________________________\n",
      "lambda_5 (Lambda)               (None, None, 64)     0           dropout_1[0][0]                  \n",
      "                                                                 lambda_3[0][0]                   \n",
      "__________________________________________________________________________________________________\n",
      "lambda_6 (Lambda)               (None, None, 320)    0           lambda_5[0][0]                   \n",
      "__________________________________________________________________________________________________\n",
      "time_distributed_1 (TimeDistrib (None, None, 300)    96300       lambda_6[0][0]                   \n",
      "__________________________________________________________________________________________________\n",
      "dropout_2 (Dropout)             (None, None, 300)    0           time_distributed_1[0][0]         \n",
      "__________________________________________________________________________________________________\n",
      "layer_normalization_1 (LayerNor (None, None, 300)    600         dropout_2[0][0]                  \n",
      "__________________________________________________________________________________________________\n",
      "global_average_pooling1d_1 (Glo (None, 300)          0           layer_normalization_1[0][0]      \n",
      "__________________________________________________________________________________________________\n",
      "dense_5 (Dense)                 (None, 1)            301         global_average_pooling1d_1[0][0] \n",
      "==================================================================================================\n",
      "Total params: 116,521\n",
      "Trainable params: 116,521\n",
      "Non-trainable params: 0\n",
      "__________________________________________________________________________________________________\n"
     ]
    }
   ],
   "source": [
    "model = CnnTransformerModel()\n",
    "model.compile(loss='mean_absolute_error', optimizer='adam')\n",
    "model.summary()"
   ]
  },
  {
   "cell_type": "markdown",
   "metadata": {
    "_uuid": "5bed51171db8bf8c5e1731119fd31205bfd80a82"
   },
   "source": [
    "Train the model with early stopping"
   ]
  },
  {
   "cell_type": "code",
   "execution_count": 16,
   "metadata": {
    "_kg_hide-input": false,
    "_kg_hide-output": false,
    "_uuid": "e1061c7cde0687450300f516735aad0cc5dbf08f"
   },
   "outputs": [
    {
     "name": "stdout",
     "output_type": "stream",
     "text": [
      "WARNING:tensorflow:From C:\\Users\\idogr\\Anaconda3\\envs\\tf_gpu\\lib\\site-packages\\tensorflow\\python\\ops\\math_ops.py:3066: to_int32 (from tensorflow.python.ops.math_ops) is deprecated and will be removed in a future version.\n",
      "Instructions for updating:\n",
      "Use tf.cast instead.\n",
      "WARNING:tensorflow:From C:\\Users\\idogr\\Anaconda3\\envs\\tf_gpu\\lib\\site-packages\\tensorflow\\python\\ops\\math_grad.py:102: div (from tensorflow.python.ops.math_ops) is deprecated and will be removed in a future version.\n",
      "Instructions for updating:\n",
      "Deprecated in favor of operator or tf.math.divide.\n",
      "Epoch 1/12\n"
     ]
    },
    {
     "name": "stdout",
     "output_type": "stream",
     "text": [
      "314/400 [======================>.......] - ETA: 34:29 - loss: 6.48 - ETA: 18:40 - loss: 5.26 - ETA: 13:22 - loss: 5.85 - ETA: 10:43 - loss: 6.18 - ETA: 9:09 - loss: 5.7516 - ETA: 8:06 - loss: 5.339 - ETA: 7:22 - loss: 4.971 - ETA: 6:48 - loss: 4.724 - ETA: 6:22 - loss: 4.452 - ETA: 6:01 - loss: 4.280 - ETA: 5:43 - loss: 4.199 - ETA: 5:28 - loss: 4.077 - ETA: 5:15 - loss: 3.909 - ETA: 5:05 - loss: 3.752 - ETA: 4:55 - loss: 3.752 - ETA: 4:46 - loss: 3.774 - ETA: 5:00 - loss: 3.716 - ETA: 5:23 - loss: 3.646 - ETA: 5:39 - loss: 3.615 - ETA: 5:54 - loss: 3.591 - ETA: 6:06 - loss: 3.592 - ETA: 6:18 - loss: 3.536 - ETA: 6:30 - loss: 3.492 - ETA: 6:38 - loss: 3.500 - ETA: 6:47 - loss: 3.494 - ETA: 6:54 - loss: 3.450 - ETA: 7:01 - loss: 3.460 - ETA: 7:08 - loss: 3.430 - ETA: 7:14 - loss: 3.436 - ETA: 7:18 - loss: 3.427 - ETA: 7:24 - loss: 3.394 - ETA: 7:27 - loss: 3.353 - ETA: 7:31 - loss: 3.333 - ETA: 7:35 - loss: 3.315 - ETA: 7:38 - loss: 3.362 - ETA: 7:42 - loss: 3.349 - ETA: 7:45 - loss: 3.361 - ETA: 7:47 - loss: 3.362 - ETA: 7:50 - loss: 3.349 - ETA: 7:52 - loss: 3.352 - ETA: 7:54 - loss: 3.332 - ETA: 7:56 - loss: 3.313 - ETA: 7:58 - loss: 3.289 - ETA: 8:00 - loss: 3.302 - ETA: 8:02 - loss: 3.292 - ETA: 8:03 - loss: 3.282 - ETA: 8:04 - loss: 3.274 - ETA: 8:05 - loss: 3.261 - ETA: 8:06 - loss: 3.284 - ETA: 8:07 - loss: 3.316 - ETA: 8:08 - loss: 3.302 - ETA: 8:08 - loss: 3.311 - ETA: 8:09 - loss: 3.302 - ETA: 8:10 - loss: 3.283 - ETA: 8:11 - loss: 3.276 - ETA: 8:11 - loss: 3.263 - ETA: 8:11 - loss: 3.248 - ETA: 8:12 - loss: 3.237 - ETA: 8:12 - loss: 3.248 - ETA: 8:12 - loss: 3.233 - ETA: 8:11 - loss: 3.223 - ETA: 8:11 - loss: 3.240 - ETA: 8:11 - loss: 3.239 - ETA: 8:11 - loss: 3.223 - ETA: 8:10 - loss: 3.213 - ETA: 8:11 - loss: 3.221 - ETA: 8:10 - loss: 3.201 - ETA: 8:10 - loss: 3.186 - ETA: 8:09 - loss: 3.164 - ETA: 8:09 - loss: 3.150 - ETA: 8:08 - loss: 3.145 - ETA: 8:08 - loss: 3.115 - ETA: 8:07 - loss: 3.142 - ETA: 8:08 - loss: 3.118 - ETA: 8:07 - loss: 3.125 - ETA: 8:07 - loss: 3.117 - ETA: 8:06 - loss: 3.105 - ETA: 8:05 - loss: 3.102 - ETA: 8:04 - loss: 3.093 - ETA: 8:04 - loss: 3.083 - ETA: 8:03 - loss: 3.089 - ETA: 8:02 - loss: 3.087 - ETA: 8:01 - loss: 3.083 - ETA: 8:00 - loss: 3.081 - ETA: 8:00 - loss: 3.100 - ETA: 7:59 - loss: 3.095 - ETA: 7:58 - loss: 3.107 - ETA: 7:57 - loss: 3.099 - ETA: 7:56 - loss: 3.079 - ETA: 7:55 - loss: 3.082 - ETA: 7:54 - loss: 3.061 - ETA: 7:53 - loss: 3.062 - ETA: 7:52 - loss: 3.086 - ETA: 7:51 - loss: 3.067 - ETA: 7:50 - loss: 3.062 - ETA: 7:49 - loss: 3.058 - ETA: 7:48 - loss: 3.063 - ETA: 7:47 - loss: 3.054 - ETA: 7:46 - loss: 3.056 - ETA: 7:45 - loss: 3.044 - ETA: 7:43 - loss: 3.044 - ETA: 7:42 - loss: 3.050 - ETA: 7:41 - loss: 3.045 - ETA: 7:40 - loss: 3.034 - ETA: 7:39 - loss: 3.040 - ETA: 7:38 - loss: 3.025 - ETA: 7:36 - loss: 3.019 - ETA: 7:35 - loss: 3.032 - ETA: 7:34 - loss: 3.014 - ETA: 7:33 - loss: 3.006 - ETA: 7:32 - loss: 3.012 - ETA: 7:30 - loss: 3.007 - ETA: 7:29 - loss: 2.999 - ETA: 7:28 - loss: 3.009 - ETA: 7:27 - loss: 3.004 - ETA: 7:26 - loss: 2.999 - ETA: 7:25 - loss: 2.995 - ETA: 7:24 - loss: 3.000 - ETA: 7:22 - loss: 2.993 - ETA: 7:21 - loss: 2.994 - ETA: 7:20 - loss: 2.984 - ETA: 7:19 - loss: 2.989 - ETA: 7:18 - loss: 2.981 - ETA: 7:17 - loss: 2.974 - ETA: 7:15 - loss: 2.964 - ETA: 7:14 - loss: 2.965 - ETA: 7:13 - loss: 2.986 - ETA: 7:11 - loss: 2.982 - ETA: 7:10 - loss: 2.974 - ETA: 7:09 - loss: 2.975 - ETA: 7:08 - loss: 2.962 - ETA: 7:06 - loss: 2.968 - ETA: 7:05 - loss: 2.953 - ETA: 7:04 - loss: 2.956 - ETA: 7:02 - loss: 2.951 - ETA: 7:01 - loss: 2.954 - ETA: 7:00 - loss: 2.958 - ETA: 6:58 - loss: 2.955 - ETA: 6:57 - loss: 2.949 - ETA: 6:55 - loss: 2.964 - ETA: 6:54 - loss: 2.975 - ETA: 6:53 - loss: 2.968 - ETA: 6:51 - loss: 2.970 - ETA: 6:50 - loss: 2.962 - ETA: 6:48 - loss: 2.957 - ETA: 6:47 - loss: 2.952 - ETA: 6:46 - loss: 2.941 - ETA: 6:44 - loss: 2.942 - ETA: 6:43 - loss: 2.947 - ETA: 6:41 - loss: 2.947 - ETA: 6:40 - loss: 2.939 - ETA: 6:38 - loss: 2.938 - ETA: 6:37 - loss: 2.926 - ETA: 6:36 - loss: 2.929 - ETA: 6:34 - loss: 2.933 - ETA: 6:33 - loss: 2.924 - ETA: 6:31 - loss: 2.917 - ETA: 6:30 - loss: 2.915 - ETA: 6:28 - loss: 2.922 - ETA: 6:27 - loss: 2.923 - ETA: 6:25 - loss: 2.916 - ETA: 6:24 - loss: 2.909 - ETA: 6:22 - loss: 2.904 - ETA: 6:21 - loss: 2.896 - ETA: 6:19 - loss: 2.894 - ETA: 6:18 - loss: 2.892 - ETA: 6:16 - loss: 2.886 - ETA: 6:15 - loss: 2.882 - ETA: 6:13 - loss: 2.873 - ETA: 6:12 - loss: 2.871 - ETA: 6:10 - loss: 2.861 - ETA: 6:09 - loss: 2.871 - ETA: 6:07 - loss: 2.874 - ETA: 6:06 - loss: 2.889 - ETA: 6:05 - loss: 2.878 - ETA: 6:03 - loss: 2.875 - ETA: 6:02 - loss: 2.866 - ETA: 6:00 - loss: 2.858 - ETA: 5:58 - loss: 2.852 - ETA: 5:57 - loss: 2.852 - ETA: 5:55 - loss: 2.844 - ETA: 5:54 - loss: 2.841 - ETA: 5:52 - loss: 2.834 - ETA: 5:51 - loss: 2.826 - ETA: 5:49 - loss: 2.823 - ETA: 5:48 - loss: 2.815 - ETA: 5:46 - loss: 2.815 - ETA: 5:45 - loss: 2.818 - ETA: 5:43 - loss: 2.812 - ETA: 5:42 - loss: 2.811 - ETA: 5:40 - loss: 2.811 - ETA: 5:39 - loss: 2.808 - ETA: 5:37 - loss: 2.808 - ETA: 5:35 - loss: 2.807 - ETA: 5:34 - loss: 2.806 - ETA: 5:32 - loss: 2.803 - ETA: 5:31 - loss: 2.799 - ETA: 5:29 - loss: 2.798 - ETA: 5:28 - loss: 2.794 - ETA: 5:26 - loss: 2.793 - ETA: 5:24 - loss: 2.787 - ETA: 5:23 - loss: 2.781 - ETA: 5:21 - loss: 2.775 - ETA: 5:20 - loss: 2.775 - ETA: 5:18 - loss: 2.770 - ETA: 5:17 - loss: 2.770 - ETA: 5:15 - loss: 2.768 - ETA: 5:13 - loss: 2.769 - ETA: 5:12 - loss: 2.770 - ETA: 5:11 - loss: 2.773 - ETA: 5:09 - loss: 2.774 - ETA: 5:08 - loss: 2.769 - ETA: 5:06 - loss: 2.766 - ETA: 5:04 - loss: 2.768 - ETA: 5:03 - loss: 2.775 - ETA: 5:01 - loss: 2.769 - ETA: 5:00 - loss: 2.768 - ETA: 4:58 - loss: 2.767 - ETA: 4:57 - loss: 2.761 - ETA: 4:55 - loss: 2.763 - ETA: 4:54 - loss: 2.758 - ETA: 4:52 - loss: 2.758 - ETA: 4:50 - loss: 2.761 - ETA: 4:49 - loss: 2.755 - ETA: 4:47 - loss: 2.752 - ETA: 4:46 - loss: 2.749 - ETA: 4:44 - loss: 2.750 - ETA: 4:42 - loss: 2.758 - ETA: 4:41 - loss: 2.752 - ETA: 4:39 - loss: 2.749 - ETA: 4:38 - loss: 2.756 - ETA: 4:36 - loss: 2.753 - ETA: 4:34 - loss: 2.750 - ETA: 4:33 - loss: 2.757 - ETA: 4:31 - loss: 2.754 - ETA: 4:30 - loss: 2.747 - ETA: 4:28 - loss: 2.746 - ETA: 4:27 - loss: 2.742 - ETA: 4:25 - loss: 2.737 - ETA: 4:23 - loss: 2.733 - ETA: 4:22 - loss: 2.731 - ETA: 4:20 - loss: 2.727 - ETA: 4:18 - loss: 2.726 - ETA: 4:17 - loss: 2.721 - ETA: 4:15 - loss: 2.720 - ETA: 4:14 - loss: 2.714 - ETA: 4:12 - loss: 2.709 - ETA: 4:10 - loss: 2.705 - ETA: 4:09 - loss: 2.702 - ETA: 4:07 - loss: 2.706 - ETA: 4:06 - loss: 2.707 - ETA: 4:04 - loss: 2.706 - ETA: 4:02 - loss: 2.704 - ETA: 4:01 - loss: 2.702 - ETA: 3:59 - loss: 2.697 - ETA: 3:58 - loss: 2.697 - ETA: 3:56 - loss: 2.696 - ETA: 3:54 - loss: 2.699 - ETA: 3:53 - loss: 2.694 - ETA: 3:51 - loss: 2.692 - ETA: 3:49 - loss: 2.692 - ETA: 3:48 - loss: 2.699 - ETA: 3:46 - loss: 2.696 - ETA: 3:45 - loss: 2.694 - ETA: 3:43 - loss: 2.697 - ETA: 3:41 - loss: 2.691 - ETA: 3:40 - loss: 2.689 - ETA: 3:38 - loss: 2.686 - ETA: 3:36 - loss: 2.683 - ETA: 3:35 - loss: 2.690 - ETA: 3:33 - loss: 2.687 - ETA: 3:31 - loss: 2.681 - ETA: 3:30 - loss: 2.679 - ETA: 3:28 - loss: 2.678 - ETA: 3:27 - loss: 2.675 - ETA: 3:25 - loss: 2.678 - ETA: 3:23 - loss: 2.683 - ETA: 3:22 - loss: 2.679 - ETA: 3:20 - loss: 2.678 - ETA: 3:18 - loss: 2.679 - ETA: 3:17 - loss: 2.673 - ETA: 3:15 - loss: 2.674 - ETA: 3:13 - loss: 2.670 - ETA: 3:12 - loss: 2.666 - ETA: 3:10 - loss: 2.665 - ETA: 3:09 - loss: 2.663 - ETA: 3:07 - loss: 2.660 - ETA: 3:05 - loss: 2.656 - ETA: 3:04 - loss: 2.650 - ETA: 3:02 - loss: 2.646 - ETA: 3:00 - loss: 2.648 - ETA: 2:59 - loss: 2.654 - ETA: 2:57 - loss: 2.659 - ETA: 2:55 - loss: 2.668 - ETA: 2:53 - loss: 2.663 - ETA: 2:50 - loss: 2.659 - ETA: 2:48 - loss: 2.658 - ETA: 2:46 - loss: 2.657 - ETA: 2:44 - loss: 2.653 - ETA: 2:42 - loss: 2.651 - ETA: 2:40 - loss: 2.650 - ETA: 2:38 - loss: 2.648 - ETA: 2:36 - loss: 2.645 - ETA: 2:34 - loss: 2.648 - ETA: 2:32 - loss: 2.646 - ETA: 2:30 - loss: 2.643 - ETA: 2:28 - loss: 2.639 - ETA: 2:26 - loss: 2.636 - ETA: 2:24 - loss: 2.635 - ETA: 2:23 - loss: 2.632 - ETA: 2:21 - loss: 2.628 - ETA: 2:19 - loss: 2.625 - ETA: 2:17 - loss: 2.620 - ETA: 2:15 - loss: 2.6174"
     ]
    },
    {
     "name": "stdout",
     "output_type": "stream",
     "text": [
      "400/400 [==============================] - ETA: 2:13 - loss: 2.618 - ETA: 2:11 - loss: 2.614 - ETA: 2:09 - loss: 2.609 - ETA: 2:07 - loss: 2.609 - ETA: 2:06 - loss: 2.611 - ETA: 2:04 - loss: 2.607 - ETA: 2:02 - loss: 2.607 - ETA: 2:00 - loss: 2.602 - ETA: 1:58 - loss: 2.608 - ETA: 1:56 - loss: 2.606 - ETA: 1:55 - loss: 2.609 - ETA: 1:53 - loss: 2.609 - ETA: 1:51 - loss: 2.607 - ETA: 1:49 - loss: 2.608 - ETA: 1:48 - loss: 2.608 - ETA: 1:46 - loss: 2.610 - ETA: 1:44 - loss: 2.607 - ETA: 1:42 - loss: 2.604 - ETA: 1:41 - loss: 2.602 - ETA: 1:39 - loss: 2.599 - ETA: 1:37 - loss: 2.599 - ETA: 1:35 - loss: 2.595 - ETA: 1:34 - loss: 2.594 - ETA: 1:32 - loss: 2.590 - ETA: 1:30 - loss: 2.590 - ETA: 1:29 - loss: 2.586 - ETA: 1:27 - loss: 2.586 - ETA: 1:25 - loss: 2.581 - ETA: 1:24 - loss: 2.579 - ETA: 1:22 - loss: 2.580 - ETA: 1:20 - loss: 2.577 - ETA: 1:19 - loss: 2.576 - ETA: 1:17 - loss: 2.578 - ETA: 1:16 - loss: 2.576 - ETA: 1:14 - loss: 2.574 - ETA: 1:12 - loss: 2.578 - ETA: 1:11 - loss: 2.581 - ETA: 1:09 - loss: 2.584 - ETA: 1:08 - loss: 2.584 - ETA: 1:06 - loss: 2.588 - ETA: 1:04 - loss: 2.587 - ETA: 1:03 - loss: 2.585 - ETA: 1:01 - loss: 2.590 - ETA: 1:00 - loss: 2.587 - ETA: 58s - loss: 2.586 - ETA: 57s - loss: 2.58 - ETA: 55s - loss: 2.58 - ETA: 54s - loss: 2.58 - ETA: 52s - loss: 2.58 - ETA: 51s - loss: 2.58 - ETA: 49s - loss: 2.57 - ETA: 48s - loss: 2.58 - ETA: 46s - loss: 2.58 - ETA: 45s - loss: 2.58 - ETA: 43s - loss: 2.57 - ETA: 42s - loss: 2.57 - ETA: 40s - loss: 2.58 - ETA: 39s - loss: 2.59 - ETA: 37s - loss: 2.58 - ETA: 36s - loss: 2.58 - ETA: 34s - loss: 2.58 - ETA: 33s - loss: 2.58 - ETA: 31s - loss: 2.58 - ETA: 30s - loss: 2.58 - ETA: 28s - loss: 2.58 - ETA: 27s - loss: 2.59 - ETA: 26s - loss: 2.59 - ETA: 24s - loss: 2.59 - ETA: 23s - loss: 2.59 - ETA: 21s - loss: 2.59 - ETA: 20s - loss: 2.59 - ETA: 19s - loss: 2.59 - ETA: 17s - loss: 2.59 - ETA: 16s - loss: 2.59 - ETA: 14s - loss: 2.59 - ETA: 13s - loss: 2.58 - ETA: 12s - loss: 2.59 - ETA: 10s - loss: 2.58 - ETA: 9s - loss: 2.5844 - ETA: 8s - loss: 2.583 - ETA: 6s - loss: 2.579 - ETA: 5s - loss: 2.575 - ETA: 4s - loss: 2.575 - ETA: 2s - loss: 2.572 - ETA: 1s - loss: 2.576 - 597s 1s/step - loss: 2.5832 - val_loss: 2.1686\n",
      "Epoch 2/12\n"
     ]
    },
    {
     "name": "stdout",
     "output_type": "stream",
     "text": [
      "318/400 [======================>.......] - ETA: 2:59 - loss: 2.704 - ETA: 3:00 - loss: 2.761 - ETA: 3:01 - loss: 2.258 - ETA: 2:59 - loss: 2.018 - ETA: 2:58 - loss: 1.994 - ETA: 2:57 - loss: 2.007 - ETA: 2:56 - loss: 2.034 - ETA: 2:55 - loss: 2.018 - ETA: 2:54 - loss: 2.167 - ETA: 2:54 - loss: 2.182 - ETA: 2:53 - loss: 2.179 - ETA: 2:53 - loss: 2.205 - ETA: 2:52 - loss: 2.208 - ETA: 2:52 - loss: 2.166 - ETA: 2:51 - loss: 2.185 - ETA: 2:50 - loss: 2.149 - ETA: 2:50 - loss: 2.120 - ETA: 2:49 - loss: 2.089 - ETA: 2:49 - loss: 2.100 - ETA: 2:48 - loss: 2.139 - ETA: 2:48 - loss: 2.163 - ETA: 2:47 - loss: 2.292 - ETA: 2:47 - loss: 2.360 - ETA: 2:46 - loss: 2.318 - ETA: 2:46 - loss: 2.342 - ETA: 2:46 - loss: 2.317 - ETA: 2:45 - loss: 2.280 - ETA: 2:44 - loss: 2.240 - ETA: 2:44 - loss: 2.218 - ETA: 2:43 - loss: 2.253 - ETA: 2:43 - loss: 2.247 - ETA: 2:42 - loss: 2.242 - ETA: 2:42 - loss: 2.258 - ETA: 2:41 - loss: 2.257 - ETA: 2:41 - loss: 2.304 - ETA: 2:40 - loss: 2.298 - ETA: 2:40 - loss: 2.275 - ETA: 2:39 - loss: 2.246 - ETA: 2:39 - loss: 2.287 - ETA: 2:38 - loss: 2.317 - ETA: 2:38 - loss: 2.305 - ETA: 2:37 - loss: 2.307 - ETA: 2:37 - loss: 2.367 - ETA: 2:36 - loss: 2.338 - ETA: 2:36 - loss: 2.361 - ETA: 2:36 - loss: 2.335 - ETA: 2:35 - loss: 2.307 - ETA: 2:35 - loss: 2.290 - ETA: 2:34 - loss: 2.302 - ETA: 2:34 - loss: 2.279 - ETA: 2:33 - loss: 2.274 - ETA: 2:33 - loss: 2.265 - ETA: 2:32 - loss: 2.302 - ETA: 2:32 - loss: 2.292 - ETA: 2:31 - loss: 2.288 - ETA: 2:31 - loss: 2.280 - ETA: 2:30 - loss: 2.278 - ETA: 2:30 - loss: 2.272 - ETA: 2:29 - loss: 2.258 - ETA: 2:29 - loss: 2.245 - ETA: 2:29 - loss: 2.237 - ETA: 2:28 - loss: 2.253 - ETA: 2:28 - loss: 2.237 - ETA: 2:27 - loss: 2.219 - ETA: 2:27 - loss: 2.247 - ETA: 2:26 - loss: 2.232 - ETA: 2:26 - loss: 2.236 - ETA: 2:26 - loss: 2.220 - ETA: 2:25 - loss: 2.214 - ETA: 2:25 - loss: 2.242 - ETA: 2:24 - loss: 2.241 - ETA: 2:24 - loss: 2.227 - ETA: 2:23 - loss: 2.222 - ETA: 2:23 - loss: 2.229 - ETA: 2:22 - loss: 2.218 - ETA: 2:22 - loss: 2.217 - ETA: 2:22 - loss: 2.223 - ETA: 2:21 - loss: 2.226 - ETA: 2:21 - loss: 2.225 - ETA: 2:20 - loss: 2.222 - ETA: 2:20 - loss: 2.221 - ETA: 2:19 - loss: 2.218 - ETA: 2:19 - loss: 2.211 - ETA: 2:18 - loss: 2.242 - ETA: 2:18 - loss: 2.232 - ETA: 2:17 - loss: 2.251 - ETA: 2:17 - loss: 2.238 - ETA: 2:17 - loss: 2.238 - ETA: 2:16 - loss: 2.251 - ETA: 2:16 - loss: 2.263 - ETA: 2:15 - loss: 2.256 - ETA: 2:15 - loss: 2.256 - ETA: 2:14 - loss: 2.256 - ETA: 2:14 - loss: 2.248 - ETA: 2:13 - loss: 2.254 - ETA: 2:13 - loss: 2.249 - ETA: 2:13 - loss: 2.242 - ETA: 2:12 - loss: 2.257 - ETA: 2:12 - loss: 2.261 - ETA: 2:11 - loss: 2.274 - ETA: 2:11 - loss: 2.267 - ETA: 2:10 - loss: 2.264 - ETA: 2:10 - loss: 2.273 - ETA: 2:09 - loss: 2.280 - ETA: 2:09 - loss: 2.276 - ETA: 2:09 - loss: 2.292 - ETA: 2:08 - loss: 2.310 - ETA: 2:08 - loss: 2.303 - ETA: 2:07 - loss: 2.298 - ETA: 2:07 - loss: 2.318 - ETA: 2:06 - loss: 2.305 - ETA: 2:06 - loss: 2.296 - ETA: 2:06 - loss: 2.286 - ETA: 2:05 - loss: 2.274 - ETA: 2:05 - loss: 2.276 - ETA: 2:04 - loss: 2.277 - ETA: 2:04 - loss: 2.267 - ETA: 2:03 - loss: 2.260 - ETA: 2:03 - loss: 2.262 - ETA: 2:03 - loss: 2.251 - ETA: 2:02 - loss: 2.255 - ETA: 2:02 - loss: 2.245 - ETA: 2:01 - loss: 2.241 - ETA: 2:01 - loss: 2.252 - ETA: 2:00 - loss: 2.247 - ETA: 2:00 - loss: 2.246 - ETA: 2:00 - loss: 2.249 - ETA: 1:59 - loss: 2.254 - ETA: 1:59 - loss: 2.251 - ETA: 1:58 - loss: 2.250 - ETA: 1:58 - loss: 2.262 - ETA: 1:57 - loss: 2.254 - ETA: 1:57 - loss: 2.248 - ETA: 1:57 - loss: 2.255 - ETA: 1:56 - loss: 2.256 - ETA: 1:56 - loss: 2.266 - ETA: 1:55 - loss: 2.268 - ETA: 1:55 - loss: 2.267 - ETA: 1:54 - loss: 2.265 - ETA: 1:54 - loss: 2.259 - ETA: 1:53 - loss: 2.274 - ETA: 1:53 - loss: 2.268 - ETA: 1:53 - loss: 2.262 - ETA: 1:52 - loss: 2.275 - ETA: 1:52 - loss: 2.280 - ETA: 1:51 - loss: 2.281 - ETA: 1:51 - loss: 2.277 - ETA: 1:50 - loss: 2.283 - ETA: 1:50 - loss: 2.289 - ETA: 1:49 - loss: 2.282 - ETA: 1:49 - loss: 2.274 - ETA: 1:49 - loss: 2.267 - ETA: 1:48 - loss: 2.275 - ETA: 1:48 - loss: 2.268 - ETA: 1:47 - loss: 2.261 - ETA: 1:47 - loss: 2.276 - ETA: 1:46 - loss: 2.296 - ETA: 1:46 - loss: 2.309 - ETA: 1:46 - loss: 2.306 - ETA: 1:45 - loss: 2.305 - ETA: 1:45 - loss: 2.308 - ETA: 1:44 - loss: 2.315 - ETA: 1:44 - loss: 2.323 - ETA: 1:43 - loss: 2.327 - ETA: 1:43 - loss: 2.332 - ETA: 1:42 - loss: 2.354 - ETA: 1:42 - loss: 2.378 - ETA: 1:42 - loss: 2.377 - ETA: 1:41 - loss: 2.375 - ETA: 1:41 - loss: 2.384 - ETA: 1:40 - loss: 2.383 - ETA: 1:40 - loss: 2.379 - ETA: 1:39 - loss: 2.379 - ETA: 1:39 - loss: 2.386 - ETA: 1:38 - loss: 2.396 - ETA: 1:38 - loss: 2.388 - ETA: 1:38 - loss: 2.382 - ETA: 1:37 - loss: 2.377 - ETA: 1:37 - loss: 2.384 - ETA: 1:36 - loss: 2.387 - ETA: 1:36 - loss: 2.385 - ETA: 1:35 - loss: 2.383 - ETA: 1:35 - loss: 2.378 - ETA: 1:34 - loss: 2.374 - ETA: 1:34 - loss: 2.373 - ETA: 1:34 - loss: 2.382 - ETA: 1:33 - loss: 2.379 - ETA: 1:33 - loss: 2.376 - ETA: 1:32 - loss: 2.379 - ETA: 1:32 - loss: 2.386 - ETA: 1:31 - loss: 2.385 - ETA: 1:31 - loss: 2.381 - ETA: 1:30 - loss: 2.385 - ETA: 1:30 - loss: 2.386 - ETA: 1:30 - loss: 2.386 - ETA: 1:29 - loss: 2.387 - ETA: 1:29 - loss: 2.391 - ETA: 1:28 - loss: 2.393 - ETA: 1:28 - loss: 2.395 - ETA: 1:27 - loss: 2.392 - ETA: 1:27 - loss: 2.390 - ETA: 1:27 - loss: 2.385 - ETA: 1:26 - loss: 2.382 - ETA: 1:26 - loss: 2.390 - ETA: 1:25 - loss: 2.385 - ETA: 1:25 - loss: 2.385 - ETA: 1:24 - loss: 2.381 - ETA: 1:24 - loss: 2.376 - ETA: 1:23 - loss: 2.369 - ETA: 1:23 - loss: 2.368 - ETA: 1:23 - loss: 2.372 - ETA: 1:22 - loss: 2.371 - ETA: 1:22 - loss: 2.371 - ETA: 1:21 - loss: 2.376 - ETA: 1:21 - loss: 2.374 - ETA: 1:20 - loss: 2.372 - ETA: 1:20 - loss: 2.378 - ETA: 1:20 - loss: 2.376 - ETA: 1:19 - loss: 2.380 - ETA: 1:19 - loss: 2.385 - ETA: 1:18 - loss: 2.387 - ETA: 1:18 - loss: 2.383 - ETA: 1:17 - loss: 2.381 - ETA: 1:17 - loss: 2.389 - ETA: 1:17 - loss: 2.399 - ETA: 1:16 - loss: 2.397 - ETA: 1:16 - loss: 2.397 - ETA: 1:15 - loss: 2.405 - ETA: 1:15 - loss: 2.402 - ETA: 1:14 - loss: 2.398 - ETA: 1:14 - loss: 2.397 - ETA: 1:14 - loss: 2.394 - ETA: 1:13 - loss: 2.391 - ETA: 1:13 - loss: 2.394 - ETA: 1:12 - loss: 2.391 - ETA: 1:12 - loss: 2.393 - ETA: 1:11 - loss: 2.390 - ETA: 1:11 - loss: 2.388 - ETA: 1:10 - loss: 2.389 - ETA: 1:10 - loss: 2.386 - ETA: 1:10 - loss: 2.392 - ETA: 1:09 - loss: 2.388 - ETA: 1:09 - loss: 2.388 - ETA: 1:08 - loss: 2.398 - ETA: 1:08 - loss: 2.409 - ETA: 1:07 - loss: 2.403 - ETA: 1:07 - loss: 2.400 - ETA: 1:06 - loss: 2.405 - ETA: 1:06 - loss: 2.405 - ETA: 1:06 - loss: 2.406 - ETA: 1:05 - loss: 2.402 - ETA: 1:05 - loss: 2.397 - ETA: 1:04 - loss: 2.396 - ETA: 1:04 - loss: 2.391 - ETA: 1:03 - loss: 2.390 - ETA: 1:03 - loss: 2.391 - ETA: 1:02 - loss: 2.389 - ETA: 1:02 - loss: 2.388 - ETA: 1:02 - loss: 2.388 - ETA: 1:01 - loss: 2.387 - ETA: 1:01 - loss: 2.382 - ETA: 1:00 - loss: 2.377 - ETA: 1:00 - loss: 2.384 - ETA: 59s - loss: 2.389 - ETA: 59s - loss: 2.38 - ETA: 59s - loss: 2.38 - ETA: 58s - loss: 2.37 - ETA: 58s - loss: 2.37 - ETA: 57s - loss: 2.37 - ETA: 57s - loss: 2.37 - ETA: 56s - loss: 2.38 - ETA: 56s - loss: 2.37 - ETA: 55s - loss: 2.37 - ETA: 55s - loss: 2.37 - ETA: 55s - loss: 2.37 - ETA: 54s - loss: 2.37 - ETA: 54s - loss: 2.37 - ETA: 53s - loss: 2.37 - ETA: 53s - loss: 2.37 - ETA: 52s - loss: 2.37 - ETA: 52s - loss: 2.37 - ETA: 52s - loss: 2.37 - ETA: 51s - loss: 2.37 - ETA: 51s - loss: 2.37 - ETA: 50s - loss: 2.37 - ETA: 50s - loss: 2.37 - ETA: 49s - loss: 2.36 - ETA: 49s - loss: 2.36 - ETA: 48s - loss: 2.36 - ETA: 48s - loss: 2.36 - ETA: 48s - loss: 2.36 - ETA: 47s - loss: 2.36 - ETA: 47s - loss: 2.36 - ETA: 46s - loss: 2.36 - ETA: 46s - loss: 2.36 - ETA: 45s - loss: 2.36 - ETA: 45s - loss: 2.36 - ETA: 44s - loss: 2.36 - ETA: 44s - loss: 2.36 - ETA: 44s - loss: 2.36 - ETA: 43s - loss: 2.36 - ETA: 43s - loss: 2.36 - ETA: 42s - loss: 2.36 - ETA: 42s - loss: 2.36 - ETA: 41s - loss: 2.36 - ETA: 41s - loss: 2.36 - ETA: 40s - loss: 2.36 - ETA: 40s - loss: 2.36 - ETA: 40s - loss: 2.36 - ETA: 39s - loss: 2.36 - ETA: 39s - loss: 2.36 - ETA: 38s - loss: 2.36 - ETA: 38s - loss: 2.36 - ETA: 37s - loss: 2.35 - ETA: 37s - loss: 2.35 - ETA: 36s - loss: 2.35 - ETA: 36s - loss: 2.35 - ETA: 36s - loss: 2.3595"
     ]
    },
    {
     "name": "stdout",
     "output_type": "stream",
     "text": [
      "400/400 [==============================] - ETA: 35s - loss: 2.35 - ETA: 35s - loss: 2.35 - ETA: 34s - loss: 2.35 - ETA: 34s - loss: 2.35 - ETA: 33s - loss: 2.35 - ETA: 33s - loss: 2.35 - ETA: 33s - loss: 2.35 - ETA: 32s - loss: 2.35 - ETA: 32s - loss: 2.35 - ETA: 31s - loss: 2.35 - ETA: 31s - loss: 2.35 - ETA: 30s - loss: 2.35 - ETA: 30s - loss: 2.35 - ETA: 29s - loss: 2.35 - ETA: 29s - loss: 2.34 - ETA: 29s - loss: 2.35 - ETA: 28s - loss: 2.35 - ETA: 28s - loss: 2.34 - ETA: 27s - loss: 2.35 - ETA: 27s - loss: 2.35 - ETA: 26s - loss: 2.35 - ETA: 26s - loss: 2.36 - ETA: 25s - loss: 2.36 - ETA: 25s - loss: 2.36 - ETA: 25s - loss: 2.36 - ETA: 24s - loss: 2.36 - ETA: 24s - loss: 2.36 - ETA: 23s - loss: 2.36 - ETA: 23s - loss: 2.36 - ETA: 22s - loss: 2.36 - ETA: 22s - loss: 2.36 - ETA: 21s - loss: 2.35 - ETA: 21s - loss: 2.36 - ETA: 21s - loss: 2.35 - ETA: 20s - loss: 2.35 - ETA: 20s - loss: 2.35 - ETA: 19s - loss: 2.35 - ETA: 19s - loss: 2.35 - ETA: 18s - loss: 2.35 - ETA: 18s - loss: 2.35 - ETA: 18s - loss: 2.35 - ETA: 17s - loss: 2.35 - ETA: 17s - loss: 2.35 - ETA: 16s - loss: 2.35 - ETA: 16s - loss: 2.36 - ETA: 15s - loss: 2.35 - ETA: 15s - loss: 2.36 - ETA: 14s - loss: 2.36 - ETA: 14s - loss: 2.36 - ETA: 14s - loss: 2.36 - ETA: 13s - loss: 2.36 - ETA: 13s - loss: 2.36 - ETA: 12s - loss: 2.36 - ETA: 12s - loss: 2.36 - ETA: 11s - loss: 2.36 - ETA: 11s - loss: 2.36 - ETA: 10s - loss: 2.36 - ETA: 10s - loss: 2.36 - ETA: 10s - loss: 2.36 - ETA: 9s - loss: 2.3614 - ETA: 9s - loss: 2.359 - ETA: 8s - loss: 2.363 - ETA: 8s - loss: 2.365 - ETA: 7s - loss: 2.366 - ETA: 7s - loss: 2.363 - ETA: 7s - loss: 2.360 - ETA: 6s - loss: 2.358 - ETA: 6s - loss: 2.356 - ETA: 5s - loss: 2.354 - ETA: 5s - loss: 2.351 - ETA: 4s - loss: 2.351 - ETA: 4s - loss: 2.357 - ETA: 3s - loss: 2.356 - ETA: 3s - loss: 2.354 - ETA: 3s - loss: 2.353 - ETA: 2s - loss: 2.353 - ETA: 2s - loss: 2.350 - ETA: 1s - loss: 2.354 - ETA: 1s - loss: 2.356 - ETA: 0s - loss: 2.356 - ETA: 0s - loss: 2.357 - 240s 601ms/step - loss: 2.3587 - val_loss: 2.9165\n",
      "Epoch 3/12\n"
     ]
    },
    {
     "name": "stdout",
     "output_type": "stream",
     "text": [
      "318/400 [======================>.......] - ETA: 2:59 - loss: 3.109 - ETA: 2:59 - loss: 2.374 - ETA: 3:03 - loss: 2.225 - ETA: 3:03 - loss: 2.164 - ETA: 3:01 - loss: 2.106 - ETA: 2:59 - loss: 1.983 - ETA: 2:58 - loss: 1.892 - ETA: 2:57 - loss: 2.062 - ETA: 2:55 - loss: 2.007 - ETA: 2:54 - loss: 1.981 - ETA: 2:53 - loss: 2.040 - ETA: 2:53 - loss: 2.190 - ETA: 2:52 - loss: 2.105 - ETA: 2:51 - loss: 2.202 - ETA: 2:50 - loss: 2.179 - ETA: 2:50 - loss: 2.144 - ETA: 2:49 - loss: 2.184 - ETA: 2:48 - loss: 2.300 - ETA: 2:48 - loss: 2.261 - ETA: 2:47 - loss: 2.215 - ETA: 2:47 - loss: 2.230 - ETA: 2:46 - loss: 2.281 - ETA: 2:46 - loss: 2.266 - ETA: 2:45 - loss: 2.271 - ETA: 2:45 - loss: 2.236 - ETA: 2:44 - loss: 2.207 - ETA: 2:44 - loss: 2.177 - ETA: 2:43 - loss: 2.163 - ETA: 2:43 - loss: 2.196 - ETA: 2:42 - loss: 2.190 - ETA: 2:41 - loss: 2.234 - ETA: 2:41 - loss: 2.221 - ETA: 2:40 - loss: 2.200 - ETA: 2:40 - loss: 2.185 - ETA: 2:39 - loss: 2.168 - ETA: 2:39 - loss: 2.168 - ETA: 2:38 - loss: 2.168 - ETA: 2:38 - loss: 2.193 - ETA: 2:37 - loss: 2.174 - ETA: 2:37 - loss: 2.197 - ETA: 2:36 - loss: 2.170 - ETA: 2:36 - loss: 2.145 - ETA: 2:35 - loss: 2.123 - ETA: 2:35 - loss: 2.130 - ETA: 2:35 - loss: 2.110 - ETA: 2:34 - loss: 2.093 - ETA: 2:34 - loss: 2.071 - ETA: 2:33 - loss: 2.095 - ETA: 2:33 - loss: 2.073 - ETA: 2:32 - loss: 2.054 - ETA: 2:32 - loss: 2.090 - ETA: 2:31 - loss: 2.068 - ETA: 2:31 - loss: 2.082 - ETA: 2:30 - loss: 2.114 - ETA: 2:30 - loss: 2.096 - ETA: 2:30 - loss: 2.105 - ETA: 2:29 - loss: 2.112 - ETA: 2:29 - loss: 2.107 - ETA: 2:28 - loss: 2.118 - ETA: 2:28 - loss: 2.110 - ETA: 2:27 - loss: 2.102 - ETA: 2:27 - loss: 2.107 - ETA: 2:26 - loss: 2.105 - ETA: 2:26 - loss: 2.094 - ETA: 2:26 - loss: 2.114 - ETA: 2:25 - loss: 2.103 - ETA: 2:25 - loss: 2.142 - ETA: 2:24 - loss: 2.146 - ETA: 2:24 - loss: 2.161 - ETA: 2:23 - loss: 2.166 - ETA: 2:23 - loss: 2.192 - ETA: 2:22 - loss: 2.195 - ETA: 2:22 - loss: 2.201 - ETA: 2:21 - loss: 2.199 - ETA: 2:21 - loss: 2.204 - ETA: 2:21 - loss: 2.203 - ETA: 2:20 - loss: 2.207 - ETA: 2:20 - loss: 2.200 - ETA: 2:19 - loss: 2.202 - ETA: 2:19 - loss: 2.206 - ETA: 2:18 - loss: 2.201 - ETA: 2:18 - loss: 2.232 - ETA: 2:17 - loss: 2.216 - ETA: 2:17 - loss: 2.219 - ETA: 2:17 - loss: 2.246 - ETA: 2:16 - loss: 2.234 - ETA: 2:16 - loss: 2.224 - ETA: 2:15 - loss: 2.212 - ETA: 2:15 - loss: 2.216 - ETA: 2:14 - loss: 2.219 - ETA: 2:14 - loss: 2.221 - ETA: 2:13 - loss: 2.211 - ETA: 2:13 - loss: 2.241 - ETA: 2:13 - loss: 2.246 - ETA: 2:12 - loss: 2.247 - ETA: 2:12 - loss: 2.259 - ETA: 2:11 - loss: 2.274 - ETA: 2:11 - loss: 2.264 - ETA: 2:10 - loss: 2.260 - ETA: 2:10 - loss: 2.262 - ETA: 2:10 - loss: 2.268 - ETA: 2:09 - loss: 2.262 - ETA: 2:09 - loss: 2.263 - ETA: 2:08 - loss: 2.261 - ETA: 2:08 - loss: 2.255 - ETA: 2:07 - loss: 2.248 - ETA: 2:07 - loss: 2.242 - ETA: 2:07 - loss: 2.260 - ETA: 2:06 - loss: 2.255 - ETA: 2:06 - loss: 2.251 - ETA: 2:05 - loss: 2.265 - ETA: 2:05 - loss: 2.261 - ETA: 2:04 - loss: 2.278 - ETA: 2:04 - loss: 2.275 - ETA: 2:03 - loss: 2.284 - ETA: 2:03 - loss: 2.280 - ETA: 2:03 - loss: 2.273 - ETA: 2:02 - loss: 2.283 - ETA: 2:02 - loss: 2.285 - ETA: 2:01 - loss: 2.281 - ETA: 2:01 - loss: 2.276 - ETA: 2:00 - loss: 2.278 - ETA: 2:00 - loss: 2.274 - ETA: 2:00 - loss: 2.275 - ETA: 1:59 - loss: 2.276 - ETA: 1:59 - loss: 2.300 - ETA: 1:58 - loss: 2.293 - ETA: 1:58 - loss: 2.291 - ETA: 1:57 - loss: 2.292 - ETA: 1:57 - loss: 2.308 - ETA: 1:56 - loss: 2.303 - ETA: 1:56 - loss: 2.303 - ETA: 1:56 - loss: 2.302 - ETA: 1:55 - loss: 2.295 - ETA: 1:55 - loss: 2.292 - ETA: 1:54 - loss: 2.293 - ETA: 1:54 - loss: 2.306 - ETA: 1:53 - loss: 2.313 - ETA: 1:53 - loss: 2.308 - ETA: 1:53 - loss: 2.302 - ETA: 1:52 - loss: 2.326 - ETA: 1:52 - loss: 2.321 - ETA: 1:51 - loss: 2.326 - ETA: 1:51 - loss: 2.325 - ETA: 1:50 - loss: 2.320 - ETA: 1:50 - loss: 2.328 - ETA: 1:49 - loss: 2.323 - ETA: 1:49 - loss: 2.325 - ETA: 1:49 - loss: 2.322 - ETA: 1:48 - loss: 2.318 - ETA: 1:48 - loss: 2.327 - ETA: 1:47 - loss: 2.330 - ETA: 1:47 - loss: 2.337 - ETA: 1:46 - loss: 2.347 - ETA: 1:46 - loss: 2.343 - ETA: 1:45 - loss: 2.339 - ETA: 1:45 - loss: 2.339 - ETA: 1:45 - loss: 2.336 - ETA: 1:44 - loss: 2.337 - ETA: 1:44 - loss: 2.333 - ETA: 1:43 - loss: 2.326 - ETA: 1:43 - loss: 2.327 - ETA: 1:42 - loss: 2.327 - ETA: 1:42 - loss: 2.324 - ETA: 1:42 - loss: 2.329 - ETA: 1:41 - loss: 2.325 - ETA: 1:41 - loss: 2.319 - ETA: 1:40 - loss: 2.338 - ETA: 1:40 - loss: 2.347 - ETA: 1:39 - loss: 2.365 - ETA: 1:39 - loss: 2.369 - ETA: 1:39 - loss: 2.361 - ETA: 1:38 - loss: 2.354 - ETA: 1:38 - loss: 2.353 - ETA: 1:37 - loss: 2.351 - ETA: 1:37 - loss: 2.353 - ETA: 1:36 - loss: 2.352 - ETA: 1:36 - loss: 2.350 - ETA: 1:35 - loss: 2.351 - ETA: 1:35 - loss: 2.347 - ETA: 1:35 - loss: 2.349 - ETA: 1:34 - loss: 2.343 - ETA: 1:34 - loss: 2.337 - ETA: 1:33 - loss: 2.336 - ETA: 1:33 - loss: 2.333 - ETA: 1:32 - loss: 2.331 - ETA: 1:32 - loss: 2.343 - ETA: 1:32 - loss: 2.337 - ETA: 1:31 - loss: 2.334 - ETA: 1:31 - loss: 2.341 - ETA: 1:30 - loss: 2.339 - ETA: 1:30 - loss: 2.334 - ETA: 1:29 - loss: 2.336 - ETA: 1:29 - loss: 2.333 - ETA: 1:29 - loss: 2.341 - ETA: 1:28 - loss: 2.339 - ETA: 1:28 - loss: 2.340 - ETA: 1:27 - loss: 2.345 - ETA: 1:27 - loss: 2.349 - ETA: 1:26 - loss: 2.343 - ETA: 1:26 - loss: 2.339 - ETA: 1:25 - loss: 2.343 - ETA: 1:25 - loss: 2.340 - ETA: 1:25 - loss: 2.337 - ETA: 1:24 - loss: 2.343 - ETA: 1:24 - loss: 2.344 - ETA: 1:23 - loss: 2.341 - ETA: 1:23 - loss: 2.339 - ETA: 1:22 - loss: 2.336 - ETA: 1:22 - loss: 2.337 - ETA: 1:22 - loss: 2.338 - ETA: 1:21 - loss: 2.334 - ETA: 1:21 - loss: 2.332 - ETA: 1:20 - loss: 2.327 - ETA: 1:20 - loss: 2.323 - ETA: 1:19 - loss: 2.320 - ETA: 1:19 - loss: 2.323 - ETA: 1:19 - loss: 2.324 - ETA: 1:18 - loss: 2.322 - ETA: 1:18 - loss: 2.317 - ETA: 1:17 - loss: 2.312 - ETA: 1:17 - loss: 2.307 - ETA: 1:16 - loss: 2.303 - ETA: 1:16 - loss: 2.298 - ETA: 1:16 - loss: 2.303 - ETA: 1:15 - loss: 2.301 - ETA: 1:15 - loss: 2.301 - ETA: 1:14 - loss: 2.301 - ETA: 1:14 - loss: 2.302 - ETA: 1:13 - loss: 2.299 - ETA: 1:13 - loss: 2.298 - ETA: 1:13 - loss: 2.295 - ETA: 1:12 - loss: 2.295 - ETA: 1:12 - loss: 2.292 - ETA: 1:11 - loss: 2.294 - ETA: 1:11 - loss: 2.298 - ETA: 1:10 - loss: 2.298 - ETA: 1:10 - loss: 2.300 - ETA: 1:09 - loss: 2.296 - ETA: 1:09 - loss: 2.300 - ETA: 1:09 - loss: 2.295 - ETA: 1:08 - loss: 2.293 - ETA: 1:08 - loss: 2.291 - ETA: 1:07 - loss: 2.288 - ETA: 1:07 - loss: 2.287 - ETA: 1:06 - loss: 2.288 - ETA: 1:06 - loss: 2.286 - ETA: 1:06 - loss: 2.293 - ETA: 1:05 - loss: 2.293 - ETA: 1:05 - loss: 2.299 - ETA: 1:04 - loss: 2.304 - ETA: 1:04 - loss: 2.302 - ETA: 1:03 - loss: 2.303 - ETA: 1:03 - loss: 2.308 - ETA: 1:03 - loss: 2.311 - ETA: 1:02 - loss: 2.311 - ETA: 1:02 - loss: 2.307 - ETA: 1:01 - loss: 2.306 - ETA: 1:01 - loss: 2.308 - ETA: 1:00 - loss: 2.309 - ETA: 1:00 - loss: 2.309 - ETA: 1:00 - loss: 2.306 - ETA: 59s - loss: 2.310 - ETA: 59s - loss: 2.30 - ETA: 58s - loss: 2.30 - ETA: 58s - loss: 2.31 - ETA: 57s - loss: 2.30 - ETA: 57s - loss: 2.30 - ETA: 56s - loss: 2.30 - ETA: 56s - loss: 2.30 - ETA: 56s - loss: 2.30 - ETA: 55s - loss: 2.29 - ETA: 55s - loss: 2.30 - ETA: 54s - loss: 2.30 - ETA: 54s - loss: 2.29 - ETA: 53s - loss: 2.29 - ETA: 53s - loss: 2.29 - ETA: 53s - loss: 2.30 - ETA: 52s - loss: 2.30 - ETA: 52s - loss: 2.30 - ETA: 51s - loss: 2.30 - ETA: 51s - loss: 2.30 - ETA: 50s - loss: 2.30 - ETA: 50s - loss: 2.30 - ETA: 50s - loss: 2.30 - ETA: 49s - loss: 2.30 - ETA: 49s - loss: 2.29 - ETA: 48s - loss: 2.29 - ETA: 48s - loss: 2.29 - ETA: 47s - loss: 2.29 - ETA: 47s - loss: 2.28 - ETA: 47s - loss: 2.29 - ETA: 46s - loss: 2.28 - ETA: 46s - loss: 2.28 - ETA: 45s - loss: 2.28 - ETA: 45s - loss: 2.28 - ETA: 44s - loss: 2.28 - ETA: 44s - loss: 2.28 - ETA: 43s - loss: 2.28 - ETA: 43s - loss: 2.28 - ETA: 43s - loss: 2.29 - ETA: 42s - loss: 2.29 - ETA: 42s - loss: 2.29 - ETA: 41s - loss: 2.29 - ETA: 41s - loss: 2.29 - ETA: 40s - loss: 2.29 - ETA: 40s - loss: 2.30 - ETA: 40s - loss: 2.30 - ETA: 39s - loss: 2.31 - ETA: 39s - loss: 2.31 - ETA: 38s - loss: 2.31 - ETA: 38s - loss: 2.31 - ETA: 37s - loss: 2.31 - ETA: 37s - loss: 2.31 - ETA: 37s - loss: 2.31 - ETA: 36s - loss: 2.31 - ETA: 36s - loss: 2.31 - ETA: 35s - loss: 2.3097"
     ]
    },
    {
     "name": "stdout",
     "output_type": "stream",
     "text": [
      "400/400 [==============================] - ETA: 35s - loss: 2.31 - ETA: 34s - loss: 2.31 - ETA: 34s - loss: 2.31 - ETA: 33s - loss: 2.31 - ETA: 33s - loss: 2.32 - ETA: 33s - loss: 2.31 - ETA: 32s - loss: 2.31 - ETA: 32s - loss: 2.31 - ETA: 31s - loss: 2.31 - ETA: 31s - loss: 2.31 - ETA: 30s - loss: 2.31 - ETA: 30s - loss: 2.31 - ETA: 30s - loss: 2.31 - ETA: 29s - loss: 2.31 - ETA: 29s - loss: 2.31 - ETA: 28s - loss: 2.30 - ETA: 28s - loss: 2.30 - ETA: 27s - loss: 2.30 - ETA: 27s - loss: 2.30 - ETA: 27s - loss: 2.30 - ETA: 26s - loss: 2.30 - ETA: 26s - loss: 2.30 - ETA: 25s - loss: 2.30 - ETA: 25s - loss: 2.30 - ETA: 24s - loss: 2.31 - ETA: 24s - loss: 2.30 - ETA: 23s - loss: 2.30 - ETA: 23s - loss: 2.31 - ETA: 23s - loss: 2.31 - ETA: 22s - loss: 2.31 - ETA: 22s - loss: 2.31 - ETA: 21s - loss: 2.31 - ETA: 21s - loss: 2.31 - ETA: 20s - loss: 2.31 - ETA: 20s - loss: 2.31 - ETA: 20s - loss: 2.31 - ETA: 19s - loss: 2.30 - ETA: 19s - loss: 2.30 - ETA: 18s - loss: 2.30 - ETA: 18s - loss: 2.31 - ETA: 17s - loss: 2.31 - ETA: 17s - loss: 2.30 - ETA: 16s - loss: 2.31 - ETA: 16s - loss: 2.31 - ETA: 16s - loss: 2.31 - ETA: 15s - loss: 2.31 - ETA: 15s - loss: 2.31 - ETA: 14s - loss: 2.32 - ETA: 14s - loss: 2.32 - ETA: 13s - loss: 2.32 - ETA: 13s - loss: 2.32 - ETA: 13s - loss: 2.32 - ETA: 12s - loss: 2.32 - ETA: 12s - loss: 2.32 - ETA: 11s - loss: 2.32 - ETA: 11s - loss: 2.32 - ETA: 10s - loss: 2.32 - ETA: 10s - loss: 2.32 - ETA: 10s - loss: 2.32 - ETA: 9s - loss: 2.3213 - ETA: 9s - loss: 2.319 - ETA: 8s - loss: 2.320 - ETA: 8s - loss: 2.322 - ETA: 7s - loss: 2.321 - ETA: 7s - loss: 2.321 - ETA: 6s - loss: 2.322 - ETA: 6s - loss: 2.321 - ETA: 6s - loss: 2.318 - ETA: 5s - loss: 2.320 - ETA: 5s - loss: 2.320 - ETA: 4s - loss: 2.317 - ETA: 4s - loss: 2.313 - ETA: 3s - loss: 2.311 - ETA: 3s - loss: 2.310 - ETA: 3s - loss: 2.316 - ETA: 2s - loss: 2.319 - ETA: 2s - loss: 2.320 - ETA: 1s - loss: 2.319 - ETA: 1s - loss: 2.317 - ETA: 0s - loss: 2.316 - ETA: 0s - loss: 2.315 - 236s 590ms/step - loss: 2.3139 - val_loss: 2.6420\n",
      "Epoch 4/12\n"
     ]
    },
    {
     "name": "stdout",
     "output_type": "stream",
     "text": [
      "318/400 [======================>.......] - ETA: 2:51 - loss: 1.889 - ETA: 2:54 - loss: 2.077 - ETA: 2:53 - loss: 2.667 - ETA: 2:55 - loss: 2.657 - ETA: 2:54 - loss: 2.397 - ETA: 2:53 - loss: 2.529 - ETA: 2:52 - loss: 2.440 - ETA: 2:52 - loss: 2.359 - ETA: 2:51 - loss: 2.368 - ETA: 2:50 - loss: 2.468 - ETA: 2:50 - loss: 2.376 - ETA: 2:49 - loss: 2.442 - ETA: 2:48 - loss: 2.416 - ETA: 2:48 - loss: 2.424 - ETA: 2:47 - loss: 2.410 - ETA: 2:47 - loss: 2.359 - ETA: 2:46 - loss: 2.405 - ETA: 2:46 - loss: 2.469 - ETA: 2:45 - loss: 2.531 - ETA: 2:45 - loss: 2.456 - ETA: 2:44 - loss: 2.440 - ETA: 2:44 - loss: 2.401 - ETA: 2:43 - loss: 2.377 - ETA: 2:43 - loss: 2.346 - ETA: 2:42 - loss: 2.325 - ETA: 2:42 - loss: 2.363 - ETA: 2:42 - loss: 2.391 - ETA: 2:41 - loss: 2.483 - ETA: 2:41 - loss: 2.441 - ETA: 2:41 - loss: 2.419 - ETA: 2:40 - loss: 2.428 - ETA: 2:39 - loss: 2.433 - ETA: 2:39 - loss: 2.442 - ETA: 2:39 - loss: 2.473 - ETA: 2:38 - loss: 2.490 - ETA: 2:38 - loss: 2.515 - ETA: 2:37 - loss: 2.500 - ETA: 2:37 - loss: 2.485 - ETA: 2:37 - loss: 2.465 - ETA: 2:36 - loss: 2.452 - ETA: 2:36 - loss: 2.457 - ETA: 2:35 - loss: 2.441 - ETA: 2:35 - loss: 2.485 - ETA: 2:34 - loss: 2.464 - ETA: 2:34 - loss: 2.462 - ETA: 2:33 - loss: 2.491 - ETA: 2:33 - loss: 2.478 - ETA: 2:32 - loss: 2.468 - ETA: 2:32 - loss: 2.475 - ETA: 2:31 - loss: 2.463 - ETA: 2:31 - loss: 2.451 - ETA: 2:31 - loss: 2.425 - ETA: 2:30 - loss: 2.437 - ETA: 2:30 - loss: 2.421 - ETA: 2:29 - loss: 2.406 - ETA: 2:29 - loss: 2.424 - ETA: 2:28 - loss: 2.412 - ETA: 2:28 - loss: 2.390 - ETA: 2:27 - loss: 2.381 - ETA: 2:27 - loss: 2.364 - ETA: 2:27 - loss: 2.368 - ETA: 2:26 - loss: 2.368 - ETA: 2:26 - loss: 2.347 - ETA: 2:25 - loss: 2.358 - ETA: 2:25 - loss: 2.348 - ETA: 2:24 - loss: 2.340 - ETA: 2:24 - loss: 2.329 - ETA: 2:24 - loss: 2.327 - ETA: 2:23 - loss: 2.312 - ETA: 2:23 - loss: 2.313 - ETA: 2:22 - loss: 2.310 - ETA: 2:22 - loss: 2.306 - ETA: 2:21 - loss: 2.302 - ETA: 2:21 - loss: 2.295 - ETA: 2:20 - loss: 2.303 - ETA: 2:20 - loss: 2.301 - ETA: 2:20 - loss: 2.314 - ETA: 2:19 - loss: 2.303 - ETA: 2:19 - loss: 2.293 - ETA: 2:18 - loss: 2.301 - ETA: 2:18 - loss: 2.325 - ETA: 2:17 - loss: 2.321 - ETA: 2:17 - loss: 2.320 - ETA: 2:16 - loss: 2.312 - ETA: 2:16 - loss: 2.303 - ETA: 2:16 - loss: 2.315 - ETA: 2:15 - loss: 2.316 - ETA: 2:15 - loss: 2.340 - ETA: 2:14 - loss: 2.330 - ETA: 2:14 - loss: 2.334 - ETA: 2:13 - loss: 2.322 - ETA: 2:13 - loss: 2.320 - ETA: 2:13 - loss: 2.345 - ETA: 2:12 - loss: 2.340 - ETA: 2:12 - loss: 2.348 - ETA: 2:11 - loss: 2.359 - ETA: 2:11 - loss: 2.353 - ETA: 2:10 - loss: 2.352 - ETA: 2:10 - loss: 2.348 - ETA: 2:09 - loss: 2.342 - ETA: 2:09 - loss: 2.337 - ETA: 2:09 - loss: 2.325 - ETA: 2:08 - loss: 2.312 - ETA: 2:08 - loss: 2.309 - ETA: 2:07 - loss: 2.302 - ETA: 2:07 - loss: 2.301 - ETA: 2:06 - loss: 2.296 - ETA: 2:06 - loss: 2.296 - ETA: 2:06 - loss: 2.290 - ETA: 2:05 - loss: 2.291 - ETA: 2:05 - loss: 2.281 - ETA: 2:04 - loss: 2.286 - ETA: 2:04 - loss: 2.275 - ETA: 2:03 - loss: 2.297 - ETA: 2:03 - loss: 2.294 - ETA: 2:02 - loss: 2.287 - ETA: 2:02 - loss: 2.280 - ETA: 2:02 - loss: 2.273 - ETA: 2:01 - loss: 2.294 - ETA: 2:01 - loss: 2.292 - ETA: 2:00 - loss: 2.292 - ETA: 2:00 - loss: 2.290 - ETA: 1:59 - loss: 2.297 - ETA: 1:59 - loss: 2.292 - ETA: 1:59 - loss: 2.291 - ETA: 1:58 - loss: 2.293 - ETA: 1:58 - loss: 2.300 - ETA: 1:57 - loss: 2.308 - ETA: 1:57 - loss: 2.301 - ETA: 1:56 - loss: 2.298 - ETA: 1:56 - loss: 2.293 - ETA: 1:56 - loss: 2.294 - ETA: 1:55 - loss: 2.293 - ETA: 1:55 - loss: 2.290 - ETA: 1:54 - loss: 2.288 - ETA: 1:54 - loss: 2.284 - ETA: 1:53 - loss: 2.279 - ETA: 1:53 - loss: 2.280 - ETA: 1:52 - loss: 2.276 - ETA: 1:52 - loss: 2.279 - ETA: 1:52 - loss: 2.277 - ETA: 1:51 - loss: 2.275 - ETA: 1:51 - loss: 2.288 - ETA: 1:50 - loss: 2.294 - ETA: 1:50 - loss: 2.292 - ETA: 1:49 - loss: 2.305 - ETA: 1:49 - loss: 2.308 - ETA: 1:49 - loss: 2.300 - ETA: 1:48 - loss: 2.295 - ETA: 1:48 - loss: 2.291 - ETA: 1:47 - loss: 2.297 - ETA: 1:47 - loss: 2.302 - ETA: 1:46 - loss: 2.300 - ETA: 1:46 - loss: 2.298 - ETA: 1:46 - loss: 2.294 - ETA: 1:45 - loss: 2.300 - ETA: 1:45 - loss: 2.300 - ETA: 1:44 - loss: 2.294 - ETA: 1:44 - loss: 2.301 - ETA: 1:43 - loss: 2.299 - ETA: 1:43 - loss: 2.297 - ETA: 1:43 - loss: 2.292 - ETA: 1:42 - loss: 2.287 - ETA: 1:42 - loss: 2.295 - ETA: 1:41 - loss: 2.292 - ETA: 1:41 - loss: 2.286 - ETA: 1:40 - loss: 2.281 - ETA: 1:40 - loss: 2.274 - ETA: 1:40 - loss: 2.277 - ETA: 1:39 - loss: 2.283 - ETA: 1:39 - loss: 2.281 - ETA: 1:38 - loss: 2.289 - ETA: 1:38 - loss: 2.291 - ETA: 1:37 - loss: 2.310 - ETA: 1:37 - loss: 2.317 - ETA: 1:36 - loss: 2.327 - ETA: 1:36 - loss: 2.320 - ETA: 1:36 - loss: 2.318 - ETA: 1:35 - loss: 2.312 - ETA: 1:35 - loss: 2.310 - ETA: 1:34 - loss: 2.304 - ETA: 1:34 - loss: 2.298 - ETA: 1:33 - loss: 2.296 - ETA: 1:33 - loss: 2.296 - ETA: 1:33 - loss: 2.296 - ETA: 1:32 - loss: 2.307 - ETA: 1:32 - loss: 2.312 - ETA: 1:31 - loss: 2.315 - ETA: 1:31 - loss: 2.313 - ETA: 1:30 - loss: 2.308 - ETA: 1:30 - loss: 2.306 - ETA: 1:30 - loss: 2.303 - ETA: 1:29 - loss: 2.300 - ETA: 1:29 - loss: 2.307 - ETA: 1:28 - loss: 2.306 - ETA: 1:28 - loss: 2.300 - ETA: 1:27 - loss: 2.302 - ETA: 1:27 - loss: 2.298 - ETA: 1:27 - loss: 2.295 - ETA: 1:26 - loss: 2.297 - ETA: 1:26 - loss: 2.299 - ETA: 1:25 - loss: 2.294 - ETA: 1:25 - loss: 2.292 - ETA: 1:24 - loss: 2.286 - ETA: 1:24 - loss: 2.295 - ETA: 1:23 - loss: 2.292 - ETA: 1:23 - loss: 2.289 - ETA: 1:23 - loss: 2.302 - ETA: 1:22 - loss: 2.298 - ETA: 1:22 - loss: 2.296 - ETA: 1:21 - loss: 2.294 - ETA: 1:21 - loss: 2.288 - ETA: 1:20 - loss: 2.297 - ETA: 1:20 - loss: 2.294 - ETA: 1:20 - loss: 2.292 - ETA: 1:19 - loss: 2.289 - ETA: 1:19 - loss: 2.287 - ETA: 1:18 - loss: 2.284 - ETA: 1:18 - loss: 2.285 - ETA: 1:17 - loss: 2.280 - ETA: 1:17 - loss: 2.288 - ETA: 1:17 - loss: 2.283 - ETA: 1:16 - loss: 2.292 - ETA: 1:16 - loss: 2.288 - ETA: 1:15 - loss: 2.284 - ETA: 1:15 - loss: 2.285 - ETA: 1:14 - loss: 2.292 - ETA: 1:14 - loss: 2.287 - ETA: 1:13 - loss: 2.282 - ETA: 1:13 - loss: 2.293 - ETA: 1:13 - loss: 2.292 - ETA: 1:12 - loss: 2.289 - ETA: 1:12 - loss: 2.293 - ETA: 1:11 - loss: 2.291 - ETA: 1:11 - loss: 2.286 - ETA: 1:10 - loss: 2.293 - ETA: 1:10 - loss: 2.287 - ETA: 1:10 - loss: 2.287 - ETA: 1:09 - loss: 2.292 - ETA: 1:09 - loss: 2.293 - ETA: 1:08 - loss: 2.288 - ETA: 1:08 - loss: 2.285 - ETA: 1:07 - loss: 2.281 - ETA: 1:07 - loss: 2.278 - ETA: 1:07 - loss: 2.276 - ETA: 1:06 - loss: 2.273 - ETA: 1:06 - loss: 2.273 - ETA: 1:05 - loss: 2.270 - ETA: 1:05 - loss: 2.267 - ETA: 1:04 - loss: 2.264 - ETA: 1:04 - loss: 2.261 - ETA: 1:04 - loss: 2.258 - ETA: 1:03 - loss: 2.266 - ETA: 1:03 - loss: 2.261 - ETA: 1:02 - loss: 2.260 - ETA: 1:02 - loss: 2.267 - ETA: 1:01 - loss: 2.267 - ETA: 1:01 - loss: 2.264 - ETA: 1:00 - loss: 2.269 - ETA: 1:00 - loss: 2.267 - ETA: 1:00 - loss: 2.263 - ETA: 59s - loss: 2.263 - ETA: 59s - loss: 2.26 - ETA: 58s - loss: 2.26 - ETA: 58s - loss: 2.26 - ETA: 57s - loss: 2.26 - ETA: 57s - loss: 2.25 - ETA: 57s - loss: 2.25 - ETA: 56s - loss: 2.25 - ETA: 56s - loss: 2.25 - ETA: 55s - loss: 2.25 - ETA: 55s - loss: 2.25 - ETA: 54s - loss: 2.25 - ETA: 54s - loss: 2.25 - ETA: 54s - loss: 2.25 - ETA: 53s - loss: 2.25 - ETA: 53s - loss: 2.24 - ETA: 52s - loss: 2.24 - ETA: 52s - loss: 2.24 - ETA: 51s - loss: 2.25 - ETA: 51s - loss: 2.24 - ETA: 51s - loss: 2.24 - ETA: 50s - loss: 2.24 - ETA: 50s - loss: 2.24 - ETA: 49s - loss: 2.25 - ETA: 49s - loss: 2.25 - ETA: 48s - loss: 2.26 - ETA: 48s - loss: 2.26 - ETA: 47s - loss: 2.26 - ETA: 47s - loss: 2.25 - ETA: 47s - loss: 2.25 - ETA: 46s - loss: 2.25 - ETA: 46s - loss: 2.25 - ETA: 45s - loss: 2.25 - ETA: 45s - loss: 2.25 - ETA: 44s - loss: 2.26 - ETA: 44s - loss: 2.26 - ETA: 44s - loss: 2.26 - ETA: 43s - loss: 2.26 - ETA: 43s - loss: 2.26 - ETA: 42s - loss: 2.26 - ETA: 42s - loss: 2.26 - ETA: 41s - loss: 2.26 - ETA: 41s - loss: 2.26 - ETA: 41s - loss: 2.27 - ETA: 40s - loss: 2.27 - ETA: 40s - loss: 2.27 - ETA: 39s - loss: 2.28 - ETA: 39s - loss: 2.28 - ETA: 38s - loss: 2.28 - ETA: 38s - loss: 2.28 - ETA: 38s - loss: 2.28 - ETA: 37s - loss: 2.27 - ETA: 37s - loss: 2.27 - ETA: 36s - loss: 2.27 - ETA: 36s - loss: 2.27 - ETA: 35s - loss: 2.27 - ETA: 35s - loss: 2.2838"
     ]
    },
    {
     "name": "stdout",
     "output_type": "stream",
     "text": [
      "400/400 [==============================] - ETA: 35s - loss: 2.29 - ETA: 34s - loss: 2.29 - ETA: 34s - loss: 2.28 - ETA: 33s - loss: 2.29 - ETA: 33s - loss: 2.29 - ETA: 32s - loss: 2.28 - ETA: 32s - loss: 2.28 - ETA: 32s - loss: 2.28 - ETA: 31s - loss: 2.29 - ETA: 31s - loss: 2.28 - ETA: 30s - loss: 2.28 - ETA: 30s - loss: 2.28 - ETA: 29s - loss: 2.29 - ETA: 29s - loss: 2.29 - ETA: 28s - loss: 2.29 - ETA: 28s - loss: 2.29 - ETA: 28s - loss: 2.29 - ETA: 27s - loss: 2.28 - ETA: 27s - loss: 2.29 - ETA: 26s - loss: 2.28 - ETA: 26s - loss: 2.29 - ETA: 25s - loss: 2.28 - ETA: 25s - loss: 2.28 - ETA: 25s - loss: 2.28 - ETA: 24s - loss: 2.28 - ETA: 24s - loss: 2.28 - ETA: 23s - loss: 2.28 - ETA: 23s - loss: 2.28 - ETA: 22s - loss: 2.28 - ETA: 22s - loss: 2.27 - ETA: 22s - loss: 2.27 - ETA: 21s - loss: 2.27 - ETA: 21s - loss: 2.27 - ETA: 20s - loss: 2.26 - ETA: 20s - loss: 2.27 - ETA: 19s - loss: 2.27 - ETA: 19s - loss: 2.27 - ETA: 19s - loss: 2.27 - ETA: 18s - loss: 2.27 - ETA: 18s - loss: 2.27 - ETA: 17s - loss: 2.27 - ETA: 17s - loss: 2.27 - ETA: 16s - loss: 2.27 - ETA: 16s - loss: 2.27 - ETA: 16s - loss: 2.27 - ETA: 15s - loss: 2.27 - ETA: 15s - loss: 2.27 - ETA: 14s - loss: 2.27 - ETA: 14s - loss: 2.26 - ETA: 13s - loss: 2.27 - ETA: 13s - loss: 2.27 - ETA: 12s - loss: 2.27 - ETA: 12s - loss: 2.27 - ETA: 12s - loss: 2.27 - ETA: 11s - loss: 2.26 - ETA: 11s - loss: 2.26 - ETA: 10s - loss: 2.26 - ETA: 10s - loss: 2.26 - ETA: 9s - loss: 2.2618 - ETA: 9s - loss: 2.262 - ETA: 9s - loss: 2.260 - ETA: 8s - loss: 2.264 - ETA: 8s - loss: 2.266 - ETA: 7s - loss: 2.264 - ETA: 7s - loss: 2.266 - ETA: 6s - loss: 2.269 - ETA: 6s - loss: 2.268 - ETA: 6s - loss: 2.265 - ETA: 5s - loss: 2.267 - ETA: 5s - loss: 2.265 - ETA: 4s - loss: 2.266 - ETA: 4s - loss: 2.269 - ETA: 3s - loss: 2.267 - ETA: 3s - loss: 2.269 - ETA: 3s - loss: 2.266 - ETA: 2s - loss: 2.270 - ETA: 2s - loss: 2.268 - ETA: 1s - loss: 2.267 - ETA: 1s - loss: 2.265 - ETA: 0s - loss: 2.263 - ETA: 0s - loss: 2.262 - 234s 585ms/step - loss: 2.2638 - val_loss: 2.7102\n",
      "Epoch 5/12\n"
     ]
    },
    {
     "name": "stdout",
     "output_type": "stream",
     "text": [
      "318/400 [======================>.......] - ETA: 3:01 - loss: 1.985 - ETA: 3:04 - loss: 1.979 - ETA: 3:04 - loss: 1.754 - ETA: 3:03 - loss: 1.722 - ETA: 3:01 - loss: 1.830 - ETA: 2:59 - loss: 1.777 - ETA: 2:57 - loss: 1.719 - ETA: 2:55 - loss: 1.715 - ETA: 2:55 - loss: 1.813 - ETA: 2:54 - loss: 2.027 - ETA: 2:53 - loss: 2.115 - ETA: 2:52 - loss: 2.077 - ETA: 2:52 - loss: 2.136 - ETA: 2:51 - loss: 2.147 - ETA: 2:50 - loss: 2.226 - ETA: 2:49 - loss: 2.159 - ETA: 2:49 - loss: 2.160 - ETA: 2:48 - loss: 2.136 - ETA: 2:48 - loss: 2.181 - ETA: 2:47 - loss: 2.169 - ETA: 2:47 - loss: 2.141 - ETA: 2:46 - loss: 2.153 - ETA: 2:45 - loss: 2.115 - ETA: 2:45 - loss: 2.165 - ETA: 2:44 - loss: 2.275 - ETA: 2:44 - loss: 2.237 - ETA: 2:43 - loss: 2.280 - ETA: 2:43 - loss: 2.374 - ETA: 2:42 - loss: 2.358 - ETA: 2:42 - loss: 2.336 - ETA: 2:41 - loss: 2.321 - ETA: 2:41 - loss: 2.306 - ETA: 2:40 - loss: 2.302 - ETA: 2:40 - loss: 2.272 - ETA: 2:39 - loss: 2.265 - ETA: 2:39 - loss: 2.264 - ETA: 2:38 - loss: 2.256 - ETA: 2:38 - loss: 2.234 - ETA: 2:37 - loss: 2.230 - ETA: 2:37 - loss: 2.204 - ETA: 2:36 - loss: 2.217 - ETA: 2:36 - loss: 2.225 - ETA: 2:36 - loss: 2.211 - ETA: 2:35 - loss: 2.193 - ETA: 2:35 - loss: 2.214 - ETA: 2:34 - loss: 2.240 - ETA: 2:34 - loss: 2.256 - ETA: 2:33 - loss: 2.239 - ETA: 2:33 - loss: 2.234 - ETA: 2:32 - loss: 2.225 - ETA: 2:32 - loss: 2.209 - ETA: 2:31 - loss: 2.215 - ETA: 2:31 - loss: 2.207 - ETA: 2:31 - loss: 2.194 - ETA: 2:30 - loss: 2.221 - ETA: 2:30 - loss: 2.214 - ETA: 2:29 - loss: 2.194 - ETA: 2:29 - loss: 2.188 - ETA: 2:28 - loss: 2.194 - ETA: 2:28 - loss: 2.201 - ETA: 2:28 - loss: 2.193 - ETA: 2:27 - loss: 2.200 - ETA: 2:27 - loss: 2.185 - ETA: 2:26 - loss: 2.187 - ETA: 2:26 - loss: 2.173 - ETA: 2:25 - loss: 2.169 - ETA: 2:25 - loss: 2.159 - ETA: 2:24 - loss: 2.155 - ETA: 2:24 - loss: 2.189 - ETA: 2:23 - loss: 2.205 - ETA: 2:23 - loss: 2.199 - ETA: 2:23 - loss: 2.211 - ETA: 2:22 - loss: 2.211 - ETA: 2:22 - loss: 2.193 - ETA: 2:21 - loss: 2.197 - ETA: 2:21 - loss: 2.193 - ETA: 2:20 - loss: 2.208 - ETA: 2:20 - loss: 2.194 - ETA: 2:19 - loss: 2.195 - ETA: 2:19 - loss: 2.189 - ETA: 2:18 - loss: 2.198 - ETA: 2:18 - loss: 2.188 - ETA: 2:18 - loss: 2.200 - ETA: 2:17 - loss: 2.215 - ETA: 2:17 - loss: 2.214 - ETA: 2:16 - loss: 2.220 - ETA: 2:16 - loss: 2.219 - ETA: 2:15 - loss: 2.215 - ETA: 2:15 - loss: 2.217 - ETA: 2:15 - loss: 2.220 - ETA: 2:14 - loss: 2.222 - ETA: 2:14 - loss: 2.216 - ETA: 2:13 - loss: 2.230 - ETA: 2:13 - loss: 2.224 - ETA: 2:12 - loss: 2.224 - ETA: 2:12 - loss: 2.240 - ETA: 2:12 - loss: 2.239 - ETA: 2:11 - loss: 2.246 - ETA: 2:11 - loss: 2.238 - ETA: 2:10 - loss: 2.229 - ETA: 2:10 - loss: 2.224 - ETA: 2:09 - loss: 2.221 - ETA: 2:09 - loss: 2.216 - ETA: 2:08 - loss: 2.207 - ETA: 2:08 - loss: 2.220 - ETA: 2:08 - loss: 2.211 - ETA: 2:07 - loss: 2.221 - ETA: 2:07 - loss: 2.211 - ETA: 2:06 - loss: 2.205 - ETA: 2:06 - loss: 2.204 - ETA: 2:05 - loss: 2.197 - ETA: 2:05 - loss: 2.189 - ETA: 2:05 - loss: 2.205 - ETA: 2:04 - loss: 2.195 - ETA: 2:04 - loss: 2.188 - ETA: 2:03 - loss: 2.189 - ETA: 2:03 - loss: 2.186 - ETA: 2:02 - loss: 2.189 - ETA: 2:02 - loss: 2.190 - ETA: 2:01 - loss: 2.186 - ETA: 2:01 - loss: 2.197 - ETA: 2:01 - loss: 2.204 - ETA: 2:00 - loss: 2.206 - ETA: 2:00 - loss: 2.201 - ETA: 1:59 - loss: 2.194 - ETA: 1:59 - loss: 2.201 - ETA: 1:58 - loss: 2.209 - ETA: 1:58 - loss: 2.212 - ETA: 1:57 - loss: 2.210 - ETA: 1:57 - loss: 2.205 - ETA: 1:57 - loss: 2.201 - ETA: 1:56 - loss: 2.196 - ETA: 1:56 - loss: 2.195 - ETA: 1:55 - loss: 2.204 - ETA: 1:55 - loss: 2.200 - ETA: 1:54 - loss: 2.205 - ETA: 1:54 - loss: 2.217 - ETA: 1:54 - loss: 2.228 - ETA: 1:53 - loss: 2.231 - ETA: 1:53 - loss: 2.244 - ETA: 1:52 - loss: 2.239 - ETA: 1:52 - loss: 2.234 - ETA: 1:51 - loss: 2.235 - ETA: 1:51 - loss: 2.238 - ETA: 1:50 - loss: 2.249 - ETA: 1:50 - loss: 2.252 - ETA: 1:50 - loss: 2.246 - ETA: 1:49 - loss: 2.257 - ETA: 1:49 - loss: 2.260 - ETA: 1:48 - loss: 2.261 - ETA: 1:48 - loss: 2.264 - ETA: 1:47 - loss: 2.257 - ETA: 1:47 - loss: 2.258 - ETA: 1:47 - loss: 2.259 - ETA: 1:46 - loss: 2.259 - ETA: 1:46 - loss: 2.259 - ETA: 1:45 - loss: 2.258 - ETA: 1:45 - loss: 2.267 - ETA: 1:44 - loss: 2.264 - ETA: 1:44 - loss: 2.278 - ETA: 1:43 - loss: 2.274 - ETA: 1:43 - loss: 2.273 - ETA: 1:43 - loss: 2.266 - ETA: 1:42 - loss: 2.262 - ETA: 1:42 - loss: 2.271 - ETA: 1:41 - loss: 2.266 - ETA: 1:41 - loss: 2.263 - ETA: 1:40 - loss: 2.263 - ETA: 1:40 - loss: 2.263 - ETA: 1:40 - loss: 2.257 - ETA: 1:39 - loss: 2.266 - ETA: 1:39 - loss: 2.265 - ETA: 1:38 - loss: 2.262 - ETA: 1:38 - loss: 2.258 - ETA: 1:37 - loss: 2.253 - ETA: 1:37 - loss: 2.252 - ETA: 1:36 - loss: 2.253 - ETA: 1:36 - loss: 2.258 - ETA: 1:36 - loss: 2.258 - ETA: 1:35 - loss: 2.259 - ETA: 1:35 - loss: 2.263 - ETA: 1:34 - loss: 2.268 - ETA: 1:34 - loss: 2.266 - ETA: 1:33 - loss: 2.264 - ETA: 1:33 - loss: 2.261 - ETA: 1:33 - loss: 2.262 - ETA: 1:32 - loss: 2.259 - ETA: 1:32 - loss: 2.254 - ETA: 1:31 - loss: 2.257 - ETA: 1:31 - loss: 2.258 - ETA: 1:30 - loss: 2.265 - ETA: 1:30 - loss: 2.271 - ETA: 1:29 - loss: 2.272 - ETA: 1:29 - loss: 2.273 - ETA: 1:29 - loss: 2.278 - ETA: 1:28 - loss: 2.283 - ETA: 1:28 - loss: 2.287 - ETA: 1:27 - loss: 2.288 - ETA: 1:27 - loss: 2.284 - ETA: 1:26 - loss: 2.282 - ETA: 1:26 - loss: 2.285 - ETA: 1:26 - loss: 2.282 - ETA: 1:25 - loss: 2.279 - ETA: 1:25 - loss: 2.281 - ETA: 1:24 - loss: 2.283 - ETA: 1:24 - loss: 2.279 - ETA: 1:23 - loss: 2.276 - ETA: 1:23 - loss: 2.272 - ETA: 1:23 - loss: 2.273 - ETA: 1:22 - loss: 2.273 - ETA: 1:22 - loss: 2.273 - ETA: 1:21 - loss: 2.273 - ETA: 1:21 - loss: 2.267 - ETA: 1:20 - loss: 2.272 - ETA: 1:20 - loss: 2.267 - ETA: 1:19 - loss: 2.269 - ETA: 1:19 - loss: 2.266 - ETA: 1:19 - loss: 2.262 - ETA: 1:18 - loss: 2.261 - ETA: 1:18 - loss: 2.258 - ETA: 1:17 - loss: 2.257 - ETA: 1:17 - loss: 2.251 - ETA: 1:16 - loss: 2.247 - ETA: 1:16 - loss: 2.245 - ETA: 1:16 - loss: 2.241 - ETA: 1:15 - loss: 2.252 - ETA: 1:15 - loss: 2.259 - ETA: 1:14 - loss: 2.263 - ETA: 1:14 - loss: 2.258 - ETA: 1:13 - loss: 2.256 - ETA: 1:13 - loss: 2.258 - ETA: 1:13 - loss: 2.258 - ETA: 1:12 - loss: 2.256 - ETA: 1:12 - loss: 2.255 - ETA: 1:11 - loss: 2.261 - ETA: 1:11 - loss: 2.258 - ETA: 1:10 - loss: 2.258 - ETA: 1:10 - loss: 2.254 - ETA: 1:09 - loss: 2.252 - ETA: 1:09 - loss: 2.249 - ETA: 1:09 - loss: 2.249 - ETA: 1:08 - loss: 2.250 - ETA: 1:08 - loss: 2.247 - ETA: 1:07 - loss: 2.248 - ETA: 1:07 - loss: 2.255 - ETA: 1:06 - loss: 2.258 - ETA: 1:06 - loss: 2.252 - ETA: 1:06 - loss: 2.248 - ETA: 1:05 - loss: 2.243 - ETA: 1:05 - loss: 2.241 - ETA: 1:04 - loss: 2.237 - ETA: 1:04 - loss: 2.245 - ETA: 1:03 - loss: 2.239 - ETA: 1:03 - loss: 2.243 - ETA: 1:03 - loss: 2.238 - ETA: 1:02 - loss: 2.237 - ETA: 1:02 - loss: 2.248 - ETA: 1:01 - loss: 2.244 - ETA: 1:01 - loss: 2.245 - ETA: 1:00 - loss: 2.241 - ETA: 1:00 - loss: 2.240 - ETA: 59s - loss: 2.238 - ETA: 59s - loss: 2.23 - ETA: 59s - loss: 2.23 - ETA: 58s - loss: 2.23 - ETA: 58s - loss: 2.23 - ETA: 57s - loss: 2.22 - ETA: 57s - loss: 2.22 - ETA: 56s - loss: 2.23 - ETA: 56s - loss: 2.22 - ETA: 56s - loss: 2.23 - ETA: 55s - loss: 2.22 - ETA: 55s - loss: 2.22 - ETA: 54s - loss: 2.22 - ETA: 54s - loss: 2.22 - ETA: 53s - loss: 2.22 - ETA: 53s - loss: 2.22 - ETA: 53s - loss: 2.22 - ETA: 52s - loss: 2.22 - ETA: 52s - loss: 2.22 - ETA: 51s - loss: 2.22 - ETA: 51s - loss: 2.23 - ETA: 50s - loss: 2.22 - ETA: 50s - loss: 2.23 - ETA: 49s - loss: 2.23 - ETA: 49s - loss: 2.23 - ETA: 49s - loss: 2.23 - ETA: 48s - loss: 2.23 - ETA: 48s - loss: 2.23 - ETA: 47s - loss: 2.23 - ETA: 47s - loss: 2.23 - ETA: 46s - loss: 2.22 - ETA: 46s - loss: 2.23 - ETA: 46s - loss: 2.23 - ETA: 45s - loss: 2.23 - ETA: 45s - loss: 2.22 - ETA: 44s - loss: 2.23 - ETA: 44s - loss: 2.23 - ETA: 43s - loss: 2.23 - ETA: 43s - loss: 2.22 - ETA: 43s - loss: 2.22 - ETA: 42s - loss: 2.22 - ETA: 42s - loss: 2.23 - ETA: 41s - loss: 2.23 - ETA: 41s - loss: 2.23 - ETA: 40s - loss: 2.23 - ETA: 40s - loss: 2.23 - ETA: 40s - loss: 2.23 - ETA: 39s - loss: 2.23 - ETA: 39s - loss: 2.23 - ETA: 38s - loss: 2.23 - ETA: 38s - loss: 2.23 - ETA: 37s - loss: 2.23 - ETA: 37s - loss: 2.22 - ETA: 36s - loss: 2.22 - ETA: 36s - loss: 2.22 - ETA: 36s - loss: 2.22 - ETA: 35s - loss: 2.2228"
     ]
    },
    {
     "name": "stdout",
     "output_type": "stream",
     "text": [
      "400/400 [==============================] - ETA: 35s - loss: 2.22 - ETA: 34s - loss: 2.22 - ETA: 34s - loss: 2.22 - ETA: 33s - loss: 2.21 - ETA: 33s - loss: 2.21 - ETA: 33s - loss: 2.21 - ETA: 32s - loss: 2.20 - ETA: 32s - loss: 2.21 - ETA: 31s - loss: 2.20 - ETA: 31s - loss: 2.20 - ETA: 30s - loss: 2.20 - ETA: 30s - loss: 2.20 - ETA: 29s - loss: 2.20 - ETA: 29s - loss: 2.20 - ETA: 29s - loss: 2.19 - ETA: 28s - loss: 2.19 - ETA: 28s - loss: 2.19 - ETA: 27s - loss: 2.19 - ETA: 27s - loss: 2.19 - ETA: 26s - loss: 2.19 - ETA: 26s - loss: 2.19 - ETA: 26s - loss: 2.19 - ETA: 25s - loss: 2.20 - ETA: 25s - loss: 2.20 - ETA: 24s - loss: 2.20 - ETA: 24s - loss: 2.20 - ETA: 23s - loss: 2.20 - ETA: 23s - loss: 2.20 - ETA: 23s - loss: 2.20 - ETA: 22s - loss: 2.20 - ETA: 22s - loss: 2.20 - ETA: 21s - loss: 2.20 - ETA: 21s - loss: 2.20 - ETA: 20s - loss: 2.20 - ETA: 20s - loss: 2.20 - ETA: 20s - loss: 2.20 - ETA: 19s - loss: 2.20 - ETA: 19s - loss: 2.20 - ETA: 18s - loss: 2.20 - ETA: 18s - loss: 2.20 - ETA: 17s - loss: 2.21 - ETA: 17s - loss: 2.21 - ETA: 16s - loss: 2.21 - ETA: 16s - loss: 2.21 - ETA: 16s - loss: 2.21 - ETA: 15s - loss: 2.21 - ETA: 15s - loss: 2.21 - ETA: 14s - loss: 2.22 - ETA: 14s - loss: 2.21 - ETA: 13s - loss: 2.22 - ETA: 13s - loss: 2.22 - ETA: 13s - loss: 2.22 - ETA: 12s - loss: 2.22 - ETA: 12s - loss: 2.22 - ETA: 11s - loss: 2.22 - ETA: 11s - loss: 2.22 - ETA: 10s - loss: 2.22 - ETA: 10s - loss: 2.21 - ETA: 10s - loss: 2.22 - ETA: 9s - loss: 2.2220 - ETA: 9s - loss: 2.222 - ETA: 8s - loss: 2.221 - ETA: 8s - loss: 2.220 - ETA: 7s - loss: 2.218 - ETA: 7s - loss: 2.222 - ETA: 6s - loss: 2.221 - ETA: 6s - loss: 2.221 - ETA: 6s - loss: 2.223 - ETA: 5s - loss: 2.220 - ETA: 5s - loss: 2.217 - ETA: 4s - loss: 2.217 - ETA: 4s - loss: 2.214 - ETA: 3s - loss: 2.214 - ETA: 3s - loss: 2.216 - ETA: 3s - loss: 2.213 - ETA: 2s - loss: 2.211 - ETA: 2s - loss: 2.216 - ETA: 1s - loss: 2.217 - ETA: 1s - loss: 2.215 - ETA: 0s - loss: 2.214 - ETA: 0s - loss: 2.213 - 235s 588ms/step - loss: 2.2113 - val_loss: 2.9830\n",
      "Epoch 6/12\n"
     ]
    },
    {
     "name": "stdout",
     "output_type": "stream",
     "text": [
      "318/400 [======================>.......] - ETA: 2:55 - loss: 1.777 - ETA: 2:56 - loss: 1.800 - ETA: 2:57 - loss: 2.394 - ETA: 2:55 - loss: 2.149 - ETA: 2:55 - loss: 1.988 - ETA: 2:53 - loss: 2.214 - ETA: 2:52 - loss: 2.257 - ETA: 2:51 - loss: 2.117 - ETA: 2:51 - loss: 2.187 - ETA: 2:50 - loss: 2.334 - ETA: 2:49 - loss: 2.285 - ETA: 2:49 - loss: 2.237 - ETA: 2:48 - loss: 2.238 - ETA: 2:48 - loss: 2.212 - ETA: 2:48 - loss: 2.172 - ETA: 2:47 - loss: 2.153 - ETA: 2:46 - loss: 2.141 - ETA: 2:46 - loss: 2.083 - ETA: 2:46 - loss: 2.181 - ETA: 2:45 - loss: 2.240 - ETA: 2:45 - loss: 2.182 - ETA: 2:44 - loss: 2.208 - ETA: 2:44 - loss: 2.247 - ETA: 2:43 - loss: 2.241 - ETA: 2:43 - loss: 2.220 - ETA: 2:42 - loss: 2.207 - ETA: 2:42 - loss: 2.277 - ETA: 2:42 - loss: 2.278 - ETA: 2:41 - loss: 2.253 - ETA: 2:40 - loss: 2.298 - ETA: 2:40 - loss: 2.315 - ETA: 2:39 - loss: 2.366 - ETA: 2:39 - loss: 2.391 - ETA: 2:39 - loss: 2.371 - ETA: 2:38 - loss: 2.348 - ETA: 2:38 - loss: 2.339 - ETA: 2:37 - loss: 2.336 - ETA: 2:37 - loss: 2.330 - ETA: 2:37 - loss: 2.299 - ETA: 2:36 - loss: 2.281 - ETA: 2:36 - loss: 2.282 - ETA: 2:35 - loss: 2.295 - ETA: 2:35 - loss: 2.293 - ETA: 2:34 - loss: 2.314 - ETA: 2:34 - loss: 2.295 - ETA: 2:33 - loss: 2.277 - ETA: 2:33 - loss: 2.317 - ETA: 2:32 - loss: 2.320 - ETA: 2:32 - loss: 2.315 - ETA: 2:31 - loss: 2.368 - ETA: 2:31 - loss: 2.390 - ETA: 2:30 - loss: 2.375 - ETA: 2:30 - loss: 2.377 - ETA: 2:30 - loss: 2.366 - ETA: 2:29 - loss: 2.360 - ETA: 2:29 - loss: 2.348 - ETA: 2:28 - loss: 2.326 - ETA: 2:28 - loss: 2.319 - ETA: 2:27 - loss: 2.348 - ETA: 2:27 - loss: 2.336 - ETA: 2:27 - loss: 2.319 - ETA: 2:26 - loss: 2.344 - ETA: 2:26 - loss: 2.358 - ETA: 2:25 - loss: 2.379 - ETA: 2:25 - loss: 2.384 - ETA: 2:24 - loss: 2.400 - ETA: 2:24 - loss: 2.417 - ETA: 2:24 - loss: 2.425 - ETA: 2:23 - loss: 2.441 - ETA: 2:23 - loss: 2.429 - ETA: 2:22 - loss: 2.425 - ETA: 2:22 - loss: 2.424 - ETA: 2:21 - loss: 2.419 - ETA: 2:21 - loss: 2.409 - ETA: 2:20 - loss: 2.403 - ETA: 2:20 - loss: 2.422 - ETA: 2:20 - loss: 2.408 - ETA: 2:19 - loss: 2.401 - ETA: 2:19 - loss: 2.393 - ETA: 2:18 - loss: 2.391 - ETA: 2:18 - loss: 2.383 - ETA: 2:17 - loss: 2.379 - ETA: 2:17 - loss: 2.369 - ETA: 2:16 - loss: 2.354 - ETA: 2:16 - loss: 2.385 - ETA: 2:16 - loss: 2.382 - ETA: 2:15 - loss: 2.367 - ETA: 2:15 - loss: 2.364 - ETA: 2:14 - loss: 2.367 - ETA: 2:14 - loss: 2.383 - ETA: 2:13 - loss: 2.408 - ETA: 2:13 - loss: 2.392 - ETA: 2:13 - loss: 2.386 - ETA: 2:12 - loss: 2.401 - ETA: 2:12 - loss: 2.396 - ETA: 2:11 - loss: 2.405 - ETA: 2:11 - loss: 2.408 - ETA: 2:10 - loss: 2.406 - ETA: 2:10 - loss: 2.415 - ETA: 2:09 - loss: 2.416 - ETA: 2:09 - loss: 2.412 - ETA: 2:09 - loss: 2.404 - ETA: 2:08 - loss: 2.407 - ETA: 2:08 - loss: 2.404 - ETA: 2:07 - loss: 2.398 - ETA: 2:07 - loss: 2.392 - ETA: 2:06 - loss: 2.409 - ETA: 2:06 - loss: 2.414 - ETA: 2:05 - loss: 2.422 - ETA: 2:05 - loss: 2.429 - ETA: 2:05 - loss: 2.436 - ETA: 2:04 - loss: 2.428 - ETA: 2:04 - loss: 2.418 - ETA: 2:03 - loss: 2.418 - ETA: 2:03 - loss: 2.412 - ETA: 2:02 - loss: 2.413 - ETA: 2:02 - loss: 2.417 - ETA: 2:02 - loss: 2.408 - ETA: 2:01 - loss: 2.409 - ETA: 2:01 - loss: 2.398 - ETA: 2:00 - loss: 2.389 - ETA: 2:00 - loss: 2.394 - ETA: 1:59 - loss: 2.400 - ETA: 1:59 - loss: 2.402 - ETA: 1:59 - loss: 2.391 - ETA: 1:58 - loss: 2.380 - ETA: 1:58 - loss: 2.371 - ETA: 1:57 - loss: 2.369 - ETA: 1:57 - loss: 2.372 - ETA: 1:56 - loss: 2.370 - ETA: 1:56 - loss: 2.376 - ETA: 1:56 - loss: 2.371 - ETA: 1:55 - loss: 2.371 - ETA: 1:55 - loss: 2.373 - ETA: 1:54 - loss: 2.373 - ETA: 1:54 - loss: 2.367 - ETA: 1:53 - loss: 2.371 - ETA: 1:53 - loss: 2.377 - ETA: 1:53 - loss: 2.372 - ETA: 1:52 - loss: 2.376 - ETA: 1:52 - loss: 2.388 - ETA: 1:51 - loss: 2.380 - ETA: 1:51 - loss: 2.393 - ETA: 1:50 - loss: 2.390 - ETA: 1:50 - loss: 2.384 - ETA: 1:49 - loss: 2.392 - ETA: 1:49 - loss: 2.387 - ETA: 1:49 - loss: 2.387 - ETA: 1:48 - loss: 2.386 - ETA: 1:48 - loss: 2.389 - ETA: 1:47 - loss: 2.385 - ETA: 1:47 - loss: 2.380 - ETA: 1:46 - loss: 2.386 - ETA: 1:46 - loss: 2.388 - ETA: 1:46 - loss: 2.381 - ETA: 1:45 - loss: 2.382 - ETA: 1:45 - loss: 2.378 - ETA: 1:44 - loss: 2.372 - ETA: 1:44 - loss: 2.377 - ETA: 1:43 - loss: 2.377 - ETA: 1:43 - loss: 2.371 - ETA: 1:42 - loss: 2.363 - ETA: 1:42 - loss: 2.360 - ETA: 1:42 - loss: 2.352 - ETA: 1:41 - loss: 2.345 - ETA: 1:41 - loss: 2.342 - ETA: 1:40 - loss: 2.352 - ETA: 1:40 - loss: 2.350 - ETA: 1:39 - loss: 2.346 - ETA: 1:39 - loss: 2.342 - ETA: 1:39 - loss: 2.337 - ETA: 1:38 - loss: 2.335 - ETA: 1:38 - loss: 2.338 - ETA: 1:37 - loss: 2.337 - ETA: 1:37 - loss: 2.336 - ETA: 1:36 - loss: 2.337 - ETA: 1:36 - loss: 2.332 - ETA: 1:36 - loss: 2.328 - ETA: 1:35 - loss: 2.325 - ETA: 1:35 - loss: 2.322 - ETA: 1:34 - loss: 2.319 - ETA: 1:34 - loss: 2.316 - ETA: 1:33 - loss: 2.329 - ETA: 1:33 - loss: 2.323 - ETA: 1:33 - loss: 2.323 - ETA: 1:32 - loss: 2.331 - ETA: 1:32 - loss: 2.324 - ETA: 1:31 - loss: 2.324 - ETA: 1:31 - loss: 2.322 - ETA: 1:30 - loss: 2.332 - ETA: 1:30 - loss: 2.330 - ETA: 1:29 - loss: 2.328 - ETA: 1:29 - loss: 2.321 - ETA: 1:29 - loss: 2.327 - ETA: 1:28 - loss: 2.326 - ETA: 1:28 - loss: 2.324 - ETA: 1:27 - loss: 2.324 - ETA: 1:27 - loss: 2.318 - ETA: 1:26 - loss: 2.316 - ETA: 1:26 - loss: 2.316 - ETA: 1:26 - loss: 2.314 - ETA: 1:25 - loss: 2.311 - ETA: 1:25 - loss: 2.305 - ETA: 1:24 - loss: 2.301 - ETA: 1:24 - loss: 2.295 - ETA: 1:23 - loss: 2.295 - ETA: 1:23 - loss: 2.296 - ETA: 1:23 - loss: 2.292 - ETA: 1:22 - loss: 2.302 - ETA: 1:22 - loss: 2.298 - ETA: 1:21 - loss: 2.294 - ETA: 1:21 - loss: 2.297 - ETA: 1:20 - loss: 2.299 - ETA: 1:20 - loss: 2.295 - ETA: 1:20 - loss: 2.293 - ETA: 1:19 - loss: 2.287 - ETA: 1:19 - loss: 2.290 - ETA: 1:18 - loss: 2.288 - ETA: 1:18 - loss: 2.298 - ETA: 1:17 - loss: 2.297 - ETA: 1:17 - loss: 2.294 - ETA: 1:16 - loss: 2.294 - ETA: 1:16 - loss: 2.295 - ETA: 1:16 - loss: 2.292 - ETA: 1:15 - loss: 2.289 - ETA: 1:15 - loss: 2.295 - ETA: 1:14 - loss: 2.291 - ETA: 1:14 - loss: 2.295 - ETA: 1:13 - loss: 2.292 - ETA: 1:13 - loss: 2.289 - ETA: 1:13 - loss: 2.294 - ETA: 1:12 - loss: 2.291 - ETA: 1:12 - loss: 2.287 - ETA: 1:11 - loss: 2.282 - ETA: 1:11 - loss: 2.286 - ETA: 1:10 - loss: 2.282 - ETA: 1:10 - loss: 2.284 - ETA: 1:10 - loss: 2.282 - ETA: 1:09 - loss: 2.280 - ETA: 1:09 - loss: 2.275 - ETA: 1:08 - loss: 2.269 - ETA: 1:08 - loss: 2.265 - ETA: 1:07 - loss: 2.274 - ETA: 1:07 - loss: 2.271 - ETA: 1:07 - loss: 2.280 - ETA: 1:06 - loss: 2.283 - ETA: 1:06 - loss: 2.288 - ETA: 1:05 - loss: 2.282 - ETA: 1:05 - loss: 2.284 - ETA: 1:04 - loss: 2.281 - ETA: 1:04 - loss: 2.279 - ETA: 1:03 - loss: 2.276 - ETA: 1:03 - loss: 2.274 - ETA: 1:03 - loss: 2.273 - ETA: 1:02 - loss: 2.273 - ETA: 1:02 - loss: 2.269 - ETA: 1:01 - loss: 2.269 - ETA: 1:01 - loss: 2.267 - ETA: 1:00 - loss: 2.266 - ETA: 1:00 - loss: 2.263 - ETA: 1:00 - loss: 2.264 - ETA: 59s - loss: 2.267 - ETA: 59s - loss: 2.26 - ETA: 58s - loss: 2.26 - ETA: 58s - loss: 2.26 - ETA: 57s - loss: 2.25 - ETA: 57s - loss: 2.25 - ETA: 57s - loss: 2.25 - ETA: 56s - loss: 2.25 - ETA: 56s - loss: 2.26 - ETA: 55s - loss: 2.25 - ETA: 55s - loss: 2.26 - ETA: 54s - loss: 2.26 - ETA: 54s - loss: 2.26 - ETA: 54s - loss: 2.27 - ETA: 53s - loss: 2.26 - ETA: 53s - loss: 2.27 - ETA: 52s - loss: 2.27 - ETA: 52s - loss: 2.27 - ETA: 51s - loss: 2.26 - ETA: 51s - loss: 2.26 - ETA: 51s - loss: 2.26 - ETA: 50s - loss: 2.26 - ETA: 50s - loss: 2.26 - ETA: 49s - loss: 2.26 - ETA: 49s - loss: 2.26 - ETA: 48s - loss: 2.27 - ETA: 48s - loss: 2.27 - ETA: 47s - loss: 2.27 - ETA: 47s - loss: 2.27 - ETA: 47s - loss: 2.27 - ETA: 46s - loss: 2.27 - ETA: 46s - loss: 2.27 - ETA: 45s - loss: 2.27 - ETA: 45s - loss: 2.27 - ETA: 44s - loss: 2.27 - ETA: 44s - loss: 2.27 - ETA: 44s - loss: 2.27 - ETA: 43s - loss: 2.27 - ETA: 43s - loss: 2.27 - ETA: 42s - loss: 2.27 - ETA: 42s - loss: 2.27 - ETA: 41s - loss: 2.27 - ETA: 41s - loss: 2.27 - ETA: 41s - loss: 2.26 - ETA: 40s - loss: 2.26 - ETA: 40s - loss: 2.26 - ETA: 39s - loss: 2.26 - ETA: 39s - loss: 2.26 - ETA: 38s - loss: 2.26 - ETA: 38s - loss: 2.26 - ETA: 38s - loss: 2.26 - ETA: 37s - loss: 2.25 - ETA: 37s - loss: 2.25 - ETA: 36s - loss: 2.25 - ETA: 36s - loss: 2.26 - ETA: 35s - loss: 2.26 - ETA: 35s - loss: 2.2640"
     ]
    },
    {
     "name": "stdout",
     "output_type": "stream",
     "text": [
      "400/400 [==============================] - ETA: 35s - loss: 2.26 - ETA: 34s - loss: 2.26 - ETA: 34s - loss: 2.26 - ETA: 33s - loss: 2.26 - ETA: 33s - loss: 2.26 - ETA: 32s - loss: 2.26 - ETA: 32s - loss: 2.25 - ETA: 31s - loss: 2.26 - ETA: 31s - loss: 2.26 - ETA: 31s - loss: 2.27 - ETA: 30s - loss: 2.27 - ETA: 30s - loss: 2.26 - ETA: 29s - loss: 2.27 - ETA: 29s - loss: 2.27 - ETA: 28s - loss: 2.27 - ETA: 28s - loss: 2.26 - ETA: 28s - loss: 2.26 - ETA: 27s - loss: 2.26 - ETA: 27s - loss: 2.26 - ETA: 26s - loss: 2.26 - ETA: 26s - loss: 2.26 - ETA: 25s - loss: 2.26 - ETA: 25s - loss: 2.26 - ETA: 25s - loss: 2.26 - ETA: 24s - loss: 2.25 - ETA: 24s - loss: 2.25 - ETA: 23s - loss: 2.25 - ETA: 23s - loss: 2.25 - ETA: 22s - loss: 2.25 - ETA: 22s - loss: 2.25 - ETA: 22s - loss: 2.25 - ETA: 21s - loss: 2.25 - ETA: 21s - loss: 2.25 - ETA: 20s - loss: 2.25 - ETA: 20s - loss: 2.25 - ETA: 19s - loss: 2.25 - ETA: 19s - loss: 2.26 - ETA: 19s - loss: 2.26 - ETA: 18s - loss: 2.25 - ETA: 18s - loss: 2.26 - ETA: 17s - loss: 2.25 - ETA: 17s - loss: 2.25 - ETA: 16s - loss: 2.26 - ETA: 16s - loss: 2.26 - ETA: 15s - loss: 2.25 - ETA: 15s - loss: 2.26 - ETA: 15s - loss: 2.26 - ETA: 14s - loss: 2.26 - ETA: 14s - loss: 2.25 - ETA: 13s - loss: 2.26 - ETA: 13s - loss: 2.26 - ETA: 12s - loss: 2.26 - ETA: 12s - loss: 2.26 - ETA: 12s - loss: 2.27 - ETA: 11s - loss: 2.27 - ETA: 11s - loss: 2.27 - ETA: 10s - loss: 2.27 - ETA: 10s - loss: 2.27 - ETA: 9s - loss: 2.2813 - ETA: 9s - loss: 2.281 - ETA: 9s - loss: 2.278 - ETA: 8s - loss: 2.282 - ETA: 8s - loss: 2.282 - ETA: 7s - loss: 2.281 - ETA: 7s - loss: 2.280 - ETA: 6s - loss: 2.281 - ETA: 6s - loss: 2.284 - ETA: 6s - loss: 2.286 - ETA: 5s - loss: 2.290 - ETA: 5s - loss: 2.290 - ETA: 4s - loss: 2.291 - ETA: 4s - loss: 2.292 - ETA: 3s - loss: 2.295 - ETA: 3s - loss: 2.299 - ETA: 3s - loss: 2.296 - ETA: 2s - loss: 2.298 - ETA: 2s - loss: 2.296 - ETA: 1s - loss: 2.294 - ETA: 1s - loss: 2.295 - ETA: 0s - loss: 2.293 - ETA: 0s - loss: 2.295 - 233s 583ms/step - loss: 2.2940 - val_loss: 2.3340\n",
      "Epoch 7/12\n"
     ]
    },
    {
     "name": "stdout",
     "output_type": "stream",
     "text": [
      "318/400 [======================>.......] - ETA: 2:53 - loss: 2.273 - ETA: 2:54 - loss: 2.799 - ETA: 2:55 - loss: 2.905 - ETA: 2:55 - loss: 2.602 - ETA: 2:53 - loss: 2.380 - ETA: 2:52 - loss: 2.231 - ETA: 2:52 - loss: 2.170 - ETA: 2:51 - loss: 2.093 - ETA: 2:50 - loss: 2.254 - ETA: 2:49 - loss: 2.154 - ETA: 2:48 - loss: 2.170 - ETA: 2:48 - loss: 2.140 - ETA: 2:47 - loss: 2.110 - ETA: 2:47 - loss: 2.106 - ETA: 2:47 - loss: 2.193 - ETA: 2:46 - loss: 2.170 - ETA: 2:46 - loss: 2.105 - ETA: 2:45 - loss: 2.129 - ETA: 2:45 - loss: 2.137 - ETA: 2:45 - loss: 2.141 - ETA: 2:45 - loss: 2.146 - ETA: 2:45 - loss: 2.142 - ETA: 2:44 - loss: 2.099 - ETA: 2:44 - loss: 2.175 - ETA: 2:43 - loss: 2.181 - ETA: 2:43 - loss: 2.146 - ETA: 2:42 - loss: 2.145 - ETA: 2:42 - loss: 2.148 - ETA: 2:41 - loss: 2.109 - ETA: 2:41 - loss: 2.106 - ETA: 2:40 - loss: 2.110 - ETA: 2:40 - loss: 2.107 - ETA: 2:39 - loss: 2.111 - ETA: 2:39 - loss: 2.098 - ETA: 2:38 - loss: 2.081 - ETA: 2:38 - loss: 2.054 - ETA: 2:37 - loss: 2.052 - ETA: 2:37 - loss: 2.042 - ETA: 2:36 - loss: 2.030 - ETA: 2:36 - loss: 2.019 - ETA: 2:36 - loss: 1.996 - ETA: 2:35 - loss: 2.040 - ETA: 2:34 - loss: 2.050 - ETA: 2:34 - loss: 2.043 - ETA: 2:34 - loss: 2.045 - ETA: 2:33 - loss: 2.039 - ETA: 2:33 - loss: 2.036 - ETA: 2:32 - loss: 2.034 - ETA: 2:32 - loss: 2.072 - ETA: 2:31 - loss: 2.065 - ETA: 2:31 - loss: 2.058 - ETA: 2:30 - loss: 2.040 - ETA: 2:30 - loss: 2.081 - ETA: 2:29 - loss: 2.078 - ETA: 2:29 - loss: 2.082 - ETA: 2:29 - loss: 2.066 - ETA: 2:28 - loss: 2.057 - ETA: 2:28 - loss: 2.057 - ETA: 2:27 - loss: 2.051 - ETA: 2:27 - loss: 2.049 - ETA: 2:27 - loss: 2.031 - ETA: 2:26 - loss: 2.037 - ETA: 2:26 - loss: 2.036 - ETA: 2:25 - loss: 2.029 - ETA: 2:25 - loss: 2.023 - ETA: 2:24 - loss: 2.010 - ETA: 2:24 - loss: 2.003 - ETA: 2:24 - loss: 2.028 - ETA: 2:23 - loss: 2.033 - ETA: 2:23 - loss: 2.056 - ETA: 2:22 - loss: 2.050 - ETA: 2:22 - loss: 2.066 - ETA: 2:21 - loss: 2.061 - ETA: 2:21 - loss: 2.064 - ETA: 2:20 - loss: 2.066 - ETA: 2:20 - loss: 2.067 - ETA: 2:20 - loss: 2.064 - ETA: 2:19 - loss: 2.056 - ETA: 2:19 - loss: 2.047 - ETA: 2:18 - loss: 2.037 - ETA: 2:18 - loss: 2.030 - ETA: 2:17 - loss: 2.023 - ETA: 2:17 - loss: 2.008 - ETA: 2:16 - loss: 2.006 - ETA: 2:16 - loss: 2.002 - ETA: 2:16 - loss: 2.010 - ETA: 2:15 - loss: 2.003 - ETA: 2:15 - loss: 2.002 - ETA: 2:14 - loss: 1.995 - ETA: 2:14 - loss: 2.006 - ETA: 2:13 - loss: 1.995 - ETA: 2:13 - loss: 2.002 - ETA: 2:12 - loss: 1.995 - ETA: 2:12 - loss: 1.984 - ETA: 2:12 - loss: 1.980 - ETA: 2:11 - loss: 1.981 - ETA: 2:11 - loss: 1.985 - ETA: 2:10 - loss: 2.003 - ETA: 2:10 - loss: 1.998 - ETA: 2:09 - loss: 2.016 - ETA: 2:09 - loss: 2.021 - ETA: 2:09 - loss: 2.022 - ETA: 2:08 - loss: 2.031 - ETA: 2:08 - loss: 2.045 - ETA: 2:07 - loss: 2.054 - ETA: 2:07 - loss: 2.050 - ETA: 2:06 - loss: 2.062 - ETA: 2:06 - loss: 2.060 - ETA: 2:05 - loss: 2.058 - ETA: 2:05 - loss: 2.054 - ETA: 2:05 - loss: 2.051 - ETA: 2:04 - loss: 2.060 - ETA: 2:04 - loss: 2.086 - ETA: 2:03 - loss: 2.083 - ETA: 2:03 - loss: 2.082 - ETA: 2:02 - loss: 2.080 - ETA: 2:02 - loss: 2.092 - ETA: 2:02 - loss: 2.092 - ETA: 2:01 - loss: 2.094 - ETA: 2:01 - loss: 2.091 - ETA: 2:00 - loss: 2.086 - ETA: 2:00 - loss: 2.102 - ETA: 1:59 - loss: 2.123 - ETA: 1:59 - loss: 2.116 - ETA: 1:59 - loss: 2.108 - ETA: 1:58 - loss: 2.102 - ETA: 1:58 - loss: 2.098 - ETA: 1:57 - loss: 2.098 - ETA: 1:57 - loss: 2.090 - ETA: 1:56 - loss: 2.101 - ETA: 1:56 - loss: 2.098 - ETA: 1:56 - loss: 2.099 - ETA: 1:55 - loss: 2.099 - ETA: 1:55 - loss: 2.095 - ETA: 1:54 - loss: 2.110 - ETA: 1:54 - loss: 2.122 - ETA: 1:53 - loss: 2.124 - ETA: 1:53 - loss: 2.137 - ETA: 1:52 - loss: 2.135 - ETA: 1:52 - loss: 2.133 - ETA: 1:52 - loss: 2.129 - ETA: 1:51 - loss: 2.132 - ETA: 1:51 - loss: 2.141 - ETA: 1:50 - loss: 2.136 - ETA: 1:50 - loss: 2.133 - ETA: 1:49 - loss: 2.132 - ETA: 1:49 - loss: 2.130 - ETA: 1:49 - loss: 2.129 - ETA: 1:48 - loss: 2.125 - ETA: 1:48 - loss: 2.129 - ETA: 1:47 - loss: 2.125 - ETA: 1:47 - loss: 2.135 - ETA: 1:46 - loss: 2.144 - ETA: 1:46 - loss: 2.145 - ETA: 1:46 - loss: 2.149 - ETA: 1:45 - loss: 2.144 - ETA: 1:45 - loss: 2.146 - ETA: 1:44 - loss: 2.162 - ETA: 1:44 - loss: 2.161 - ETA: 1:43 - loss: 2.164 - ETA: 1:43 - loss: 2.166 - ETA: 1:42 - loss: 2.170 - ETA: 1:42 - loss: 2.169 - ETA: 1:42 - loss: 2.169 - ETA: 1:41 - loss: 2.163 - ETA: 1:41 - loss: 2.159 - ETA: 1:40 - loss: 2.164 - ETA: 1:40 - loss: 2.164 - ETA: 1:39 - loss: 2.157 - ETA: 1:39 - loss: 2.160 - ETA: 1:39 - loss: 2.172 - ETA: 1:38 - loss: 2.168 - ETA: 1:38 - loss: 2.165 - ETA: 1:37 - loss: 2.161 - ETA: 1:37 - loss: 2.168 - ETA: 1:36 - loss: 2.166 - ETA: 1:36 - loss: 2.168 - ETA: 1:36 - loss: 2.165 - ETA: 1:35 - loss: 2.167 - ETA: 1:35 - loss: 2.168 - ETA: 1:34 - loss: 2.165 - ETA: 1:34 - loss: 2.167 - ETA: 1:33 - loss: 2.172 - ETA: 1:33 - loss: 2.171 - ETA: 1:33 - loss: 2.167 - ETA: 1:32 - loss: 2.164 - ETA: 1:32 - loss: 2.164 - ETA: 1:31 - loss: 2.161 - ETA: 1:31 - loss: 2.170 - ETA: 1:30 - loss: 2.174 - ETA: 1:30 - loss: 2.172 - ETA: 1:30 - loss: 2.168 - ETA: 1:29 - loss: 2.171 - ETA: 1:29 - loss: 2.174 - ETA: 1:28 - loss: 2.171 - ETA: 1:28 - loss: 2.180 - ETA: 1:27 - loss: 2.176 - ETA: 1:27 - loss: 2.173 - ETA: 1:26 - loss: 2.172 - ETA: 1:26 - loss: 2.169 - ETA: 1:26 - loss: 2.166 - ETA: 1:25 - loss: 2.166 - ETA: 1:25 - loss: 2.162 - ETA: 1:24 - loss: 2.158 - ETA: 1:24 - loss: 2.161 - ETA: 1:23 - loss: 2.157 - ETA: 1:23 - loss: 2.156 - ETA: 1:23 - loss: 2.154 - ETA: 1:22 - loss: 2.155 - ETA: 1:22 - loss: 2.162 - ETA: 1:21 - loss: 2.161 - ETA: 1:21 - loss: 2.159 - ETA: 1:20 - loss: 2.154 - ETA: 1:20 - loss: 2.149 - ETA: 1:20 - loss: 2.153 - ETA: 1:19 - loss: 2.148 - ETA: 1:19 - loss: 2.146 - ETA: 1:18 - loss: 2.143 - ETA: 1:18 - loss: 2.143 - ETA: 1:17 - loss: 2.151 - ETA: 1:17 - loss: 2.151 - ETA: 1:16 - loss: 2.159 - ETA: 1:16 - loss: 2.161 - ETA: 1:16 - loss: 2.158 - ETA: 1:15 - loss: 2.161 - ETA: 1:15 - loss: 2.159 - ETA: 1:14 - loss: 2.157 - ETA: 1:14 - loss: 2.152 - ETA: 1:13 - loss: 2.150 - ETA: 1:13 - loss: 2.147 - ETA: 1:13 - loss: 2.145 - ETA: 1:12 - loss: 2.140 - ETA: 1:12 - loss: 2.151 - ETA: 1:11 - loss: 2.148 - ETA: 1:11 - loss: 2.144 - ETA: 1:10 - loss: 2.145 - ETA: 1:10 - loss: 2.148 - ETA: 1:10 - loss: 2.153 - ETA: 1:09 - loss: 2.150 - ETA: 1:09 - loss: 2.148 - ETA: 1:08 - loss: 2.146 - ETA: 1:08 - loss: 2.143 - ETA: 1:07 - loss: 2.141 - ETA: 1:07 - loss: 2.145 - ETA: 1:07 - loss: 2.142 - ETA: 1:06 - loss: 2.151 - ETA: 1:06 - loss: 2.152 - ETA: 1:05 - loss: 2.149 - ETA: 1:05 - loss: 2.147 - ETA: 1:04 - loss: 2.145 - ETA: 1:04 - loss: 2.142 - ETA: 1:04 - loss: 2.149 - ETA: 1:03 - loss: 2.146 - ETA: 1:03 - loss: 2.145 - ETA: 1:02 - loss: 2.148 - ETA: 1:02 - loss: 2.147 - ETA: 1:01 - loss: 2.147 - ETA: 1:01 - loss: 2.143 - ETA: 1:00 - loss: 2.141 - ETA: 1:00 - loss: 2.139 - ETA: 1:00 - loss: 2.150 - ETA: 59s - loss: 2.155 - ETA: 59s - loss: 2.15 - ETA: 58s - loss: 2.15 - ETA: 58s - loss: 2.15 - ETA: 57s - loss: 2.15 - ETA: 57s - loss: 2.14 - ETA: 57s - loss: 2.14 - ETA: 56s - loss: 2.14 - ETA: 56s - loss: 2.14 - ETA: 55s - loss: 2.14 - ETA: 55s - loss: 2.14 - ETA: 54s - loss: 2.14 - ETA: 54s - loss: 2.14 - ETA: 54s - loss: 2.14 - ETA: 53s - loss: 2.14 - ETA: 53s - loss: 2.14 - ETA: 52s - loss: 2.14 - ETA: 52s - loss: 2.13 - ETA: 51s - loss: 2.13 - ETA: 51s - loss: 2.13 - ETA: 51s - loss: 2.13 - ETA: 50s - loss: 2.13 - ETA: 50s - loss: 2.13 - ETA: 49s - loss: 2.12 - ETA: 49s - loss: 2.12 - ETA: 48s - loss: 2.12 - ETA: 48s - loss: 2.12 - ETA: 47s - loss: 2.12 - ETA: 47s - loss: 2.12 - ETA: 47s - loss: 2.12 - ETA: 46s - loss: 2.12 - ETA: 46s - loss: 2.12 - ETA: 45s - loss: 2.12 - ETA: 45s - loss: 2.12 - ETA: 44s - loss: 2.12 - ETA: 44s - loss: 2.12 - ETA: 44s - loss: 2.13 - ETA: 43s - loss: 2.12 - ETA: 43s - loss: 2.13 - ETA: 42s - loss: 2.13 - ETA: 42s - loss: 2.14 - ETA: 41s - loss: 2.14 - ETA: 41s - loss: 2.14 - ETA: 41s - loss: 2.14 - ETA: 40s - loss: 2.14 - ETA: 40s - loss: 2.14 - ETA: 39s - loss: 2.14 - ETA: 39s - loss: 2.14 - ETA: 38s - loss: 2.14 - ETA: 38s - loss: 2.14 - ETA: 38s - loss: 2.14 - ETA: 37s - loss: 2.15 - ETA: 37s - loss: 2.15 - ETA: 36s - loss: 2.15 - ETA: 36s - loss: 2.15 - ETA: 35s - loss: 2.15 - ETA: 35s - loss: 2.1624"
     ]
    },
    {
     "name": "stdout",
     "output_type": "stream",
     "text": [
      "400/400 [==============================] - ETA: 35s - loss: 2.15 - ETA: 34s - loss: 2.15 - ETA: 34s - loss: 2.16 - ETA: 33s - loss: 2.16 - ETA: 33s - loss: 2.16 - ETA: 32s - loss: 2.17 - ETA: 32s - loss: 2.17 - ETA: 32s - loss: 2.17 - ETA: 31s - loss: 2.17 - ETA: 31s - loss: 2.17 - ETA: 30s - loss: 2.17 - ETA: 30s - loss: 2.17 - ETA: 29s - loss: 2.17 - ETA: 29s - loss: 2.17 - ETA: 28s - loss: 2.17 - ETA: 28s - loss: 2.17 - ETA: 28s - loss: 2.17 - ETA: 27s - loss: 2.17 - ETA: 27s - loss: 2.17 - ETA: 26s - loss: 2.17 - ETA: 26s - loss: 2.17 - ETA: 25s - loss: 2.17 - ETA: 25s - loss: 2.17 - ETA: 25s - loss: 2.17 - ETA: 24s - loss: 2.17 - ETA: 24s - loss: 2.17 - ETA: 23s - loss: 2.17 - ETA: 23s - loss: 2.17 - ETA: 22s - loss: 2.17 - ETA: 22s - loss: 2.17 - ETA: 22s - loss: 2.17 - ETA: 21s - loss: 2.17 - ETA: 21s - loss: 2.17 - ETA: 20s - loss: 2.17 - ETA: 20s - loss: 2.17 - ETA: 19s - loss: 2.18 - ETA: 19s - loss: 2.17 - ETA: 19s - loss: 2.18 - ETA: 18s - loss: 2.17 - ETA: 18s - loss: 2.17 - ETA: 17s - loss: 2.17 - ETA: 17s - loss: 2.17 - ETA: 16s - loss: 2.17 - ETA: 16s - loss: 2.17 - ETA: 16s - loss: 2.17 - ETA: 15s - loss: 2.16 - ETA: 15s - loss: 2.16 - ETA: 14s - loss: 2.16 - ETA: 14s - loss: 2.16 - ETA: 13s - loss: 2.16 - ETA: 13s - loss: 2.16 - ETA: 12s - loss: 2.16 - ETA: 12s - loss: 2.16 - ETA: 12s - loss: 2.16 - ETA: 11s - loss: 2.16 - ETA: 11s - loss: 2.17 - ETA: 10s - loss: 2.17 - ETA: 10s - loss: 2.17 - ETA: 9s - loss: 2.1788 - ETA: 9s - loss: 2.176 - ETA: 9s - loss: 2.179 - ETA: 8s - loss: 2.176 - ETA: 8s - loss: 2.174 - ETA: 7s - loss: 2.173 - ETA: 7s - loss: 2.171 - ETA: 6s - loss: 2.173 - ETA: 6s - loss: 2.175 - ETA: 6s - loss: 2.174 - ETA: 5s - loss: 2.172 - ETA: 5s - loss: 2.171 - ETA: 4s - loss: 2.169 - ETA: 4s - loss: 2.174 - ETA: 3s - loss: 2.175 - ETA: 3s - loss: 2.176 - ETA: 3s - loss: 2.177 - ETA: 2s - loss: 2.181 - ETA: 2s - loss: 2.179 - ETA: 1s - loss: 2.177 - ETA: 1s - loss: 2.176 - ETA: 0s - loss: 2.176 - ETA: 0s - loss: 2.178 - 233s 583ms/step - loss: 2.1776 - val_loss: 2.5142\n",
      "Epoch 8/12\n"
     ]
    },
    {
     "name": "stdout",
     "output_type": "stream",
     "text": [
      "318/400 [======================>.......] - ETA: 2:57 - loss: 1.341 - ETA: 2:58 - loss: 1.387 - ETA: 2:56 - loss: 1.329 - ETA: 2:57 - loss: 1.686 - ETA: 2:55 - loss: 1.976 - ETA: 2:54 - loss: 2.150 - ETA: 2:52 - loss: 2.247 - ETA: 2:52 - loss: 2.411 - ETA: 2:51 - loss: 2.337 - ETA: 2:50 - loss: 2.258 - ETA: 2:50 - loss: 2.371 - ETA: 2:49 - loss: 2.424 - ETA: 2:48 - loss: 2.334 - ETA: 2:48 - loss: 2.344 - ETA: 2:47 - loss: 2.328 - ETA: 2:47 - loss: 2.372 - ETA: 2:46 - loss: 2.317 - ETA: 2:46 - loss: 2.281 - ETA: 2:45 - loss: 2.334 - ETA: 2:45 - loss: 2.304 - ETA: 2:45 - loss: 2.308 - ETA: 2:44 - loss: 2.347 - ETA: 2:44 - loss: 2.299 - ETA: 2:43 - loss: 2.330 - ETA: 2:43 - loss: 2.368 - ETA: 2:42 - loss: 2.333 - ETA: 2:42 - loss: 2.356 - ETA: 2:41 - loss: 2.366 - ETA: 2:41 - loss: 2.373 - ETA: 2:41 - loss: 2.340 - ETA: 2:40 - loss: 2.318 - ETA: 2:39 - loss: 2.330 - ETA: 2:39 - loss: 2.297 - ETA: 2:39 - loss: 2.304 - ETA: 2:38 - loss: 2.298 - ETA: 2:38 - loss: 2.339 - ETA: 2:37 - loss: 2.346 - ETA: 2:37 - loss: 2.324 - ETA: 2:36 - loss: 2.290 - ETA: 2:36 - loss: 2.271 - ETA: 2:36 - loss: 2.280 - ETA: 2:35 - loss: 2.272 - ETA: 2:35 - loss: 2.257 - ETA: 2:34 - loss: 2.303 - ETA: 2:34 - loss: 2.338 - ETA: 2:33 - loss: 2.319 - ETA: 2:33 - loss: 2.332 - ETA: 2:32 - loss: 2.362 - ETA: 2:32 - loss: 2.335 - ETA: 2:32 - loss: 2.354 - ETA: 2:31 - loss: 2.351 - ETA: 2:31 - loss: 2.377 - ETA: 2:30 - loss: 2.406 - ETA: 2:30 - loss: 2.381 - ETA: 2:29 - loss: 2.368 - ETA: 2:29 - loss: 2.389 - ETA: 2:28 - loss: 2.398 - ETA: 2:28 - loss: 2.381 - ETA: 2:28 - loss: 2.374 - ETA: 2:27 - loss: 2.367 - ETA: 2:27 - loss: 2.364 - ETA: 2:26 - loss: 2.369 - ETA: 2:26 - loss: 2.387 - ETA: 2:25 - loss: 2.377 - ETA: 2:25 - loss: 2.377 - ETA: 2:25 - loss: 2.398 - ETA: 2:24 - loss: 2.385 - ETA: 2:24 - loss: 2.392 - ETA: 2:23 - loss: 2.372 - ETA: 2:23 - loss: 2.353 - ETA: 2:22 - loss: 2.349 - ETA: 2:22 - loss: 2.343 - ETA: 2:21 - loss: 2.350 - ETA: 2:21 - loss: 2.331 - ETA: 2:21 - loss: 2.351 - ETA: 2:20 - loss: 2.343 - ETA: 2:20 - loss: 2.330 - ETA: 2:19 - loss: 2.337 - ETA: 2:19 - loss: 2.339 - ETA: 2:18 - loss: 2.321 - ETA: 2:18 - loss: 2.327 - ETA: 2:17 - loss: 2.329 - ETA: 2:17 - loss: 2.325 - ETA: 2:17 - loss: 2.310 - ETA: 2:16 - loss: 2.321 - ETA: 2:16 - loss: 2.314 - ETA: 2:15 - loss: 2.341 - ETA: 2:15 - loss: 2.329 - ETA: 2:14 - loss: 2.344 - ETA: 2:14 - loss: 2.333 - ETA: 2:13 - loss: 2.338 - ETA: 2:13 - loss: 2.343 - ETA: 2:13 - loss: 2.348 - ETA: 2:12 - loss: 2.343 - ETA: 2:12 - loss: 2.348 - ETA: 2:11 - loss: 2.340 - ETA: 2:11 - loss: 2.352 - ETA: 2:10 - loss: 2.345 - ETA: 2:10 - loss: 2.349 - ETA: 2:10 - loss: 2.353 - ETA: 2:09 - loss: 2.357 - ETA: 2:09 - loss: 2.376 - ETA: 2:08 - loss: 2.369 - ETA: 2:08 - loss: 2.370 - ETA: 2:07 - loss: 2.366 - ETA: 2:07 - loss: 2.358 - ETA: 2:06 - loss: 2.352 - ETA: 2:06 - loss: 2.347 - ETA: 2:06 - loss: 2.345 - ETA: 2:05 - loss: 2.349 - ETA: 2:05 - loss: 2.353 - ETA: 2:04 - loss: 2.361 - ETA: 2:04 - loss: 2.347 - ETA: 2:03 - loss: 2.335 - ETA: 2:03 - loss: 2.351 - ETA: 2:03 - loss: 2.344 - ETA: 2:02 - loss: 2.337 - ETA: 2:02 - loss: 2.353 - ETA: 2:01 - loss: 2.343 - ETA: 2:01 - loss: 2.342 - ETA: 2:00 - loss: 2.341 - ETA: 2:00 - loss: 2.337 - ETA: 2:00 - loss: 2.334 - ETA: 1:59 - loss: 2.338 - ETA: 1:59 - loss: 2.341 - ETA: 1:58 - loss: 2.333 - ETA: 1:58 - loss: 2.346 - ETA: 1:57 - loss: 2.343 - ETA: 1:57 - loss: 2.341 - ETA: 1:57 - loss: 2.336 - ETA: 1:56 - loss: 2.330 - ETA: 1:56 - loss: 2.334 - ETA: 1:55 - loss: 2.330 - ETA: 1:55 - loss: 2.325 - ETA: 1:54 - loss: 2.333 - ETA: 1:54 - loss: 2.327 - ETA: 1:53 - loss: 2.319 - ETA: 1:53 - loss: 2.309 - ETA: 1:53 - loss: 2.300 - ETA: 1:52 - loss: 2.302 - ETA: 1:52 - loss: 2.298 - ETA: 1:51 - loss: 2.297 - ETA: 1:51 - loss: 2.303 - ETA: 1:50 - loss: 2.308 - ETA: 1:50 - loss: 2.300 - ETA: 1:50 - loss: 2.305 - ETA: 1:49 - loss: 2.301 - ETA: 1:49 - loss: 2.296 - ETA: 1:48 - loss: 2.297 - ETA: 1:48 - loss: 2.299 - ETA: 1:47 - loss: 2.294 - ETA: 1:47 - loss: 2.293 - ETA: 1:47 - loss: 2.289 - ETA: 1:46 - loss: 2.285 - ETA: 1:46 - loss: 2.280 - ETA: 1:45 - loss: 2.273 - ETA: 1:45 - loss: 2.281 - ETA: 1:44 - loss: 2.284 - ETA: 1:44 - loss: 2.284 - ETA: 1:43 - loss: 2.286 - ETA: 1:43 - loss: 2.287 - ETA: 1:43 - loss: 2.283 - ETA: 1:42 - loss: 2.281 - ETA: 1:42 - loss: 2.282 - ETA: 1:41 - loss: 2.283 - ETA: 1:41 - loss: 2.283 - ETA: 1:40 - loss: 2.275 - ETA: 1:40 - loss: 2.271 - ETA: 1:40 - loss: 2.268 - ETA: 1:39 - loss: 2.280 - ETA: 1:39 - loss: 2.294 - ETA: 1:38 - loss: 2.287 - ETA: 1:38 - loss: 2.288 - ETA: 1:37 - loss: 2.286 - ETA: 1:37 - loss: 2.283 - ETA: 1:37 - loss: 2.282 - ETA: 1:36 - loss: 2.292 - ETA: 1:36 - loss: 2.295 - ETA: 1:35 - loss: 2.294 - ETA: 1:35 - loss: 2.291 - ETA: 1:34 - loss: 2.294 - ETA: 1:34 - loss: 2.295 - ETA: 1:34 - loss: 2.292 - ETA: 1:33 - loss: 2.290 - ETA: 1:33 - loss: 2.287 - ETA: 1:32 - loss: 2.289 - ETA: 1:32 - loss: 2.291 - ETA: 1:31 - loss: 2.301 - ETA: 1:31 - loss: 2.301 - ETA: 1:30 - loss: 2.301 - ETA: 1:30 - loss: 2.295 - ETA: 1:30 - loss: 2.289 - ETA: 1:29 - loss: 2.285 - ETA: 1:29 - loss: 2.284 - ETA: 1:28 - loss: 2.285 - ETA: 1:28 - loss: 2.290 - ETA: 1:27 - loss: 2.294 - ETA: 1:27 - loss: 2.291 - ETA: 1:27 - loss: 2.289 - ETA: 1:26 - loss: 2.292 - ETA: 1:26 - loss: 2.288 - ETA: 1:25 - loss: 2.287 - ETA: 1:25 - loss: 2.291 - ETA: 1:24 - loss: 2.288 - ETA: 1:24 - loss: 2.296 - ETA: 1:24 - loss: 2.308 - ETA: 1:23 - loss: 2.303 - ETA: 1:23 - loss: 2.308 - ETA: 1:22 - loss: 2.304 - ETA: 1:22 - loss: 2.300 - ETA: 1:21 - loss: 2.294 - ETA: 1:21 - loss: 2.293 - ETA: 1:20 - loss: 2.287 - ETA: 1:20 - loss: 2.281 - ETA: 1:20 - loss: 2.285 - ETA: 1:19 - loss: 2.280 - ETA: 1:19 - loss: 2.295 - ETA: 1:18 - loss: 2.296 - ETA: 1:18 - loss: 2.306 - ETA: 1:17 - loss: 2.307 - ETA: 1:17 - loss: 2.307 - ETA: 1:17 - loss: 2.301 - ETA: 1:16 - loss: 2.303 - ETA: 1:16 - loss: 2.312 - ETA: 1:15 - loss: 2.307 - ETA: 1:15 - loss: 2.303 - ETA: 1:14 - loss: 2.310 - ETA: 1:14 - loss: 2.317 - ETA: 1:14 - loss: 2.315 - ETA: 1:13 - loss: 2.316 - ETA: 1:13 - loss: 2.317 - ETA: 1:12 - loss: 2.315 - ETA: 1:12 - loss: 2.315 - ETA: 1:11 - loss: 2.313 - ETA: 1:11 - loss: 2.314 - ETA: 1:10 - loss: 2.312 - ETA: 1:10 - loss: 2.310 - ETA: 1:10 - loss: 2.308 - ETA: 1:09 - loss: 2.306 - ETA: 1:09 - loss: 2.303 - ETA: 1:08 - loss: 2.300 - ETA: 1:08 - loss: 2.298 - ETA: 1:07 - loss: 2.300 - ETA: 1:07 - loss: 2.299 - ETA: 1:07 - loss: 2.295 - ETA: 1:06 - loss: 2.296 - ETA: 1:06 - loss: 2.296 - ETA: 1:05 - loss: 2.292 - ETA: 1:05 - loss: 2.290 - ETA: 1:04 - loss: 2.289 - ETA: 1:04 - loss: 2.296 - ETA: 1:04 - loss: 2.296 - ETA: 1:03 - loss: 2.296 - ETA: 1:03 - loss: 2.302 - ETA: 1:02 - loss: 2.302 - ETA: 1:02 - loss: 2.310 - ETA: 1:01 - loss: 2.315 - ETA: 1:01 - loss: 2.312 - ETA: 1:01 - loss: 2.312 - ETA: 1:00 - loss: 2.311 - ETA: 1:00 - loss: 2.308 - ETA: 59s - loss: 2.306 - ETA: 59s - loss: 2.30 - ETA: 58s - loss: 2.30 - ETA: 58s - loss: 2.30 - ETA: 58s - loss: 2.30 - ETA: 57s - loss: 2.29 - ETA: 57s - loss: 2.29 - ETA: 56s - loss: 2.29 - ETA: 56s - loss: 2.29 - ETA: 55s - loss: 2.30 - ETA: 55s - loss: 2.29 - ETA: 54s - loss: 2.29 - ETA: 54s - loss: 2.29 - ETA: 54s - loss: 2.29 - ETA: 53s - loss: 2.28 - ETA: 53s - loss: 2.28 - ETA: 52s - loss: 2.29 - ETA: 52s - loss: 2.29 - ETA: 51s - loss: 2.29 - ETA: 51s - loss: 2.29 - ETA: 51s - loss: 2.30 - ETA: 50s - loss: 2.31 - ETA: 50s - loss: 2.31 - ETA: 49s - loss: 2.31 - ETA: 49s - loss: 2.32 - ETA: 48s - loss: 2.31 - ETA: 48s - loss: 2.31 - ETA: 48s - loss: 2.31 - ETA: 47s - loss: 2.31 - ETA: 47s - loss: 2.31 - ETA: 46s - loss: 2.31 - ETA: 46s - loss: 2.31 - ETA: 45s - loss: 2.31 - ETA: 45s - loss: 2.31 - ETA: 45s - loss: 2.31 - ETA: 44s - loss: 2.31 - ETA: 44s - loss: 2.31 - ETA: 43s - loss: 2.31 - ETA: 43s - loss: 2.31 - ETA: 42s - loss: 2.31 - ETA: 42s - loss: 2.30 - ETA: 41s - loss: 2.31 - ETA: 41s - loss: 2.31 - ETA: 41s - loss: 2.31 - ETA: 40s - loss: 2.31 - ETA: 40s - loss: 2.31 - ETA: 39s - loss: 2.31 - ETA: 39s - loss: 2.31 - ETA: 38s - loss: 2.31 - ETA: 38s - loss: 2.31 - ETA: 38s - loss: 2.30 - ETA: 37s - loss: 2.30 - ETA: 37s - loss: 2.30 - ETA: 36s - loss: 2.30 - ETA: 36s - loss: 2.31 - ETA: 35s - loss: 2.30 - ETA: 35s - loss: 2.3112"
     ]
    },
    {
     "name": "stdout",
     "output_type": "stream",
     "text": [
      "400/400 [==============================] - ETA: 35s - loss: 2.30 - ETA: 34s - loss: 2.31 - ETA: 34s - loss: 2.31 - ETA: 33s - loss: 2.31 - ETA: 33s - loss: 2.31 - ETA: 32s - loss: 2.31 - ETA: 32s - loss: 2.31 - ETA: 32s - loss: 2.31 - ETA: 31s - loss: 2.31 - ETA: 31s - loss: 2.31 - ETA: 30s - loss: 2.31 - ETA: 30s - loss: 2.31 - ETA: 29s - loss: 2.31 - ETA: 29s - loss: 2.30 - ETA: 28s - loss: 2.30 - ETA: 28s - loss: 2.30 - ETA: 28s - loss: 2.30 - ETA: 27s - loss: 2.30 - ETA: 27s - loss: 2.30 - ETA: 26s - loss: 2.30 - ETA: 26s - loss: 2.30 - ETA: 25s - loss: 2.29 - ETA: 25s - loss: 2.29 - ETA: 25s - loss: 2.29 - ETA: 24s - loss: 2.29 - ETA: 24s - loss: 2.29 - ETA: 23s - loss: 2.29 - ETA: 23s - loss: 2.29 - ETA: 22s - loss: 2.28 - ETA: 22s - loss: 2.28 - ETA: 22s - loss: 2.29 - ETA: 21s - loss: 2.29 - ETA: 21s - loss: 2.30 - ETA: 20s - loss: 2.30 - ETA: 20s - loss: 2.31 - ETA: 19s - loss: 2.30 - ETA: 19s - loss: 2.30 - ETA: 19s - loss: 2.30 - ETA: 18s - loss: 2.30 - ETA: 18s - loss: 2.30 - ETA: 17s - loss: 2.30 - ETA: 17s - loss: 2.30 - ETA: 16s - loss: 2.30 - ETA: 16s - loss: 2.29 - ETA: 16s - loss: 2.30 - ETA: 15s - loss: 2.30 - ETA: 15s - loss: 2.29 - ETA: 14s - loss: 2.29 - ETA: 14s - loss: 2.30 - ETA: 13s - loss: 2.29 - ETA: 13s - loss: 2.30 - ETA: 12s - loss: 2.29 - ETA: 12s - loss: 2.29 - ETA: 12s - loss: 2.29 - ETA: 11s - loss: 2.29 - ETA: 11s - loss: 2.29 - ETA: 10s - loss: 2.29 - ETA: 10s - loss: 2.29 - ETA: 9s - loss: 2.2958 - ETA: 9s - loss: 2.295 - ETA: 9s - loss: 2.292 - ETA: 8s - loss: 2.294 - ETA: 8s - loss: 2.300 - ETA: 7s - loss: 2.297 - ETA: 7s - loss: 2.297 - ETA: 6s - loss: 2.297 - ETA: 6s - loss: 2.297 - ETA: 6s - loss: 2.297 - ETA: 5s - loss: 2.295 - ETA: 5s - loss: 2.297 - ETA: 4s - loss: 2.296 - ETA: 4s - loss: 2.294 - ETA: 3s - loss: 2.292 - ETA: 3s - loss: 2.297 - ETA: 3s - loss: 2.297 - ETA: 2s - loss: 2.300 - ETA: 2s - loss: 2.304 - ETA: 1s - loss: 2.307 - ETA: 1s - loss: 2.305 - ETA: 0s - loss: 2.304 - ETA: 0s - loss: 2.304 - 233s 583ms/step - loss: 2.3031 - val_loss: 3.5124\n",
      "Epoch 9/12\n"
     ]
    },
    {
     "name": "stdout",
     "output_type": "stream",
     "text": [
      "318/400 [======================>.......] - ETA: 2:59 - loss: 3.948 - ETA: 3:00 - loss: 3.353 - ETA: 2:58 - loss: 3.286 - ETA: 2:58 - loss: 2.892 - ETA: 2:57 - loss: 3.028 - ETA: 2:55 - loss: 2.867 - ETA: 2:55 - loss: 2.627 - ETA: 2:54 - loss: 2.502 - ETA: 2:52 - loss: 2.520 - ETA: 2:51 - loss: 2.419 - ETA: 2:50 - loss: 2.382 - ETA: 2:50 - loss: 2.330 - ETA: 2:49 - loss: 2.257 - ETA: 2:49 - loss: 2.181 - ETA: 2:48 - loss: 2.100 - ETA: 2:47 - loss: 2.037 - ETA: 2:47 - loss: 2.083 - ETA: 2:46 - loss: 2.112 - ETA: 2:46 - loss: 2.127 - ETA: 2:45 - loss: 2.146 - ETA: 2:45 - loss: 2.156 - ETA: 2:45 - loss: 2.183 - ETA: 2:44 - loss: 2.123 - ETA: 2:44 - loss: 2.084 - ETA: 2:43 - loss: 2.173 - ETA: 2:42 - loss: 2.158 - ETA: 2:42 - loss: 2.145 - ETA: 2:42 - loss: 2.134 - ETA: 2:41 - loss: 2.161 - ETA: 2:41 - loss: 2.184 - ETA: 2:40 - loss: 2.199 - ETA: 2:40 - loss: 2.202 - ETA: 2:39 - loss: 2.190 - ETA: 2:39 - loss: 2.251 - ETA: 2:38 - loss: 2.224 - ETA: 2:38 - loss: 2.241 - ETA: 2:37 - loss: 2.225 - ETA: 2:37 - loss: 2.214 - ETA: 2:36 - loss: 2.249 - ETA: 2:36 - loss: 2.229 - ETA: 2:36 - loss: 2.207 - ETA: 2:35 - loss: 2.189 - ETA: 2:34 - loss: 2.181 - ETA: 2:34 - loss: 2.154 - ETA: 2:34 - loss: 2.170 - ETA: 2:33 - loss: 2.172 - ETA: 2:33 - loss: 2.157 - ETA: 2:32 - loss: 2.134 - ETA: 2:32 - loss: 2.139 - ETA: 2:31 - loss: 2.143 - ETA: 2:31 - loss: 2.154 - ETA: 2:30 - loss: 2.146 - ETA: 2:30 - loss: 2.135 - ETA: 2:30 - loss: 2.123 - ETA: 2:29 - loss: 2.129 - ETA: 2:29 - loss: 2.116 - ETA: 2:28 - loss: 2.110 - ETA: 2:28 - loss: 2.126 - ETA: 2:28 - loss: 2.117 - ETA: 2:27 - loss: 2.108 - ETA: 2:27 - loss: 2.120 - ETA: 2:26 - loss: 2.153 - ETA: 2:26 - loss: 2.139 - ETA: 2:25 - loss: 2.130 - ETA: 2:25 - loss: 2.142 - ETA: 2:24 - loss: 2.172 - ETA: 2:24 - loss: 2.167 - ETA: 2:24 - loss: 2.160 - ETA: 2:23 - loss: 2.151 - ETA: 2:23 - loss: 2.145 - ETA: 2:22 - loss: 2.138 - ETA: 2:22 - loss: 2.134 - ETA: 2:22 - loss: 2.170 - ETA: 2:21 - loss: 2.161 - ETA: 2:21 - loss: 2.149 - ETA: 2:20 - loss: 2.176 - ETA: 2:20 - loss: 2.211 - ETA: 2:19 - loss: 2.197 - ETA: 2:19 - loss: 2.183 - ETA: 2:18 - loss: 2.188 - ETA: 2:18 - loss: 2.197 - ETA: 2:18 - loss: 2.196 - ETA: 2:17 - loss: 2.218 - ETA: 2:17 - loss: 2.209 - ETA: 2:16 - loss: 2.204 - ETA: 2:16 - loss: 2.195 - ETA: 2:15 - loss: 2.192 - ETA: 2:15 - loss: 2.180 - ETA: 2:14 - loss: 2.168 - ETA: 2:14 - loss: 2.167 - ETA: 2:14 - loss: 2.180 - ETA: 2:13 - loss: 2.170 - ETA: 2:13 - loss: 2.164 - ETA: 2:12 - loss: 2.169 - ETA: 2:12 - loss: 2.171 - ETA: 2:11 - loss: 2.172 - ETA: 2:11 - loss: 2.162 - ETA: 2:10 - loss: 2.150 - ETA: 2:10 - loss: 2.144 - ETA: 2:10 - loss: 2.133 - ETA: 2:09 - loss: 2.145 - ETA: 2:09 - loss: 2.144 - ETA: 2:08 - loss: 2.143 - ETA: 2:08 - loss: 2.130 - ETA: 2:07 - loss: 2.131 - ETA: 2:07 - loss: 2.121 - ETA: 2:07 - loss: 2.131 - ETA: 2:06 - loss: 2.121 - ETA: 2:06 - loss: 2.130 - ETA: 2:05 - loss: 2.132 - ETA: 2:05 - loss: 2.124 - ETA: 2:04 - loss: 2.117 - ETA: 2:04 - loss: 2.116 - ETA: 2:03 - loss: 2.107 - ETA: 2:03 - loss: 2.109 - ETA: 2:03 - loss: 2.133 - ETA: 2:02 - loss: 2.133 - ETA: 2:02 - loss: 2.123 - ETA: 2:01 - loss: 2.118 - ETA: 2:01 - loss: 2.114 - ETA: 2:00 - loss: 2.134 - ETA: 2:00 - loss: 2.126 - ETA: 2:00 - loss: 2.122 - ETA: 1:59 - loss: 2.119 - ETA: 1:59 - loss: 2.119 - ETA: 1:58 - loss: 2.120 - ETA: 1:58 - loss: 2.125 - ETA: 1:57 - loss: 2.118 - ETA: 1:57 - loss: 2.114 - ETA: 1:57 - loss: 2.111 - ETA: 1:56 - loss: 2.112 - ETA: 1:56 - loss: 2.104 - ETA: 1:55 - loss: 2.102 - ETA: 1:55 - loss: 2.100 - ETA: 1:54 - loss: 2.113 - ETA: 1:54 - loss: 2.108 - ETA: 1:53 - loss: 2.107 - ETA: 1:53 - loss: 2.122 - ETA: 1:53 - loss: 2.123 - ETA: 1:52 - loss: 2.124 - ETA: 1:52 - loss: 2.127 - ETA: 1:51 - loss: 2.136 - ETA: 1:51 - loss: 2.130 - ETA: 1:50 - loss: 2.123 - ETA: 1:50 - loss: 2.121 - ETA: 1:50 - loss: 2.125 - ETA: 1:49 - loss: 2.121 - ETA: 1:49 - loss: 2.132 - ETA: 1:48 - loss: 2.128 - ETA: 1:48 - loss: 2.131 - ETA: 1:47 - loss: 2.134 - ETA: 1:47 - loss: 2.128 - ETA: 1:47 - loss: 2.125 - ETA: 1:46 - loss: 2.137 - ETA: 1:46 - loss: 2.138 - ETA: 1:45 - loss: 2.135 - ETA: 1:45 - loss: 2.131 - ETA: 1:44 - loss: 2.128 - ETA: 1:44 - loss: 2.133 - ETA: 1:43 - loss: 2.144 - ETA: 1:43 - loss: 2.138 - ETA: 1:43 - loss: 2.150 - ETA: 1:42 - loss: 2.147 - ETA: 1:42 - loss: 2.144 - ETA: 1:41 - loss: 2.144 - ETA: 1:41 - loss: 2.154 - ETA: 1:40 - loss: 2.148 - ETA: 1:40 - loss: 2.144 - ETA: 1:40 - loss: 2.140 - ETA: 1:39 - loss: 2.134 - ETA: 1:39 - loss: 2.140 - ETA: 1:38 - loss: 2.142 - ETA: 1:38 - loss: 2.145 - ETA: 1:37 - loss: 2.148 - ETA: 1:37 - loss: 2.143 - ETA: 1:37 - loss: 2.149 - ETA: 1:36 - loss: 2.149 - ETA: 1:36 - loss: 2.158 - ETA: 1:35 - loss: 2.158 - ETA: 1:35 - loss: 2.154 - ETA: 1:34 - loss: 2.154 - ETA: 1:34 - loss: 2.160 - ETA: 1:33 - loss: 2.162 - ETA: 1:33 - loss: 2.170 - ETA: 1:33 - loss: 2.171 - ETA: 1:32 - loss: 2.168 - ETA: 1:32 - loss: 2.166 - ETA: 1:31 - loss: 2.162 - ETA: 1:31 - loss: 2.161 - ETA: 1:30 - loss: 2.155 - ETA: 1:30 - loss: 2.159 - ETA: 1:30 - loss: 2.160 - ETA: 1:29 - loss: 2.168 - ETA: 1:29 - loss: 2.168 - ETA: 1:28 - loss: 2.167 - ETA: 1:28 - loss: 2.170 - ETA: 1:27 - loss: 2.166 - ETA: 1:27 - loss: 2.165 - ETA: 1:27 - loss: 2.175 - ETA: 1:26 - loss: 2.178 - ETA: 1:26 - loss: 2.176 - ETA: 1:25 - loss: 2.174 - ETA: 1:25 - loss: 2.175 - ETA: 1:24 - loss: 2.175 - ETA: 1:24 - loss: 2.174 - ETA: 1:24 - loss: 2.175 - ETA: 1:23 - loss: 2.174 - ETA: 1:23 - loss: 2.169 - ETA: 1:22 - loss: 2.166 - ETA: 1:22 - loss: 2.164 - ETA: 1:21 - loss: 2.164 - ETA: 1:21 - loss: 2.176 - ETA: 1:20 - loss: 2.170 - ETA: 1:20 - loss: 2.166 - ETA: 1:20 - loss: 2.166 - ETA: 1:19 - loss: 2.164 - ETA: 1:19 - loss: 2.164 - ETA: 1:18 - loss: 2.161 - ETA: 1:18 - loss: 2.160 - ETA: 1:17 - loss: 2.155 - ETA: 1:17 - loss: 2.151 - ETA: 1:17 - loss: 2.148 - ETA: 1:16 - loss: 2.154 - ETA: 1:16 - loss: 2.156 - ETA: 1:15 - loss: 2.156 - ETA: 1:15 - loss: 2.152 - ETA: 1:14 - loss: 2.157 - ETA: 1:14 - loss: 2.153 - ETA: 1:14 - loss: 2.150 - ETA: 1:13 - loss: 2.150 - ETA: 1:13 - loss: 2.163 - ETA: 1:12 - loss: 2.158 - ETA: 1:12 - loss: 2.153 - ETA: 1:11 - loss: 2.151 - ETA: 1:11 - loss: 2.146 - ETA: 1:11 - loss: 2.145 - ETA: 1:10 - loss: 2.144 - ETA: 1:10 - loss: 2.142 - ETA: 1:09 - loss: 2.150 - ETA: 1:09 - loss: 2.145 - ETA: 1:08 - loss: 2.143 - ETA: 1:08 - loss: 2.142 - ETA: 1:07 - loss: 2.141 - ETA: 1:07 - loss: 2.136 - ETA: 1:07 - loss: 2.133 - ETA: 1:06 - loss: 2.141 - ETA: 1:06 - loss: 2.140 - ETA: 1:05 - loss: 2.144 - ETA: 1:05 - loss: 2.143 - ETA: 1:04 - loss: 2.144 - ETA: 1:04 - loss: 2.144 - ETA: 1:04 - loss: 2.145 - ETA: 1:03 - loss: 2.149 - ETA: 1:03 - loss: 2.156 - ETA: 1:02 - loss: 2.159 - ETA: 1:02 - loss: 2.162 - ETA: 1:01 - loss: 2.160 - ETA: 1:01 - loss: 2.163 - ETA: 1:01 - loss: 2.164 - ETA: 1:00 - loss: 2.162 - ETA: 1:00 - loss: 2.164 - ETA: 59s - loss: 2.166 - ETA: 59s - loss: 2.16 - ETA: 58s - loss: 2.16 - ETA: 58s - loss: 2.16 - ETA: 58s - loss: 2.16 - ETA: 57s - loss: 2.16 - ETA: 57s - loss: 2.16 - ETA: 56s - loss: 2.15 - ETA: 56s - loss: 2.15 - ETA: 55s - loss: 2.16 - ETA: 55s - loss: 2.16 - ETA: 54s - loss: 2.16 - ETA: 54s - loss: 2.16 - ETA: 54s - loss: 2.16 - ETA: 53s - loss: 2.16 - ETA: 53s - loss: 2.16 - ETA: 52s - loss: 2.16 - ETA: 52s - loss: 2.15 - ETA: 51s - loss: 2.15 - ETA: 51s - loss: 2.16 - ETA: 51s - loss: 2.16 - ETA: 50s - loss: 2.15 - ETA: 50s - loss: 2.16 - ETA: 49s - loss: 2.16 - ETA: 49s - loss: 2.16 - ETA: 48s - loss: 2.16 - ETA: 48s - loss: 2.16 - ETA: 48s - loss: 2.17 - ETA: 47s - loss: 2.17 - ETA: 47s - loss: 2.17 - ETA: 46s - loss: 2.17 - ETA: 46s - loss: 2.17 - ETA: 45s - loss: 2.17 - ETA: 45s - loss: 2.17 - ETA: 45s - loss: 2.16 - ETA: 44s - loss: 2.16 - ETA: 44s - loss: 2.16 - ETA: 43s - loss: 2.16 - ETA: 43s - loss: 2.16 - ETA: 42s - loss: 2.16 - ETA: 42s - loss: 2.17 - ETA: 41s - loss: 2.16 - ETA: 41s - loss: 2.16 - ETA: 41s - loss: 2.16 - ETA: 40s - loss: 2.16 - ETA: 40s - loss: 2.16 - ETA: 39s - loss: 2.17 - ETA: 39s - loss: 2.16 - ETA: 38s - loss: 2.16 - ETA: 38s - loss: 2.17 - ETA: 38s - loss: 2.17 - ETA: 37s - loss: 2.16 - ETA: 37s - loss: 2.17 - ETA: 36s - loss: 2.17 - ETA: 36s - loss: 2.16 - ETA: 35s - loss: 2.16 - ETA: 35s - loss: 2.1646"
     ]
    },
    {
     "name": "stdout",
     "output_type": "stream",
     "text": [
      "400/400 [==============================] - ETA: 35s - loss: 2.16 - ETA: 34s - loss: 2.16 - ETA: 34s - loss: 2.16 - ETA: 33s - loss: 2.15 - ETA: 33s - loss: 2.15 - ETA: 32s - loss: 2.15 - ETA: 32s - loss: 2.15 - ETA: 32s - loss: 2.16 - ETA: 31s - loss: 2.16 - ETA: 31s - loss: 2.16 - ETA: 30s - loss: 2.16 - ETA: 30s - loss: 2.16 - ETA: 29s - loss: 2.16 - ETA: 29s - loss: 2.15 - ETA: 28s - loss: 2.15 - ETA: 28s - loss: 2.15 - ETA: 28s - loss: 2.16 - ETA: 27s - loss: 2.16 - ETA: 27s - loss: 2.16 - ETA: 26s - loss: 2.16 - ETA: 26s - loss: 2.16 - ETA: 25s - loss: 2.16 - ETA: 25s - loss: 2.15 - ETA: 25s - loss: 2.16 - ETA: 24s - loss: 2.16 - ETA: 24s - loss: 2.16 - ETA: 23s - loss: 2.17 - ETA: 23s - loss: 2.17 - ETA: 22s - loss: 2.17 - ETA: 22s - loss: 2.17 - ETA: 22s - loss: 2.17 - ETA: 21s - loss: 2.16 - ETA: 21s - loss: 2.16 - ETA: 20s - loss: 2.17 - ETA: 20s - loss: 2.16 - ETA: 19s - loss: 2.16 - ETA: 19s - loss: 2.16 - ETA: 19s - loss: 2.16 - ETA: 18s - loss: 2.16 - ETA: 18s - loss: 2.16 - ETA: 17s - loss: 2.16 - ETA: 17s - loss: 2.16 - ETA: 16s - loss: 2.15 - ETA: 16s - loss: 2.16 - ETA: 16s - loss: 2.16 - ETA: 15s - loss: 2.16 - ETA: 15s - loss: 2.16 - ETA: 14s - loss: 2.16 - ETA: 14s - loss: 2.16 - ETA: 13s - loss: 2.16 - ETA: 13s - loss: 2.16 - ETA: 12s - loss: 2.16 - ETA: 12s - loss: 2.16 - ETA: 12s - loss: 2.16 - ETA: 11s - loss: 2.16 - ETA: 11s - loss: 2.16 - ETA: 10s - loss: 2.16 - ETA: 10s - loss: 2.16 - ETA: 9s - loss: 2.1654 - ETA: 9s - loss: 2.164 - ETA: 9s - loss: 2.164 - ETA: 8s - loss: 2.164 - ETA: 8s - loss: 2.162 - ETA: 7s - loss: 2.160 - ETA: 7s - loss: 2.158 - ETA: 6s - loss: 2.160 - ETA: 6s - loss: 2.158 - ETA: 6s - loss: 2.155 - ETA: 5s - loss: 2.154 - ETA: 5s - loss: 2.152 - ETA: 4s - loss: 2.151 - ETA: 4s - loss: 2.149 - ETA: 3s - loss: 2.148 - ETA: 3s - loss: 2.145 - ETA: 3s - loss: 2.148 - ETA: 2s - loss: 2.155 - ETA: 2s - loss: 2.158 - ETA: 1s - loss: 2.155 - ETA: 1s - loss: 2.152 - ETA: 0s - loss: 2.151 - ETA: 0s - loss: 2.151 - 233s 583ms/step - loss: 2.1554 - val_loss: 2.2405\n",
      "Epoch 10/12\n"
     ]
    },
    {
     "name": "stdout",
     "output_type": "stream",
     "text": [
      "318/400 [======================>.......] - ETA: 2:58 - loss: 2.221 - ETA: 2:58 - loss: 2.696 - ETA: 2:57 - loss: 2.741 - ETA: 2:56 - loss: 2.494 - ETA: 2:54 - loss: 2.341 - ETA: 2:53 - loss: 2.201 - ETA: 2:52 - loss: 2.129 - ETA: 2:51 - loss: 2.118 - ETA: 2:50 - loss: 2.215 - ETA: 2:49 - loss: 2.158 - ETA: 2:49 - loss: 2.216 - ETA: 2:48 - loss: 2.196 - ETA: 2:48 - loss: 2.284 - ETA: 2:47 - loss: 2.244 - ETA: 2:47 - loss: 2.312 - ETA: 2:46 - loss: 2.350 - ETA: 2:46 - loss: 2.320 - ETA: 2:46 - loss: 2.390 - ETA: 2:45 - loss: 2.413 - ETA: 2:45 - loss: 2.419 - ETA: 2:44 - loss: 2.369 - ETA: 2:44 - loss: 2.367 - ETA: 2:43 - loss: 2.313 - ETA: 2:43 - loss: 2.345 - ETA: 2:42 - loss: 2.406 - ETA: 2:42 - loss: 2.357 - ETA: 2:41 - loss: 2.315 - ETA: 2:41 - loss: 2.269 - ETA: 2:41 - loss: 2.327 - ETA: 2:40 - loss: 2.336 - ETA: 2:40 - loss: 2.306 - ETA: 2:39 - loss: 2.293 - ETA: 2:39 - loss: 2.288 - ETA: 2:38 - loss: 2.286 - ETA: 2:38 - loss: 2.250 - ETA: 2:37 - loss: 2.222 - ETA: 2:37 - loss: 2.194 - ETA: 2:37 - loss: 2.183 - ETA: 2:36 - loss: 2.152 - ETA: 2:36 - loss: 2.144 - ETA: 2:35 - loss: 2.200 - ETA: 2:35 - loss: 2.186 - ETA: 2:34 - loss: 2.159 - ETA: 2:34 - loss: 2.140 - ETA: 2:33 - loss: 2.142 - ETA: 2:33 - loss: 2.168 - ETA: 2:32 - loss: 2.201 - ETA: 2:32 - loss: 2.175 - ETA: 2:32 - loss: 2.168 - ETA: 2:31 - loss: 2.221 - ETA: 2:31 - loss: 2.208 - ETA: 2:30 - loss: 2.246 - ETA: 2:30 - loss: 2.223 - ETA: 2:29 - loss: 2.199 - ETA: 2:29 - loss: 2.175 - ETA: 2:28 - loss: 2.171 - ETA: 2:28 - loss: 2.199 - ETA: 2:28 - loss: 2.233 - ETA: 2:27 - loss: 2.229 - ETA: 2:27 - loss: 2.218 - ETA: 2:26 - loss: 2.221 - ETA: 2:26 - loss: 2.226 - ETA: 2:25 - loss: 2.239 - ETA: 2:25 - loss: 2.242 - ETA: 2:25 - loss: 2.233 - ETA: 2:24 - loss: 2.219 - ETA: 2:24 - loss: 2.232 - ETA: 2:23 - loss: 2.221 - ETA: 2:23 - loss: 2.212 - ETA: 2:22 - loss: 2.199 - ETA: 2:22 - loss: 2.208 - ETA: 2:22 - loss: 2.194 - ETA: 2:21 - loss: 2.184 - ETA: 2:21 - loss: 2.182 - ETA: 2:20 - loss: 2.173 - ETA: 2:20 - loss: 2.159 - ETA: 2:19 - loss: 2.155 - ETA: 2:19 - loss: 2.157 - ETA: 2:19 - loss: 2.143 - ETA: 2:18 - loss: 2.135 - ETA: 2:18 - loss: 2.141 - ETA: 2:17 - loss: 2.133 - ETA: 2:17 - loss: 2.148 - ETA: 2:16 - loss: 2.149 - ETA: 2:16 - loss: 2.168 - ETA: 2:15 - loss: 2.163 - ETA: 2:15 - loss: 2.154 - ETA: 2:15 - loss: 2.162 - ETA: 2:14 - loss: 2.155 - ETA: 2:14 - loss: 2.159 - ETA: 2:13 - loss: 2.175 - ETA: 2:13 - loss: 2.165 - ETA: 2:12 - loss: 2.155 - ETA: 2:12 - loss: 2.145 - ETA: 2:12 - loss: 2.160 - ETA: 2:11 - loss: 2.172 - ETA: 2:11 - loss: 2.168 - ETA: 2:10 - loss: 2.175 - ETA: 2:10 - loss: 2.180 - ETA: 2:09 - loss: 2.187 - ETA: 2:09 - loss: 2.205 - ETA: 2:09 - loss: 2.200 - ETA: 2:08 - loss: 2.204 - ETA: 2:08 - loss: 2.192 - ETA: 2:07 - loss: 2.183 - ETA: 2:07 - loss: 2.175 - ETA: 2:06 - loss: 2.171 - ETA: 2:06 - loss: 2.172 - ETA: 2:06 - loss: 2.166 - ETA: 2:05 - loss: 2.166 - ETA: 2:05 - loss: 2.177 - ETA: 2:04 - loss: 2.182 - ETA: 2:04 - loss: 2.173 - ETA: 2:03 - loss: 2.189 - ETA: 2:03 - loss: 2.183 - ETA: 2:03 - loss: 2.193 - ETA: 2:02 - loss: 2.200 - ETA: 2:02 - loss: 2.201 - ETA: 2:01 - loss: 2.199 - ETA: 2:01 - loss: 2.200 - ETA: 2:00 - loss: 2.207 - ETA: 2:00 - loss: 2.205 - ETA: 1:59 - loss: 2.198 - ETA: 1:59 - loss: 2.189 - ETA: 1:59 - loss: 2.181 - ETA: 1:58 - loss: 2.188 - ETA: 1:58 - loss: 2.182 - ETA: 1:57 - loss: 2.187 - ETA: 1:57 - loss: 2.196 - ETA: 1:56 - loss: 2.204 - ETA: 1:56 - loss: 2.220 - ETA: 1:56 - loss: 2.214 - ETA: 1:55 - loss: 2.219 - ETA: 1:55 - loss: 2.217 - ETA: 1:54 - loss: 2.215 - ETA: 1:54 - loss: 2.216 - ETA: 1:53 - loss: 2.216 - ETA: 1:53 - loss: 2.214 - ETA: 1:53 - loss: 2.221 - ETA: 1:52 - loss: 2.221 - ETA: 1:52 - loss: 2.228 - ETA: 1:51 - loss: 2.242 - ETA: 1:51 - loss: 2.236 - ETA: 1:50 - loss: 2.232 - ETA: 1:50 - loss: 2.228 - ETA: 1:50 - loss: 2.231 - ETA: 1:49 - loss: 2.226 - ETA: 1:49 - loss: 2.220 - ETA: 1:48 - loss: 2.214 - ETA: 1:48 - loss: 2.211 - ETA: 1:47 - loss: 2.204 - ETA: 1:47 - loss: 2.202 - ETA: 1:47 - loss: 2.200 - ETA: 1:46 - loss: 2.203 - ETA: 1:46 - loss: 2.195 - ETA: 1:45 - loss: 2.189 - ETA: 1:45 - loss: 2.200 - ETA: 1:44 - loss: 2.193 - ETA: 1:44 - loss: 2.206 - ETA: 1:43 - loss: 2.203 - ETA: 1:43 - loss: 2.196 - ETA: 1:43 - loss: 2.207 - ETA: 1:42 - loss: 2.211 - ETA: 1:42 - loss: 2.217 - ETA: 1:41 - loss: 2.215 - ETA: 1:41 - loss: 2.209 - ETA: 1:40 - loss: 2.218 - ETA: 1:40 - loss: 2.217 - ETA: 1:40 - loss: 2.223 - ETA: 1:39 - loss: 2.223 - ETA: 1:39 - loss: 2.223 - ETA: 1:38 - loss: 2.220 - ETA: 1:38 - loss: 2.220 - ETA: 1:37 - loss: 2.239 - ETA: 1:37 - loss: 2.236 - ETA: 1:37 - loss: 2.237 - ETA: 1:36 - loss: 2.239 - ETA: 1:36 - loss: 2.239 - ETA: 1:35 - loss: 2.237 - ETA: 1:35 - loss: 2.234 - ETA: 1:34 - loss: 2.233 - ETA: 1:34 - loss: 2.229 - ETA: 1:33 - loss: 2.229 - ETA: 1:33 - loss: 2.224 - ETA: 1:33 - loss: 2.224 - ETA: 1:32 - loss: 2.220 - ETA: 1:32 - loss: 2.222 - ETA: 1:31 - loss: 2.217 - ETA: 1:31 - loss: 2.228 - ETA: 1:30 - loss: 2.232 - ETA: 1:30 - loss: 2.228 - ETA: 1:30 - loss: 2.225 - ETA: 1:29 - loss: 2.226 - ETA: 1:29 - loss: 2.233 - ETA: 1:28 - loss: 2.227 - ETA: 1:28 - loss: 2.223 - ETA: 1:27 - loss: 2.229 - ETA: 1:27 - loss: 2.230 - ETA: 1:27 - loss: 2.227 - ETA: 1:26 - loss: 2.231 - ETA: 1:26 - loss: 2.229 - ETA: 1:25 - loss: 2.226 - ETA: 1:25 - loss: 2.225 - ETA: 1:24 - loss: 2.234 - ETA: 1:24 - loss: 2.239 - ETA: 1:24 - loss: 2.239 - ETA: 1:23 - loss: 2.238 - ETA: 1:23 - loss: 2.233 - ETA: 1:22 - loss: 2.231 - ETA: 1:22 - loss: 2.230 - ETA: 1:21 - loss: 2.234 - ETA: 1:21 - loss: 2.230 - ETA: 1:20 - loss: 2.235 - ETA: 1:20 - loss: 2.236 - ETA: 1:20 - loss: 2.238 - ETA: 1:19 - loss: 2.240 - ETA: 1:19 - loss: 2.237 - ETA: 1:18 - loss: 2.242 - ETA: 1:18 - loss: 2.245 - ETA: 1:17 - loss: 2.243 - ETA: 1:17 - loss: 2.246 - ETA: 1:17 - loss: 2.247 - ETA: 1:16 - loss: 2.246 - ETA: 1:16 - loss: 2.242 - ETA: 1:15 - loss: 2.253 - ETA: 1:15 - loss: 2.250 - ETA: 1:14 - loss: 2.255 - ETA: 1:14 - loss: 2.269 - ETA: 1:14 - loss: 2.268 - ETA: 1:13 - loss: 2.274 - ETA: 1:13 - loss: 2.269 - ETA: 1:12 - loss: 2.267 - ETA: 1:12 - loss: 2.262 - ETA: 1:11 - loss: 2.266 - ETA: 1:11 - loss: 2.264 - ETA: 1:11 - loss: 2.271 - ETA: 1:10 - loss: 2.267 - ETA: 1:10 - loss: 2.274 - ETA: 1:09 - loss: 2.271 - ETA: 1:09 - loss: 2.268 - ETA: 1:08 - loss: 2.265 - ETA: 1:08 - loss: 2.261 - ETA: 1:07 - loss: 2.258 - ETA: 1:07 - loss: 2.256 - ETA: 1:07 - loss: 2.259 - ETA: 1:06 - loss: 2.263 - ETA: 1:06 - loss: 2.261 - ETA: 1:05 - loss: 2.261 - ETA: 1:05 - loss: 2.263 - ETA: 1:04 - loss: 2.273 - ETA: 1:04 - loss: 2.281 - ETA: 1:04 - loss: 2.281 - ETA: 1:03 - loss: 2.283 - ETA: 1:03 - loss: 2.283 - ETA: 1:02 - loss: 2.288 - ETA: 1:02 - loss: 2.288 - ETA: 1:01 - loss: 2.291 - ETA: 1:01 - loss: 2.286 - ETA: 1:01 - loss: 2.284 - ETA: 1:00 - loss: 2.286 - ETA: 1:00 - loss: 2.298 - ETA: 59s - loss: 2.297 - ETA: 59s - loss: 2.30 - ETA: 58s - loss: 2.29 - ETA: 58s - loss: 2.30 - ETA: 58s - loss: 2.30 - ETA: 57s - loss: 2.30 - ETA: 57s - loss: 2.29 - ETA: 56s - loss: 2.30 - ETA: 56s - loss: 2.30 - ETA: 55s - loss: 2.30 - ETA: 55s - loss: 2.29 - ETA: 54s - loss: 2.29 - ETA: 54s - loss: 2.29 - ETA: 54s - loss: 2.29 - ETA: 53s - loss: 2.29 - ETA: 53s - loss: 2.29 - ETA: 52s - loss: 2.29 - ETA: 52s - loss: 2.29 - ETA: 51s - loss: 2.29 - ETA: 51s - loss: 2.29 - ETA: 51s - loss: 2.29 - ETA: 50s - loss: 2.28 - ETA: 50s - loss: 2.28 - ETA: 49s - loss: 2.28 - ETA: 49s - loss: 2.28 - ETA: 48s - loss: 2.28 - ETA: 48s - loss: 2.29 - ETA: 48s - loss: 2.29 - ETA: 47s - loss: 2.29 - ETA: 47s - loss: 2.30 - ETA: 46s - loss: 2.29 - ETA: 46s - loss: 2.29 - ETA: 45s - loss: 2.29 - ETA: 45s - loss: 2.30 - ETA: 45s - loss: 2.29 - ETA: 44s - loss: 2.29 - ETA: 44s - loss: 2.30 - ETA: 43s - loss: 2.30 - ETA: 43s - loss: 2.30 - ETA: 42s - loss: 2.29 - ETA: 42s - loss: 2.29 - ETA: 41s - loss: 2.29 - ETA: 41s - loss: 2.29 - ETA: 41s - loss: 2.28 - ETA: 40s - loss: 2.28 - ETA: 40s - loss: 2.28 - ETA: 39s - loss: 2.29 - ETA: 39s - loss: 2.28 - ETA: 38s - loss: 2.28 - ETA: 38s - loss: 2.28 - ETA: 38s - loss: 2.28 - ETA: 37s - loss: 2.28 - ETA: 37s - loss: 2.28 - ETA: 36s - loss: 2.28 - ETA: 36s - loss: 2.28 - ETA: 35s - loss: 2.28 - ETA: 35s - loss: 2.2793"
     ]
    },
    {
     "name": "stdout",
     "output_type": "stream",
     "text": [
      "400/400 [==============================] - ETA: 35s - loss: 2.28 - ETA: 34s - loss: 2.28 - ETA: 34s - loss: 2.29 - ETA: 33s - loss: 2.29 - ETA: 33s - loss: 2.28 - ETA: 32s - loss: 2.28 - ETA: 32s - loss: 2.28 - ETA: 32s - loss: 2.28 - ETA: 31s - loss: 2.28 - ETA: 31s - loss: 2.28 - ETA: 30s - loss: 2.27 - ETA: 30s - loss: 2.27 - ETA: 29s - loss: 2.28 - ETA: 29s - loss: 2.28 - ETA: 29s - loss: 2.28 - ETA: 28s - loss: 2.28 - ETA: 28s - loss: 2.28 - ETA: 27s - loss: 2.28 - ETA: 27s - loss: 2.28 - ETA: 26s - loss: 2.28 - ETA: 26s - loss: 2.27 - ETA: 25s - loss: 2.27 - ETA: 25s - loss: 2.27 - ETA: 25s - loss: 2.27 - ETA: 24s - loss: 2.27 - ETA: 24s - loss: 2.26 - ETA: 23s - loss: 2.26 - ETA: 23s - loss: 2.26 - ETA: 22s - loss: 2.26 - ETA: 22s - loss: 2.26 - ETA: 22s - loss: 2.26 - ETA: 21s - loss: 2.26 - ETA: 21s - loss: 2.26 - ETA: 20s - loss: 2.25 - ETA: 20s - loss: 2.25 - ETA: 19s - loss: 2.25 - ETA: 19s - loss: 2.25 - ETA: 19s - loss: 2.25 - ETA: 18s - loss: 2.25 - ETA: 18s - loss: 2.25 - ETA: 17s - loss: 2.25 - ETA: 17s - loss: 2.25 - ETA: 16s - loss: 2.24 - ETA: 16s - loss: 2.24 - ETA: 16s - loss: 2.25 - ETA: 15s - loss: 2.24 - ETA: 15s - loss: 2.25 - ETA: 14s - loss: 2.25 - ETA: 14s - loss: 2.24 - ETA: 13s - loss: 2.24 - ETA: 13s - loss: 2.24 - ETA: 12s - loss: 2.24 - ETA: 12s - loss: 2.25 - ETA: 12s - loss: 2.24 - ETA: 11s - loss: 2.24 - ETA: 11s - loss: 2.24 - ETA: 10s - loss: 2.24 - ETA: 10s - loss: 2.24 - ETA: 9s - loss: 2.2434 - ETA: 9s - loss: 2.241 - ETA: 9s - loss: 2.244 - ETA: 8s - loss: 2.243 - ETA: 8s - loss: 2.242 - ETA: 7s - loss: 2.242 - ETA: 7s - loss: 2.245 - ETA: 6s - loss: 2.244 - ETA: 6s - loss: 2.241 - ETA: 6s - loss: 2.246 - ETA: 5s - loss: 2.244 - ETA: 5s - loss: 2.243 - ETA: 4s - loss: 2.244 - ETA: 4s - loss: 2.242 - ETA: 3s - loss: 2.240 - ETA: 3s - loss: 2.238 - ETA: 3s - loss: 2.243 - ETA: 2s - loss: 2.249 - ETA: 2s - loss: 2.246 - ETA: 1s - loss: 2.249 - ETA: 1s - loss: 2.247 - ETA: 0s - loss: 2.247 - ETA: 0s - loss: 2.244 - 234s 584ms/step - loss: 2.2419 - val_loss: 2.3331\n",
      "Epoch 11/12\n"
     ]
    },
    {
     "name": "stdout",
     "output_type": "stream",
     "text": [
      "318/400 [======================>.......] - ETA: 2:54 - loss: 4.253 - ETA: 2:56 - loss: 4.445 - ETA: 2:57 - loss: 3.721 - ETA: 2:54 - loss: 3.241 - ETA: 2:53 - loss: 2.939 - ETA: 2:53 - loss: 2.747 - ETA: 2:51 - loss: 2.641 - ETA: 2:51 - loss: 2.494 - ETA: 2:50 - loss: 2.517 - ETA: 2:49 - loss: 2.512 - ETA: 2:48 - loss: 2.464 - ETA: 2:48 - loss: 2.550 - ETA: 2:47 - loss: 2.482 - ETA: 2:47 - loss: 2.537 - ETA: 2:46 - loss: 2.498 - ETA: 2:46 - loss: 2.547 - ETA: 2:45 - loss: 2.541 - ETA: 2:44 - loss: 2.563 - ETA: 2:44 - loss: 2.507 - ETA: 2:43 - loss: 2.485 - ETA: 2:43 - loss: 2.505 - ETA: 2:42 - loss: 2.459 - ETA: 2:42 - loss: 2.480 - ETA: 2:42 - loss: 2.436 - ETA: 2:41 - loss: 2.455 - ETA: 2:41 - loss: 2.472 - ETA: 2:40 - loss: 2.445 - ETA: 2:40 - loss: 2.442 - ETA: 2:39 - loss: 2.438 - ETA: 2:39 - loss: 2.419 - ETA: 2:38 - loss: 2.441 - ETA: 2:38 - loss: 2.414 - ETA: 2:37 - loss: 2.382 - ETA: 2:37 - loss: 2.453 - ETA: 2:37 - loss: 2.446 - ETA: 2:36 - loss: 2.447 - ETA: 2:36 - loss: 2.449 - ETA: 2:35 - loss: 2.422 - ETA: 2:35 - loss: 2.407 - ETA: 2:34 - loss: 2.374 - ETA: 2:34 - loss: 2.336 - ETA: 2:33 - loss: 2.348 - ETA: 2:33 - loss: 2.343 - ETA: 2:32 - loss: 2.309 - ETA: 2:32 - loss: 2.328 - ETA: 2:32 - loss: 2.307 - ETA: 2:31 - loss: 2.306 - ETA: 2:31 - loss: 2.291 - ETA: 2:30 - loss: 2.296 - ETA: 2:30 - loss: 2.277 - ETA: 2:29 - loss: 2.281 - ETA: 2:29 - loss: 2.286 - ETA: 2:28 - loss: 2.265 - ETA: 2:28 - loss: 2.245 - ETA: 2:28 - loss: 2.275 - ETA: 2:27 - loss: 2.261 - ETA: 2:27 - loss: 2.266 - ETA: 2:26 - loss: 2.258 - ETA: 2:26 - loss: 2.269 - ETA: 2:25 - loss: 2.292 - ETA: 2:25 - loss: 2.284 - ETA: 2:25 - loss: 2.295 - ETA: 2:24 - loss: 2.316 - ETA: 2:24 - loss: 2.321 - ETA: 2:23 - loss: 2.303 - ETA: 2:23 - loss: 2.294 - ETA: 2:22 - loss: 2.301 - ETA: 2:22 - loss: 2.287 - ETA: 2:22 - loss: 2.283 - ETA: 2:21 - loss: 2.299 - ETA: 2:21 - loss: 2.306 - ETA: 2:20 - loss: 2.325 - ETA: 2:20 - loss: 2.326 - ETA: 2:19 - loss: 2.327 - ETA: 2:19 - loss: 2.309 - ETA: 2:18 - loss: 2.310 - ETA: 2:18 - loss: 2.320 - ETA: 2:18 - loss: 2.349 - ETA: 2:17 - loss: 2.342 - ETA: 2:17 - loss: 2.334 - ETA: 2:16 - loss: 2.330 - ETA: 2:16 - loss: 2.327 - ETA: 2:16 - loss: 2.335 - ETA: 2:15 - loss: 2.336 - ETA: 2:15 - loss: 2.324 - ETA: 2:14 - loss: 2.317 - ETA: 2:14 - loss: 2.304 - ETA: 2:13 - loss: 2.295 - ETA: 2:13 - loss: 2.299 - ETA: 2:13 - loss: 2.308 - ETA: 2:12 - loss: 2.298 - ETA: 2:12 - loss: 2.292 - ETA: 2:11 - loss: 2.298 - ETA: 2:11 - loss: 2.285 - ETA: 2:10 - loss: 2.295 - ETA: 2:10 - loss: 2.287 - ETA: 2:10 - loss: 2.280 - ETA: 2:09 - loss: 2.277 - ETA: 2:09 - loss: 2.262 - ETA: 2:08 - loss: 2.279 - ETA: 2:08 - loss: 2.274 - ETA: 2:07 - loss: 2.267 - ETA: 2:07 - loss: 2.286 - ETA: 2:07 - loss: 2.302 - ETA: 2:06 - loss: 2.290 - ETA: 2:06 - loss: 2.284 - ETA: 2:05 - loss: 2.276 - ETA: 2:05 - loss: 2.265 - ETA: 2:05 - loss: 2.265 - ETA: 2:04 - loss: 2.269 - ETA: 2:04 - loss: 2.264 - ETA: 2:03 - loss: 2.261 - ETA: 2:03 - loss: 2.249 - ETA: 2:02 - loss: 2.242 - ETA: 2:02 - loss: 2.251 - ETA: 2:02 - loss: 2.250 - ETA: 2:01 - loss: 2.241 - ETA: 2:01 - loss: 2.230 - ETA: 2:00 - loss: 2.232 - ETA: 2:00 - loss: 2.222 - ETA: 1:59 - loss: 2.217 - ETA: 1:59 - loss: 2.245 - ETA: 1:59 - loss: 2.237 - ETA: 1:58 - loss: 2.227 - ETA: 1:58 - loss: 2.217 - ETA: 1:57 - loss: 2.207 - ETA: 1:57 - loss: 2.198 - ETA: 1:56 - loss: 2.216 - ETA: 1:56 - loss: 2.206 - ETA: 1:56 - loss: 2.206 - ETA: 1:55 - loss: 2.210 - ETA: 1:55 - loss: 2.200 - ETA: 1:54 - loss: 2.198 - ETA: 1:54 - loss: 2.213 - ETA: 1:54 - loss: 2.209 - ETA: 1:53 - loss: 2.207 - ETA: 1:53 - loss: 2.213 - ETA: 1:52 - loss: 2.216 - ETA: 1:52 - loss: 2.211 - ETA: 1:51 - loss: 2.208 - ETA: 1:51 - loss: 2.204 - ETA: 1:51 - loss: 2.210 - ETA: 1:50 - loss: 2.214 - ETA: 1:50 - loss: 2.219 - ETA: 1:49 - loss: 2.225 - ETA: 1:49 - loss: 2.225 - ETA: 1:48 - loss: 2.231 - ETA: 1:48 - loss: 2.241 - ETA: 1:48 - loss: 2.237 - ETA: 1:47 - loss: 2.245 - ETA: 1:47 - loss: 2.244 - ETA: 1:46 - loss: 2.253 - ETA: 1:46 - loss: 2.250 - ETA: 1:45 - loss: 2.245 - ETA: 1:45 - loss: 2.248 - ETA: 1:45 - loss: 2.254 - ETA: 1:44 - loss: 2.250 - ETA: 1:44 - loss: 2.245 - ETA: 1:43 - loss: 2.239 - ETA: 1:43 - loss: 2.240 - ETA: 1:42 - loss: 2.243 - ETA: 1:42 - loss: 2.243 - ETA: 1:42 - loss: 2.240 - ETA: 1:41 - loss: 2.239 - ETA: 1:41 - loss: 2.236 - ETA: 1:40 - loss: 2.229 - ETA: 1:40 - loss: 2.222 - ETA: 1:39 - loss: 2.217 - ETA: 1:39 - loss: 2.228 - ETA: 1:39 - loss: 2.223 - ETA: 1:38 - loss: 2.226 - ETA: 1:38 - loss: 2.229 - ETA: 1:37 - loss: 2.222 - ETA: 1:37 - loss: 2.216 - ETA: 1:36 - loss: 2.211 - ETA: 1:36 - loss: 2.217 - ETA: 1:36 - loss: 2.216 - ETA: 1:35 - loss: 2.214 - ETA: 1:35 - loss: 2.213 - ETA: 1:34 - loss: 2.210 - ETA: 1:34 - loss: 2.203 - ETA: 1:33 - loss: 2.199 - ETA: 1:33 - loss: 2.199 - ETA: 1:33 - loss: 2.196 - ETA: 1:32 - loss: 2.198 - ETA: 1:32 - loss: 2.197 - ETA: 1:31 - loss: 2.198 - ETA: 1:31 - loss: 2.197 - ETA: 1:30 - loss: 2.201 - ETA: 1:30 - loss: 2.212 - ETA: 1:30 - loss: 2.210 - ETA: 1:29 - loss: 2.215 - ETA: 1:29 - loss: 2.211 - ETA: 1:28 - loss: 2.204 - ETA: 1:28 - loss: 2.205 - ETA: 1:27 - loss: 2.200 - ETA: 1:27 - loss: 2.201 - ETA: 1:27 - loss: 2.199 - ETA: 1:26 - loss: 2.193 - ETA: 1:26 - loss: 2.192 - ETA: 1:25 - loss: 2.189 - ETA: 1:25 - loss: 2.187 - ETA: 1:24 - loss: 2.183 - ETA: 1:24 - loss: 2.192 - ETA: 1:24 - loss: 2.187 - ETA: 1:23 - loss: 2.193 - ETA: 1:23 - loss: 2.201 - ETA: 1:22 - loss: 2.196 - ETA: 1:22 - loss: 2.199 - ETA: 1:21 - loss: 2.199 - ETA: 1:21 - loss: 2.199 - ETA: 1:21 - loss: 2.194 - ETA: 1:20 - loss: 2.198 - ETA: 1:20 - loss: 2.200 - ETA: 1:19 - loss: 2.197 - ETA: 1:19 - loss: 2.196 - ETA: 1:18 - loss: 2.196 - ETA: 1:18 - loss: 2.199 - ETA: 1:18 - loss: 2.199 - ETA: 1:17 - loss: 2.206 - ETA: 1:17 - loss: 2.208 - ETA: 1:16 - loss: 2.204 - ETA: 1:16 - loss: 2.204 - ETA: 1:15 - loss: 2.201 - ETA: 1:15 - loss: 2.200 - ETA: 1:15 - loss: 2.204 - ETA: 1:14 - loss: 2.207 - ETA: 1:14 - loss: 2.208 - ETA: 1:13 - loss: 2.206 - ETA: 1:13 - loss: 2.212 - ETA: 1:12 - loss: 2.208 - ETA: 1:12 - loss: 2.213 - ETA: 1:12 - loss: 2.218 - ETA: 1:11 - loss: 2.214 - ETA: 1:11 - loss: 2.210 - ETA: 1:10 - loss: 2.209 - ETA: 1:10 - loss: 2.210 - ETA: 1:09 - loss: 2.207 - ETA: 1:09 - loss: 2.203 - ETA: 1:09 - loss: 2.199 - ETA: 1:08 - loss: 2.195 - ETA: 1:08 - loss: 2.190 - ETA: 1:07 - loss: 2.191 - ETA: 1:07 - loss: 2.197 - ETA: 1:06 - loss: 2.192 - ETA: 1:06 - loss: 2.195 - ETA: 1:06 - loss: 2.195 - ETA: 1:05 - loss: 2.191 - ETA: 1:05 - loss: 2.187 - ETA: 1:04 - loss: 2.185 - ETA: 1:04 - loss: 2.188 - ETA: 1:03 - loss: 2.193 - ETA: 1:03 - loss: 2.196 - ETA: 1:03 - loss: 2.191 - ETA: 1:02 - loss: 2.196 - ETA: 1:02 - loss: 2.191 - ETA: 1:01 - loss: 2.189 - ETA: 1:01 - loss: 2.188 - ETA: 1:00 - loss: 2.184 - ETA: 1:00 - loss: 2.181 - ETA: 59s - loss: 2.181 - ETA: 59s - loss: 2.18 - ETA: 59s - loss: 2.17 - ETA: 58s - loss: 2.18 - ETA: 58s - loss: 2.18 - ETA: 57s - loss: 2.18 - ETA: 57s - loss: 2.18 - ETA: 56s - loss: 2.17 - ETA: 56s - loss: 2.17 - ETA: 56s - loss: 2.17 - ETA: 55s - loss: 2.17 - ETA: 55s - loss: 2.17 - ETA: 54s - loss: 2.17 - ETA: 54s - loss: 2.17 - ETA: 53s - loss: 2.17 - ETA: 53s - loss: 2.16 - ETA: 53s - loss: 2.17 - ETA: 52s - loss: 2.17 - ETA: 52s - loss: 2.17 - ETA: 51s - loss: 2.16 - ETA: 51s - loss: 2.17 - ETA: 50s - loss: 2.17 - ETA: 50s - loss: 2.17 - ETA: 50s - loss: 2.16 - ETA: 49s - loss: 2.16 - ETA: 49s - loss: 2.17 - ETA: 48s - loss: 2.17 - ETA: 48s - loss: 2.16 - ETA: 47s - loss: 2.17 - ETA: 47s - loss: 2.17 - ETA: 47s - loss: 2.16 - ETA: 46s - loss: 2.17 - ETA: 46s - loss: 2.17 - ETA: 45s - loss: 2.17 - ETA: 45s - loss: 2.17 - ETA: 44s - loss: 2.17 - ETA: 44s - loss: 2.17 - ETA: 44s - loss: 2.17 - ETA: 43s - loss: 2.17 - ETA: 43s - loss: 2.17 - ETA: 42s - loss: 2.17 - ETA: 42s - loss: 2.17 - ETA: 41s - loss: 2.17 - ETA: 41s - loss: 2.17 - ETA: 41s - loss: 2.17 - ETA: 40s - loss: 2.16 - ETA: 40s - loss: 2.17 - ETA: 39s - loss: 2.16 - ETA: 39s - loss: 2.16 - ETA: 38s - loss: 2.16 - ETA: 38s - loss: 2.16 - ETA: 38s - loss: 2.16 - ETA: 37s - loss: 2.16 - ETA: 37s - loss: 2.16 - ETA: 36s - loss: 2.16 - ETA: 36s - loss: 2.17 - ETA: 35s - loss: 2.17 - ETA: 35s - loss: 2.1734"
     ]
    },
    {
     "name": "stdout",
     "output_type": "stream",
     "text": [
      "400/400 [==============================] - ETA: 34s - loss: 2.17 - ETA: 34s - loss: 2.17 - ETA: 34s - loss: 2.17 - ETA: 33s - loss: 2.17 - ETA: 33s - loss: 2.17 - ETA: 32s - loss: 2.16 - ETA: 32s - loss: 2.17 - ETA: 31s - loss: 2.17 - ETA: 31s - loss: 2.17 - ETA: 31s - loss: 2.17 - ETA: 30s - loss: 2.17 - ETA: 30s - loss: 2.17 - ETA: 29s - loss: 2.17 - ETA: 29s - loss: 2.18 - ETA: 28s - loss: 2.17 - ETA: 28s - loss: 2.17 - ETA: 28s - loss: 2.17 - ETA: 27s - loss: 2.17 - ETA: 27s - loss: 2.17 - ETA: 26s - loss: 2.17 - ETA: 26s - loss: 2.17 - ETA: 25s - loss: 2.17 - ETA: 25s - loss: 2.17 - ETA: 25s - loss: 2.17 - ETA: 24s - loss: 2.17 - ETA: 24s - loss: 2.17 - ETA: 23s - loss: 2.17 - ETA: 23s - loss: 2.17 - ETA: 22s - loss: 2.18 - ETA: 22s - loss: 2.18 - ETA: 22s - loss: 2.18 - ETA: 21s - loss: 2.18 - ETA: 21s - loss: 2.18 - ETA: 20s - loss: 2.18 - ETA: 20s - loss: 2.18 - ETA: 19s - loss: 2.18 - ETA: 19s - loss: 2.18 - ETA: 19s - loss: 2.18 - ETA: 18s - loss: 2.18 - ETA: 18s - loss: 2.18 - ETA: 17s - loss: 2.18 - ETA: 17s - loss: 2.18 - ETA: 16s - loss: 2.18 - ETA: 16s - loss: 2.18 - ETA: 15s - loss: 2.18 - ETA: 15s - loss: 2.17 - ETA: 15s - loss: 2.17 - ETA: 14s - loss: 2.17 - ETA: 14s - loss: 2.17 - ETA: 13s - loss: 2.18 - ETA: 13s - loss: 2.17 - ETA: 12s - loss: 2.17 - ETA: 12s - loss: 2.17 - ETA: 12s - loss: 2.17 - ETA: 11s - loss: 2.17 - ETA: 11s - loss: 2.17 - ETA: 10s - loss: 2.18 - ETA: 10s - loss: 2.18 - ETA: 9s - loss: 2.1831 - ETA: 9s - loss: 2.183 - ETA: 9s - loss: 2.184 - ETA: 8s - loss: 2.182 - ETA: 8s - loss: 2.183 - ETA: 7s - loss: 2.189 - ETA: 7s - loss: 2.193 - ETA: 6s - loss: 2.195 - ETA: 6s - loss: 2.197 - ETA: 6s - loss: 2.197 - ETA: 5s - loss: 2.196 - ETA: 5s - loss: 2.196 - ETA: 4s - loss: 2.194 - ETA: 4s - loss: 2.197 - ETA: 3s - loss: 2.195 - ETA: 3s - loss: 2.200 - ETA: 3s - loss: 2.198 - ETA: 2s - loss: 2.196 - ETA: 2s - loss: 2.196 - ETA: 1s - loss: 2.195 - ETA: 1s - loss: 2.195 - ETA: 0s - loss: 2.193 - ETA: 0s - loss: 2.194 - 235s 587ms/step - loss: 2.2009 - val_loss: 2.3842\n",
      "Epoch 12/12\n"
     ]
    },
    {
     "name": "stdout",
     "output_type": "stream",
     "text": [
      "318/400 [======================>.......] - ETA: 3:00 - loss: 1.037 - ETA: 2:58 - loss: 2.292 - ETA: 3:00 - loss: 1.824 - ETA: 2:59 - loss: 1.617 - ETA: 2:57 - loss: 1.640 - ETA: 2:55 - loss: 2.106 - ETA: 2:54 - loss: 2.063 - ETA: 2:53 - loss: 1.941 - ETA: 2:52 - loss: 2.095 - ETA: 2:52 - loss: 2.013 - ETA: 2:51 - loss: 1.925 - ETA: 2:50 - loss: 1.915 - ETA: 2:49 - loss: 1.861 - ETA: 2:49 - loss: 2.039 - ETA: 2:48 - loss: 2.017 - ETA: 2:47 - loss: 2.108 - ETA: 2:47 - loss: 2.039 - ETA: 2:46 - loss: 2.149 - ETA: 2:46 - loss: 2.131 - ETA: 2:45 - loss: 2.101 - ETA: 2:45 - loss: 2.090 - ETA: 2:44 - loss: 2.069 - ETA: 2:43 - loss: 2.077 - ETA: 2:43 - loss: 2.040 - ETA: 2:42 - loss: 2.024 - ETA: 2:42 - loss: 1.991 - ETA: 2:42 - loss: 1.949 - ETA: 2:41 - loss: 1.957 - ETA: 2:40 - loss: 1.970 - ETA: 2:40 - loss: 1.980 - ETA: 2:40 - loss: 1.955 - ETA: 2:39 - loss: 1.947 - ETA: 2:39 - loss: 1.989 - ETA: 2:38 - loss: 2.056 - ETA: 2:38 - loss: 2.052 - ETA: 2:37 - loss: 2.016 - ETA: 2:37 - loss: 2.043 - ETA: 2:36 - loss: 2.031 - ETA: 2:36 - loss: 2.010 - ETA: 2:36 - loss: 1.989 - ETA: 2:35 - loss: 2.001 - ETA: 2:35 - loss: 1.981 - ETA: 2:34 - loss: 1.963 - ETA: 2:34 - loss: 1.967 - ETA: 2:34 - loss: 2.029 - ETA: 2:33 - loss: 2.033 - ETA: 2:33 - loss: 2.032 - ETA: 2:32 - loss: 2.071 - ETA: 2:32 - loss: 2.122 - ETA: 2:31 - loss: 2.109 - ETA: 2:31 - loss: 2.097 - ETA: 2:30 - loss: 2.129 - ETA: 2:30 - loss: 2.126 - ETA: 2:30 - loss: 2.116 - ETA: 2:29 - loss: 2.104 - ETA: 2:29 - loss: 2.141 - ETA: 2:28 - loss: 2.136 - ETA: 2:28 - loss: 2.122 - ETA: 2:27 - loss: 2.125 - ETA: 2:27 - loss: 2.124 - ETA: 2:26 - loss: 2.112 - ETA: 2:26 - loss: 2.100 - ETA: 2:26 - loss: 2.108 - ETA: 2:25 - loss: 2.135 - ETA: 2:25 - loss: 2.156 - ETA: 2:24 - loss: 2.156 - ETA: 2:24 - loss: 2.164 - ETA: 2:23 - loss: 2.171 - ETA: 2:23 - loss: 2.192 - ETA: 2:22 - loss: 2.182 - ETA: 2:22 - loss: 2.174 - ETA: 2:22 - loss: 2.164 - ETA: 2:21 - loss: 2.148 - ETA: 2:21 - loss: 2.152 - ETA: 2:20 - loss: 2.143 - ETA: 2:20 - loss: 2.138 - ETA: 2:19 - loss: 2.128 - ETA: 2:19 - loss: 2.121 - ETA: 2:19 - loss: 2.116 - ETA: 2:18 - loss: 2.110 - ETA: 2:18 - loss: 2.104 - ETA: 2:17 - loss: 2.115 - ETA: 2:17 - loss: 2.103 - ETA: 2:16 - loss: 2.123 - ETA: 2:16 - loss: 2.117 - ETA: 2:15 - loss: 2.108 - ETA: 2:15 - loss: 2.130 - ETA: 2:15 - loss: 2.154 - ETA: 2:14 - loss: 2.144 - ETA: 2:14 - loss: 2.137 - ETA: 2:13 - loss: 2.129 - ETA: 2:13 - loss: 2.116 - ETA: 2:12 - loss: 2.130 - ETA: 2:12 - loss: 2.124 - ETA: 2:12 - loss: 2.118 - ETA: 2:11 - loss: 2.116 - ETA: 2:11 - loss: 2.132 - ETA: 2:10 - loss: 2.146 - ETA: 2:10 - loss: 2.136 - ETA: 2:09 - loss: 2.137 - ETA: 2:09 - loss: 2.127 - ETA: 2:08 - loss: 2.143 - ETA: 2:08 - loss: 2.144 - ETA: 2:08 - loss: 2.150 - ETA: 2:07 - loss: 2.157 - ETA: 2:07 - loss: 2.173 - ETA: 2:06 - loss: 2.176 - ETA: 2:06 - loss: 2.185 - ETA: 2:05 - loss: 2.189 - ETA: 2:05 - loss: 2.186 - ETA: 2:05 - loss: 2.202 - ETA: 2:04 - loss: 2.206 - ETA: 2:04 - loss: 2.199 - ETA: 2:03 - loss: 2.192 - ETA: 2:03 - loss: 2.186 - ETA: 2:02 - loss: 2.186 - ETA: 2:02 - loss: 2.193 - ETA: 2:02 - loss: 2.207 - ETA: 2:01 - loss: 2.207 - ETA: 2:01 - loss: 2.217 - ETA: 2:00 - loss: 2.226 - ETA: 2:00 - loss: 2.225 - ETA: 1:59 - loss: 2.229 - ETA: 1:59 - loss: 2.227 - ETA: 1:59 - loss: 2.225 - ETA: 1:58 - loss: 2.242 - ETA: 1:58 - loss: 2.231 - ETA: 1:57 - loss: 2.235 - ETA: 1:57 - loss: 2.229 - ETA: 1:56 - loss: 2.234 - ETA: 1:56 - loss: 2.236 - ETA: 1:55 - loss: 2.236 - ETA: 1:55 - loss: 2.236 - ETA: 1:55 - loss: 2.239 - ETA: 1:54 - loss: 2.254 - ETA: 1:54 - loss: 2.250 - ETA: 1:53 - loss: 2.248 - ETA: 1:53 - loss: 2.239 - ETA: 1:52 - loss: 2.250 - ETA: 1:52 - loss: 2.250 - ETA: 1:52 - loss: 2.244 - ETA: 1:51 - loss: 2.247 - ETA: 1:51 - loss: 2.250 - ETA: 1:50 - loss: 2.244 - ETA: 1:50 - loss: 2.241 - ETA: 1:49 - loss: 2.235 - ETA: 1:49 - loss: 2.234 - ETA: 1:49 - loss: 2.230 - ETA: 1:48 - loss: 2.224 - ETA: 1:48 - loss: 2.217 - ETA: 1:47 - loss: 2.215 - ETA: 1:47 - loss: 2.211 - ETA: 1:46 - loss: 2.214 - ETA: 1:46 - loss: 2.226 - ETA: 1:45 - loss: 2.231 - ETA: 1:45 - loss: 2.225 - ETA: 1:45 - loss: 2.217 - ETA: 1:44 - loss: 2.210 - ETA: 1:44 - loss: 2.208 - ETA: 1:43 - loss: 2.219 - ETA: 1:43 - loss: 2.222 - ETA: 1:42 - loss: 2.220 - ETA: 1:42 - loss: 2.216 - ETA: 1:42 - loss: 2.215 - ETA: 1:41 - loss: 2.216 - ETA: 1:41 - loss: 2.209 - ETA: 1:40 - loss: 2.207 - ETA: 1:40 - loss: 2.210 - ETA: 1:39 - loss: 2.206 - ETA: 1:39 - loss: 2.208 - ETA: 1:39 - loss: 2.202 - ETA: 1:38 - loss: 2.211 - ETA: 1:38 - loss: 2.214 - ETA: 1:37 - loss: 2.206 - ETA: 1:37 - loss: 2.213 - ETA: 1:36 - loss: 2.215 - ETA: 1:36 - loss: 2.217 - ETA: 1:36 - loss: 2.212 - ETA: 1:35 - loss: 2.224 - ETA: 1:35 - loss: 2.220 - ETA: 1:34 - loss: 2.220 - ETA: 1:34 - loss: 2.225 - ETA: 1:33 - loss: 2.221 - ETA: 1:33 - loss: 2.217 - ETA: 1:33 - loss: 2.218 - ETA: 1:32 - loss: 2.217 - ETA: 1:32 - loss: 2.224 - ETA: 1:31 - loss: 2.235 - ETA: 1:31 - loss: 2.231 - ETA: 1:30 - loss: 2.228 - ETA: 1:30 - loss: 2.224 - ETA: 1:30 - loss: 2.219 - ETA: 1:29 - loss: 2.222 - ETA: 1:29 - loss: 2.231 - ETA: 1:28 - loss: 2.226 - ETA: 1:28 - loss: 2.221 - ETA: 1:27 - loss: 2.222 - ETA: 1:27 - loss: 2.225 - ETA: 1:27 - loss: 2.225 - ETA: 1:26 - loss: 2.227 - ETA: 1:26 - loss: 2.221 - ETA: 1:25 - loss: 2.236 - ETA: 1:25 - loss: 2.247 - ETA: 1:24 - loss: 2.248 - ETA: 1:24 - loss: 2.242 - ETA: 1:23 - loss: 2.245 - ETA: 1:23 - loss: 2.245 - ETA: 1:23 - loss: 2.242 - ETA: 1:22 - loss: 2.245 - ETA: 1:22 - loss: 2.243 - ETA: 1:21 - loss: 2.238 - ETA: 1:21 - loss: 2.236 - ETA: 1:20 - loss: 2.236 - ETA: 1:20 - loss: 2.236 - ETA: 1:20 - loss: 2.236 - ETA: 1:19 - loss: 2.242 - ETA: 1:19 - loss: 2.238 - ETA: 1:18 - loss: 2.238 - ETA: 1:18 - loss: 2.240 - ETA: 1:17 - loss: 2.243 - ETA: 1:17 - loss: 2.240 - ETA: 1:17 - loss: 2.237 - ETA: 1:16 - loss: 2.237 - ETA: 1:16 - loss: 2.235 - ETA: 1:15 - loss: 2.232 - ETA: 1:15 - loss: 2.231 - ETA: 1:14 - loss: 2.234 - ETA: 1:14 - loss: 2.230 - ETA: 1:13 - loss: 2.227 - ETA: 1:13 - loss: 2.226 - ETA: 1:13 - loss: 2.228 - ETA: 1:12 - loss: 2.226 - ETA: 1:12 - loss: 2.224 - ETA: 1:11 - loss: 2.231 - ETA: 1:11 - loss: 2.227 - ETA: 1:10 - loss: 2.227 - ETA: 1:10 - loss: 2.230 - ETA: 1:10 - loss: 2.229 - ETA: 1:09 - loss: 2.226 - ETA: 1:09 - loss: 2.225 - ETA: 1:08 - loss: 2.225 - ETA: 1:08 - loss: 2.226 - ETA: 1:07 - loss: 2.228 - ETA: 1:07 - loss: 2.227 - ETA: 1:07 - loss: 2.222 - ETA: 1:06 - loss: 2.223 - ETA: 1:06 - loss: 2.225 - ETA: 1:05 - loss: 2.222 - ETA: 1:05 - loss: 2.228 - ETA: 1:04 - loss: 2.230 - ETA: 1:04 - loss: 2.226 - ETA: 1:04 - loss: 2.229 - ETA: 1:03 - loss: 2.230 - ETA: 1:03 - loss: 2.227 - ETA: 1:02 - loss: 2.228 - ETA: 1:02 - loss: 2.225 - ETA: 1:01 - loss: 2.226 - ETA: 1:01 - loss: 2.224 - ETA: 1:01 - loss: 2.220 - ETA: 1:00 - loss: 2.217 - ETA: 1:00 - loss: 2.219 - ETA: 59s - loss: 2.221 - ETA: 59s - loss: 2.22 - ETA: 58s - loss: 2.21 - ETA: 58s - loss: 2.21 - ETA: 58s - loss: 2.21 - ETA: 57s - loss: 2.21 - ETA: 57s - loss: 2.21 - ETA: 56s - loss: 2.21 - ETA: 56s - loss: 2.21 - ETA: 55s - loss: 2.21 - ETA: 55s - loss: 2.21 - ETA: 54s - loss: 2.22 - ETA: 54s - loss: 2.22 - ETA: 54s - loss: 2.22 - ETA: 53s - loss: 2.22 - ETA: 53s - loss: 2.22 - ETA: 52s - loss: 2.22 - ETA: 52s - loss: 2.22 - ETA: 51s - loss: 2.22 - ETA: 51s - loss: 2.22 - ETA: 51s - loss: 2.23 - ETA: 50s - loss: 2.23 - ETA: 50s - loss: 2.24 - ETA: 49s - loss: 2.23 - ETA: 49s - loss: 2.23 - ETA: 48s - loss: 2.23 - ETA: 48s - loss: 2.23 - ETA: 48s - loss: 2.23 - ETA: 47s - loss: 2.23 - ETA: 47s - loss: 2.23 - ETA: 46s - loss: 2.22 - ETA: 46s - loss: 2.23 - ETA: 45s - loss: 2.23 - ETA: 45s - loss: 2.23 - ETA: 45s - loss: 2.23 - ETA: 44s - loss: 2.24 - ETA: 44s - loss: 2.24 - ETA: 43s - loss: 2.24 - ETA: 43s - loss: 2.24 - ETA: 42s - loss: 2.23 - ETA: 42s - loss: 2.23 - ETA: 41s - loss: 2.23 - ETA: 41s - loss: 2.24 - ETA: 41s - loss: 2.24 - ETA: 40s - loss: 2.23 - ETA: 40s - loss: 2.23 - ETA: 39s - loss: 2.24 - ETA: 39s - loss: 2.23 - ETA: 38s - loss: 2.24 - ETA: 38s - loss: 2.24 - ETA: 38s - loss: 2.23 - ETA: 37s - loss: 2.23 - ETA: 37s - loss: 2.23 - ETA: 36s - loss: 2.23 - ETA: 36s - loss: 2.24 - ETA: 35s - loss: 2.23 - ETA: 35s - loss: 2.2360"
     ]
    },
    {
     "name": "stdout",
     "output_type": "stream",
     "text": [
      "400/400 [==============================] - ETA: 35s - loss: 2.23 - ETA: 34s - loss: 2.23 - ETA: 34s - loss: 2.23 - ETA: 33s - loss: 2.23 - ETA: 33s - loss: 2.23 - ETA: 32s - loss: 2.22 - ETA: 32s - loss: 2.23 - ETA: 32s - loss: 2.23 - ETA: 31s - loss: 2.23 - ETA: 31s - loss: 2.23 - ETA: 30s - loss: 2.22 - ETA: 30s - loss: 2.22 - ETA: 29s - loss: 2.22 - ETA: 29s - loss: 2.22 - ETA: 29s - loss: 2.21 - ETA: 28s - loss: 2.22 - ETA: 28s - loss: 2.22 - ETA: 27s - loss: 2.22 - ETA: 27s - loss: 2.22 - ETA: 26s - loss: 2.22 - ETA: 26s - loss: 2.22 - ETA: 25s - loss: 2.22 - ETA: 25s - loss: 2.22 - ETA: 25s - loss: 2.22 - ETA: 24s - loss: 2.22 - ETA: 24s - loss: 2.22 - ETA: 23s - loss: 2.22 - ETA: 23s - loss: 2.22 - ETA: 22s - loss: 2.23 - ETA: 22s - loss: 2.23 - ETA: 22s - loss: 2.23 - ETA: 21s - loss: 2.23 - ETA: 21s - loss: 2.23 - ETA: 20s - loss: 2.23 - ETA: 20s - loss: 2.23 - ETA: 19s - loss: 2.23 - ETA: 19s - loss: 2.23 - ETA: 19s - loss: 2.23 - ETA: 18s - loss: 2.23 - ETA: 18s - loss: 2.24 - ETA: 17s - loss: 2.24 - ETA: 17s - loss: 2.24 - ETA: 16s - loss: 2.24 - ETA: 16s - loss: 2.24 - ETA: 16s - loss: 2.24 - ETA: 15s - loss: 2.24 - ETA: 15s - loss: 2.24 - ETA: 14s - loss: 2.24 - ETA: 14s - loss: 2.24 - ETA: 13s - loss: 2.24 - ETA: 13s - loss: 2.23 - ETA: 12s - loss: 2.23 - ETA: 12s - loss: 2.24 - ETA: 12s - loss: 2.23 - ETA: 11s - loss: 2.24 - ETA: 11s - loss: 2.24 - ETA: 10s - loss: 2.24 - ETA: 10s - loss: 2.24 - ETA: 9s - loss: 2.2413 - ETA: 9s - loss: 2.240 - ETA: 9s - loss: 2.239 - ETA: 8s - loss: 2.239 - ETA: 8s - loss: 2.242 - ETA: 7s - loss: 2.242 - ETA: 7s - loss: 2.242 - ETA: 6s - loss: 2.241 - ETA: 6s - loss: 2.240 - ETA: 6s - loss: 2.241 - ETA: 5s - loss: 2.241 - ETA: 5s - loss: 2.242 - ETA: 4s - loss: 2.239 - ETA: 4s - loss: 2.242 - ETA: 3s - loss: 2.246 - ETA: 3s - loss: 2.243 - ETA: 3s - loss: 2.242 - ETA: 2s - loss: 2.243 - ETA: 2s - loss: 2.242 - ETA: 1s - loss: 2.244 - ETA: 1s - loss: 2.242 - ETA: 0s - loss: 2.239 - ETA: 0s - loss: 2.236 - 233s 584ms/step - loss: 2.2364 - val_loss: 2.4420\n",
      "--- 3178.446261405945 seconds ---\n"
     ]
    }
   ],
   "source": [
    "import time\n",
    "start_time = time.time()\n",
    "hist = model.fit_generator(\n",
    "    generator =  train_gen,\n",
    "    epochs = 12, # 150\n",
    "    verbose = 1, \n",
    "    validation_data = valid_gen,\n",
    "    callbacks = [\n",
    "        EarlyStopping(monitor='val_loss', patience = 150, verbose = 1)\n",
    "    ]\n",
    ")\n",
    "print(\"--- %s seconds ---\" % (time.time() - start_time))"
   ]
  },
  {
   "cell_type": "code",
   "execution_count": 17,
   "metadata": {
    "_uuid": "9b4790925984514e64ca5a9b46de8b309062e0cf"
   },
   "outputs": [
    {
     "data": {
      "image/png": "[encoded data removed]",
      "text/plain": [
       "<Figure size 432x288 with 1 Axes>"
      ]
     },
     "metadata": {
      "needs_background": "light"
     },
     "output_type": "display_data"
    }
   ],
   "source": [
    "plt.plot(hist.history['loss'])\n",
    "plt.plot(hist.history['val_loss'])\n",
    "plt.title('Model loss')\n",
    "plt.ylabel('Loss')\n",
    "plt.xlabel('Epoch')\n",
    "_= plt.legend(['Train', 'Test'], loc='upper left')"
   ]
  },
  {
   "cell_type": "code",
   "execution_count": 18,
   "metadata": {},
   "outputs": [
    {
     "data": {
      "text/plain": [
       "3561"
      ]
     },
     "execution_count": 18,
     "metadata": {},
     "output_type": "execute_result"
    }
   ],
   "source": [
    "import gc\n",
    "# del train_gen\n",
    "# del valid_gen\n",
    "# del X_train\n",
    "# del y_train\n",
    "# del train_df\n",
    "gc.collect()\n"
   ]
  },
  {
   "cell_type": "code",
   "execution_count": 19,
   "metadata": {},
   "outputs": [],
   "source": [
    "model.save_weights('./trained_model.h5', overwrite=True)"
   ]
  },
  {
   "cell_type": "markdown",
   "metadata": {
    "_uuid": "c3340d6d6ce75585f90c98f1728b1cd664d7f33f"
   },
   "source": [
    "Load and normalize the test data"
   ]
  },
  {
   "cell_type": "code",
   "execution_count": 20,
   "metadata": {},
   "outputs": [],
   "source": [
    "def load_test(ts_length = 150000):\n",
    "    base_dir = DATA/'test'\n",
    "    test_files = [f for f in listdir(base_dir) if isfile(join(base_dir, f))]\n",
    "\n",
    "    ts = np.empty([len(test_files), ts_length])\n",
    "    ids = []\n",
    "    \n",
    "    i = 0\n",
    "    for f in tqdm_notebook(test_files):\n",
    "        ids.append(splitext(f)[0])\n",
    "        t_df = pd.read_csv(base_dir/f, dtype={\"acoustic_data\": np.int8})\n",
    "        ts[i, :] = t_df['acoustic_data'].values\n",
    "        i = i + 1\n",
    "\n",
    "    return ts, ids"
   ]
  },
  {
   "cell_type": "code",
   "execution_count": 21,
   "metadata": {
    "_uuid": "0f005579ea08913f4f68a3749bd761df6cef2b1b"
   },
   "outputs": [
    {
     "data": {
      "application/vnd.jupyter.widget-view+json": {
       "model_id": "cf90595ea177408e96707f8ea9075272",
       "version_major": 2,
       "version_minor": 0
      },
      "text/plain": [
       "HBox(children=(IntProgress(value=0, max=2624), HTML(value='')))"
      ]
     },
     "metadata": {},
     "output_type": "display_data"
    },
    {
     "name": "stdout",
     "output_type": "stream",
     "text": [
      "\n"
     ]
    }
   ],
   "source": [
    "test_data, test_ids = load_test()"
   ]
  },
  {
   "cell_type": "code",
   "execution_count": 22,
   "metadata": {
    "_uuid": "0c3b7a864a9f53af142a08883def46c3866c5464"
   },
   "outputs": [
    {
     "data": {
      "text/plain": [
       "(2624, 150000, 1)"
      ]
     },
     "execution_count": 22,
     "metadata": {},
     "output_type": "execute_result"
    }
   ],
   "source": [
    "X_test = ((test_data - X_train_mean)/ X_train_std)\n",
    "X_test = np.expand_dims(X_test, 2)\n",
    "X_test.shape"
   ]
  },
  {
   "cell_type": "markdown",
   "metadata": {
    "_uuid": "bf9b36929e5228d4d94b3b7ad1b9011bf088ac44"
   },
   "source": [
    "Load best model and predict"
   ]
  },
  {
   "cell_type": "code",
   "execution_count": 23,
   "metadata": {
    "_uuid": "435449fda2bf96635e67d69f56227e140c4cea99"
   },
   "outputs": [],
   "source": [
    "y_pred = model.predict(X_test)"
   ]
  },
  {
   "cell_type": "code",
   "execution_count": 24,
   "metadata": {
    "_uuid": "9aaf9fb44edba5879a75c68820527d9180d2b3c6"
   },
   "outputs": [],
   "source": [
    "submission_df = pd.DataFrame({'seg_id': test_ids, 'time_to_failure': y_pred[:, 0]})"
   ]
  },
  {
   "cell_type": "code",
   "execution_count": 25,
   "metadata": {
    "_uuid": "9b9d5c63161f637de2e39b59e8e4d7c2f3049581"
   },
   "outputs": [],
   "source": [
    "submission_df.to_csv(\"submission.csv\", index=False)"
   ]
  }
 ],
 "metadata": {
  "kernelspec": {
   "display_name": "Python 3",
   "language": "python",
   "name": "python3"
  },
  "language_info": {
   "codemirror_mode": {
    "name": "ipython",
    "version": 3
   },
   "file_extension": ".py",
   "mimetype": "text/x-python",
   "name": "python",
   "nbconvert_exporter": "python",
   "pygments_lexer": "ipython3",
   "version": "3.7.3"
  }
 },
 "nbformat": 4,
 "nbformat_minor": 1
}
