{
 "cells": [
  {
   "cell_type": "code",
   "execution_count": 1,
   "metadata": {
    "_kg_hide-input": false,
    "_uuid": "e1baa7518f18a7ff1f2767df1b29c051955502ff"
   },
   "outputs": [
    {
     "name": "stderr",
     "output_type": "stream",
     "text": [
      "Using TensorFlow backend.\n"
     ]
    }
   ],
   "source": [
    "%matplotlib inline\n",
    "\n",
    "from os import listdir, makedirs\n",
    "from os.path import isfile, join, basename, splitext, isfile, exists\n",
    "from pathlib import Path\n",
    "\n",
    "import numpy as np\n",
    "import pandas as pd\n",
    "\n",
    "from tqdm import tqdm_notebook\n",
    "\n",
    "import tensorflow as tf\n",
    "import keras.backend as K\n",
    "\n",
    "import keras\n",
    "from keras.engine.input_layer import Input\n",
    "\n",
    "import matplotlib.pyplot as plt\n",
    "import seaborn as sns\n",
    "\n",
    "import random, os, sys\n",
    "from keras.models import *\n",
    "from keras.layers import *\n",
    "from keras.callbacks import *\n",
    "from keras.initializers import *\n",
    "import tensorflow as tf\n",
    "from keras.engine.topology import Layer\n",
    "\n",
    "pd.set_option('precision', 30)\n",
    "np.set_printoptions(precision = 30)\n",
    "\n",
    "np.random.seed(368)\n",
    "tf.set_random_seed(368)"
   ]
  },
  {
   "cell_type": "code",
   "execution_count": 2,
   "metadata": {},
   "outputs": [],
   "source": [
    "DATA = Path('../../Data')"
   ]
  },
  {
   "cell_type": "code",
   "execution_count": 3,
   "metadata": {
    "_uuid": "ccfffa3051a10a0eb8c74527bd8d788c49a340f2"
   },
   "outputs": [
    {
     "name": "stdout",
     "output_type": "stream",
     "text": [
      "Wall time: 2min 23s\n"
     ]
    }
   ],
   "source": [
    "%time train_df = pd.read_csv(DATA/'train.csv', dtype={'acoustic_data': np.int8, 'time_to_failure': np.float32})"
   ]
  },
  {
   "cell_type": "code",
   "execution_count": 4,
   "metadata": {
    "_kg_hide-input": false,
    "_kg_hide-output": false,
    "_uuid": "30679acc658f8437d3126d4353068f7d40588a29"
   },
   "outputs": [
    {
     "data": {
      "text/html": [
       "<div>\n",
       "<style scoped>\n",
       "    .dataframe tbody tr th:only-of-type {\n",
       "        vertical-align: middle;\n",
       "    }\n",
       "\n",
       "    .dataframe tbody tr th {\n",
       "        vertical-align: top;\n",
       "    }\n",
       "\n",
       "    .dataframe thead th {\n",
       "        text-align: right;\n",
       "    }\n",
       "</style>\n",
       "<table border=\"1\" class=\"dataframe\">\n",
       "  <thead>\n",
       "    <tr style=\"text-align: right;\">\n",
       "      <th></th>\n",
       "      <th>acoustic_data</th>\n",
       "      <th>time_to_failure</th>\n",
       "    </tr>\n",
       "  </thead>\n",
       "  <tbody>\n",
       "    <tr>\n",
       "      <th>0</th>\n",
       "      <td>12</td>\n",
       "      <td>1.46909999847412109375</td>\n",
       "    </tr>\n",
       "    <tr>\n",
       "      <th>1</th>\n",
       "      <td>6</td>\n",
       "      <td>1.46909999847412109375</td>\n",
       "    </tr>\n",
       "    <tr>\n",
       "      <th>2</th>\n",
       "      <td>8</td>\n",
       "      <td>1.46909999847412109375</td>\n",
       "    </tr>\n",
       "    <tr>\n",
       "      <th>3</th>\n",
       "      <td>5</td>\n",
       "      <td>1.46909999847412109375</td>\n",
       "    </tr>\n",
       "    <tr>\n",
       "      <th>4</th>\n",
       "      <td>8</td>\n",
       "      <td>1.46909999847412109375</td>\n",
       "    </tr>\n",
       "  </tbody>\n",
       "</table>\n",
       "</div>"
      ],
      "text/plain": [
       "   acoustic_data         time_to_failure\n",
       "0             12  1.46909999847412109375\n",
       "1              6  1.46909999847412109375\n",
       "2              8  1.46909999847412109375\n",
       "3              5  1.46909999847412109375\n",
       "4              8  1.46909999847412109375"
      ]
     },
     "execution_count": 4,
     "metadata": {},
     "output_type": "execute_result"
    }
   ],
   "source": [
    "train_df.head()"
   ]
  },
  {
   "cell_type": "code",
   "execution_count": 5,
   "metadata": {
    "_uuid": "693ff1759a78bcc26123e47b011355b54a8ac6ab"
   },
   "outputs": [],
   "source": [
    "X_train = train_df.acoustic_data.values\n",
    "y_train = train_df.time_to_failure.values"
   ]
  },
  {
   "cell_type": "markdown",
   "metadata": {
    "_uuid": "10f0836f9ac55fd57430633125ee33293b8c3bab"
   },
   "source": [
    "Find complete segments in the training data (time to failure goes to zero)"
   ]
  },
  {
   "cell_type": "code",
   "execution_count": 6,
   "metadata": {
    "_uuid": "f0f90d3483c4349050cb3e9ada89cfaf974bb0c4"
   },
   "outputs": [
    {
     "name": "stdout",
     "output_type": "stream",
     "text": [
      "[(0, 5656573), (5656573, 50085877), (50085877, 104677355), (104677355, 138772452), (138772452, 187641819), (187641819, 218652629), (218652629, 245829584), (245829584, 307838916), (307838916, 338276286), (338276286, 375377847), (375377847, 419368879), (419368879, 461811622), (461811622, 495800224), (495800224, 528777114), (528777114, 585568143), (585568143, 621985672)]\n"
     ]
    }
   ],
   "source": [
    "ends_mask = np.less(y_train[:-1], y_train[1:])\n",
    "segment_ends = np.nonzero(ends_mask)\n",
    "\n",
    "train_segments = []\n",
    "start = 0\n",
    "for end in segment_ends[0]:\n",
    "    train_segments.append((start, end))\n",
    "    start = end\n",
    "    \n",
    "print(train_segments)"
   ]
  },
  {
   "cell_type": "code",
   "execution_count": 7,
   "metadata": {
    "_uuid": "2e1194a9e1726095db78e14183c971a1dcbc89a1"
   },
   "outputs": [
    {
     "data": {
      "image/png": "[encoded data removed]",
      "text/plain": [
       "<Figure size 432x288 with 1 Axes>"
      ]
     },
     "metadata": {
      "needs_background": "light"
     },
     "output_type": "display_data"
    }
   ],
   "source": [
    "plt.title('Segment sizes')\n",
    "_ = plt.bar(np.arange(len(train_segments)), [ s[1] - s[0] for s in train_segments])"
   ]
  },
  {
   "cell_type": "markdown",
   "metadata": {
    "_uuid": "5ad80d3483b09c18d07bb62229a802d2284cd0e3"
   },
   "source": [
    "The generator samples randomly from the segmens without crossing the boundaries"
   ]
  },
  {
   "cell_type": "code",
   "execution_count": 8,
   "metadata": {
    "_uuid": "389b43c4107c58029e048522b9b29a38662769c8"
   },
   "outputs": [],
   "source": [
    "class EarthQuakeRandom(keras.utils.Sequence):\n",
    "\n",
    "    def __init__(self, x, y, x_mean, x_std, segments, ts_length, batch_size, steps_per_epoch):\n",
    "        self.x = x\n",
    "        self.y = y\n",
    "        self.segments = segments\n",
    "        self.ts_length = ts_length\n",
    "        self.batch_size = batch_size\n",
    "        self.steps_per_epoch = steps_per_epoch\n",
    "        self.segments_size = np.array([s[1] - s[0] for s in segments])\n",
    "        self.segments_p = self.segments_size / self.segments_size.sum()\n",
    "        self.x_mean = x_mean\n",
    "        self.x_std = x_std\n",
    "\n",
    "    def get_batch_size(self):\n",
    "        return self.batch_size\n",
    "\n",
    "    def get_ts_length(self):\n",
    "        return self.ts_length\n",
    "\n",
    "    def get_segments(self):\n",
    "        return self.segments\n",
    "\n",
    "    def get_segments_p(self):\n",
    "        return self.segments_p\n",
    "\n",
    "    def get_segments_size(self):\n",
    "        return self.segments_size\n",
    "\n",
    "    def __len__(self):\n",
    "        return self.steps_per_epoch\n",
    "\n",
    "    def __getitem__(self, idx):\n",
    "        # Homogeneous\n",
    "#         segment_index = np.random.choice(range(len(self.segments)), p=self.segments_p)\n",
    "#         segment = self.segments[segment_index]\n",
    "#         end_indexes = np.random.randint(segment[0] + self.ts_length, segment[1], size=self.batch_size)\n",
    "        # Heterogeneous\n",
    "        end_indexes = np.random.randint(self.segments[0][0] + self.ts_length + 25000,\n",
    "                                        self.segments[-1][1], size=self.batch_size)\n",
    "        # Heterogeneous, Low-Res\n",
    "        end_indexes = (end_indexes // 25000) * 25000\n",
    "\n",
    "        x_batch = np.empty((self.batch_size, self.ts_length))\n",
    "        y_batch = np.empty(self.batch_size, )\n",
    "\n",
    "        for i, end in enumerate(end_indexes):\n",
    "            x_batch[i, :] = self.x[end - self.ts_length: end]\n",
    "            y_batch[i] = self.y[end - 1]\n",
    "            \n",
    "        x_batch = (x_batch - self.x_mean)/self.x_std\n",
    "\n",
    "        return np.expand_dims(x_batch, axis=2), y_batch"
   ]
  },
  {
   "cell_type": "markdown",
   "metadata": {
    "_uuid": "d7985fae8438678b6542b73dc80b64ceb35bde22"
   },
   "source": [
    "We could use any segments for training / validation"
   ]
  },
  {
   "cell_type": "code",
   "execution_count": 9,
   "metadata": {
    "_uuid": "a2287d88c18d90e7f1cf41917265698354b48624"
   },
   "outputs": [],
   "source": [
    "t_segments = [train_segments[i] for i in [ 4, 5, 6, 7, 8, 9, 10, 11, 12, 13, 14, 15]]\n",
    "v_segments = [train_segments[i] for i in [ 0, 1, 2, 3]]"
   ]
  },
  {
   "cell_type": "markdown",
   "metadata": {
    "_uuid": "4c2ed95db99225cf1e8226eee68114f31f982c6a"
   },
   "source": [
    "I think it does not make big difference but lets not leak into the validation data and calculate mean and standrad deviation on the training data only."
   ]
  },
  {
   "cell_type": "code",
   "execution_count": 10,
   "metadata": {
    "_uuid": "fa319e6bdca9dd9866856d514fec8ac093cf818d"
   },
   "outputs": [
    {
     "name": "stdout",
     "output_type": "stream",
     "text": [
      "4.472289301190891 6.189013535612676\n"
     ]
    }
   ],
   "source": [
    "x_sum = 0.\n",
    "count = 0\n",
    "\n",
    "for s in t_segments:\n",
    "    x_sum += X_train[s[0]:s[1]].sum()\n",
    "    count += (s[1] - s[0])\n",
    "\n",
    "X_train_mean = x_sum/count\n",
    "\n",
    "x2_sum = 0.\n",
    "for s in t_segments:\n",
    "    x2_sum += np.power(X_train[s[0]:s[1]] - X_train_mean, 2).sum()\n",
    "\n",
    "X_train_std =  np.sqrt(x2_sum/count)\n",
    "\n",
    "print(X_train_mean, X_train_std)"
   ]
  },
  {
   "cell_type": "code",
   "execution_count": 11,
   "metadata": {
    "_uuid": "5cae20837d7405650f9b09891e5e71a156abf883"
   },
   "outputs": [],
   "source": [
    "train_gen = EarthQuakeRandom(\n",
    "    x = X_train, \n",
    "    y = y_train,\n",
    "    x_mean = X_train_mean, \n",
    "    x_std = X_train_std,\n",
    "    segments = t_segments,\n",
    "    ts_length = 150000,\n",
    "    batch_size = 64,\n",
    "    steps_per_epoch = 400\n",
    ")\n",
    "\n",
    "valid_gen = EarthQuakeRandom(\n",
    "    x = X_train, \n",
    "    y = y_train,\n",
    "    x_mean = X_train_mean, \n",
    "    x_std = X_train_std,\n",
    "    segments = v_segments,\n",
    "    ts_length = 150000,\n",
    "    batch_size = 64,\n",
    "    steps_per_epoch = 400\n",
    ")"
   ]
  },
  {
   "cell_type": "code",
   "execution_count": 12,
   "metadata": {},
   "outputs": [
    {
     "name": "stdout",
     "output_type": "stream",
     "text": [
      "<__main__.EarthQuakeRandom object at 0x0000026D800FAEB8>\n"
     ]
    }
   ],
   "source": [
    "print(train_gen)"
   ]
  },
  {
   "cell_type": "markdown",
   "metadata": {
    "_uuid": "70ab7209fe41fac92e9ed89ed0617ce383bd0453"
   },
   "source": [
    "Use convolutional layers to learn the features and reduce the time sequence length "
   ]
  },
  {
   "cell_type": "code",
   "execution_count": 13,
   "metadata": {},
   "outputs": [],
   "source": [
    "# https://www.kaggle.com/shujian/transformer-with-lstm\n",
    "\n",
    "try:\n",
    "    from dataloader import TokenList, pad_to_longest\n",
    "    # for transformer\n",
    "except: pass\n",
    "\n",
    "\n",
    "\n",
    "embed_size = 60\n",
    "\n",
    "class LayerNormalization(Layer):\n",
    "    def __init__(self, eps=1e-6, **kwargs):\n",
    "        self.eps = eps\n",
    "        super(LayerNormalization, self).__init__(**kwargs)\n",
    "    def build(self, input_shape):\n",
    "        self.gamma = self.add_weight(name='gamma', shape=input_shape[-1:],\n",
    "                                     initializer=Ones(), trainable=True)\n",
    "        self.beta = self.add_weight(name='beta', shape=input_shape[-1:],\n",
    "                                    initializer=Zeros(), trainable=True)\n",
    "        super(LayerNormalization, self).build(input_shape)\n",
    "    def call(self, x):\n",
    "        mean = K.mean(x, axis=-1, keepdims=True)\n",
    "        std = K.std(x, axis=-1, keepdims=True)\n",
    "        return self.gamma * (x - mean) / (std + self.eps) + self.beta\n",
    "    def compute_output_shape(self, input_shape):\n",
    "        return input_shape\n",
    "\n",
    "class ScaledDotProductAttention():\n",
    "    def __init__(self, d_model, attn_dropout=0.1):\n",
    "        self.temper = np.sqrt(d_model)\n",
    "        self.dropout = Dropout(attn_dropout)\n",
    "    def __call__(self, q, k, v, mask):\n",
    "        attn = Lambda(lambda x:K.batch_dot(x[0],x[1],axes=[2,2])/self.temper)([q, k])\n",
    "        if mask is not None:\n",
    "            mmask = Lambda(lambda x:(-1e+10)*(1-x))(mask)\n",
    "            attn = Add()([attn, mmask])\n",
    "        attn = Activation('softmax')(attn)\n",
    "        attn = self.dropout(attn)\n",
    "        output = Lambda(lambda x:K.batch_dot(x[0], x[1]))([attn, v])\n",
    "        return output, attn\n",
    "\n",
    "class MultiHeadAttention():\n",
    "    # mode 0 - big martixes, faster; mode 1 - more clear implementation\n",
    "    def __init__(self, n_head, d_model, d_k, d_v, dropout, mode=0, use_norm=True):\n",
    "        self.mode = mode\n",
    "        self.n_head = n_head\n",
    "        self.d_k = d_k\n",
    "        self.d_v = d_v\n",
    "        self.dropout = dropout\n",
    "        if mode == 0:\n",
    "            self.qs_layer = Dense(n_head*d_k, use_bias=False)\n",
    "            self.ks_layer = Dense(n_head*d_k, use_bias=False)\n",
    "            self.vs_layer = Dense(n_head*d_v, use_bias=False)\n",
    "        elif mode == 1:\n",
    "            self.qs_layers = []\n",
    "            self.ks_layers = []\n",
    "            self.vs_layers = []\n",
    "            for _ in range(n_head):\n",
    "                self.qs_layers.append(TimeDistributed(Dense(d_k, use_bias=False)))\n",
    "                self.ks_layers.append(TimeDistributed(Dense(d_k, use_bias=False)))\n",
    "                self.vs_layers.append(TimeDistributed(Dense(d_v, use_bias=False)))\n",
    "        self.attention = ScaledDotProductAttention(d_model)\n",
    "        self.layer_norm = LayerNormalization() if use_norm else None\n",
    "        self.w_o = TimeDistributed(Dense(d_model))\n",
    "\n",
    "    def __call__(self, q, k, v, mask=None):\n",
    "        d_k, d_v = self.d_k, self.d_v\n",
    "        n_head = self.n_head\n",
    "\n",
    "        if self.mode == 0:\n",
    "            qs = self.qs_layer(q)  # [batch_size, len_q, n_head*d_k]\n",
    "            ks = self.ks_layer(k)\n",
    "            vs = self.vs_layer(v)\n",
    "\n",
    "            def reshape1(x):\n",
    "                s = tf.shape(x)   # [batch_size, len_q, n_head * d_k]\n",
    "                x = tf.reshape(x, [s[0], s[1], n_head, d_k])\n",
    "                x = tf.transpose(x, [2, 0, 1, 3])  \n",
    "                x = tf.reshape(x, [-1, s[1], d_k])  # [n_head * batch_size, len_q, d_k]\n",
    "                return x\n",
    "            qs = Lambda(reshape1)(qs)\n",
    "            ks = Lambda(reshape1)(ks)\n",
    "            vs = Lambda(reshape1)(vs)\n",
    "\n",
    "            if mask is not None:\n",
    "                mask = Lambda(lambda x:K.repeat_elements(x, n_head, 0))(mask)\n",
    "            head, attn = self.attention(qs, ks, vs, mask=mask)  \n",
    "                \n",
    "            def reshape2(x):\n",
    "                s = tf.shape(x)   # [n_head * batch_size, len_v, d_v]\n",
    "                x = tf.reshape(x, [n_head, -1, s[1], s[2]]) \n",
    "                x = tf.transpose(x, [1, 2, 0, 3])\n",
    "                x = tf.reshape(x, [-1, s[1], n_head*d_v])  # [batch_size, len_v, n_head * d_v]\n",
    "                return x\n",
    "            head = Lambda(reshape2)(head)\n",
    "        elif self.mode == 1:\n",
    "            heads = []; attns = []\n",
    "            for i in range(n_head):\n",
    "                qs = self.qs_layers[i](q)   \n",
    "                ks = self.ks_layers[i](k) \n",
    "                vs = self.vs_layers[i](v) \n",
    "                head, attn = self.attention(qs, ks, vs, mask)\n",
    "                heads.append(head); attns.append(attn)\n",
    "            head = Concatenate()(heads) if n_head > 1 else heads[0]\n",
    "            attn = Concatenate()(attns) if n_head > 1 else attns[0]\n",
    "\n",
    "        outputs = self.w_o(head)\n",
    "        outputs = Dropout(self.dropout)(outputs)\n",
    "        if not self.layer_norm: return outputs, attn\n",
    "        # outputs = Add()([outputs, q]) # sl: fix\n",
    "        return self.layer_norm(outputs), attn\n",
    "\n",
    "class PositionwiseFeedForward():\n",
    "    def __init__(self, d_hid, d_inner_hid, dropout=0.1):\n",
    "        self.w_1 = Conv1D(d_inner_hid, 1, activation='relu')\n",
    "        self.w_2 = Conv1D(d_hid, 1)\n",
    "        self.layer_norm = LayerNormalization()\n",
    "        self.dropout = Dropout(dropout)\n",
    "    def __call__(self, x):\n",
    "        output = self.w_1(x) \n",
    "        output = self.w_2(output)\n",
    "        output = self.dropout(output)\n",
    "        output = Add()([output, x])\n",
    "        return self.layer_norm(output)\n",
    "\n",
    "class EncoderLayer():\n",
    "    def __init__(self, d_model, d_inner_hid, n_head, d_k, d_v, dropout=0.1):\n",
    "        self.self_att_layer = MultiHeadAttention(n_head, d_model, d_k, d_v, dropout=dropout)\n",
    "        self.pos_ffn_layer  = PositionwiseFeedForward(d_model, d_inner_hid, dropout=dropout)\n",
    "    def __call__(self, enc_input, mask=None):\n",
    "        output, slf_attn = self.self_att_layer(enc_input, enc_input, enc_input, mask=mask)\n",
    "        output = self.pos_ffn_layer(output)\n",
    "        return output, slf_attn\n",
    "\n",
    "\n",
    "def GetPosEncodingMatrix(max_len, d_emb):\n",
    "    pos_enc = np.array([\n",
    "        [pos / np.power(10000, 2 * (j // 2) / d_emb) for j in range(d_emb)] \n",
    "        if pos != 0 else np.zeros(d_emb) \n",
    "            for pos in range(max_len)\n",
    "            ])\n",
    "    pos_enc[1:, 0::2] = np.sin(pos_enc[1:, 0::2]) # dim 2i\n",
    "    pos_enc[1:, 1::2] = np.cos(pos_enc[1:, 1::2]) # dim 2i+1\n",
    "    return pos_enc\n",
    "\n",
    "def GetPadMask(q, k):\n",
    "    ones = K.expand_dims(K.ones_like(q, 'float32'), -1)\n",
    "    mask = K.cast(K.expand_dims(K.not_equal(k, 0), 1), 'float32')\n",
    "    mask = K.batch_dot(ones, mask, axes=[2,1])\n",
    "    return mask\n",
    "\n",
    "def GetSubMask(s):\n",
    "    len_s = tf.shape(s)[1]\n",
    "    bs = tf.shape(s)[:1]\n",
    "    mask = K.cumsum(tf.eye(len_s, batch_shape=bs), 1)\n",
    "    return mask\n",
    "\n"
   ]
  },
  {
   "cell_type": "code",
   "execution_count": 14,
   "metadata": {},
   "outputs": [],
   "source": [
    "def CnnTransformerModel():\n",
    "    i = Input(shape = (150000, 1))\n",
    "    \n",
    "    x = Convolution1D( 8, kernel_size = 10, strides = 10, activation='relu')(i)\n",
    "    x = Convolution1D(16, kernel_size = 10, strides = 10, activation='relu')(x)\n",
    "    x = Convolution1D(16, kernel_size = 10, strides = 10, activation='relu')(x)\n",
    "   # x = (CuDNNLSTM(16, return_sequences = True, return_state = False))(x)\n",
    "    x, slf_attn = MultiHeadAttention(n_head=5, d_model=300, d_k=64, d_v=64, dropout=0.3)(x, x, x)\n",
    "    avg_pool = GlobalAveragePooling1D()(x)\n",
    "    \n",
    "    y = Dense(1)(avg_pool)\n",
    "    \n",
    "\n",
    "    return Model(inputs = [i], outputs = [y])"
   ]
  },
  {
   "cell_type": "code",
   "execution_count": 15,
   "metadata": {
    "_kg_hide-input": false,
    "_kg_hide-output": false,
    "_uuid": "78f8084ea9e762c4e59bd933abea41704ad99bdd"
   },
   "outputs": [
    {
     "name": "stdout",
     "output_type": "stream",
     "text": [
      "WARNING:tensorflow:From C:\\Users\\idogr\\Anaconda3\\envs\\tf_gpu\\lib\\site-packages\\tensorflow\\python\\framework\\op_def_library.py:263: colocate_with (from tensorflow.python.framework.ops) is deprecated and will be removed in a future version.\n",
      "Instructions for updating:\n",
      "Colocations handled automatically by placer.\n",
      "WARNING:tensorflow:From C:\\Users\\idogr\\Anaconda3\\envs\\tf_gpu\\lib\\site-packages\\keras\\backend\\tensorflow_backend.py:3445: calling dropout (from tensorflow.python.ops.nn_ops) with keep_prob is deprecated and will be removed in a future version.\n",
      "Instructions for updating:\n",
      "Please use `rate` instead of `keep_prob`. Rate should be set to `rate = 1 - keep_prob`.\n",
      "__________________________________________________________________________________________________\n",
      "Layer (type)                    Output Shape         Param #     Connected to                     \n",
      "==================================================================================================\n",
      "input_1 (InputLayer)            (None, 150000, 1)    0                                            \n",
      "__________________________________________________________________________________________________\n",
      "conv1d_1 (Conv1D)               (None, 15000, 8)     88          input_1[0][0]                    \n",
      "__________________________________________________________________________________________________\n",
      "conv1d_2 (Conv1D)               (None, 1500, 16)     1296        conv1d_1[0][0]                   \n",
      "__________________________________________________________________________________________________\n",
      "conv1d_3 (Conv1D)               (None, 150, 16)      2576        conv1d_2[0][0]                   \n",
      "__________________________________________________________________________________________________\n",
      "dense_1 (Dense)                 (None, 150, 320)     5120        conv1d_3[0][0]                   \n",
      "__________________________________________________________________________________________________\n",
      "dense_2 (Dense)                 (None, 150, 320)     5120        conv1d_3[0][0]                   \n",
      "__________________________________________________________________________________________________\n",
      "lambda_1 (Lambda)               (None, None, 64)     0           dense_1[0][0]                    \n",
      "__________________________________________________________________________________________________\n",
      "lambda_2 (Lambda)               (None, None, 64)     0           dense_2[0][0]                    \n",
      "__________________________________________________________________________________________________\n",
      "lambda_4 (Lambda)               (None, None, None)   0           lambda_1[0][0]                   \n",
      "                                                                 lambda_2[0][0]                   \n",
      "__________________________________________________________________________________________________\n",
      "activation_1 (Activation)       (None, None, None)   0           lambda_4[0][0]                   \n",
      "__________________________________________________________________________________________________\n",
      "dense_3 (Dense)                 (None, 150, 320)     5120        conv1d_3[0][0]                   \n",
      "__________________________________________________________________________________________________\n",
      "dropout_1 (Dropout)             (None, None, None)   0           activation_1[0][0]               \n",
      "__________________________________________________________________________________________________\n",
      "lambda_3 (Lambda)               (None, None, 64)     0           dense_3[0][0]                    \n",
      "__________________________________________________________________________________________________\n",
      "lambda_5 (Lambda)               (None, None, 64)     0           dropout_1[0][0]                  \n",
      "                                                                 lambda_3[0][0]                   \n",
      "__________________________________________________________________________________________________\n",
      "lambda_6 (Lambda)               (None, None, 320)    0           lambda_5[0][0]                   \n",
      "__________________________________________________________________________________________________\n",
      "time_distributed_1 (TimeDistrib (None, None, 300)    96300       lambda_6[0][0]                   \n",
      "__________________________________________________________________________________________________\n",
      "dropout_2 (Dropout)             (None, None, 300)    0           time_distributed_1[0][0]         \n",
      "__________________________________________________________________________________________________\n",
      "layer_normalization_1 (LayerNor (None, None, 300)    600         dropout_2[0][0]                  \n",
      "__________________________________________________________________________________________________\n",
      "global_average_pooling1d_1 (Glo (None, 300)          0           layer_normalization_1[0][0]      \n",
      "__________________________________________________________________________________________________\n",
      "dense_5 (Dense)                 (None, 1)            301         global_average_pooling1d_1[0][0] \n",
      "==================================================================================================\n",
      "Total params: 116,521\n",
      "Trainable params: 116,521\n",
      "Non-trainable params: 0\n",
      "__________________________________________________________________________________________________\n"
     ]
    }
   ],
   "source": [
    "model = CnnTransformerModel()\n",
    "model.compile(loss='mean_absolute_error', optimizer='adam')\n",
    "model.summary()"
   ]
  },
  {
   "cell_type": "markdown",
   "metadata": {
    "_uuid": "5bed51171db8bf8c5e1731119fd31205bfd80a82"
   },
   "source": [
    "Train the model with early stopping"
   ]
  },
  {
   "cell_type": "code",
   "execution_count": 16,
   "metadata": {
    "_kg_hide-input": false,
    "_kg_hide-output": false,
    "_uuid": "e1061c7cde0687450300f516735aad0cc5dbf08f"
   },
   "outputs": [
    {
     "name": "stdout",
     "output_type": "stream",
     "text": [
      "WARNING:tensorflow:From C:\\Users\\idogr\\Anaconda3\\envs\\tf_gpu\\lib\\site-packages\\tensorflow\\python\\ops\\math_ops.py:3066: to_int32 (from tensorflow.python.ops.math_ops) is deprecated and will be removed in a future version.\n",
      "Instructions for updating:\n",
      "Use tf.cast instead.\n",
      "WARNING:tensorflow:From C:\\Users\\idogr\\Anaconda3\\envs\\tf_gpu\\lib\\site-packages\\tensorflow\\python\\ops\\math_grad.py:102: div (from tensorflow.python.ops.math_ops) is deprecated and will be removed in a future version.\n",
      "Instructions for updating:\n",
      "Deprecated in favor of operator or tf.math.divide.\n",
      "Epoch 1/12\n"
     ]
    },
    {
     "name": "stdout",
     "output_type": "stream",
     "text": [
      "318/400 [======================>.......] - ETA: 48:16 - loss: 6.04 - ETA: 25:28 - loss: 4.65 - ETA: 17:54 - loss: 4.34 - ETA: 14:06 - loss: 4.06 - ETA: 11:49 - loss: 3.95 - ETA: 10:18 - loss: 3.78 - ETA: 9:12 - loss: 3.6652 - ETA: 8:23 - loss: 3.577 - ETA: 7:44 - loss: 3.501 - ETA: 7:14 - loss: 3.412 - ETA: 6:49 - loss: 3.339 - ETA: 6:27 - loss: 3.269 - ETA: 6:10 - loss: 3.232 - ETA: 5:54 - loss: 3.170 - ETA: 5:41 - loss: 3.141 - ETA: 5:29 - loss: 3.136 - ETA: 5:19 - loss: 3.114 - ETA: 5:09 - loss: 3.097 - ETA: 5:01 - loss: 3.050 - ETA: 4:53 - loss: 3.062 - ETA: 4:46 - loss: 3.067 - ETA: 4:40 - loss: 3.057 - ETA: 4:34 - loss: 3.067 - ETA: 4:29 - loss: 3.067 - ETA: 4:24 - loss: 3.043 - ETA: 4:19 - loss: 3.018 - ETA: 4:15 - loss: 3.004 - ETA: 4:11 - loss: 3.002 - ETA: 4:07 - loss: 2.987 - ETA: 4:03 - loss: 2.973 - ETA: 4:00 - loss: 2.961 - ETA: 3:57 - loss: 2.948 - ETA: 3:54 - loss: 2.936 - ETA: 3:51 - loss: 2.928 - ETA: 3:48 - loss: 2.916 - ETA: 3:46 - loss: 2.892 - ETA: 3:43 - loss: 2.874 - ETA: 3:41 - loss: 2.852 - ETA: 3:39 - loss: 2.827 - ETA: 3:36 - loss: 2.810 - ETA: 3:34 - loss: 2.803 - ETA: 3:32 - loss: 2.793 - ETA: 3:30 - loss: 2.780 - ETA: 3:28 - loss: 2.768 - ETA: 3:27 - loss: 2.767 - ETA: 3:25 - loss: 2.771 - ETA: 3:23 - loss: 2.769 - ETA: 3:21 - loss: 2.752 - ETA: 3:20 - loss: 2.744 - ETA: 3:18 - loss: 2.732 - ETA: 3:17 - loss: 2.715 - ETA: 3:15 - loss: 2.701 - ETA: 3:14 - loss: 2.687 - ETA: 3:13 - loss: 2.676 - ETA: 3:11 - loss: 2.669 - ETA: 3:10 - loss: 2.664 - ETA: 3:08 - loss: 2.655 - ETA: 3:07 - loss: 2.647 - ETA: 3:06 - loss: 2.642 - ETA: 3:05 - loss: 2.643 - ETA: 3:04 - loss: 2.630 - ETA: 3:02 - loss: 2.628 - ETA: 3:01 - loss: 2.625 - ETA: 3:00 - loss: 2.623 - ETA: 2:59 - loss: 2.618 - ETA: 2:58 - loss: 2.619 - ETA: 2:57 - loss: 2.612 - ETA: 2:56 - loss: 2.607 - ETA: 2:55 - loss: 2.606 - ETA: 2:54 - loss: 2.601 - ETA: 2:53 - loss: 2.596 - ETA: 2:52 - loss: 2.597 - ETA: 2:51 - loss: 2.597 - ETA: 2:50 - loss: 2.598 - ETA: 2:50 - loss: 2.595 - ETA: 2:49 - loss: 2.586 - ETA: 2:48 - loss: 2.583 - ETA: 2:47 - loss: 2.576 - ETA: 2:46 - loss: 2.567 - ETA: 2:45 - loss: 2.562 - ETA: 2:44 - loss: 2.556 - ETA: 2:43 - loss: 2.552 - ETA: 2:43 - loss: 2.549 - ETA: 2:42 - loss: 2.543 - ETA: 2:41 - loss: 2.538 - ETA: 2:40 - loss: 2.536 - ETA: 2:39 - loss: 2.534 - ETA: 2:39 - loss: 2.532 - ETA: 2:38 - loss: 2.530 - ETA: 2:37 - loss: 2.527 - ETA: 2:36 - loss: 2.521 - ETA: 2:35 - loss: 2.516 - ETA: 2:35 - loss: 2.512 - ETA: 2:34 - loss: 2.510 - ETA: 2:33 - loss: 2.506 - ETA: 2:32 - loss: 2.503 - ETA: 2:32 - loss: 2.502 - ETA: 2:31 - loss: 2.502 - ETA: 2:30 - loss: 2.503 - ETA: 2:30 - loss: 2.497 - ETA: 2:29 - loss: 2.494 - ETA: 2:28 - loss: 2.492 - ETA: 2:27 - loss: 2.487 - ETA: 2:27 - loss: 2.482 - ETA: 2:26 - loss: 2.479 - ETA: 2:25 - loss: 2.480 - ETA: 2:25 - loss: 2.478 - ETA: 2:24 - loss: 2.476 - ETA: 2:23 - loss: 2.473 - ETA: 2:23 - loss: 2.475 - ETA: 2:22 - loss: 2.471 - ETA: 2:21 - loss: 2.468 - ETA: 2:21 - loss: 2.464 - ETA: 2:20 - loss: 2.465 - ETA: 2:20 - loss: 2.462 - ETA: 2:19 - loss: 2.460 - ETA: 2:18 - loss: 2.461 - ETA: 2:18 - loss: 2.457 - ETA: 2:17 - loss: 2.454 - ETA: 2:16 - loss: 2.455 - ETA: 2:16 - loss: 2.455 - ETA: 2:15 - loss: 2.454 - ETA: 2:15 - loss: 2.453 - ETA: 2:14 - loss: 2.452 - ETA: 2:13 - loss: 2.451 - ETA: 2:13 - loss: 2.450 - ETA: 2:12 - loss: 2.450 - ETA: 2:11 - loss: 2.447 - ETA: 2:11 - loss: 2.446 - ETA: 2:10 - loss: 2.446 - ETA: 2:10 - loss: 2.444 - ETA: 2:09 - loss: 2.444 - ETA: 2:08 - loss: 2.442 - ETA: 2:08 - loss: 2.442 - ETA: 2:07 - loss: 2.441 - ETA: 2:07 - loss: 2.443 - ETA: 2:06 - loss: 2.443 - ETA: 2:06 - loss: 2.442 - ETA: 2:05 - loss: 2.438 - ETA: 2:04 - loss: 2.438 - ETA: 2:04 - loss: 2.436 - ETA: 2:03 - loss: 2.434 - ETA: 2:03 - loss: 2.434 - ETA: 2:02 - loss: 2.433 - ETA: 2:02 - loss: 2.431 - ETA: 2:01 - loss: 2.430 - ETA: 2:00 - loss: 2.433 - ETA: 2:00 - loss: 2.432 - ETA: 1:59 - loss: 2.433 - ETA: 1:59 - loss: 2.434 - ETA: 1:58 - loss: 2.432 - ETA: 1:58 - loss: 2.431 - ETA: 1:57 - loss: 2.427 - ETA: 1:57 - loss: 2.426 - ETA: 1:56 - loss: 2.424 - ETA: 1:56 - loss: 2.423 - ETA: 1:55 - loss: 2.422 - ETA: 1:54 - loss: 2.423 - ETA: 1:54 - loss: 2.422 - ETA: 1:53 - loss: 2.419 - ETA: 1:53 - loss: 2.421 - ETA: 1:52 - loss: 2.419 - ETA: 1:52 - loss: 2.416 - ETA: 1:51 - loss: 2.414 - ETA: 1:51 - loss: 2.412 - ETA: 1:50 - loss: 2.412 - ETA: 1:50 - loss: 2.412 - ETA: 1:49 - loss: 2.409 - ETA: 1:49 - loss: 2.409 - ETA: 1:48 - loss: 2.407 - ETA: 1:48 - loss: 2.406 - ETA: 1:47 - loss: 2.404 - ETA: 1:46 - loss: 2.403 - ETA: 1:46 - loss: 2.399 - ETA: 1:45 - loss: 2.397 - ETA: 1:45 - loss: 2.396 - ETA: 1:44 - loss: 2.394 - ETA: 1:44 - loss: 2.393 - ETA: 1:43 - loss: 2.394 - ETA: 1:43 - loss: 2.393 - ETA: 1:42 - loss: 2.393 - ETA: 1:42 - loss: 2.394 - ETA: 1:41 - loss: 2.392 - ETA: 1:41 - loss: 2.393 - ETA: 1:40 - loss: 2.393 - ETA: 1:40 - loss: 2.391 - ETA: 1:39 - loss: 2.391 - ETA: 1:39 - loss: 2.392 - ETA: 1:38 - loss: 2.392 - ETA: 1:38 - loss: 2.392 - ETA: 1:37 - loss: 2.392 - ETA: 1:37 - loss: 2.391 - ETA: 1:36 - loss: 2.391 - ETA: 1:36 - loss: 2.389 - ETA: 1:35 - loss: 2.388 - ETA: 1:35 - loss: 2.388 - ETA: 1:34 - loss: 2.384 - ETA: 1:34 - loss: 2.384 - ETA: 1:33 - loss: 2.382 - ETA: 1:33 - loss: 2.380 - ETA: 1:32 - loss: 2.378 - ETA: 1:32 - loss: 2.377 - ETA: 1:31 - loss: 2.376 - ETA: 1:31 - loss: 2.377 - ETA: 1:30 - loss: 2.378 - ETA: 1:30 - loss: 2.376 - ETA: 1:29 - loss: 2.377 - ETA: 1:29 - loss: 2.375 - ETA: 1:28 - loss: 2.374 - ETA: 1:28 - loss: 2.374 - ETA: 1:27 - loss: 2.373 - ETA: 1:27 - loss: 2.372 - ETA: 1:26 - loss: 2.371 - ETA: 1:26 - loss: 2.368 - ETA: 1:25 - loss: 2.367 - ETA: 1:25 - loss: 2.365 - ETA: 1:24 - loss: 2.365 - ETA: 1:24 - loss: 2.363 - ETA: 1:23 - loss: 2.363 - ETA: 1:23 - loss: 2.363 - ETA: 1:22 - loss: 2.362 - ETA: 1:22 - loss: 2.361 - ETA: 1:21 - loss: 2.360 - ETA: 1:21 - loss: 2.359 - ETA: 1:20 - loss: 2.359 - ETA: 1:20 - loss: 2.359 - ETA: 1:19 - loss: 2.357 - ETA: 1:19 - loss: 2.357 - ETA: 1:18 - loss: 2.356 - ETA: 1:18 - loss: 2.355 - ETA: 1:18 - loss: 2.353 - ETA: 1:17 - loss: 2.352 - ETA: 1:17 - loss: 2.350 - ETA: 1:16 - loss: 2.351 - ETA: 1:16 - loss: 2.350 - ETA: 1:15 - loss: 2.350 - ETA: 1:15 - loss: 2.351 - ETA: 1:14 - loss: 2.351 - ETA: 1:14 - loss: 2.350 - ETA: 1:13 - loss: 2.349 - ETA: 1:13 - loss: 2.347 - ETA: 1:12 - loss: 2.346 - ETA: 1:12 - loss: 2.345 - ETA: 1:11 - loss: 2.344 - ETA: 1:11 - loss: 2.344 - ETA: 1:10 - loss: 2.342 - ETA: 1:10 - loss: 2.342 - ETA: 1:09 - loss: 2.342 - ETA: 1:09 - loss: 2.342 - ETA: 1:08 - loss: 2.341 - ETA: 1:08 - loss: 2.341 - ETA: 1:07 - loss: 2.339 - ETA: 1:07 - loss: 2.339 - ETA: 1:06 - loss: 2.338 - ETA: 1:06 - loss: 2.339 - ETA: 1:06 - loss: 2.339 - ETA: 1:05 - loss: 2.339 - ETA: 1:05 - loss: 2.338 - ETA: 1:04 - loss: 2.337 - ETA: 1:04 - loss: 2.338 - ETA: 1:03 - loss: 2.336 - ETA: 1:03 - loss: 2.336 - ETA: 1:02 - loss: 2.334 - ETA: 1:02 - loss: 2.334 - ETA: 1:01 - loss: 2.334 - ETA: 1:01 - loss: 2.333 - ETA: 1:00 - loss: 2.334 - ETA: 1:00 - loss: 2.335 - ETA: 59s - loss: 2.336 - ETA: 59s - loss: 2.33 - ETA: 58s - loss: 2.33 - ETA: 58s - loss: 2.33 - ETA: 58s - loss: 2.33 - ETA: 57s - loss: 2.33 - ETA: 57s - loss: 2.33 - ETA: 56s - loss: 2.33 - ETA: 56s - loss: 2.33 - ETA: 55s - loss: 2.33 - ETA: 55s - loss: 2.32 - ETA: 54s - loss: 2.32 - ETA: 54s - loss: 2.32 - ETA: 53s - loss: 2.32 - ETA: 53s - loss: 2.32 - ETA: 52s - loss: 2.32 - ETA: 52s - loss: 2.32 - ETA: 51s - loss: 2.32 - ETA: 51s - loss: 2.32 - ETA: 51s - loss: 2.32 - ETA: 50s - loss: 2.32 - ETA: 50s - loss: 2.32 - ETA: 49s - loss: 2.32 - ETA: 49s - loss: 2.32 - ETA: 48s - loss: 2.32 - ETA: 48s - loss: 2.32 - ETA: 47s - loss: 2.32 - ETA: 47s - loss: 2.32 - ETA: 46s - loss: 2.32 - ETA: 46s - loss: 2.32 - ETA: 45s - loss: 2.32 - ETA: 45s - loss: 2.32 - ETA: 45s - loss: 2.32 - ETA: 44s - loss: 2.32 - ETA: 44s - loss: 2.32 - ETA: 43s - loss: 2.32 - ETA: 43s - loss: 2.32 - ETA: 42s - loss: 2.32 - ETA: 42s - loss: 2.32 - ETA: 41s - loss: 2.32 - ETA: 41s - loss: 2.32 - ETA: 40s - loss: 2.32 - ETA: 40s - loss: 2.32 - ETA: 39s - loss: 2.32 - ETA: 39s - loss: 2.32 - ETA: 39s - loss: 2.32 - ETA: 38s - loss: 2.32 - ETA: 38s - loss: 2.32 - ETA: 37s - loss: 2.32 - ETA: 37s - loss: 2.3219"
     ]
    },
    {
     "name": "stdout",
     "output_type": "stream",
     "text": [
      "400/400 [==============================] - ETA: 36s - loss: 2.32 - ETA: 36s - loss: 2.31 - ETA: 35s - loss: 2.31 - ETA: 35s - loss: 2.32 - ETA: 34s - loss: 2.31 - ETA: 34s - loss: 2.31 - ETA: 33s - loss: 2.31 - ETA: 33s - loss: 2.31 - ETA: 33s - loss: 2.31 - ETA: 32s - loss: 2.31 - ETA: 32s - loss: 2.31 - ETA: 31s - loss: 2.31 - ETA: 31s - loss: 2.31 - ETA: 30s - loss: 2.31 - ETA: 30s - loss: 2.31 - ETA: 29s - loss: 2.31 - ETA: 29s - loss: 2.31 - ETA: 28s - loss: 2.31 - ETA: 28s - loss: 2.31 - ETA: 28s - loss: 2.31 - ETA: 27s - loss: 2.30 - ETA: 27s - loss: 2.31 - ETA: 26s - loss: 2.31 - ETA: 26s - loss: 2.31 - ETA: 25s - loss: 2.31 - ETA: 25s - loss: 2.31 - ETA: 24s - loss: 2.31 - ETA: 24s - loss: 2.31 - ETA: 23s - loss: 2.31 - ETA: 23s - loss: 2.31 - ETA: 23s - loss: 2.31 - ETA: 22s - loss: 2.31 - ETA: 22s - loss: 2.31 - ETA: 21s - loss: 2.31 - ETA: 21s - loss: 2.31 - ETA: 20s - loss: 2.31 - ETA: 20s - loss: 2.31 - ETA: 19s - loss: 2.31 - ETA: 19s - loss: 2.31 - ETA: 18s - loss: 2.31 - ETA: 18s - loss: 2.31 - ETA: 18s - loss: 2.31 - ETA: 17s - loss: 2.31 - ETA: 17s - loss: 2.31 - ETA: 16s - loss: 2.31 - ETA: 16s - loss: 2.31 - ETA: 15s - loss: 2.31 - ETA: 15s - loss: 2.30 - ETA: 14s - loss: 2.31 - ETA: 14s - loss: 2.30 - ETA: 13s - loss: 2.30 - ETA: 13s - loss: 2.30 - ETA: 13s - loss: 2.30 - ETA: 12s - loss: 2.30 - ETA: 12s - loss: 2.30 - ETA: 11s - loss: 2.30 - ETA: 11s - loss: 2.30 - ETA: 10s - loss: 2.30 - ETA: 10s - loss: 2.30 - ETA: 9s - loss: 2.3026 - ETA: 9s - loss: 2.302 - ETA: 8s - loss: 2.303 - ETA: 8s - loss: 2.302 - ETA: 8s - loss: 2.301 - ETA: 7s - loss: 2.300 - ETA: 7s - loss: 2.300 - ETA: 6s - loss: 2.300 - ETA: 6s - loss: 2.301 - ETA: 5s - loss: 2.301 - ETA: 5s - loss: 2.301 - ETA: 4s - loss: 2.301 - ETA: 4s - loss: 2.300 - ETA: 4s - loss: 2.299 - ETA: 3s - loss: 2.298 - ETA: 3s - loss: 2.298 - ETA: 2s - loss: 2.297 - ETA: 2s - loss: 2.297 - ETA: 1s - loss: 2.297 - ETA: 1s - loss: 2.296 - ETA: 0s - loss: 2.296 - ETA: 0s - loss: 2.296 - 239s 598ms/step - loss: 2.2966 - val_loss: 2.1310\n",
      "Epoch 2/12\n"
     ]
    },
    {
     "name": "stdout",
     "output_type": "stream",
     "text": [
      "318/400 [======================>.......] - ETA: 3:01 - loss: 1.880 - ETA: 3:01 - loss: 2.001 - ETA: 2:59 - loss: 1.999 - ETA: 2:57 - loss: 2.162 - ETA: 2:58 - loss: 2.115 - ETA: 2:57 - loss: 2.120 - ETA: 2:56 - loss: 2.139 - ETA: 2:55 - loss: 2.175 - ETA: 2:53 - loss: 2.187 - ETA: 2:53 - loss: 2.172 - ETA: 2:52 - loss: 2.158 - ETA: 2:51 - loss: 2.133 - ETA: 2:50 - loss: 2.125 - ETA: 2:49 - loss: 2.136 - ETA: 2:49 - loss: 2.178 - ETA: 2:48 - loss: 2.180 - ETA: 2:47 - loss: 2.181 - ETA: 2:47 - loss: 2.182 - ETA: 2:46 - loss: 2.187 - ETA: 2:46 - loss: 2.218 - ETA: 2:45 - loss: 2.216 - ETA: 2:45 - loss: 2.230 - ETA: 2:44 - loss: 2.217 - ETA: 2:44 - loss: 2.227 - ETA: 2:43 - loss: 2.229 - ETA: 2:43 - loss: 2.243 - ETA: 2:42 - loss: 2.234 - ETA: 2:41 - loss: 2.223 - ETA: 2:41 - loss: 2.224 - ETA: 2:40 - loss: 2.226 - ETA: 2:40 - loss: 2.231 - ETA: 2:40 - loss: 2.240 - ETA: 2:39 - loss: 2.230 - ETA: 2:39 - loss: 2.228 - ETA: 2:38 - loss: 2.224 - ETA: 2:38 - loss: 2.225 - ETA: 2:37 - loss: 2.238 - ETA: 2:37 - loss: 2.239 - ETA: 2:36 - loss: 2.245 - ETA: 2:36 - loss: 2.232 - ETA: 2:35 - loss: 2.228 - ETA: 2:35 - loss: 2.225 - ETA: 2:34 - loss: 2.228 - ETA: 2:34 - loss: 2.235 - ETA: 2:33 - loss: 2.229 - ETA: 2:33 - loss: 2.229 - ETA: 2:33 - loss: 2.229 - ETA: 2:32 - loss: 2.231 - ETA: 2:32 - loss: 2.228 - ETA: 2:31 - loss: 2.229 - ETA: 2:31 - loss: 2.226 - ETA: 2:30 - loss: 2.234 - ETA: 2:30 - loss: 2.222 - ETA: 2:29 - loss: 2.217 - ETA: 2:29 - loss: 2.218 - ETA: 2:29 - loss: 2.220 - ETA: 2:28 - loss: 2.218 - ETA: 2:28 - loss: 2.220 - ETA: 2:27 - loss: 2.225 - ETA: 2:27 - loss: 2.227 - ETA: 2:26 - loss: 2.231 - ETA: 2:26 - loss: 2.226 - ETA: 2:25 - loss: 2.227 - ETA: 2:25 - loss: 2.237 - ETA: 2:25 - loss: 2.239 - ETA: 2:24 - loss: 2.244 - ETA: 2:24 - loss: 2.252 - ETA: 2:23 - loss: 2.251 - ETA: 2:23 - loss: 2.248 - ETA: 2:22 - loss: 2.248 - ETA: 2:22 - loss: 2.252 - ETA: 2:21 - loss: 2.256 - ETA: 2:21 - loss: 2.254 - ETA: 2:21 - loss: 2.252 - ETA: 2:20 - loss: 2.252 - ETA: 2:20 - loss: 2.248 - ETA: 2:19 - loss: 2.247 - ETA: 2:19 - loss: 2.248 - ETA: 2:18 - loss: 2.248 - ETA: 2:18 - loss: 2.246 - ETA: 2:17 - loss: 2.246 - ETA: 2:17 - loss: 2.241 - ETA: 2:17 - loss: 2.237 - ETA: 2:16 - loss: 2.239 - ETA: 2:16 - loss: 2.241 - ETA: 2:15 - loss: 2.242 - ETA: 2:15 - loss: 2.239 - ETA: 2:14 - loss: 2.239 - ETA: 2:14 - loss: 2.243 - ETA: 2:14 - loss: 2.244 - ETA: 2:13 - loss: 2.240 - ETA: 2:13 - loss: 2.238 - ETA: 2:12 - loss: 2.235 - ETA: 2:12 - loss: 2.230 - ETA: 2:11 - loss: 2.226 - ETA: 2:11 - loss: 2.223 - ETA: 2:10 - loss: 2.224 - ETA: 2:10 - loss: 2.226 - ETA: 2:10 - loss: 2.227 - ETA: 2:09 - loss: 2.227 - ETA: 2:09 - loss: 2.225 - ETA: 2:08 - loss: 2.222 - ETA: 2:08 - loss: 2.219 - ETA: 2:07 - loss: 2.215 - ETA: 2:07 - loss: 2.214 - ETA: 2:07 - loss: 2.214 - ETA: 2:06 - loss: 2.213 - ETA: 2:06 - loss: 2.211 - ETA: 2:05 - loss: 2.208 - ETA: 2:05 - loss: 2.208 - ETA: 2:04 - loss: 2.207 - ETA: 2:04 - loss: 2.208 - ETA: 2:04 - loss: 2.206 - ETA: 2:03 - loss: 2.203 - ETA: 2:03 - loss: 2.203 - ETA: 2:02 - loss: 2.201 - ETA: 2:02 - loss: 2.199 - ETA: 2:01 - loss: 2.198 - ETA: 2:01 - loss: 2.199 - ETA: 2:00 - loss: 2.202 - ETA: 2:00 - loss: 2.201 - ETA: 2:00 - loss: 2.200 - ETA: 1:59 - loss: 2.202 - ETA: 1:59 - loss: 2.200 - ETA: 1:58 - loss: 2.200 - ETA: 1:58 - loss: 2.202 - ETA: 1:57 - loss: 2.201 - ETA: 1:57 - loss: 2.203 - ETA: 1:56 - loss: 2.203 - ETA: 1:56 - loss: 2.204 - ETA: 1:56 - loss: 2.203 - ETA: 1:55 - loss: 2.201 - ETA: 1:55 - loss: 2.202 - ETA: 1:54 - loss: 2.199 - ETA: 1:54 - loss: 2.201 - ETA: 1:54 - loss: 2.202 - ETA: 1:53 - loss: 2.201 - ETA: 1:53 - loss: 2.202 - ETA: 1:52 - loss: 2.202 - ETA: 1:52 - loss: 2.201 - ETA: 1:51 - loss: 2.202 - ETA: 1:51 - loss: 2.203 - ETA: 1:50 - loss: 2.201 - ETA: 1:50 - loss: 2.199 - ETA: 1:50 - loss: 2.198 - ETA: 1:49 - loss: 2.198 - ETA: 1:49 - loss: 2.201 - ETA: 1:48 - loss: 2.200 - ETA: 1:48 - loss: 2.197 - ETA: 1:47 - loss: 2.194 - ETA: 1:47 - loss: 2.193 - ETA: 1:47 - loss: 2.192 - ETA: 1:46 - loss: 2.194 - ETA: 1:46 - loss: 2.193 - ETA: 1:45 - loss: 2.195 - ETA: 1:45 - loss: 2.196 - ETA: 1:44 - loss: 2.193 - ETA: 1:44 - loss: 2.195 - ETA: 1:44 - loss: 2.198 - ETA: 1:43 - loss: 2.195 - ETA: 1:43 - loss: 2.196 - ETA: 1:42 - loss: 2.195 - ETA: 1:42 - loss: 2.194 - ETA: 1:41 - loss: 2.194 - ETA: 1:41 - loss: 2.195 - ETA: 1:41 - loss: 2.196 - ETA: 1:40 - loss: 2.195 - ETA: 1:40 - loss: 2.196 - ETA: 1:39 - loss: 2.193 - ETA: 1:39 - loss: 2.193 - ETA: 1:38 - loss: 2.192 - ETA: 1:38 - loss: 2.191 - ETA: 1:37 - loss: 2.191 - ETA: 1:37 - loss: 2.192 - ETA: 1:37 - loss: 2.191 - ETA: 1:36 - loss: 2.188 - ETA: 1:36 - loss: 2.188 - ETA: 1:35 - loss: 2.190 - ETA: 1:35 - loss: 2.191 - ETA: 1:34 - loss: 2.189 - ETA: 1:34 - loss: 2.189 - ETA: 1:34 - loss: 2.190 - ETA: 1:33 - loss: 2.188 - ETA: 1:33 - loss: 2.189 - ETA: 1:32 - loss: 2.191 - ETA: 1:32 - loss: 2.191 - ETA: 1:31 - loss: 2.191 - ETA: 1:31 - loss: 2.189 - ETA: 1:31 - loss: 2.190 - ETA: 1:30 - loss: 2.189 - ETA: 1:30 - loss: 2.186 - ETA: 1:29 - loss: 2.188 - ETA: 1:29 - loss: 2.186 - ETA: 1:28 - loss: 2.184 - ETA: 1:28 - loss: 2.181 - ETA: 1:28 - loss: 2.180 - ETA: 1:27 - loss: 2.180 - ETA: 1:27 - loss: 2.180 - ETA: 1:26 - loss: 2.180 - ETA: 1:26 - loss: 2.179 - ETA: 1:25 - loss: 2.179 - ETA: 1:25 - loss: 2.181 - ETA: 1:24 - loss: 2.180 - ETA: 1:24 - loss: 2.180 - ETA: 1:24 - loss: 2.178 - ETA: 1:23 - loss: 2.177 - ETA: 1:23 - loss: 2.175 - ETA: 1:22 - loss: 2.174 - ETA: 1:22 - loss: 2.174 - ETA: 1:21 - loss: 2.175 - ETA: 1:21 - loss: 2.175 - ETA: 1:21 - loss: 2.177 - ETA: 1:20 - loss: 2.176 - ETA: 1:20 - loss: 2.175 - ETA: 1:19 - loss: 2.176 - ETA: 1:19 - loss: 2.175 - ETA: 1:18 - loss: 2.175 - ETA: 1:18 - loss: 2.176 - ETA: 1:18 - loss: 2.176 - ETA: 1:17 - loss: 2.177 - ETA: 1:17 - loss: 2.177 - ETA: 1:16 - loss: 2.176 - ETA: 1:16 - loss: 2.176 - ETA: 1:15 - loss: 2.175 - ETA: 1:15 - loss: 2.178 - ETA: 1:15 - loss: 2.178 - ETA: 1:14 - loss: 2.178 - ETA: 1:14 - loss: 2.179 - ETA: 1:13 - loss: 2.179 - ETA: 1:13 - loss: 2.180 - ETA: 1:12 - loss: 2.181 - ETA: 1:12 - loss: 2.182 - ETA: 1:12 - loss: 2.182 - ETA: 1:11 - loss: 2.183 - ETA: 1:11 - loss: 2.182 - ETA: 1:10 - loss: 2.180 - ETA: 1:10 - loss: 2.181 - ETA: 1:09 - loss: 2.181 - ETA: 1:09 - loss: 2.180 - ETA: 1:09 - loss: 2.178 - ETA: 1:08 - loss: 2.179 - ETA: 1:08 - loss: 2.179 - ETA: 1:07 - loss: 2.179 - ETA: 1:07 - loss: 2.179 - ETA: 1:06 - loss: 2.178 - ETA: 1:06 - loss: 2.180 - ETA: 1:06 - loss: 2.179 - ETA: 1:05 - loss: 2.180 - ETA: 1:05 - loss: 2.179 - ETA: 1:04 - loss: 2.179 - ETA: 1:04 - loss: 2.179 - ETA: 1:03 - loss: 2.179 - ETA: 1:03 - loss: 2.180 - ETA: 1:03 - loss: 2.182 - ETA: 1:02 - loss: 2.180 - ETA: 1:02 - loss: 2.180 - ETA: 1:01 - loss: 2.179 - ETA: 1:01 - loss: 2.179 - ETA: 1:00 - loss: 2.178 - ETA: 1:00 - loss: 2.179 - ETA: 1:00 - loss: 2.176 - ETA: 59s - loss: 2.178 - ETA: 59s - loss: 2.17 - ETA: 58s - loss: 2.17 - ETA: 58s - loss: 2.17 - ETA: 57s - loss: 2.17 - ETA: 57s - loss: 2.17 - ETA: 56s - loss: 2.17 - ETA: 56s - loss: 2.17 - ETA: 56s - loss: 2.17 - ETA: 55s - loss: 2.17 - ETA: 55s - loss: 2.17 - ETA: 54s - loss: 2.17 - ETA: 54s - loss: 2.17 - ETA: 53s - loss: 2.17 - ETA: 53s - loss: 2.17 - ETA: 53s - loss: 2.17 - ETA: 52s - loss: 2.17 - ETA: 52s - loss: 2.17 - ETA: 51s - loss: 2.16 - ETA: 51s - loss: 2.16 - ETA: 50s - loss: 2.16 - ETA: 50s - loss: 2.16 - ETA: 50s - loss: 2.16 - ETA: 49s - loss: 2.16 - ETA: 49s - loss: 2.16 - ETA: 48s - loss: 2.16 - ETA: 48s - loss: 2.16 - ETA: 47s - loss: 2.16 - ETA: 47s - loss: 2.16 - ETA: 47s - loss: 2.16 - ETA: 46s - loss: 2.16 - ETA: 46s - loss: 2.16 - ETA: 45s - loss: 2.16 - ETA: 45s - loss: 2.16 - ETA: 44s - loss: 2.16 - ETA: 44s - loss: 2.16 - ETA: 44s - loss: 2.16 - ETA: 43s - loss: 2.16 - ETA: 43s - loss: 2.16 - ETA: 42s - loss: 2.16 - ETA: 42s - loss: 2.16 - ETA: 41s - loss: 2.16 - ETA: 41s - loss: 2.16 - ETA: 41s - loss: 2.16 - ETA: 40s - loss: 2.16 - ETA: 40s - loss: 2.16 - ETA: 39s - loss: 2.16 - ETA: 39s - loss: 2.16 - ETA: 38s - loss: 2.15 - ETA: 38s - loss: 2.16 - ETA: 38s - loss: 2.16 - ETA: 37s - loss: 2.16 - ETA: 37s - loss: 2.16 - ETA: 36s - loss: 2.16 - ETA: 36s - loss: 2.16 - ETA: 35s - loss: 2.15 - ETA: 35s - loss: 2.1603"
     ]
    },
    {
     "name": "stdout",
     "output_type": "stream",
     "text": [
      "400/400 [==============================] - ETA: 34s - loss: 2.15 - ETA: 34s - loss: 2.15 - ETA: 34s - loss: 2.15 - ETA: 33s - loss: 2.15 - ETA: 33s - loss: 2.15 - ETA: 32s - loss: 2.16 - ETA: 32s - loss: 2.16 - ETA: 31s - loss: 2.15 - ETA: 31s - loss: 2.15 - ETA: 31s - loss: 2.15 - ETA: 30s - loss: 2.15 - ETA: 30s - loss: 2.15 - ETA: 29s - loss: 2.15 - ETA: 29s - loss: 2.15 - ETA: 28s - loss: 2.15 - ETA: 28s - loss: 2.15 - ETA: 28s - loss: 2.15 - ETA: 27s - loss: 2.15 - ETA: 27s - loss: 2.15 - ETA: 26s - loss: 2.15 - ETA: 26s - loss: 2.15 - ETA: 25s - loss: 2.15 - ETA: 25s - loss: 2.15 - ETA: 25s - loss: 2.14 - ETA: 24s - loss: 2.14 - ETA: 24s - loss: 2.14 - ETA: 23s - loss: 2.14 - ETA: 23s - loss: 2.14 - ETA: 22s - loss: 2.14 - ETA: 22s - loss: 2.14 - ETA: 22s - loss: 2.14 - ETA: 21s - loss: 2.14 - ETA: 21s - loss: 2.14 - ETA: 20s - loss: 2.14 - ETA: 20s - loss: 2.14 - ETA: 19s - loss: 2.14 - ETA: 19s - loss: 2.14 - ETA: 19s - loss: 2.14 - ETA: 18s - loss: 2.14 - ETA: 18s - loss: 2.14 - ETA: 17s - loss: 2.14 - ETA: 17s - loss: 2.14 - ETA: 16s - loss: 2.14 - ETA: 16s - loss: 2.14 - ETA: 15s - loss: 2.14 - ETA: 15s - loss: 2.14 - ETA: 15s - loss: 2.14 - ETA: 14s - loss: 2.14 - ETA: 14s - loss: 2.14 - ETA: 13s - loss: 2.14 - ETA: 13s - loss: 2.14 - ETA: 12s - loss: 2.14 - ETA: 12s - loss: 2.14 - ETA: 12s - loss: 2.13 - ETA: 11s - loss: 2.13 - ETA: 11s - loss: 2.13 - ETA: 10s - loss: 2.13 - ETA: 10s - loss: 2.13 - ETA: 9s - loss: 2.1382 - ETA: 9s - loss: 2.138 - ETA: 9s - loss: 2.137 - ETA: 8s - loss: 2.136 - ETA: 8s - loss: 2.137 - ETA: 7s - loss: 2.136 - ETA: 7s - loss: 2.136 - ETA: 6s - loss: 2.136 - ETA: 6s - loss: 2.136 - ETA: 6s - loss: 2.136 - ETA: 5s - loss: 2.134 - ETA: 5s - loss: 2.134 - ETA: 4s - loss: 2.134 - ETA: 4s - loss: 2.133 - ETA: 3s - loss: 2.133 - ETA: 3s - loss: 2.132 - ETA: 3s - loss: 2.132 - ETA: 2s - loss: 2.131 - ETA: 2s - loss: 2.131 - ETA: 1s - loss: 2.130 - ETA: 1s - loss: 2.130 - ETA: 0s - loss: 2.131 - ETA: 0s - loss: 2.132 - 232s 581ms/step - loss: 2.1343 - val_loss: 2.0807\n",
      "Epoch 3/12\n"
     ]
    },
    {
     "name": "stdout",
     "output_type": "stream",
     "text": [
      "318/400 [======================>.......] - ETA: 3:05 - loss: 1.866 - ETA: 3:04 - loss: 1.977 - ETA: 3:01 - loss: 1.970 - ETA: 2:57 - loss: 1.950 - ETA: 2:56 - loss: 1.895 - ETA: 2:54 - loss: 1.916 - ETA: 2:54 - loss: 1.943 - ETA: 2:53 - loss: 1.981 - ETA: 2:53 - loss: 1.972 - ETA: 2:52 - loss: 2.031 - ETA: 2:51 - loss: 2.038 - ETA: 2:50 - loss: 2.052 - ETA: 2:49 - loss: 2.052 - ETA: 2:49 - loss: 2.023 - ETA: 2:48 - loss: 2.045 - ETA: 2:48 - loss: 2.031 - ETA: 2:47 - loss: 2.049 - ETA: 2:46 - loss: 2.045 - ETA: 2:46 - loss: 2.040 - ETA: 2:45 - loss: 2.037 - ETA: 2:44 - loss: 2.030 - ETA: 2:44 - loss: 2.033 - ETA: 2:44 - loss: 2.033 - ETA: 2:43 - loss: 2.026 - ETA: 2:43 - loss: 2.031 - ETA: 2:42 - loss: 2.042 - ETA: 2:41 - loss: 2.051 - ETA: 2:41 - loss: 2.054 - ETA: 2:40 - loss: 2.054 - ETA: 2:40 - loss: 2.058 - ETA: 2:40 - loss: 2.056 - ETA: 2:39 - loss: 2.054 - ETA: 2:39 - loss: 2.059 - ETA: 2:38 - loss: 2.055 - ETA: 2:38 - loss: 2.060 - ETA: 2:37 - loss: 2.055 - ETA: 2:37 - loss: 2.050 - ETA: 2:36 - loss: 2.044 - ETA: 2:36 - loss: 2.043 - ETA: 2:35 - loss: 2.042 - ETA: 2:35 - loss: 2.037 - ETA: 2:34 - loss: 2.035 - ETA: 2:34 - loss: 2.037 - ETA: 2:34 - loss: 2.037 - ETA: 2:33 - loss: 2.034 - ETA: 2:33 - loss: 2.043 - ETA: 2:32 - loss: 2.041 - ETA: 2:32 - loss: 2.039 - ETA: 2:31 - loss: 2.032 - ETA: 2:31 - loss: 2.034 - ETA: 2:30 - loss: 2.040 - ETA: 2:30 - loss: 2.039 - ETA: 2:29 - loss: 2.044 - ETA: 2:29 - loss: 2.050 - ETA: 2:29 - loss: 2.067 - ETA: 2:28 - loss: 2.071 - ETA: 2:28 - loss: 2.071 - ETA: 2:27 - loss: 2.076 - ETA: 2:27 - loss: 2.080 - ETA: 2:26 - loss: 2.087 - ETA: 2:26 - loss: 2.086 - ETA: 2:25 - loss: 2.085 - ETA: 2:25 - loss: 2.089 - ETA: 2:24 - loss: 2.084 - ETA: 2:24 - loss: 2.080 - ETA: 2:24 - loss: 2.082 - ETA: 2:23 - loss: 2.081 - ETA: 2:23 - loss: 2.083 - ETA: 2:22 - loss: 2.078 - ETA: 2:22 - loss: 2.077 - ETA: 2:21 - loss: 2.074 - ETA: 2:21 - loss: 2.070 - ETA: 2:21 - loss: 2.069 - ETA: 2:20 - loss: 2.066 - ETA: 2:20 - loss: 2.064 - ETA: 2:19 - loss: 2.062 - ETA: 2:19 - loss: 2.057 - ETA: 2:18 - loss: 2.048 - ETA: 2:18 - loss: 2.050 - ETA: 2:18 - loss: 2.052 - ETA: 2:17 - loss: 2.057 - ETA: 2:17 - loss: 2.057 - ETA: 2:16 - loss: 2.061 - ETA: 2:16 - loss: 2.061 - ETA: 2:15 - loss: 2.062 - ETA: 2:15 - loss: 2.062 - ETA: 2:15 - loss: 2.065 - ETA: 2:14 - loss: 2.066 - ETA: 2:14 - loss: 2.071 - ETA: 2:13 - loss: 2.070 - ETA: 2:13 - loss: 2.073 - ETA: 2:12 - loss: 2.075 - ETA: 2:12 - loss: 2.076 - ETA: 2:12 - loss: 2.080 - ETA: 2:11 - loss: 2.080 - ETA: 2:11 - loss: 2.086 - ETA: 2:10 - loss: 2.085 - ETA: 2:10 - loss: 2.089 - ETA: 2:09 - loss: 2.088 - ETA: 2:09 - loss: 2.088 - ETA: 2:09 - loss: 2.085 - ETA: 2:08 - loss: 2.086 - ETA: 2:08 - loss: 2.085 - ETA: 2:07 - loss: 2.083 - ETA: 2:07 - loss: 2.082 - ETA: 2:06 - loss: 2.083 - ETA: 2:06 - loss: 2.082 - ETA: 2:06 - loss: 2.081 - ETA: 2:05 - loss: 2.080 - ETA: 2:05 - loss: 2.075 - ETA: 2:04 - loss: 2.073 - ETA: 2:04 - loss: 2.070 - ETA: 2:03 - loss: 2.068 - ETA: 2:03 - loss: 2.066 - ETA: 2:03 - loss: 2.067 - ETA: 2:02 - loss: 2.068 - ETA: 2:02 - loss: 2.070 - ETA: 2:01 - loss: 2.073 - ETA: 2:01 - loss: 2.071 - ETA: 2:00 - loss: 2.072 - ETA: 2:00 - loss: 2.075 - ETA: 2:00 - loss: 2.077 - ETA: 1:59 - loss: 2.078 - ETA: 1:59 - loss: 2.076 - ETA: 1:58 - loss: 2.077 - ETA: 1:58 - loss: 2.076 - ETA: 1:57 - loss: 2.077 - ETA: 1:57 - loss: 2.077 - ETA: 1:57 - loss: 2.078 - ETA: 1:56 - loss: 2.081 - ETA: 1:56 - loss: 2.078 - ETA: 1:55 - loss: 2.077 - ETA: 1:55 - loss: 2.076 - ETA: 1:54 - loss: 2.076 - ETA: 1:54 - loss: 2.074 - ETA: 1:53 - loss: 2.074 - ETA: 1:53 - loss: 2.073 - ETA: 1:53 - loss: 2.076 - ETA: 1:52 - loss: 2.077 - ETA: 1:52 - loss: 2.077 - ETA: 1:51 - loss: 2.079 - ETA: 1:51 - loss: 2.080 - ETA: 1:50 - loss: 2.081 - ETA: 1:50 - loss: 2.077 - ETA: 1:50 - loss: 2.076 - ETA: 1:49 - loss: 2.076 - ETA: 1:49 - loss: 2.078 - ETA: 1:48 - loss: 2.078 - ETA: 1:48 - loss: 2.077 - ETA: 1:47 - loss: 2.075 - ETA: 1:47 - loss: 2.073 - ETA: 1:47 - loss: 2.072 - ETA: 1:46 - loss: 2.073 - ETA: 1:46 - loss: 2.074 - ETA: 1:45 - loss: 2.074 - ETA: 1:45 - loss: 2.073 - ETA: 1:44 - loss: 2.073 - ETA: 1:44 - loss: 2.072 - ETA: 1:44 - loss: 2.073 - ETA: 1:43 - loss: 2.072 - ETA: 1:43 - loss: 2.071 - ETA: 1:42 - loss: 2.070 - ETA: 1:42 - loss: 2.068 - ETA: 1:41 - loss: 2.068 - ETA: 1:41 - loss: 2.066 - ETA: 1:40 - loss: 2.066 - ETA: 1:40 - loss: 2.066 - ETA: 1:40 - loss: 2.065 - ETA: 1:39 - loss: 2.064 - ETA: 1:39 - loss: 2.062 - ETA: 1:38 - loss: 2.061 - ETA: 1:38 - loss: 2.062 - ETA: 1:37 - loss: 2.062 - ETA: 1:37 - loss: 2.061 - ETA: 1:37 - loss: 2.061 - ETA: 1:36 - loss: 2.059 - ETA: 1:36 - loss: 2.059 - ETA: 1:35 - loss: 2.057 - ETA: 1:35 - loss: 2.058 - ETA: 1:34 - loss: 2.060 - ETA: 1:34 - loss: 2.061 - ETA: 1:34 - loss: 2.059 - ETA: 1:33 - loss: 2.060 - ETA: 1:33 - loss: 2.061 - ETA: 1:32 - loss: 2.064 - ETA: 1:32 - loss: 2.064 - ETA: 1:31 - loss: 2.062 - ETA: 1:31 - loss: 2.060 - ETA: 1:31 - loss: 2.060 - ETA: 1:30 - loss: 2.061 - ETA: 1:30 - loss: 2.060 - ETA: 1:29 - loss: 2.058 - ETA: 1:29 - loss: 2.057 - ETA: 1:28 - loss: 2.057 - ETA: 1:28 - loss: 2.057 - ETA: 1:28 - loss: 2.056 - ETA: 1:27 - loss: 2.056 - ETA: 1:27 - loss: 2.056 - ETA: 1:26 - loss: 2.055 - ETA: 1:26 - loss: 2.055 - ETA: 1:25 - loss: 2.054 - ETA: 1:25 - loss: 2.055 - ETA: 1:24 - loss: 2.055 - ETA: 1:24 - loss: 2.053 - ETA: 1:24 - loss: 2.051 - ETA: 1:23 - loss: 2.051 - ETA: 1:23 - loss: 2.051 - ETA: 1:22 - loss: 2.050 - ETA: 1:22 - loss: 2.048 - ETA: 1:21 - loss: 2.049 - ETA: 1:21 - loss: 2.049 - ETA: 1:21 - loss: 2.050 - ETA: 1:20 - loss: 2.050 - ETA: 1:20 - loss: 2.048 - ETA: 1:19 - loss: 2.049 - ETA: 1:19 - loss: 2.049 - ETA: 1:18 - loss: 2.048 - ETA: 1:18 - loss: 2.047 - ETA: 1:18 - loss: 2.048 - ETA: 1:17 - loss: 2.047 - ETA: 1:17 - loss: 2.047 - ETA: 1:16 - loss: 2.047 - ETA: 1:16 - loss: 2.046 - ETA: 1:15 - loss: 2.045 - ETA: 1:15 - loss: 2.044 - ETA: 1:15 - loss: 2.044 - ETA: 1:14 - loss: 2.043 - ETA: 1:14 - loss: 2.044 - ETA: 1:13 - loss: 2.043 - ETA: 1:13 - loss: 2.041 - ETA: 1:12 - loss: 2.041 - ETA: 1:12 - loss: 2.041 - ETA: 1:12 - loss: 2.041 - ETA: 1:11 - loss: 2.040 - ETA: 1:11 - loss: 2.040 - ETA: 1:10 - loss: 2.038 - ETA: 1:10 - loss: 2.039 - ETA: 1:09 - loss: 2.040 - ETA: 1:09 - loss: 2.040 - ETA: 1:09 - loss: 2.040 - ETA: 1:08 - loss: 2.040 - ETA: 1:08 - loss: 2.040 - ETA: 1:07 - loss: 2.039 - ETA: 1:07 - loss: 2.038 - ETA: 1:06 - loss: 2.036 - ETA: 1:06 - loss: 2.035 - ETA: 1:06 - loss: 2.034 - ETA: 1:05 - loss: 2.034 - ETA: 1:05 - loss: 2.033 - ETA: 1:04 - loss: 2.033 - ETA: 1:04 - loss: 2.033 - ETA: 1:03 - loss: 2.033 - ETA: 1:03 - loss: 2.031 - ETA: 1:02 - loss: 2.030 - ETA: 1:02 - loss: 2.030 - ETA: 1:02 - loss: 2.029 - ETA: 1:01 - loss: 2.028 - ETA: 1:01 - loss: 2.027 - ETA: 1:00 - loss: 2.027 - ETA: 1:00 - loss: 2.027 - ETA: 59s - loss: 2.025 - ETA: 59s - loss: 2.02 - ETA: 59s - loss: 2.02 - ETA: 58s - loss: 2.02 - ETA: 58s - loss: 2.02 - ETA: 57s - loss: 2.02 - ETA: 57s - loss: 2.02 - ETA: 56s - loss: 2.02 - ETA: 56s - loss: 2.02 - ETA: 56s - loss: 2.02 - ETA: 55s - loss: 2.02 - ETA: 55s - loss: 2.01 - ETA: 54s - loss: 2.01 - ETA: 54s - loss: 2.01 - ETA: 53s - loss: 2.01 - ETA: 53s - loss: 2.01 - ETA: 53s - loss: 2.01 - ETA: 52s - loss: 2.01 - ETA: 52s - loss: 2.01 - ETA: 51s - loss: 2.01 - ETA: 51s - loss: 2.01 - ETA: 50s - loss: 2.01 - ETA: 50s - loss: 2.01 - ETA: 50s - loss: 2.01 - ETA: 49s - loss: 2.01 - ETA: 49s - loss: 2.01 - ETA: 48s - loss: 2.01 - ETA: 48s - loss: 2.01 - ETA: 47s - loss: 2.01 - ETA: 47s - loss: 2.01 - ETA: 47s - loss: 2.01 - ETA: 46s - loss: 2.01 - ETA: 46s - loss: 2.01 - ETA: 45s - loss: 2.01 - ETA: 45s - loss: 2.01 - ETA: 44s - loss: 2.01 - ETA: 44s - loss: 2.01 - ETA: 44s - loss: 2.01 - ETA: 43s - loss: 2.01 - ETA: 43s - loss: 2.01 - ETA: 42s - loss: 2.01 - ETA: 42s - loss: 2.01 - ETA: 41s - loss: 2.01 - ETA: 41s - loss: 2.01 - ETA: 40s - loss: 2.01 - ETA: 40s - loss: 2.01 - ETA: 40s - loss: 2.01 - ETA: 39s - loss: 2.01 - ETA: 39s - loss: 2.01 - ETA: 38s - loss: 2.01 - ETA: 38s - loss: 2.01 - ETA: 37s - loss: 2.01 - ETA: 37s - loss: 2.01 - ETA: 37s - loss: 2.01 - ETA: 36s - loss: 2.01 - ETA: 36s - loss: 2.01 - ETA: 35s - loss: 2.01 - ETA: 35s - loss: 2.0201"
     ]
    },
    {
     "name": "stdout",
     "output_type": "stream",
     "text": [
      "400/400 [==============================] - ETA: 34s - loss: 2.02 - ETA: 34s - loss: 2.02 - ETA: 34s - loss: 2.02 - ETA: 33s - loss: 2.02 - ETA: 33s - loss: 2.01 - ETA: 32s - loss: 2.01 - ETA: 32s - loss: 2.02 - ETA: 31s - loss: 2.02 - ETA: 31s - loss: 2.01 - ETA: 31s - loss: 2.01 - ETA: 30s - loss: 2.01 - ETA: 30s - loss: 2.01 - ETA: 29s - loss: 2.01 - ETA: 29s - loss: 2.01 - ETA: 28s - loss: 2.01 - ETA: 28s - loss: 2.01 - ETA: 28s - loss: 2.01 - ETA: 27s - loss: 2.01 - ETA: 27s - loss: 2.01 - ETA: 26s - loss: 2.01 - ETA: 26s - loss: 2.01 - ETA: 25s - loss: 2.01 - ETA: 25s - loss: 2.01 - ETA: 25s - loss: 2.01 - ETA: 24s - loss: 2.01 - ETA: 24s - loss: 2.01 - ETA: 23s - loss: 2.01 - ETA: 23s - loss: 2.01 - ETA: 22s - loss: 2.01 - ETA: 22s - loss: 2.01 - ETA: 21s - loss: 2.01 - ETA: 21s - loss: 2.01 - ETA: 21s - loss: 2.01 - ETA: 20s - loss: 2.01 - ETA: 20s - loss: 2.01 - ETA: 19s - loss: 2.01 - ETA: 19s - loss: 2.01 - ETA: 18s - loss: 2.01 - ETA: 18s - loss: 2.01 - ETA: 18s - loss: 2.01 - ETA: 17s - loss: 2.01 - ETA: 17s - loss: 2.01 - ETA: 16s - loss: 2.01 - ETA: 16s - loss: 2.01 - ETA: 15s - loss: 2.01 - ETA: 15s - loss: 2.01 - ETA: 15s - loss: 2.01 - ETA: 14s - loss: 2.01 - ETA: 14s - loss: 2.01 - ETA: 13s - loss: 2.01 - ETA: 13s - loss: 2.01 - ETA: 12s - loss: 2.01 - ETA: 12s - loss: 2.01 - ETA: 12s - loss: 2.01 - ETA: 11s - loss: 2.01 - ETA: 11s - loss: 2.01 - ETA: 10s - loss: 2.01 - ETA: 10s - loss: 2.01 - ETA: 9s - loss: 2.0117 - ETA: 9s - loss: 2.010 - ETA: 9s - loss: 2.011 - ETA: 8s - loss: 2.012 - ETA: 8s - loss: 2.012 - ETA: 7s - loss: 2.012 - ETA: 7s - loss: 2.012 - ETA: 6s - loss: 2.012 - ETA: 6s - loss: 2.012 - ETA: 6s - loss: 2.012 - ETA: 5s - loss: 2.013 - ETA: 5s - loss: 2.013 - ETA: 4s - loss: 2.012 - ETA: 4s - loss: 2.013 - ETA: 3s - loss: 2.013 - ETA: 3s - loss: 2.012 - ETA: 3s - loss: 2.012 - ETA: 2s - loss: 2.010 - ETA: 2s - loss: 2.010 - ETA: 1s - loss: 2.011 - ETA: 1s - loss: 2.011 - ETA: 0s - loss: 2.010 - ETA: 0s - loss: 2.011 - 232s 581ms/step - loss: 2.0109 - val_loss: 2.1504\n",
      "Epoch 4/12\n"
     ]
    },
    {
     "name": "stdout",
     "output_type": "stream",
     "text": [
      "318/400 [======================>.......] - ETA: 2:51 - loss: 2.235 - ETA: 2:56 - loss: 1.935 - ETA: 2:56 - loss: 1.956 - ETA: 2:53 - loss: 1.965 - ETA: 2:52 - loss: 1.937 - ETA: 2:51 - loss: 1.895 - ETA: 2:51 - loss: 1.896 - ETA: 2:50 - loss: 1.884 - ETA: 2:49 - loss: 1.859 - ETA: 2:49 - loss: 1.860 - ETA: 2:48 - loss: 1.847 - ETA: 2:48 - loss: 1.844 - ETA: 2:47 - loss: 1.877 - ETA: 2:46 - loss: 1.867 - ETA: 2:46 - loss: 1.893 - ETA: 2:45 - loss: 1.920 - ETA: 2:45 - loss: 1.915 - ETA: 2:45 - loss: 1.899 - ETA: 2:44 - loss: 1.891 - ETA: 2:44 - loss: 1.895 - ETA: 2:43 - loss: 1.909 - ETA: 2:43 - loss: 1.901 - ETA: 2:43 - loss: 1.895 - ETA: 2:42 - loss: 1.896 - ETA: 2:42 - loss: 1.919 - ETA: 2:41 - loss: 1.898 - ETA: 2:41 - loss: 1.896 - ETA: 2:40 - loss: 1.894 - ETA: 2:40 - loss: 1.882 - ETA: 2:39 - loss: 1.891 - ETA: 2:39 - loss: 1.902 - ETA: 2:39 - loss: 1.907 - ETA: 2:38 - loss: 1.895 - ETA: 2:38 - loss: 1.895 - ETA: 2:37 - loss: 1.898 - ETA: 2:37 - loss: 1.887 - ETA: 2:36 - loss: 1.879 - ETA: 2:36 - loss: 1.894 - ETA: 2:35 - loss: 1.907 - ETA: 2:35 - loss: 1.917 - ETA: 2:35 - loss: 1.919 - ETA: 2:34 - loss: 1.926 - ETA: 2:34 - loss: 1.921 - ETA: 2:33 - loss: 1.924 - ETA: 2:33 - loss: 1.915 - ETA: 2:32 - loss: 1.915 - ETA: 2:32 - loss: 1.920 - ETA: 2:31 - loss: 1.928 - ETA: 2:31 - loss: 1.932 - ETA: 2:31 - loss: 1.937 - ETA: 2:30 - loss: 1.936 - ETA: 2:30 - loss: 1.939 - ETA: 2:29 - loss: 1.933 - ETA: 2:29 - loss: 1.946 - ETA: 2:28 - loss: 1.939 - ETA: 2:28 - loss: 1.944 - ETA: 2:28 - loss: 1.950 - ETA: 2:27 - loss: 1.954 - ETA: 2:27 - loss: 1.957 - ETA: 2:26 - loss: 1.957 - ETA: 2:26 - loss: 1.952 - ETA: 2:25 - loss: 1.951 - ETA: 2:25 - loss: 1.952 - ETA: 2:24 - loss: 1.953 - ETA: 2:24 - loss: 1.956 - ETA: 2:24 - loss: 1.960 - ETA: 2:23 - loss: 1.956 - ETA: 2:23 - loss: 1.957 - ETA: 2:22 - loss: 1.956 - ETA: 2:22 - loss: 1.957 - ETA: 2:21 - loss: 1.955 - ETA: 2:21 - loss: 1.952 - ETA: 2:20 - loss: 1.953 - ETA: 2:20 - loss: 1.953 - ETA: 2:20 - loss: 1.958 - ETA: 2:19 - loss: 1.956 - ETA: 2:19 - loss: 1.957 - ETA: 2:18 - loss: 1.952 - ETA: 2:18 - loss: 1.949 - ETA: 2:17 - loss: 1.950 - ETA: 2:17 - loss: 1.953 - ETA: 2:17 - loss: 1.954 - ETA: 2:16 - loss: 1.952 - ETA: 2:16 - loss: 1.947 - ETA: 2:15 - loss: 1.948 - ETA: 2:15 - loss: 1.950 - ETA: 2:15 - loss: 1.951 - ETA: 2:14 - loss: 1.951 - ETA: 2:14 - loss: 1.952 - ETA: 2:13 - loss: 1.952 - ETA: 2:13 - loss: 1.953 - ETA: 2:12 - loss: 1.955 - ETA: 2:12 - loss: 1.954 - ETA: 2:11 - loss: 1.959 - ETA: 2:11 - loss: 1.957 - ETA: 2:11 - loss: 1.957 - ETA: 2:10 - loss: 1.954 - ETA: 2:10 - loss: 1.951 - ETA: 2:09 - loss: 1.947 - ETA: 2:09 - loss: 1.945 - ETA: 2:08 - loss: 1.947 - ETA: 2:08 - loss: 1.948 - ETA: 2:08 - loss: 1.946 - ETA: 2:07 - loss: 1.948 - ETA: 2:07 - loss: 1.947 - ETA: 2:06 - loss: 1.946 - ETA: 2:06 - loss: 1.944 - ETA: 2:05 - loss: 1.944 - ETA: 2:05 - loss: 1.938 - ETA: 2:05 - loss: 1.937 - ETA: 2:04 - loss: 1.937 - ETA: 2:04 - loss: 1.934 - ETA: 2:03 - loss: 1.933 - ETA: 2:03 - loss: 1.935 - ETA: 2:02 - loss: 1.933 - ETA: 2:02 - loss: 1.934 - ETA: 2:02 - loss: 1.934 - ETA: 2:01 - loss: 1.933 - ETA: 2:01 - loss: 1.931 - ETA: 2:00 - loss: 1.929 - ETA: 2:00 - loss: 1.928 - ETA: 1:59 - loss: 1.926 - ETA: 1:59 - loss: 1.927 - ETA: 1:59 - loss: 1.927 - ETA: 1:58 - loss: 1.929 - ETA: 1:58 - loss: 1.929 - ETA: 1:57 - loss: 1.927 - ETA: 1:57 - loss: 1.926 - ETA: 1:56 - loss: 1.929 - ETA: 1:56 - loss: 1.930 - ETA: 1:55 - loss: 1.930 - ETA: 1:55 - loss: 1.929 - ETA: 1:55 - loss: 1.928 - ETA: 1:54 - loss: 1.928 - ETA: 1:54 - loss: 1.927 - ETA: 1:53 - loss: 1.927 - ETA: 1:53 - loss: 1.926 - ETA: 1:52 - loss: 1.924 - ETA: 1:52 - loss: 1.926 - ETA: 1:52 - loss: 1.926 - ETA: 1:51 - loss: 1.925 - ETA: 1:51 - loss: 1.924 - ETA: 1:50 - loss: 1.924 - ETA: 1:50 - loss: 1.924 - ETA: 1:49 - loss: 1.924 - ETA: 1:49 - loss: 1.921 - ETA: 1:49 - loss: 1.921 - ETA: 1:48 - loss: 1.922 - ETA: 1:48 - loss: 1.924 - ETA: 1:47 - loss: 1.922 - ETA: 1:47 - loss: 1.920 - ETA: 1:46 - loss: 1.918 - ETA: 1:46 - loss: 1.917 - ETA: 1:45 - loss: 1.918 - ETA: 1:45 - loss: 1.919 - ETA: 1:45 - loss: 1.916 - ETA: 1:44 - loss: 1.915 - ETA: 1:44 - loss: 1.913 - ETA: 1:43 - loss: 1.912 - ETA: 1:43 - loss: 1.914 - ETA: 1:42 - loss: 1.914 - ETA: 1:42 - loss: 1.912 - ETA: 1:42 - loss: 1.912 - ETA: 1:41 - loss: 1.913 - ETA: 1:41 - loss: 1.912 - ETA: 1:40 - loss: 1.912 - ETA: 1:40 - loss: 1.913 - ETA: 1:39 - loss: 1.914 - ETA: 1:39 - loss: 1.912 - ETA: 1:39 - loss: 1.913 - ETA: 1:38 - loss: 1.912 - ETA: 1:38 - loss: 1.910 - ETA: 1:37 - loss: 1.912 - ETA: 1:37 - loss: 1.912 - ETA: 1:36 - loss: 1.915 - ETA: 1:36 - loss: 1.917 - ETA: 1:36 - loss: 1.917 - ETA: 1:35 - loss: 1.919 - ETA: 1:35 - loss: 1.922 - ETA: 1:34 - loss: 1.923 - ETA: 1:34 - loss: 1.924 - ETA: 1:33 - loss: 1.922 - ETA: 1:33 - loss: 1.922 - ETA: 1:33 - loss: 1.926 - ETA: 1:32 - loss: 1.925 - ETA: 1:32 - loss: 1.926 - ETA: 1:31 - loss: 1.926 - ETA: 1:31 - loss: 1.925 - ETA: 1:30 - loss: 1.926 - ETA: 1:30 - loss: 1.925 - ETA: 1:30 - loss: 1.925 - ETA: 1:29 - loss: 1.927 - ETA: 1:29 - loss: 1.926 - ETA: 1:28 - loss: 1.925 - ETA: 1:28 - loss: 1.926 - ETA: 1:27 - loss: 1.924 - ETA: 1:27 - loss: 1.923 - ETA: 1:27 - loss: 1.922 - ETA: 1:26 - loss: 1.925 - ETA: 1:26 - loss: 1.926 - ETA: 1:25 - loss: 1.925 - ETA: 1:25 - loss: 1.924 - ETA: 1:24 - loss: 1.926 - ETA: 1:24 - loss: 1.925 - ETA: 1:24 - loss: 1.925 - ETA: 1:23 - loss: 1.924 - ETA: 1:23 - loss: 1.923 - ETA: 1:22 - loss: 1.922 - ETA: 1:22 - loss: 1.922 - ETA: 1:21 - loss: 1.922 - ETA: 1:21 - loss: 1.920 - ETA: 1:21 - loss: 1.918 - ETA: 1:20 - loss: 1.918 - ETA: 1:20 - loss: 1.919 - ETA: 1:19 - loss: 1.918 - ETA: 1:19 - loss: 1.916 - ETA: 1:18 - loss: 1.915 - ETA: 1:18 - loss: 1.914 - ETA: 1:17 - loss: 1.912 - ETA: 1:17 - loss: 1.911 - ETA: 1:17 - loss: 1.911 - ETA: 1:16 - loss: 1.911 - ETA: 1:16 - loss: 1.909 - ETA: 1:15 - loss: 1.911 - ETA: 1:15 - loss: 1.911 - ETA: 1:14 - loss: 1.910 - ETA: 1:14 - loss: 1.909 - ETA: 1:14 - loss: 1.909 - ETA: 1:13 - loss: 1.907 - ETA: 1:13 - loss: 1.908 - ETA: 1:12 - loss: 1.907 - ETA: 1:12 - loss: 1.906 - ETA: 1:11 - loss: 1.907 - ETA: 1:11 - loss: 1.906 - ETA: 1:11 - loss: 1.906 - ETA: 1:10 - loss: 1.906 - ETA: 1:10 - loss: 1.906 - ETA: 1:09 - loss: 1.906 - ETA: 1:09 - loss: 1.907 - ETA: 1:08 - loss: 1.905 - ETA: 1:08 - loss: 1.904 - ETA: 1:08 - loss: 1.905 - ETA: 1:07 - loss: 1.906 - ETA: 1:07 - loss: 1.904 - ETA: 1:06 - loss: 1.904 - ETA: 1:06 - loss: 1.904 - ETA: 1:05 - loss: 1.904 - ETA: 1:05 - loss: 1.903 - ETA: 1:05 - loss: 1.902 - ETA: 1:04 - loss: 1.900 - ETA: 1:04 - loss: 1.899 - ETA: 1:03 - loss: 1.899 - ETA: 1:03 - loss: 1.899 - ETA: 1:02 - loss: 1.897 - ETA: 1:02 - loss: 1.898 - ETA: 1:02 - loss: 1.898 - ETA: 1:01 - loss: 1.898 - ETA: 1:01 - loss: 1.898 - ETA: 1:00 - loss: 1.898 - ETA: 1:00 - loss: 1.898 - ETA: 59s - loss: 1.898 - ETA: 59s - loss: 1.89 - ETA: 59s - loss: 1.89 - ETA: 58s - loss: 1.89 - ETA: 58s - loss: 1.89 - ETA: 57s - loss: 1.89 - ETA: 57s - loss: 1.89 - ETA: 56s - loss: 1.89 - ETA: 56s - loss: 1.89 - ETA: 56s - loss: 1.89 - ETA: 55s - loss: 1.89 - ETA: 55s - loss: 1.89 - ETA: 54s - loss: 1.89 - ETA: 54s - loss: 1.89 - ETA: 53s - loss: 1.89 - ETA: 53s - loss: 1.89 - ETA: 53s - loss: 1.89 - ETA: 52s - loss: 1.89 - ETA: 52s - loss: 1.89 - ETA: 51s - loss: 1.89 - ETA: 51s - loss: 1.89 - ETA: 50s - loss: 1.89 - ETA: 50s - loss: 1.89 - ETA: 49s - loss: 1.89 - ETA: 49s - loss: 1.89 - ETA: 49s - loss: 1.89 - ETA: 48s - loss: 1.89 - ETA: 48s - loss: 1.89 - ETA: 47s - loss: 1.89 - ETA: 47s - loss: 1.89 - ETA: 46s - loss: 1.89 - ETA: 46s - loss: 1.89 - ETA: 46s - loss: 1.89 - ETA: 45s - loss: 1.89 - ETA: 45s - loss: 1.89 - ETA: 44s - loss: 1.89 - ETA: 44s - loss: 1.89 - ETA: 43s - loss: 1.89 - ETA: 43s - loss: 1.89 - ETA: 43s - loss: 1.89 - ETA: 42s - loss: 1.89 - ETA: 42s - loss: 1.89 - ETA: 41s - loss: 1.89 - ETA: 41s - loss: 1.89 - ETA: 40s - loss: 1.89 - ETA: 40s - loss: 1.89 - ETA: 40s - loss: 1.89 - ETA: 39s - loss: 1.89 - ETA: 39s - loss: 1.89 - ETA: 38s - loss: 1.89 - ETA: 38s - loss: 1.89 - ETA: 37s - loss: 1.89 - ETA: 37s - loss: 1.89 - ETA: 37s - loss: 1.89 - ETA: 36s - loss: 1.89 - ETA: 36s - loss: 1.89 - ETA: 35s - loss: 1.89 - ETA: 35s - loss: 1.8949"
     ]
    },
    {
     "name": "stdout",
     "output_type": "stream",
     "text": [
      "400/400 [==============================] - ETA: 34s - loss: 1.89 - ETA: 34s - loss: 1.89 - ETA: 34s - loss: 1.89 - ETA: 33s - loss: 1.89 - ETA: 33s - loss: 1.89 - ETA: 32s - loss: 1.89 - ETA: 32s - loss: 1.89 - ETA: 31s - loss: 1.89 - ETA: 31s - loss: 1.89 - ETA: 31s - loss: 1.89 - ETA: 30s - loss: 1.89 - ETA: 30s - loss: 1.89 - ETA: 29s - loss: 1.89 - ETA: 29s - loss: 1.89 - ETA: 28s - loss: 1.89 - ETA: 28s - loss: 1.89 - ETA: 28s - loss: 1.89 - ETA: 27s - loss: 1.89 - ETA: 27s - loss: 1.89 - ETA: 26s - loss: 1.89 - ETA: 26s - loss: 1.88 - ETA: 25s - loss: 1.89 - ETA: 25s - loss: 1.88 - ETA: 24s - loss: 1.88 - ETA: 24s - loss: 1.88 - ETA: 24s - loss: 1.88 - ETA: 23s - loss: 1.88 - ETA: 23s - loss: 1.88 - ETA: 22s - loss: 1.88 - ETA: 22s - loss: 1.88 - ETA: 21s - loss: 1.88 - ETA: 21s - loss: 1.88 - ETA: 21s - loss: 1.88 - ETA: 20s - loss: 1.88 - ETA: 20s - loss: 1.88 - ETA: 19s - loss: 1.88 - ETA: 19s - loss: 1.88 - ETA: 18s - loss: 1.88 - ETA: 18s - loss: 1.88 - ETA: 18s - loss: 1.88 - ETA: 17s - loss: 1.88 - ETA: 17s - loss: 1.88 - ETA: 16s - loss: 1.88 - ETA: 16s - loss: 1.88 - ETA: 15s - loss: 1.88 - ETA: 15s - loss: 1.88 - ETA: 15s - loss: 1.88 - ETA: 14s - loss: 1.88 - ETA: 14s - loss: 1.88 - ETA: 13s - loss: 1.88 - ETA: 13s - loss: 1.88 - ETA: 12s - loss: 1.88 - ETA: 12s - loss: 1.88 - ETA: 12s - loss: 1.88 - ETA: 11s - loss: 1.88 - ETA: 11s - loss: 1.88 - ETA: 10s - loss: 1.88 - ETA: 10s - loss: 1.88 - ETA: 9s - loss: 1.8828 - ETA: 9s - loss: 1.882 - ETA: 9s - loss: 1.882 - ETA: 8s - loss: 1.881 - ETA: 8s - loss: 1.882 - ETA: 7s - loss: 1.882 - ETA: 7s - loss: 1.882 - ETA: 6s - loss: 1.881 - ETA: 6s - loss: 1.881 - ETA: 6s - loss: 1.880 - ETA: 5s - loss: 1.880 - ETA: 5s - loss: 1.879 - ETA: 4s - loss: 1.879 - ETA: 4s - loss: 1.878 - ETA: 3s - loss: 1.877 - ETA: 3s - loss: 1.877 - ETA: 3s - loss: 1.876 - ETA: 2s - loss: 1.876 - ETA: 2s - loss: 1.875 - ETA: 1s - loss: 1.874 - ETA: 1s - loss: 1.874 - ETA: 0s - loss: 1.873 - ETA: 0s - loss: 1.872 - 232s 580ms/step - loss: 1.8718 - val_loss: 2.1709\n",
      "Epoch 5/12\n"
     ]
    },
    {
     "name": "stdout",
     "output_type": "stream",
     "text": [
      "318/400 [======================>.......] - ETA: 2:58 - loss: 2.111 - ETA: 2:55 - loss: 1.913 - ETA: 2:54 - loss: 1.890 - ETA: 2:53 - loss: 1.820 - ETA: 2:52 - loss: 1.831 - ETA: 2:51 - loss: 1.857 - ETA: 2:51 - loss: 1.826 - ETA: 2:50 - loss: 1.797 - ETA: 2:50 - loss: 1.777 - ETA: 2:49 - loss: 1.791 - ETA: 2:48 - loss: 1.785 - ETA: 2:48 - loss: 1.759 - ETA: 2:47 - loss: 1.742 - ETA: 2:47 - loss: 1.747 - ETA: 2:46 - loss: 1.743 - ETA: 2:45 - loss: 1.738 - ETA: 2:45 - loss: 1.745 - ETA: 2:45 - loss: 1.753 - ETA: 2:44 - loss: 1.751 - ETA: 2:44 - loss: 1.760 - ETA: 2:43 - loss: 1.759 - ETA: 2:43 - loss: 1.752 - ETA: 2:42 - loss: 1.744 - ETA: 2:42 - loss: 1.741 - ETA: 2:41 - loss: 1.740 - ETA: 2:41 - loss: 1.746 - ETA: 2:40 - loss: 1.744 - ETA: 2:40 - loss: 1.751 - ETA: 2:40 - loss: 1.754 - ETA: 2:39 - loss: 1.757 - ETA: 2:39 - loss: 1.767 - ETA: 2:39 - loss: 1.770 - ETA: 2:38 - loss: 1.773 - ETA: 2:38 - loss: 1.774 - ETA: 2:37 - loss: 1.770 - ETA: 2:37 - loss: 1.779 - ETA: 2:36 - loss: 1.773 - ETA: 2:36 - loss: 1.772 - ETA: 2:36 - loss: 1.769 - ETA: 2:35 - loss: 1.766 - ETA: 2:35 - loss: 1.768 - ETA: 2:34 - loss: 1.755 - ETA: 2:34 - loss: 1.752 - ETA: 2:33 - loss: 1.761 - ETA: 2:33 - loss: 1.759 - ETA: 2:32 - loss: 1.755 - ETA: 2:32 - loss: 1.755 - ETA: 2:31 - loss: 1.754 - ETA: 2:31 - loss: 1.749 - ETA: 2:30 - loss: 1.745 - ETA: 2:30 - loss: 1.736 - ETA: 2:30 - loss: 1.742 - ETA: 2:29 - loss: 1.740 - ETA: 2:29 - loss: 1.742 - ETA: 2:28 - loss: 1.745 - ETA: 2:28 - loss: 1.741 - ETA: 2:27 - loss: 1.739 - ETA: 2:27 - loss: 1.741 - ETA: 2:27 - loss: 1.744 - ETA: 2:26 - loss: 1.747 - ETA: 2:26 - loss: 1.751 - ETA: 2:25 - loss: 1.751 - ETA: 2:25 - loss: 1.752 - ETA: 2:24 - loss: 1.754 - ETA: 2:24 - loss: 1.750 - ETA: 2:24 - loss: 1.750 - ETA: 2:23 - loss: 1.745 - ETA: 2:23 - loss: 1.748 - ETA: 2:22 - loss: 1.753 - ETA: 2:22 - loss: 1.748 - ETA: 2:21 - loss: 1.748 - ETA: 2:21 - loss: 1.752 - ETA: 2:21 - loss: 1.754 - ETA: 2:20 - loss: 1.750 - ETA: 2:20 - loss: 1.746 - ETA: 2:19 - loss: 1.754 - ETA: 2:19 - loss: 1.760 - ETA: 2:18 - loss: 1.760 - ETA: 2:18 - loss: 1.760 - ETA: 2:17 - loss: 1.760 - ETA: 2:17 - loss: 1.760 - ETA: 2:17 - loss: 1.761 - ETA: 2:16 - loss: 1.759 - ETA: 2:16 - loss: 1.762 - ETA: 2:15 - loss: 1.762 - ETA: 2:15 - loss: 1.758 - ETA: 2:14 - loss: 1.756 - ETA: 2:14 - loss: 1.753 - ETA: 2:14 - loss: 1.759 - ETA: 2:13 - loss: 1.757 - ETA: 2:13 - loss: 1.761 - ETA: 2:12 - loss: 1.762 - ETA: 2:12 - loss: 1.758 - ETA: 2:11 - loss: 1.766 - ETA: 2:11 - loss: 1.764 - ETA: 2:10 - loss: 1.762 - ETA: 2:10 - loss: 1.762 - ETA: 2:10 - loss: 1.761 - ETA: 2:09 - loss: 1.766 - ETA: 2:09 - loss: 1.765 - ETA: 2:08 - loss: 1.768 - ETA: 2:08 - loss: 1.769 - ETA: 2:08 - loss: 1.768 - ETA: 2:07 - loss: 1.762 - ETA: 2:07 - loss: 1.758 - ETA: 2:06 - loss: 1.759 - ETA: 2:06 - loss: 1.761 - ETA: 2:05 - loss: 1.760 - ETA: 2:05 - loss: 1.761 - ETA: 2:04 - loss: 1.759 - ETA: 2:04 - loss: 1.759 - ETA: 2:04 - loss: 1.757 - ETA: 2:03 - loss: 1.755 - ETA: 2:03 - loss: 1.756 - ETA: 2:02 - loss: 1.753 - ETA: 2:02 - loss: 1.752 - ETA: 2:01 - loss: 1.751 - ETA: 2:01 - loss: 1.751 - ETA: 2:01 - loss: 1.749 - ETA: 2:00 - loss: 1.749 - ETA: 2:00 - loss: 1.751 - ETA: 1:59 - loss: 1.752 - ETA: 1:59 - loss: 1.751 - ETA: 1:58 - loss: 1.749 - ETA: 1:58 - loss: 1.750 - ETA: 1:57 - loss: 1.750 - ETA: 1:57 - loss: 1.753 - ETA: 1:57 - loss: 1.752 - ETA: 1:56 - loss: 1.755 - ETA: 1:56 - loss: 1.757 - ETA: 1:55 - loss: 1.756 - ETA: 1:55 - loss: 1.757 - ETA: 1:54 - loss: 1.756 - ETA: 1:54 - loss: 1.758 - ETA: 1:54 - loss: 1.757 - ETA: 1:53 - loss: 1.753 - ETA: 1:53 - loss: 1.751 - ETA: 1:52 - loss: 1.753 - ETA: 1:52 - loss: 1.751 - ETA: 1:51 - loss: 1.749 - ETA: 1:51 - loss: 1.749 - ETA: 1:51 - loss: 1.750 - ETA: 1:50 - loss: 1.749 - ETA: 1:50 - loss: 1.747 - ETA: 1:49 - loss: 1.749 - ETA: 1:49 - loss: 1.749 - ETA: 1:48 - loss: 1.750 - ETA: 1:48 - loss: 1.748 - ETA: 1:48 - loss: 1.746 - ETA: 1:47 - loss: 1.745 - ETA: 1:47 - loss: 1.745 - ETA: 1:46 - loss: 1.744 - ETA: 1:46 - loss: 1.746 - ETA: 1:45 - loss: 1.748 - ETA: 1:45 - loss: 1.748 - ETA: 1:45 - loss: 1.749 - ETA: 1:44 - loss: 1.750 - ETA: 1:44 - loss: 1.750 - ETA: 1:43 - loss: 1.750 - ETA: 1:43 - loss: 1.748 - ETA: 1:42 - loss: 1.746 - ETA: 1:42 - loss: 1.746 - ETA: 1:42 - loss: 1.743 - ETA: 1:41 - loss: 1.743 - ETA: 1:41 - loss: 1.744 - ETA: 1:40 - loss: 1.744 - ETA: 1:40 - loss: 1.742 - ETA: 1:39 - loss: 1.741 - ETA: 1:39 - loss: 1.740 - ETA: 1:38 - loss: 1.739 - ETA: 1:38 - loss: 1.740 - ETA: 1:38 - loss: 1.740 - ETA: 1:37 - loss: 1.739 - ETA: 1:37 - loss: 1.738 - ETA: 1:36 - loss: 1.737 - ETA: 1:36 - loss: 1.736 - ETA: 1:35 - loss: 1.737 - ETA: 1:35 - loss: 1.737 - ETA: 1:35 - loss: 1.738 - ETA: 1:34 - loss: 1.738 - ETA: 1:34 - loss: 1.739 - ETA: 1:33 - loss: 1.737 - ETA: 1:33 - loss: 1.737 - ETA: 1:32 - loss: 1.737 - ETA: 1:32 - loss: 1.736 - ETA: 1:32 - loss: 1.737 - ETA: 1:31 - loss: 1.735 - ETA: 1:31 - loss: 1.736 - ETA: 1:30 - loss: 1.736 - ETA: 1:30 - loss: 1.737 - ETA: 1:29 - loss: 1.737 - ETA: 1:29 - loss: 1.737 - ETA: 1:29 - loss: 1.737 - ETA: 1:28 - loss: 1.738 - ETA: 1:28 - loss: 1.737 - ETA: 1:27 - loss: 1.738 - ETA: 1:27 - loss: 1.741 - ETA: 1:26 - loss: 1.740 - ETA: 1:26 - loss: 1.739 - ETA: 1:26 - loss: 1.741 - ETA: 1:25 - loss: 1.740 - ETA: 1:25 - loss: 1.742 - ETA: 1:24 - loss: 1.739 - ETA: 1:24 - loss: 1.739 - ETA: 1:23 - loss: 1.739 - ETA: 1:23 - loss: 1.741 - ETA: 1:23 - loss: 1.739 - ETA: 1:22 - loss: 1.738 - ETA: 1:22 - loss: 1.738 - ETA: 1:21 - loss: 1.738 - ETA: 1:21 - loss: 1.738 - ETA: 1:20 - loss: 1.738 - ETA: 1:20 - loss: 1.737 - ETA: 1:20 - loss: 1.738 - ETA: 1:19 - loss: 1.738 - ETA: 1:19 - loss: 1.738 - ETA: 1:18 - loss: 1.738 - ETA: 1:18 - loss: 1.737 - ETA: 1:17 - loss: 1.738 - ETA: 1:17 - loss: 1.737 - ETA: 1:17 - loss: 1.736 - ETA: 1:16 - loss: 1.736 - ETA: 1:16 - loss: 1.737 - ETA: 1:15 - loss: 1.738 - ETA: 1:15 - loss: 1.738 - ETA: 1:14 - loss: 1.737 - ETA: 1:14 - loss: 1.737 - ETA: 1:14 - loss: 1.737 - ETA: 1:13 - loss: 1.737 - ETA: 1:13 - loss: 1.737 - ETA: 1:12 - loss: 1.736 - ETA: 1:12 - loss: 1.736 - ETA: 1:11 - loss: 1.734 - ETA: 1:11 - loss: 1.735 - ETA: 1:10 - loss: 1.735 - ETA: 1:10 - loss: 1.734 - ETA: 1:10 - loss: 1.734 - ETA: 1:09 - loss: 1.733 - ETA: 1:09 - loss: 1.732 - ETA: 1:08 - loss: 1.731 - ETA: 1:08 - loss: 1.732 - ETA: 1:07 - loss: 1.732 - ETA: 1:07 - loss: 1.732 - ETA: 1:07 - loss: 1.733 - ETA: 1:06 - loss: 1.735 - ETA: 1:06 - loss: 1.735 - ETA: 1:05 - loss: 1.736 - ETA: 1:05 - loss: 1.736 - ETA: 1:04 - loss: 1.736 - ETA: 1:04 - loss: 1.736 - ETA: 1:04 - loss: 1.736 - ETA: 1:03 - loss: 1.737 - ETA: 1:03 - loss: 1.738 - ETA: 1:02 - loss: 1.738 - ETA: 1:02 - loss: 1.737 - ETA: 1:01 - loss: 1.735 - ETA: 1:01 - loss: 1.733 - ETA: 1:01 - loss: 1.733 - ETA: 1:00 - loss: 1.732 - ETA: 1:00 - loss: 1.733 - ETA: 59s - loss: 1.731 - ETA: 59s - loss: 1.73 - ETA: 58s - loss: 1.73 - ETA: 58s - loss: 1.73 - ETA: 58s - loss: 1.73 - ETA: 57s - loss: 1.73 - ETA: 57s - loss: 1.73 - ETA: 56s - loss: 1.73 - ETA: 56s - loss: 1.73 - ETA: 55s - loss: 1.73 - ETA: 55s - loss: 1.73 - ETA: 55s - loss: 1.73 - ETA: 54s - loss: 1.73 - ETA: 54s - loss: 1.73 - ETA: 53s - loss: 1.73 - ETA: 53s - loss: 1.73 - ETA: 52s - loss: 1.73 - ETA: 52s - loss: 1.73 - ETA: 52s - loss: 1.73 - ETA: 51s - loss: 1.73 - ETA: 51s - loss: 1.73 - ETA: 50s - loss: 1.73 - ETA: 50s - loss: 1.73 - ETA: 49s - loss: 1.73 - ETA: 49s - loss: 1.73 - ETA: 49s - loss: 1.73 - ETA: 48s - loss: 1.73 - ETA: 48s - loss: 1.73 - ETA: 47s - loss: 1.73 - ETA: 47s - loss: 1.73 - ETA: 46s - loss: 1.73 - ETA: 46s - loss: 1.73 - ETA: 46s - loss: 1.73 - ETA: 45s - loss: 1.73 - ETA: 45s - loss: 1.73 - ETA: 44s - loss: 1.73 - ETA: 44s - loss: 1.73 - ETA: 43s - loss: 1.73 - ETA: 43s - loss: 1.73 - ETA: 43s - loss: 1.73 - ETA: 42s - loss: 1.73 - ETA: 42s - loss: 1.73 - ETA: 41s - loss: 1.73 - ETA: 41s - loss: 1.73 - ETA: 40s - loss: 1.73 - ETA: 40s - loss: 1.73 - ETA: 40s - loss: 1.73 - ETA: 39s - loss: 1.73 - ETA: 39s - loss: 1.73 - ETA: 38s - loss: 1.73 - ETA: 38s - loss: 1.73 - ETA: 37s - loss: 1.73 - ETA: 37s - loss: 1.73 - ETA: 36s - loss: 1.73 - ETA: 36s - loss: 1.73 - ETA: 36s - loss: 1.73 - ETA: 35s - loss: 1.73 - ETA: 35s - loss: 1.7314"
     ]
    },
    {
     "name": "stdout",
     "output_type": "stream",
     "text": [
      "400/400 [==============================] - ETA: 34s - loss: 1.73 - ETA: 34s - loss: 1.73 - ETA: 33s - loss: 1.73 - ETA: 33s - loss: 1.73 - ETA: 33s - loss: 1.73 - ETA: 32s - loss: 1.73 - ETA: 32s - loss: 1.73 - ETA: 31s - loss: 1.73 - ETA: 31s - loss: 1.73 - ETA: 30s - loss: 1.73 - ETA: 30s - loss: 1.73 - ETA: 30s - loss: 1.73 - ETA: 29s - loss: 1.73 - ETA: 29s - loss: 1.73 - ETA: 28s - loss: 1.73 - ETA: 28s - loss: 1.73 - ETA: 27s - loss: 1.73 - ETA: 27s - loss: 1.73 - ETA: 27s - loss: 1.73 - ETA: 26s - loss: 1.73 - ETA: 26s - loss: 1.73 - ETA: 25s - loss: 1.73 - ETA: 25s - loss: 1.73 - ETA: 24s - loss: 1.73 - ETA: 24s - loss: 1.73 - ETA: 24s - loss: 1.73 - ETA: 23s - loss: 1.73 - ETA: 23s - loss: 1.73 - ETA: 22s - loss: 1.73 - ETA: 22s - loss: 1.73 - ETA: 21s - loss: 1.73 - ETA: 21s - loss: 1.73 - ETA: 21s - loss: 1.73 - ETA: 20s - loss: 1.73 - ETA: 20s - loss: 1.73 - ETA: 19s - loss: 1.73 - ETA: 19s - loss: 1.73 - ETA: 18s - loss: 1.73 - ETA: 18s - loss: 1.73 - ETA: 18s - loss: 1.73 - ETA: 17s - loss: 1.73 - ETA: 17s - loss: 1.73 - ETA: 16s - loss: 1.73 - ETA: 16s - loss: 1.73 - ETA: 15s - loss: 1.73 - ETA: 15s - loss: 1.73 - ETA: 15s - loss: 1.73 - ETA: 14s - loss: 1.73 - ETA: 14s - loss: 1.73 - ETA: 13s - loss: 1.73 - ETA: 13s - loss: 1.73 - ETA: 12s - loss: 1.73 - ETA: 12s - loss: 1.73 - ETA: 12s - loss: 1.73 - ETA: 11s - loss: 1.73 - ETA: 11s - loss: 1.73 - ETA: 10s - loss: 1.72 - ETA: 10s - loss: 1.73 - ETA: 9s - loss: 1.7304 - ETA: 9s - loss: 1.731 - ETA: 9s - loss: 1.731 - ETA: 8s - loss: 1.731 - ETA: 8s - loss: 1.730 - ETA: 7s - loss: 1.729 - ETA: 7s - loss: 1.729 - ETA: 6s - loss: 1.729 - ETA: 6s - loss: 1.730 - ETA: 6s - loss: 1.730 - ETA: 5s - loss: 1.730 - ETA: 5s - loss: 1.730 - ETA: 4s - loss: 1.730 - ETA: 4s - loss: 1.729 - ETA: 3s - loss: 1.729 - ETA: 3s - loss: 1.729 - ETA: 3s - loss: 1.729 - ETA: 2s - loss: 1.729 - ETA: 2s - loss: 1.728 - ETA: 1s - loss: 1.728 - ETA: 1s - loss: 1.727 - ETA: 0s - loss: 1.727 - ETA: 0s - loss: 1.727 - 232s 580ms/step - loss: 1.7264 - val_loss: 2.2228\n",
      "Epoch 6/12\n"
     ]
    },
    {
     "name": "stdout",
     "output_type": "stream",
     "text": [
      "318/400 [======================>.......] - ETA: 2:57 - loss: 1.275 - ETA: 2:59 - loss: 1.484 - ETA: 2:58 - loss: 1.579 - ETA: 2:56 - loss: 1.624 - ETA: 2:55 - loss: 1.602 - ETA: 2:54 - loss: 1.657 - ETA: 2:53 - loss: 1.649 - ETA: 2:52 - loss: 1.643 - ETA: 2:51 - loss: 1.641 - ETA: 2:50 - loss: 1.667 - ETA: 2:49 - loss: 1.651 - ETA: 2:49 - loss: 1.666 - ETA: 2:48 - loss: 1.682 - ETA: 2:47 - loss: 1.698 - ETA: 2:47 - loss: 1.702 - ETA: 2:46 - loss: 1.707 - ETA: 2:46 - loss: 1.740 - ETA: 2:45 - loss: 1.734 - ETA: 2:45 - loss: 1.731 - ETA: 2:45 - loss: 1.718 - ETA: 2:44 - loss: 1.715 - ETA: 2:43 - loss: 1.720 - ETA: 2:43 - loss: 1.704 - ETA: 2:43 - loss: 1.697 - ETA: 2:42 - loss: 1.696 - ETA: 2:42 - loss: 1.694 - ETA: 2:41 - loss: 1.696 - ETA: 2:41 - loss: 1.697 - ETA: 2:40 - loss: 1.706 - ETA: 2:40 - loss: 1.698 - ETA: 2:39 - loss: 1.704 - ETA: 2:39 - loss: 1.707 - ETA: 2:38 - loss: 1.705 - ETA: 2:38 - loss: 1.703 - ETA: 2:37 - loss: 1.702 - ETA: 2:37 - loss: 1.707 - ETA: 2:36 - loss: 1.715 - ETA: 2:36 - loss: 1.715 - ETA: 2:35 - loss: 1.713 - ETA: 2:35 - loss: 1.704 - ETA: 2:34 - loss: 1.699 - ETA: 2:34 - loss: 1.699 - ETA: 2:34 - loss: 1.691 - ETA: 2:33 - loss: 1.693 - ETA: 2:33 - loss: 1.694 - ETA: 2:32 - loss: 1.696 - ETA: 2:32 - loss: 1.691 - ETA: 2:31 - loss: 1.687 - ETA: 2:31 - loss: 1.683 - ETA: 2:31 - loss: 1.682 - ETA: 2:30 - loss: 1.685 - ETA: 2:30 - loss: 1.683 - ETA: 2:29 - loss: 1.682 - ETA: 2:29 - loss: 1.684 - ETA: 2:28 - loss: 1.690 - ETA: 2:28 - loss: 1.687 - ETA: 2:27 - loss: 1.688 - ETA: 2:27 - loss: 1.686 - ETA: 2:27 - loss: 1.694 - ETA: 2:26 - loss: 1.698 - ETA: 2:26 - loss: 1.698 - ETA: 2:25 - loss: 1.696 - ETA: 2:25 - loss: 1.693 - ETA: 2:24 - loss: 1.692 - ETA: 2:24 - loss: 1.694 - ETA: 2:24 - loss: 1.698 - ETA: 2:23 - loss: 1.697 - ETA: 2:23 - loss: 1.694 - ETA: 2:22 - loss: 1.690 - ETA: 2:22 - loss: 1.685 - ETA: 2:21 - loss: 1.687 - ETA: 2:21 - loss: 1.683 - ETA: 2:21 - loss: 1.684 - ETA: 2:20 - loss: 1.688 - ETA: 2:20 - loss: 1.687 - ETA: 2:19 - loss: 1.681 - ETA: 2:19 - loss: 1.678 - ETA: 2:18 - loss: 1.679 - ETA: 2:18 - loss: 1.672 - ETA: 2:17 - loss: 1.671 - ETA: 2:17 - loss: 1.667 - ETA: 2:17 - loss: 1.666 - ETA: 2:16 - loss: 1.666 - ETA: 2:16 - loss: 1.665 - ETA: 2:15 - loss: 1.665 - ETA: 2:15 - loss: 1.661 - ETA: 2:14 - loss: 1.663 - ETA: 2:14 - loss: 1.661 - ETA: 2:14 - loss: 1.658 - ETA: 2:13 - loss: 1.655 - ETA: 2:13 - loss: 1.657 - ETA: 2:12 - loss: 1.659 - ETA: 2:12 - loss: 1.656 - ETA: 2:11 - loss: 1.654 - ETA: 2:11 - loss: 1.652 - ETA: 2:11 - loss: 1.651 - ETA: 2:10 - loss: 1.652 - ETA: 2:10 - loss: 1.652 - ETA: 2:09 - loss: 1.653 - ETA: 2:09 - loss: 1.654 - ETA: 2:08 - loss: 1.653 - ETA: 2:08 - loss: 1.655 - ETA: 2:07 - loss: 1.652 - ETA: 2:07 - loss: 1.650 - ETA: 2:07 - loss: 1.647 - ETA: 2:06 - loss: 1.647 - ETA: 2:06 - loss: 1.643 - ETA: 2:05 - loss: 1.643 - ETA: 2:05 - loss: 1.645 - ETA: 2:04 - loss: 1.644 - ETA: 2:04 - loss: 1.644 - ETA: 2:04 - loss: 1.646 - ETA: 2:03 - loss: 1.645 - ETA: 2:03 - loss: 1.644 - ETA: 2:02 - loss: 1.643 - ETA: 2:02 - loss: 1.644 - ETA: 2:01 - loss: 1.649 - ETA: 2:01 - loss: 1.651 - ETA: 2:01 - loss: 1.654 - ETA: 2:00 - loss: 1.652 - ETA: 2:00 - loss: 1.651 - ETA: 1:59 - loss: 1.654 - ETA: 1:59 - loss: 1.651 - ETA: 1:58 - loss: 1.651 - ETA: 1:58 - loss: 1.651 - ETA: 1:57 - loss: 1.651 - ETA: 1:57 - loss: 1.652 - ETA: 1:57 - loss: 1.654 - ETA: 1:56 - loss: 1.654 - ETA: 1:56 - loss: 1.656 - ETA: 1:55 - loss: 1.657 - ETA: 1:55 - loss: 1.654 - ETA: 1:54 - loss: 1.652 - ETA: 1:54 - loss: 1.652 - ETA: 1:54 - loss: 1.652 - ETA: 1:53 - loss: 1.651 - ETA: 1:53 - loss: 1.650 - ETA: 1:52 - loss: 1.651 - ETA: 1:52 - loss: 1.650 - ETA: 1:51 - loss: 1.649 - ETA: 1:51 - loss: 1.650 - ETA: 1:51 - loss: 1.650 - ETA: 1:50 - loss: 1.649 - ETA: 1:50 - loss: 1.649 - ETA: 1:49 - loss: 1.648 - ETA: 1:49 - loss: 1.650 - ETA: 1:48 - loss: 1.650 - ETA: 1:48 - loss: 1.650 - ETA: 1:48 - loss: 1.650 - ETA: 1:47 - loss: 1.646 - ETA: 1:47 - loss: 1.646 - ETA: 1:46 - loss: 1.646 - ETA: 1:46 - loss: 1.647 - ETA: 1:45 - loss: 1.646 - ETA: 1:45 - loss: 1.645 - ETA: 1:45 - loss: 1.646 - ETA: 1:44 - loss: 1.645 - ETA: 1:44 - loss: 1.644 - ETA: 1:43 - loss: 1.645 - ETA: 1:43 - loss: 1.645 - ETA: 1:42 - loss: 1.642 - ETA: 1:42 - loss: 1.641 - ETA: 1:42 - loss: 1.639 - ETA: 1:41 - loss: 1.639 - ETA: 1:41 - loss: 1.640 - ETA: 1:40 - loss: 1.642 - ETA: 1:40 - loss: 1.642 - ETA: 1:39 - loss: 1.640 - ETA: 1:39 - loss: 1.640 - ETA: 1:39 - loss: 1.637 - ETA: 1:38 - loss: 1.638 - ETA: 1:38 - loss: 1.640 - ETA: 1:37 - loss: 1.640 - ETA: 1:37 - loss: 1.641 - ETA: 1:36 - loss: 1.641 - ETA: 1:36 - loss: 1.641 - ETA: 1:35 - loss: 1.642 - ETA: 1:35 - loss: 1.643 - ETA: 1:35 - loss: 1.642 - ETA: 1:34 - loss: 1.641 - ETA: 1:34 - loss: 1.643 - ETA: 1:33 - loss: 1.643 - ETA: 1:33 - loss: 1.643 - ETA: 1:32 - loss: 1.644 - ETA: 1:32 - loss: 1.644 - ETA: 1:32 - loss: 1.644 - ETA: 1:31 - loss: 1.644 - ETA: 1:31 - loss: 1.644 - ETA: 1:30 - loss: 1.642 - ETA: 1:30 - loss: 1.641 - ETA: 1:29 - loss: 1.643 - ETA: 1:29 - loss: 1.643 - ETA: 1:29 - loss: 1.645 - ETA: 1:28 - loss: 1.645 - ETA: 1:28 - loss: 1.648 - ETA: 1:27 - loss: 1.647 - ETA: 1:27 - loss: 1.646 - ETA: 1:26 - loss: 1.644 - ETA: 1:26 - loss: 1.643 - ETA: 1:26 - loss: 1.642 - ETA: 1:25 - loss: 1.641 - ETA: 1:25 - loss: 1.641 - ETA: 1:24 - loss: 1.641 - ETA: 1:24 - loss: 1.641 - ETA: 1:23 - loss: 1.642 - ETA: 1:23 - loss: 1.642 - ETA: 1:23 - loss: 1.641 - ETA: 1:22 - loss: 1.643 - ETA: 1:22 - loss: 1.642 - ETA: 1:21 - loss: 1.642 - ETA: 1:21 - loss: 1.643 - ETA: 1:20 - loss: 1.644 - ETA: 1:20 - loss: 1.644 - ETA: 1:20 - loss: 1.642 - ETA: 1:19 - loss: 1.641 - ETA: 1:19 - loss: 1.642 - ETA: 1:18 - loss: 1.641 - ETA: 1:18 - loss: 1.641 - ETA: 1:17 - loss: 1.640 - ETA: 1:17 - loss: 1.641 - ETA: 1:17 - loss: 1.642 - ETA: 1:16 - loss: 1.642 - ETA: 1:16 - loss: 1.642 - ETA: 1:15 - loss: 1.641 - ETA: 1:15 - loss: 1.640 - ETA: 1:14 - loss: 1.642 - ETA: 1:14 - loss: 1.642 - ETA: 1:14 - loss: 1.644 - ETA: 1:13 - loss: 1.643 - ETA: 1:13 - loss: 1.647 - ETA: 1:12 - loss: 1.648 - ETA: 1:12 - loss: 1.649 - ETA: 1:11 - loss: 1.649 - ETA: 1:11 - loss: 1.649 - ETA: 1:11 - loss: 1.649 - ETA: 1:10 - loss: 1.650 - ETA: 1:10 - loss: 1.651 - ETA: 1:09 - loss: 1.652 - ETA: 1:09 - loss: 1.650 - ETA: 1:08 - loss: 1.649 - ETA: 1:08 - loss: 1.648 - ETA: 1:07 - loss: 1.648 - ETA: 1:07 - loss: 1.649 - ETA: 1:07 - loss: 1.648 - ETA: 1:06 - loss: 1.648 - ETA: 1:06 - loss: 1.647 - ETA: 1:05 - loss: 1.648 - ETA: 1:05 - loss: 1.648 - ETA: 1:04 - loss: 1.649 - ETA: 1:04 - loss: 1.649 - ETA: 1:04 - loss: 1.649 - ETA: 1:03 - loss: 1.648 - ETA: 1:03 - loss: 1.648 - ETA: 1:02 - loss: 1.647 - ETA: 1:02 - loss: 1.646 - ETA: 1:01 - loss: 1.645 - ETA: 1:01 - loss: 1.645 - ETA: 1:01 - loss: 1.645 - ETA: 1:00 - loss: 1.644 - ETA: 1:00 - loss: 1.645 - ETA: 59s - loss: 1.645 - ETA: 59s - loss: 1.64 - ETA: 58s - loss: 1.64 - ETA: 58s - loss: 1.64 - ETA: 58s - loss: 1.64 - ETA: 57s - loss: 1.64 - ETA: 57s - loss: 1.64 - ETA: 56s - loss: 1.64 - ETA: 56s - loss: 1.64 - ETA: 55s - loss: 1.64 - ETA: 55s - loss: 1.64 - ETA: 55s - loss: 1.64 - ETA: 54s - loss: 1.64 - ETA: 54s - loss: 1.64 - ETA: 53s - loss: 1.64 - ETA: 53s - loss: 1.64 - ETA: 52s - loss: 1.64 - ETA: 52s - loss: 1.64 - ETA: 52s - loss: 1.64 - ETA: 51s - loss: 1.64 - ETA: 51s - loss: 1.64 - ETA: 50s - loss: 1.64 - ETA: 50s - loss: 1.64 - ETA: 49s - loss: 1.64 - ETA: 49s - loss: 1.64 - ETA: 49s - loss: 1.64 - ETA: 48s - loss: 1.64 - ETA: 48s - loss: 1.64 - ETA: 47s - loss: 1.64 - ETA: 47s - loss: 1.64 - ETA: 46s - loss: 1.64 - ETA: 46s - loss: 1.64 - ETA: 46s - loss: 1.64 - ETA: 45s - loss: 1.64 - ETA: 45s - loss: 1.64 - ETA: 44s - loss: 1.64 - ETA: 44s - loss: 1.64 - ETA: 43s - loss: 1.64 - ETA: 43s - loss: 1.64 - ETA: 43s - loss: 1.63 - ETA: 42s - loss: 1.63 - ETA: 42s - loss: 1.63 - ETA: 41s - loss: 1.64 - ETA: 41s - loss: 1.64 - ETA: 40s - loss: 1.64 - ETA: 40s - loss: 1.64 - ETA: 40s - loss: 1.63 - ETA: 39s - loss: 1.63 - ETA: 39s - loss: 1.63 - ETA: 38s - loss: 1.63 - ETA: 38s - loss: 1.63 - ETA: 37s - loss: 1.63 - ETA: 37s - loss: 1.63 - ETA: 37s - loss: 1.63 - ETA: 36s - loss: 1.63 - ETA: 36s - loss: 1.63 - ETA: 35s - loss: 1.63 - ETA: 35s - loss: 1.6368"
     ]
    },
    {
     "name": "stdout",
     "output_type": "stream",
     "text": [
      "400/400 [==============================] - ETA: 34s - loss: 1.63 - ETA: 34s - loss: 1.63 - ETA: 34s - loss: 1.63 - ETA: 33s - loss: 1.63 - ETA: 33s - loss: 1.63 - ETA: 32s - loss: 1.63 - ETA: 32s - loss: 1.63 - ETA: 31s - loss: 1.63 - ETA: 31s - loss: 1.63 - ETA: 30s - loss: 1.63 - ETA: 30s - loss: 1.63 - ETA: 30s - loss: 1.63 - ETA: 29s - loss: 1.63 - ETA: 29s - loss: 1.63 - ETA: 28s - loss: 1.63 - ETA: 28s - loss: 1.63 - ETA: 27s - loss: 1.63 - ETA: 27s - loss: 1.63 - ETA: 27s - loss: 1.63 - ETA: 26s - loss: 1.63 - ETA: 26s - loss: 1.63 - ETA: 25s - loss: 1.63 - ETA: 25s - loss: 1.63 - ETA: 24s - loss: 1.63 - ETA: 24s - loss: 1.63 - ETA: 24s - loss: 1.63 - ETA: 23s - loss: 1.63 - ETA: 23s - loss: 1.63 - ETA: 22s - loss: 1.63 - ETA: 22s - loss: 1.63 - ETA: 21s - loss: 1.63 - ETA: 21s - loss: 1.63 - ETA: 21s - loss: 1.63 - ETA: 20s - loss: 1.63 - ETA: 20s - loss: 1.63 - ETA: 19s - loss: 1.63 - ETA: 19s - loss: 1.63 - ETA: 18s - loss: 1.63 - ETA: 18s - loss: 1.63 - ETA: 18s - loss: 1.63 - ETA: 17s - loss: 1.63 - ETA: 17s - loss: 1.63 - ETA: 16s - loss: 1.63 - ETA: 16s - loss: 1.62 - ETA: 15s - loss: 1.62 - ETA: 15s - loss: 1.62 - ETA: 15s - loss: 1.62 - ETA: 14s - loss: 1.62 - ETA: 14s - loss: 1.62 - ETA: 13s - loss: 1.62 - ETA: 13s - loss: 1.62 - ETA: 12s - loss: 1.62 - ETA: 12s - loss: 1.62 - ETA: 12s - loss: 1.62 - ETA: 11s - loss: 1.62 - ETA: 11s - loss: 1.62 - ETA: 10s - loss: 1.62 - ETA: 10s - loss: 1.62 - ETA: 9s - loss: 1.6247 - ETA: 9s - loss: 1.624 - ETA: 9s - loss: 1.624 - ETA: 8s - loss: 1.624 - ETA: 8s - loss: 1.624 - ETA: 7s - loss: 1.625 - ETA: 7s - loss: 1.625 - ETA: 6s - loss: 1.625 - ETA: 6s - loss: 1.624 - ETA: 6s - loss: 1.624 - ETA: 5s - loss: 1.623 - ETA: 5s - loss: 1.624 - ETA: 4s - loss: 1.624 - ETA: 4s - loss: 1.624 - ETA: 3s - loss: 1.625 - ETA: 3s - loss: 1.625 - ETA: 3s - loss: 1.626 - ETA: 2s - loss: 1.626 - ETA: 2s - loss: 1.624 - ETA: 1s - loss: 1.623 - ETA: 1s - loss: 1.623 - ETA: 0s - loss: 1.623 - ETA: 0s - loss: 1.623 - 232s 579ms/step - loss: 1.6230 - val_loss: 2.3031\n",
      "Epoch 7/12\n"
     ]
    },
    {
     "name": "stdout",
     "output_type": "stream",
     "text": [
      "318/400 [======================>.......] - ETA: 2:57 - loss: 1.389 - ETA: 2:56 - loss: 1.314 - ETA: 2:56 - loss: 1.415 - ETA: 2:55 - loss: 1.499 - ETA: 2:55 - loss: 1.493 - ETA: 2:54 - loss: 1.533 - ETA: 2:54 - loss: 1.489 - ETA: 2:53 - loss: 1.490 - ETA: 2:51 - loss: 1.450 - ETA: 2:51 - loss: 1.479 - ETA: 2:50 - loss: 1.484 - ETA: 2:50 - loss: 1.478 - ETA: 2:48 - loss: 1.478 - ETA: 2:48 - loss: 1.480 - ETA: 2:47 - loss: 1.478 - ETA: 2:47 - loss: 1.502 - ETA: 2:46 - loss: 1.499 - ETA: 2:45 - loss: 1.489 - ETA: 2:45 - loss: 1.500 - ETA: 2:44 - loss: 1.509 - ETA: 2:44 - loss: 1.505 - ETA: 2:43 - loss: 1.504 - ETA: 2:43 - loss: 1.501 - ETA: 2:42 - loss: 1.518 - ETA: 2:42 - loss: 1.502 - ETA: 2:42 - loss: 1.503 - ETA: 2:41 - loss: 1.504 - ETA: 2:41 - loss: 1.504 - ETA: 2:40 - loss: 1.513 - ETA: 2:40 - loss: 1.501 - ETA: 2:39 - loss: 1.498 - ETA: 2:39 - loss: 1.491 - ETA: 2:38 - loss: 1.488 - ETA: 2:38 - loss: 1.483 - ETA: 2:37 - loss: 1.486 - ETA: 2:37 - loss: 1.485 - ETA: 2:36 - loss: 1.488 - ETA: 2:36 - loss: 1.493 - ETA: 2:35 - loss: 1.500 - ETA: 2:35 - loss: 1.503 - ETA: 2:34 - loss: 1.505 - ETA: 2:34 - loss: 1.493 - ETA: 2:34 - loss: 1.486 - ETA: 2:33 - loss: 1.492 - ETA: 2:33 - loss: 1.493 - ETA: 2:32 - loss: 1.495 - ETA: 2:32 - loss: 1.498 - ETA: 2:31 - loss: 1.498 - ETA: 2:31 - loss: 1.504 - ETA: 2:30 - loss: 1.506 - ETA: 2:30 - loss: 1.502 - ETA: 2:30 - loss: 1.507 - ETA: 2:29 - loss: 1.505 - ETA: 2:29 - loss: 1.507 - ETA: 2:28 - loss: 1.503 - ETA: 2:28 - loss: 1.508 - ETA: 2:28 - loss: 1.510 - ETA: 2:27 - loss: 1.515 - ETA: 2:27 - loss: 1.513 - ETA: 2:26 - loss: 1.511 - ETA: 2:26 - loss: 1.512 - ETA: 2:25 - loss: 1.512 - ETA: 2:25 - loss: 1.513 - ETA: 2:24 - loss: 1.516 - ETA: 2:24 - loss: 1.518 - ETA: 2:24 - loss: 1.519 - ETA: 2:23 - loss: 1.521 - ETA: 2:23 - loss: 1.528 - ETA: 2:22 - loss: 1.531 - ETA: 2:22 - loss: 1.533 - ETA: 2:21 - loss: 1.528 - ETA: 2:21 - loss: 1.528 - ETA: 2:21 - loss: 1.531 - ETA: 2:20 - loss: 1.532 - ETA: 2:20 - loss: 1.530 - ETA: 2:19 - loss: 1.531 - ETA: 2:19 - loss: 1.529 - ETA: 2:18 - loss: 1.531 - ETA: 2:18 - loss: 1.531 - ETA: 2:17 - loss: 1.532 - ETA: 2:17 - loss: 1.531 - ETA: 2:17 - loss: 1.537 - ETA: 2:16 - loss: 1.541 - ETA: 2:16 - loss: 1.539 - ETA: 2:15 - loss: 1.543 - ETA: 2:15 - loss: 1.545 - ETA: 2:14 - loss: 1.543 - ETA: 2:14 - loss: 1.541 - ETA: 2:14 - loss: 1.540 - ETA: 2:13 - loss: 1.538 - ETA: 2:13 - loss: 1.533 - ETA: 2:12 - loss: 1.531 - ETA: 2:12 - loss: 1.532 - ETA: 2:11 - loss: 1.530 - ETA: 2:11 - loss: 1.532 - ETA: 2:11 - loss: 1.532 - ETA: 2:10 - loss: 1.529 - ETA: 2:10 - loss: 1.533 - ETA: 2:09 - loss: 1.532 - ETA: 2:09 - loss: 1.532 - ETA: 2:08 - loss: 1.532 - ETA: 2:08 - loss: 1.533 - ETA: 2:08 - loss: 1.531 - ETA: 2:07 - loss: 1.530 - ETA: 2:07 - loss: 1.528 - ETA: 2:06 - loss: 1.527 - ETA: 2:06 - loss: 1.528 - ETA: 2:05 - loss: 1.530 - ETA: 2:05 - loss: 1.528 - ETA: 2:04 - loss: 1.527 - ETA: 2:04 - loss: 1.527 - ETA: 2:04 - loss: 1.529 - ETA: 2:03 - loss: 1.528 - ETA: 2:03 - loss: 1.529 - ETA: 2:02 - loss: 1.528 - ETA: 2:02 - loss: 1.526 - ETA: 2:01 - loss: 1.527 - ETA: 2:01 - loss: 1.526 - ETA: 2:01 - loss: 1.527 - ETA: 2:00 - loss: 1.529 - ETA: 2:00 - loss: 1.531 - ETA: 1:59 - loss: 1.533 - ETA: 1:59 - loss: 1.531 - ETA: 1:58 - loss: 1.532 - ETA: 1:58 - loss: 1.532 - ETA: 1:57 - loss: 1.531 - ETA: 1:57 - loss: 1.534 - ETA: 1:57 - loss: 1.536 - ETA: 1:56 - loss: 1.533 - ETA: 1:56 - loss: 1.534 - ETA: 1:55 - loss: 1.533 - ETA: 1:55 - loss: 1.533 - ETA: 1:55 - loss: 1.533 - ETA: 1:54 - loss: 1.532 - ETA: 1:54 - loss: 1.533 - ETA: 1:53 - loss: 1.534 - ETA: 1:53 - loss: 1.533 - ETA: 1:52 - loss: 1.532 - ETA: 1:52 - loss: 1.531 - ETA: 1:51 - loss: 1.530 - ETA: 1:51 - loss: 1.533 - ETA: 1:51 - loss: 1.533 - ETA: 1:50 - loss: 1.533 - ETA: 1:50 - loss: 1.533 - ETA: 1:49 - loss: 1.533 - ETA: 1:49 - loss: 1.535 - ETA: 1:48 - loss: 1.536 - ETA: 1:48 - loss: 1.534 - ETA: 1:48 - loss: 1.533 - ETA: 1:47 - loss: 1.531 - ETA: 1:47 - loss: 1.530 - ETA: 1:46 - loss: 1.530 - ETA: 1:46 - loss: 1.531 - ETA: 1:45 - loss: 1.529 - ETA: 1:45 - loss: 1.531 - ETA: 1:45 - loss: 1.533 - ETA: 1:44 - loss: 1.534 - ETA: 1:44 - loss: 1.534 - ETA: 1:43 - loss: 1.534 - ETA: 1:43 - loss: 1.534 - ETA: 1:42 - loss: 1.535 - ETA: 1:42 - loss: 1.536 - ETA: 1:42 - loss: 1.535 - ETA: 1:41 - loss: 1.535 - ETA: 1:41 - loss: 1.534 - ETA: 1:40 - loss: 1.533 - ETA: 1:40 - loss: 1.533 - ETA: 1:39 - loss: 1.532 - ETA: 1:39 - loss: 1.533 - ETA: 1:39 - loss: 1.533 - ETA: 1:38 - loss: 1.533 - ETA: 1:38 - loss: 1.533 - ETA: 1:37 - loss: 1.534 - ETA: 1:37 - loss: 1.534 - ETA: 1:36 - loss: 1.534 - ETA: 1:36 - loss: 1.534 - ETA: 1:36 - loss: 1.537 - ETA: 1:35 - loss: 1.537 - ETA: 1:35 - loss: 1.538 - ETA: 1:34 - loss: 1.535 - ETA: 1:34 - loss: 1.535 - ETA: 1:33 - loss: 1.535 - ETA: 1:33 - loss: 1.535 - ETA: 1:32 - loss: 1.533 - ETA: 1:32 - loss: 1.533 - ETA: 1:32 - loss: 1.533 - ETA: 1:31 - loss: 1.534 - ETA: 1:31 - loss: 1.534 - ETA: 1:30 - loss: 1.534 - ETA: 1:30 - loss: 1.534 - ETA: 1:29 - loss: 1.534 - ETA: 1:29 - loss: 1.536 - ETA: 1:29 - loss: 1.535 - ETA: 1:28 - loss: 1.535 - ETA: 1:28 - loss: 1.535 - ETA: 1:27 - loss: 1.534 - ETA: 1:27 - loss: 1.535 - ETA: 1:26 - loss: 1.532 - ETA: 1:26 - loss: 1.533 - ETA: 1:26 - loss: 1.533 - ETA: 1:25 - loss: 1.532 - ETA: 1:25 - loss: 1.532 - ETA: 1:24 - loss: 1.532 - ETA: 1:24 - loss: 1.532 - ETA: 1:23 - loss: 1.532 - ETA: 1:23 - loss: 1.531 - ETA: 1:23 - loss: 1.532 - ETA: 1:22 - loss: 1.534 - ETA: 1:22 - loss: 1.533 - ETA: 1:21 - loss: 1.532 - ETA: 1:21 - loss: 1.532 - ETA: 1:20 - loss: 1.532 - ETA: 1:20 - loss: 1.531 - ETA: 1:20 - loss: 1.530 - ETA: 1:19 - loss: 1.532 - ETA: 1:19 - loss: 1.531 - ETA: 1:18 - loss: 1.532 - ETA: 1:18 - loss: 1.533 - ETA: 1:17 - loss: 1.534 - ETA: 1:17 - loss: 1.533 - ETA: 1:17 - loss: 1.533 - ETA: 1:16 - loss: 1.533 - ETA: 1:16 - loss: 1.532 - ETA: 1:15 - loss: 1.531 - ETA: 1:15 - loss: 1.531 - ETA: 1:14 - loss: 1.529 - ETA: 1:14 - loss: 1.528 - ETA: 1:14 - loss: 1.527 - ETA: 1:13 - loss: 1.527 - ETA: 1:13 - loss: 1.526 - ETA: 1:12 - loss: 1.523 - ETA: 1:12 - loss: 1.523 - ETA: 1:11 - loss: 1.522 - ETA: 1:11 - loss: 1.524 - ETA: 1:11 - loss: 1.525 - ETA: 1:10 - loss: 1.526 - ETA: 1:10 - loss: 1.526 - ETA: 1:09 - loss: 1.527 - ETA: 1:09 - loss: 1.525 - ETA: 1:08 - loss: 1.525 - ETA: 1:08 - loss: 1.526 - ETA: 1:08 - loss: 1.526 - ETA: 1:07 - loss: 1.526 - ETA: 1:07 - loss: 1.525 - ETA: 1:06 - loss: 1.526 - ETA: 1:06 - loss: 1.526 - ETA: 1:05 - loss: 1.525 - ETA: 1:05 - loss: 1.525 - ETA: 1:05 - loss: 1.526 - ETA: 1:04 - loss: 1.526 - ETA: 1:04 - loss: 1.526 - ETA: 1:03 - loss: 1.525 - ETA: 1:03 - loss: 1.525 - ETA: 1:02 - loss: 1.526 - ETA: 1:02 - loss: 1.526 - ETA: 1:01 - loss: 1.526 - ETA: 1:01 - loss: 1.526 - ETA: 1:01 - loss: 1.525 - ETA: 1:00 - loss: 1.525 - ETA: 1:00 - loss: 1.525 - ETA: 59s - loss: 1.525 - ETA: 59s - loss: 1.52 - ETA: 58s - loss: 1.52 - ETA: 58s - loss: 1.52 - ETA: 58s - loss: 1.52 - ETA: 57s - loss: 1.52 - ETA: 57s - loss: 1.52 - ETA: 56s - loss: 1.52 - ETA: 56s - loss: 1.52 - ETA: 55s - loss: 1.52 - ETA: 55s - loss: 1.52 - ETA: 55s - loss: 1.52 - ETA: 54s - loss: 1.51 - ETA: 54s - loss: 1.51 - ETA: 53s - loss: 1.52 - ETA: 53s - loss: 1.52 - ETA: 52s - loss: 1.52 - ETA: 52s - loss: 1.52 - ETA: 52s - loss: 1.52 - ETA: 51s - loss: 1.52 - ETA: 51s - loss: 1.52 - ETA: 50s - loss: 1.52 - ETA: 50s - loss: 1.52 - ETA: 49s - loss: 1.52 - ETA: 49s - loss: 1.52 - ETA: 49s - loss: 1.52 - ETA: 48s - loss: 1.52 - ETA: 48s - loss: 1.52 - ETA: 47s - loss: 1.52 - ETA: 47s - loss: 1.52 - ETA: 46s - loss: 1.52 - ETA: 46s - loss: 1.52 - ETA: 46s - loss: 1.52 - ETA: 45s - loss: 1.52 - ETA: 45s - loss: 1.52 - ETA: 44s - loss: 1.51 - ETA: 44s - loss: 1.51 - ETA: 43s - loss: 1.51 - ETA: 43s - loss: 1.51 - ETA: 43s - loss: 1.51 - ETA: 42s - loss: 1.51 - ETA: 42s - loss: 1.51 - ETA: 41s - loss: 1.51 - ETA: 41s - loss: 1.51 - ETA: 40s - loss: 1.51 - ETA: 40s - loss: 1.51 - ETA: 40s - loss: 1.51 - ETA: 39s - loss: 1.51 - ETA: 39s - loss: 1.51 - ETA: 38s - loss: 1.51 - ETA: 38s - loss: 1.51 - ETA: 37s - loss: 1.51 - ETA: 37s - loss: 1.51 - ETA: 37s - loss: 1.51 - ETA: 36s - loss: 1.51 - ETA: 36s - loss: 1.51 - ETA: 35s - loss: 1.51 - ETA: 35s - loss: 1.5172"
     ]
    },
    {
     "name": "stdout",
     "output_type": "stream",
     "text": [
      "400/400 [==============================] - ETA: 34s - loss: 1.51 - ETA: 34s - loss: 1.51 - ETA: 34s - loss: 1.51 - ETA: 33s - loss: 1.51 - ETA: 33s - loss: 1.51 - ETA: 32s - loss: 1.51 - ETA: 32s - loss: 1.51 - ETA: 31s - loss: 1.51 - ETA: 31s - loss: 1.51 - ETA: 30s - loss: 1.51 - ETA: 30s - loss: 1.51 - ETA: 30s - loss: 1.51 - ETA: 29s - loss: 1.51 - ETA: 29s - loss: 1.51 - ETA: 28s - loss: 1.51 - ETA: 28s - loss: 1.51 - ETA: 27s - loss: 1.51 - ETA: 27s - loss: 1.51 - ETA: 27s - loss: 1.51 - ETA: 26s - loss: 1.51 - ETA: 26s - loss: 1.51 - ETA: 25s - loss: 1.51 - ETA: 25s - loss: 1.52 - ETA: 24s - loss: 1.51 - ETA: 24s - loss: 1.51 - ETA: 24s - loss: 1.51 - ETA: 23s - loss: 1.51 - ETA: 23s - loss: 1.51 - ETA: 22s - loss: 1.51 - ETA: 22s - loss: 1.51 - ETA: 21s - loss: 1.51 - ETA: 21s - loss: 1.51 - ETA: 21s - loss: 1.51 - ETA: 20s - loss: 1.51 - ETA: 20s - loss: 1.51 - ETA: 19s - loss: 1.51 - ETA: 19s - loss: 1.52 - ETA: 18s - loss: 1.51 - ETA: 18s - loss: 1.52 - ETA: 18s - loss: 1.51 - ETA: 17s - loss: 1.51 - ETA: 17s - loss: 1.52 - ETA: 16s - loss: 1.51 - ETA: 16s - loss: 1.51 - ETA: 15s - loss: 1.51 - ETA: 15s - loss: 1.51 - ETA: 15s - loss: 1.51 - ETA: 14s - loss: 1.51 - ETA: 14s - loss: 1.51 - ETA: 13s - loss: 1.51 - ETA: 13s - loss: 1.51 - ETA: 12s - loss: 1.51 - ETA: 12s - loss: 1.51 - ETA: 12s - loss: 1.51 - ETA: 11s - loss: 1.51 - ETA: 11s - loss: 1.52 - ETA: 10s - loss: 1.52 - ETA: 10s - loss: 1.52 - ETA: 9s - loss: 1.5204 - ETA: 9s - loss: 1.520 - ETA: 9s - loss: 1.519 - ETA: 8s - loss: 1.518 - ETA: 8s - loss: 1.517 - ETA: 7s - loss: 1.516 - ETA: 7s - loss: 1.516 - ETA: 6s - loss: 1.516 - ETA: 6s - loss: 1.515 - ETA: 6s - loss: 1.516 - ETA: 5s - loss: 1.516 - ETA: 5s - loss: 1.517 - ETA: 4s - loss: 1.518 - ETA: 4s - loss: 1.518 - ETA: 3s - loss: 1.518 - ETA: 3s - loss: 1.518 - ETA: 3s - loss: 1.518 - ETA: 2s - loss: 1.518 - ETA: 2s - loss: 1.519 - ETA: 1s - loss: 1.519 - ETA: 1s - loss: 1.519 - ETA: 0s - loss: 1.518 - ETA: 0s - loss: 1.519 - 232s 579ms/step - loss: 1.5199 - val_loss: 2.4701\n",
      "Epoch 8/12\n"
     ]
    },
    {
     "name": "stdout",
     "output_type": "stream",
     "text": [
      "318/400 [======================>.......] - ETA: 2:59 - loss: 1.366 - ETA: 2:58 - loss: 1.414 - ETA: 2:57 - loss: 1.369 - ETA: 2:55 - loss: 1.379 - ETA: 2:54 - loss: 1.382 - ETA: 2:54 - loss: 1.401 - ETA: 2:52 - loss: 1.387 - ETA: 2:51 - loss: 1.431 - ETA: 2:50 - loss: 1.438 - ETA: 2:50 - loss: 1.405 - ETA: 2:49 - loss: 1.423 - ETA: 2:49 - loss: 1.423 - ETA: 2:48 - loss: 1.459 - ETA: 2:47 - loss: 1.459 - ETA: 2:46 - loss: 1.442 - ETA: 2:46 - loss: 1.431 - ETA: 2:46 - loss: 1.426 - ETA: 2:45 - loss: 1.426 - ETA: 2:45 - loss: 1.426 - ETA: 2:45 - loss: 1.445 - ETA: 2:44 - loss: 1.444 - ETA: 2:44 - loss: 1.444 - ETA: 2:43 - loss: 1.471 - ETA: 2:43 - loss: 1.465 - ETA: 2:42 - loss: 1.459 - ETA: 2:42 - loss: 1.452 - ETA: 2:41 - loss: 1.462 - ETA: 2:41 - loss: 1.466 - ETA: 2:40 - loss: 1.473 - ETA: 2:40 - loss: 1.472 - ETA: 2:39 - loss: 1.453 - ETA: 2:39 - loss: 1.448 - ETA: 2:38 - loss: 1.459 - ETA: 2:38 - loss: 1.461 - ETA: 2:37 - loss: 1.456 - ETA: 2:37 - loss: 1.453 - ETA: 2:36 - loss: 1.465 - ETA: 2:36 - loss: 1.471 - ETA: 2:35 - loss: 1.473 - ETA: 2:35 - loss: 1.469 - ETA: 2:35 - loss: 1.478 - ETA: 2:34 - loss: 1.486 - ETA: 2:34 - loss: 1.479 - ETA: 2:33 - loss: 1.484 - ETA: 2:33 - loss: 1.488 - ETA: 2:32 - loss: 1.492 - ETA: 2:32 - loss: 1.501 - ETA: 2:31 - loss: 1.497 - ETA: 2:31 - loss: 1.507 - ETA: 2:30 - loss: 1.513 - ETA: 2:30 - loss: 1.516 - ETA: 2:30 - loss: 1.521 - ETA: 2:29 - loss: 1.517 - ETA: 2:29 - loss: 1.521 - ETA: 2:28 - loss: 1.530 - ETA: 2:28 - loss: 1.532 - ETA: 2:27 - loss: 1.531 - ETA: 2:27 - loss: 1.525 - ETA: 2:27 - loss: 1.520 - ETA: 2:26 - loss: 1.522 - ETA: 2:26 - loss: 1.522 - ETA: 2:25 - loss: 1.522 - ETA: 2:25 - loss: 1.524 - ETA: 2:24 - loss: 1.528 - ETA: 2:24 - loss: 1.522 - ETA: 2:24 - loss: 1.521 - ETA: 2:23 - loss: 1.523 - ETA: 2:23 - loss: 1.520 - ETA: 2:22 - loss: 1.521 - ETA: 2:22 - loss: 1.518 - ETA: 2:21 - loss: 1.514 - ETA: 2:21 - loss: 1.514 - ETA: 2:20 - loss: 1.517 - ETA: 2:20 - loss: 1.513 - ETA: 2:20 - loss: 1.515 - ETA: 2:19 - loss: 1.514 - ETA: 2:19 - loss: 1.514 - ETA: 2:18 - loss: 1.512 - ETA: 2:18 - loss: 1.513 - ETA: 2:17 - loss: 1.516 - ETA: 2:17 - loss: 1.515 - ETA: 2:17 - loss: 1.518 - ETA: 2:16 - loss: 1.524 - ETA: 2:16 - loss: 1.525 - ETA: 2:15 - loss: 1.524 - ETA: 2:15 - loss: 1.532 - ETA: 2:14 - loss: 1.536 - ETA: 2:14 - loss: 1.534 - ETA: 2:14 - loss: 1.538 - ETA: 2:13 - loss: 1.540 - ETA: 2:13 - loss: 1.544 - ETA: 2:12 - loss: 1.545 - ETA: 2:12 - loss: 1.546 - ETA: 2:11 - loss: 1.544 - ETA: 2:11 - loss: 1.545 - ETA: 2:11 - loss: 1.545 - ETA: 2:10 - loss: 1.549 - ETA: 2:10 - loss: 1.547 - ETA: 2:09 - loss: 1.544 - ETA: 2:09 - loss: 1.543 - ETA: 2:08 - loss: 1.544 - ETA: 2:08 - loss: 1.546 - ETA: 2:08 - loss: 1.546 - ETA: 2:07 - loss: 1.542 - ETA: 2:07 - loss: 1.541 - ETA: 2:06 - loss: 1.541 - ETA: 2:06 - loss: 1.539 - ETA: 2:05 - loss: 1.539 - ETA: 2:05 - loss: 1.541 - ETA: 2:04 - loss: 1.540 - ETA: 2:04 - loss: 1.538 - ETA: 2:04 - loss: 1.537 - ETA: 2:03 - loss: 1.534 - ETA: 2:03 - loss: 1.532 - ETA: 2:02 - loss: 1.530 - ETA: 2:02 - loss: 1.528 - ETA: 2:01 - loss: 1.524 - ETA: 2:01 - loss: 1.523 - ETA: 2:01 - loss: 1.521 - ETA: 2:00 - loss: 1.523 - ETA: 2:00 - loss: 1.524 - ETA: 1:59 - loss: 1.526 - ETA: 1:59 - loss: 1.524 - ETA: 1:58 - loss: 1.521 - ETA: 1:58 - loss: 1.523 - ETA: 1:58 - loss: 1.523 - ETA: 1:57 - loss: 1.524 - ETA: 1:57 - loss: 1.523 - ETA: 1:56 - loss: 1.521 - ETA: 1:56 - loss: 1.519 - ETA: 1:55 - loss: 1.519 - ETA: 1:55 - loss: 1.519 - ETA: 1:54 - loss: 1.516 - ETA: 1:54 - loss: 1.519 - ETA: 1:54 - loss: 1.518 - ETA: 1:53 - loss: 1.518 - ETA: 1:53 - loss: 1.517 - ETA: 1:52 - loss: 1.516 - ETA: 1:52 - loss: 1.516 - ETA: 1:51 - loss: 1.515 - ETA: 1:51 - loss: 1.512 - ETA: 1:51 - loss: 1.511 - ETA: 1:50 - loss: 1.510 - ETA: 1:50 - loss: 1.510 - ETA: 1:49 - loss: 1.513 - ETA: 1:49 - loss: 1.512 - ETA: 1:48 - loss: 1.511 - ETA: 1:48 - loss: 1.510 - ETA: 1:48 - loss: 1.509 - ETA: 1:47 - loss: 1.508 - ETA: 1:47 - loss: 1.507 - ETA: 1:46 - loss: 1.508 - ETA: 1:46 - loss: 1.509 - ETA: 1:45 - loss: 1.508 - ETA: 1:45 - loss: 1.507 - ETA: 1:45 - loss: 1.508 - ETA: 1:44 - loss: 1.508 - ETA: 1:44 - loss: 1.508 - ETA: 1:43 - loss: 1.509 - ETA: 1:43 - loss: 1.511 - ETA: 1:42 - loss: 1.513 - ETA: 1:42 - loss: 1.513 - ETA: 1:42 - loss: 1.516 - ETA: 1:41 - loss: 1.517 - ETA: 1:41 - loss: 1.517 - ETA: 1:40 - loss: 1.518 - ETA: 1:40 - loss: 1.517 - ETA: 1:39 - loss: 1.517 - ETA: 1:39 - loss: 1.516 - ETA: 1:39 - loss: 1.516 - ETA: 1:38 - loss: 1.517 - ETA: 1:38 - loss: 1.519 - ETA: 1:37 - loss: 1.519 - ETA: 1:37 - loss: 1.519 - ETA: 1:36 - loss: 1.517 - ETA: 1:36 - loss: 1.519 - ETA: 1:36 - loss: 1.520 - ETA: 1:35 - loss: 1.521 - ETA: 1:35 - loss: 1.521 - ETA: 1:34 - loss: 1.520 - ETA: 1:34 - loss: 1.524 - ETA: 1:33 - loss: 1.525 - ETA: 1:33 - loss: 1.526 - ETA: 1:33 - loss: 1.526 - ETA: 1:32 - loss: 1.526 - ETA: 1:32 - loss: 1.527 - ETA: 1:31 - loss: 1.526 - ETA: 1:31 - loss: 1.530 - ETA: 1:30 - loss: 1.530 - ETA: 1:30 - loss: 1.530 - ETA: 1:29 - loss: 1.527 - ETA: 1:29 - loss: 1.528 - ETA: 1:29 - loss: 1.528 - ETA: 1:28 - loss: 1.529 - ETA: 1:28 - loss: 1.530 - ETA: 1:27 - loss: 1.528 - ETA: 1:27 - loss: 1.529 - ETA: 1:26 - loss: 1.530 - ETA: 1:26 - loss: 1.532 - ETA: 1:26 - loss: 1.533 - ETA: 1:25 - loss: 1.533 - ETA: 1:25 - loss: 1.532 - ETA: 1:24 - loss: 1.531 - ETA: 1:24 - loss: 1.532 - ETA: 1:23 - loss: 1.533 - ETA: 1:23 - loss: 1.532 - ETA: 1:23 - loss: 1.531 - ETA: 1:22 - loss: 1.531 - ETA: 1:22 - loss: 1.529 - ETA: 1:21 - loss: 1.528 - ETA: 1:21 - loss: 1.528 - ETA: 1:20 - loss: 1.530 - ETA: 1:20 - loss: 1.531 - ETA: 1:20 - loss: 1.531 - ETA: 1:19 - loss: 1.531 - ETA: 1:19 - loss: 1.531 - ETA: 1:18 - loss: 1.531 - ETA: 1:18 - loss: 1.529 - ETA: 1:17 - loss: 1.528 - ETA: 1:17 - loss: 1.527 - ETA: 1:17 - loss: 1.525 - ETA: 1:16 - loss: 1.525 - ETA: 1:16 - loss: 1.524 - ETA: 1:15 - loss: 1.523 - ETA: 1:15 - loss: 1.523 - ETA: 1:14 - loss: 1.522 - ETA: 1:14 - loss: 1.521 - ETA: 1:14 - loss: 1.521 - ETA: 1:13 - loss: 1.520 - ETA: 1:13 - loss: 1.520 - ETA: 1:12 - loss: 1.520 - ETA: 1:12 - loss: 1.522 - ETA: 1:11 - loss: 1.522 - ETA: 1:11 - loss: 1.523 - ETA: 1:11 - loss: 1.522 - ETA: 1:10 - loss: 1.522 - ETA: 1:10 - loss: 1.522 - ETA: 1:09 - loss: 1.522 - ETA: 1:09 - loss: 1.521 - ETA: 1:08 - loss: 1.522 - ETA: 1:08 - loss: 1.522 - ETA: 1:07 - loss: 1.522 - ETA: 1:07 - loss: 1.522 - ETA: 1:07 - loss: 1.522 - ETA: 1:06 - loss: 1.522 - ETA: 1:06 - loss: 1.523 - ETA: 1:05 - loss: 1.522 - ETA: 1:05 - loss: 1.522 - ETA: 1:04 - loss: 1.524 - ETA: 1:04 - loss: 1.525 - ETA: 1:04 - loss: 1.526 - ETA: 1:03 - loss: 1.527 - ETA: 1:03 - loss: 1.528 - ETA: 1:02 - loss: 1.528 - ETA: 1:02 - loss: 1.530 - ETA: 1:01 - loss: 1.530 - ETA: 1:01 - loss: 1.530 - ETA: 1:01 - loss: 1.529 - ETA: 1:00 - loss: 1.530 - ETA: 1:00 - loss: 1.531 - ETA: 59s - loss: 1.533 - ETA: 59s - loss: 1.53 - ETA: 58s - loss: 1.53 - ETA: 58s - loss: 1.53 - ETA: 58s - loss: 1.53 - ETA: 57s - loss: 1.53 - ETA: 57s - loss: 1.53 - ETA: 56s - loss: 1.53 - ETA: 56s - loss: 1.53 - ETA: 55s - loss: 1.53 - ETA: 55s - loss: 1.53 - ETA: 55s - loss: 1.53 - ETA: 54s - loss: 1.53 - ETA: 54s - loss: 1.52 - ETA: 53s - loss: 1.52 - ETA: 53s - loss: 1.52 - ETA: 52s - loss: 1.52 - ETA: 52s - loss: 1.52 - ETA: 52s - loss: 1.53 - ETA: 51s - loss: 1.53 - ETA: 51s - loss: 1.52 - ETA: 50s - loss: 1.52 - ETA: 50s - loss: 1.52 - ETA: 49s - loss: 1.52 - ETA: 49s - loss: 1.52 - ETA: 49s - loss: 1.52 - ETA: 48s - loss: 1.52 - ETA: 48s - loss: 1.52 - ETA: 47s - loss: 1.52 - ETA: 47s - loss: 1.52 - ETA: 46s - loss: 1.52 - ETA: 46s - loss: 1.52 - ETA: 46s - loss: 1.52 - ETA: 45s - loss: 1.51 - ETA: 45s - loss: 1.51 - ETA: 44s - loss: 1.51 - ETA: 44s - loss: 1.51 - ETA: 43s - loss: 1.51 - ETA: 43s - loss: 1.51 - ETA: 43s - loss: 1.51 - ETA: 42s - loss: 1.51 - ETA: 42s - loss: 1.51 - ETA: 41s - loss: 1.51 - ETA: 41s - loss: 1.51 - ETA: 40s - loss: 1.51 - ETA: 40s - loss: 1.51 - ETA: 40s - loss: 1.51 - ETA: 39s - loss: 1.51 - ETA: 39s - loss: 1.51 - ETA: 38s - loss: 1.51 - ETA: 38s - loss: 1.51 - ETA: 37s - loss: 1.51 - ETA: 37s - loss: 1.51 - ETA: 36s - loss: 1.51 - ETA: 36s - loss: 1.51 - ETA: 36s - loss: 1.51 - ETA: 35s - loss: 1.51 - ETA: 35s - loss: 1.5107"
     ]
    },
    {
     "name": "stdout",
     "output_type": "stream",
     "text": [
      "400/400 [==============================] - ETA: 34s - loss: 1.51 - ETA: 34s - loss: 1.51 - ETA: 33s - loss: 1.51 - ETA: 33s - loss: 1.50 - ETA: 33s - loss: 1.50 - ETA: 32s - loss: 1.50 - ETA: 32s - loss: 1.50 - ETA: 31s - loss: 1.50 - ETA: 31s - loss: 1.50 - ETA: 30s - loss: 1.50 - ETA: 30s - loss: 1.50 - ETA: 30s - loss: 1.50 - ETA: 29s - loss: 1.50 - ETA: 29s - loss: 1.50 - ETA: 28s - loss: 1.50 - ETA: 28s - loss: 1.50 - ETA: 27s - loss: 1.50 - ETA: 27s - loss: 1.50 - ETA: 27s - loss: 1.50 - ETA: 26s - loss: 1.50 - ETA: 26s - loss: 1.50 - ETA: 25s - loss: 1.50 - ETA: 25s - loss: 1.50 - ETA: 24s - loss: 1.50 - ETA: 24s - loss: 1.50 - ETA: 24s - loss: 1.50 - ETA: 23s - loss: 1.50 - ETA: 23s - loss: 1.50 - ETA: 22s - loss: 1.50 - ETA: 22s - loss: 1.50 - ETA: 21s - loss: 1.50 - ETA: 21s - loss: 1.50 - ETA: 21s - loss: 1.50 - ETA: 20s - loss: 1.50 - ETA: 20s - loss: 1.50 - ETA: 19s - loss: 1.50 - ETA: 19s - loss: 1.50 - ETA: 18s - loss: 1.50 - ETA: 18s - loss: 1.50 - ETA: 18s - loss: 1.50 - ETA: 17s - loss: 1.50 - ETA: 17s - loss: 1.50 - ETA: 16s - loss: 1.50 - ETA: 16s - loss: 1.50 - ETA: 15s - loss: 1.50 - ETA: 15s - loss: 1.50 - ETA: 15s - loss: 1.50 - ETA: 14s - loss: 1.49 - ETA: 14s - loss: 1.49 - ETA: 13s - loss: 1.50 - ETA: 13s - loss: 1.50 - ETA: 12s - loss: 1.50 - ETA: 12s - loss: 1.50 - ETA: 12s - loss: 1.49 - ETA: 11s - loss: 1.49 - ETA: 11s - loss: 1.49 - ETA: 10s - loss: 1.49 - ETA: 10s - loss: 1.49 - ETA: 9s - loss: 1.4979 - ETA: 9s - loss: 1.498 - ETA: 9s - loss: 1.497 - ETA: 8s - loss: 1.498 - ETA: 8s - loss: 1.498 - ETA: 7s - loss: 1.498 - ETA: 7s - loss: 1.498 - ETA: 6s - loss: 1.497 - ETA: 6s - loss: 1.497 - ETA: 6s - loss: 1.498 - ETA: 5s - loss: 1.497 - ETA: 5s - loss: 1.497 - ETA: 4s - loss: 1.497 - ETA: 4s - loss: 1.498 - ETA: 3s - loss: 1.497 - ETA: 3s - loss: 1.497 - ETA: 3s - loss: 1.497 - ETA: 2s - loss: 1.496 - ETA: 2s - loss: 1.495 - ETA: 1s - loss: 1.495 - ETA: 1s - loss: 1.495 - ETA: 0s - loss: 1.494 - ETA: 0s - loss: 1.495 - 232s 579ms/step - loss: 1.4965 - val_loss: 2.3119\n",
      "Epoch 9/12\n"
     ]
    },
    {
     "name": "stdout",
     "output_type": "stream",
     "text": [
      "318/400 [======================>.......] - ETA: 2:57 - loss: 1.405 - ETA: 2:56 - loss: 1.484 - ETA: 2:55 - loss: 1.543 - ETA: 2:53 - loss: 1.594 - ETA: 2:53 - loss: 1.505 - ETA: 2:52 - loss: 1.530 - ETA: 2:51 - loss: 1.535 - ETA: 2:50 - loss: 1.539 - ETA: 2:50 - loss: 1.535 - ETA: 2:49 - loss: 1.536 - ETA: 2:48 - loss: 1.507 - ETA: 2:47 - loss: 1.499 - ETA: 2:46 - loss: 1.468 - ETA: 2:47 - loss: 1.481 - ETA: 2:46 - loss: 1.495 - ETA: 2:45 - loss: 1.497 - ETA: 2:45 - loss: 1.483 - ETA: 2:45 - loss: 1.481 - ETA: 2:44 - loss: 1.477 - ETA: 2:44 - loss: 1.488 - ETA: 2:43 - loss: 1.474 - ETA: 2:43 - loss: 1.475 - ETA: 2:42 - loss: 1.472 - ETA: 2:42 - loss: 1.458 - ETA: 2:41 - loss: 1.451 - ETA: 2:41 - loss: 1.448 - ETA: 2:40 - loss: 1.443 - ETA: 2:40 - loss: 1.438 - ETA: 2:39 - loss: 1.435 - ETA: 2:39 - loss: 1.437 - ETA: 2:38 - loss: 1.441 - ETA: 2:38 - loss: 1.450 - ETA: 2:38 - loss: 1.449 - ETA: 2:37 - loss: 1.450 - ETA: 2:37 - loss: 1.443 - ETA: 2:36 - loss: 1.437 - ETA: 2:36 - loss: 1.438 - ETA: 2:35 - loss: 1.440 - ETA: 2:35 - loss: 1.445 - ETA: 2:34 - loss: 1.450 - ETA: 2:34 - loss: 1.451 - ETA: 2:33 - loss: 1.453 - ETA: 2:33 - loss: 1.450 - ETA: 2:33 - loss: 1.447 - ETA: 2:32 - loss: 1.449 - ETA: 2:32 - loss: 1.442 - ETA: 2:31 - loss: 1.439 - ETA: 2:31 - loss: 1.437 - ETA: 2:31 - loss: 1.435 - ETA: 2:30 - loss: 1.428 - ETA: 2:30 - loss: 1.426 - ETA: 2:29 - loss: 1.428 - ETA: 2:29 - loss: 1.432 - ETA: 2:29 - loss: 1.429 - ETA: 2:28 - loss: 1.434 - ETA: 2:28 - loss: 1.431 - ETA: 2:27 - loss: 1.435 - ETA: 2:27 - loss: 1.432 - ETA: 2:26 - loss: 1.427 - ETA: 2:26 - loss: 1.435 - ETA: 2:25 - loss: 1.435 - ETA: 2:25 - loss: 1.432 - ETA: 2:25 - loss: 1.433 - ETA: 2:24 - loss: 1.430 - ETA: 2:24 - loss: 1.425 - ETA: 2:23 - loss: 1.423 - ETA: 2:23 - loss: 1.421 - ETA: 2:22 - loss: 1.417 - ETA: 2:22 - loss: 1.418 - ETA: 2:22 - loss: 1.418 - ETA: 2:21 - loss: 1.420 - ETA: 2:21 - loss: 1.415 - ETA: 2:20 - loss: 1.414 - ETA: 2:20 - loss: 1.415 - ETA: 2:19 - loss: 1.419 - ETA: 2:19 - loss: 1.417 - ETA: 2:19 - loss: 1.418 - ETA: 2:18 - loss: 1.421 - ETA: 2:18 - loss: 1.419 - ETA: 2:17 - loss: 1.420 - ETA: 2:17 - loss: 1.425 - ETA: 2:16 - loss: 1.428 - ETA: 2:16 - loss: 1.429 - ETA: 2:16 - loss: 1.428 - ETA: 2:15 - loss: 1.431 - ETA: 2:15 - loss: 1.431 - ETA: 2:14 - loss: 1.429 - ETA: 2:14 - loss: 1.430 - ETA: 2:13 - loss: 1.429 - ETA: 2:13 - loss: 1.427 - ETA: 2:12 - loss: 1.427 - ETA: 2:12 - loss: 1.427 - ETA: 2:12 - loss: 1.427 - ETA: 2:11 - loss: 1.427 - ETA: 2:11 - loss: 1.428 - ETA: 2:10 - loss: 1.431 - ETA: 2:10 - loss: 1.437 - ETA: 2:09 - loss: 1.441 - ETA: 2:09 - loss: 1.440 - ETA: 2:09 - loss: 1.439 - ETA: 2:08 - loss: 1.442 - ETA: 2:08 - loss: 1.442 - ETA: 2:07 - loss: 1.444 - ETA: 2:07 - loss: 1.444 - ETA: 2:06 - loss: 1.440 - ETA: 2:06 - loss: 1.438 - ETA: 2:06 - loss: 1.439 - ETA: 2:05 - loss: 1.438 - ETA: 2:05 - loss: 1.436 - ETA: 2:04 - loss: 1.435 - ETA: 2:04 - loss: 1.437 - ETA: 2:03 - loss: 1.440 - ETA: 2:03 - loss: 1.438 - ETA: 2:03 - loss: 1.438 - ETA: 2:02 - loss: 1.439 - ETA: 2:02 - loss: 1.438 - ETA: 2:01 - loss: 1.440 - ETA: 2:01 - loss: 1.440 - ETA: 2:00 - loss: 1.441 - ETA: 2:00 - loss: 1.440 - ETA: 2:00 - loss: 1.439 - ETA: 1:59 - loss: 1.439 - ETA: 1:59 - loss: 1.436 - ETA: 1:58 - loss: 1.435 - ETA: 1:58 - loss: 1.435 - ETA: 1:57 - loss: 1.435 - ETA: 1:57 - loss: 1.435 - ETA: 1:57 - loss: 1.437 - ETA: 1:56 - loss: 1.437 - ETA: 1:56 - loss: 1.441 - ETA: 1:55 - loss: 1.437 - ETA: 1:55 - loss: 1.436 - ETA: 1:54 - loss: 1.437 - ETA: 1:54 - loss: 1.438 - ETA: 1:54 - loss: 1.437 - ETA: 1:53 - loss: 1.439 - ETA: 1:53 - loss: 1.441 - ETA: 1:52 - loss: 1.441 - ETA: 1:52 - loss: 1.439 - ETA: 1:51 - loss: 1.436 - ETA: 1:51 - loss: 1.434 - ETA: 1:51 - loss: 1.432 - ETA: 1:50 - loss: 1.430 - ETA: 1:50 - loss: 1.430 - ETA: 1:49 - loss: 1.431 - ETA: 1:49 - loss: 1.430 - ETA: 1:48 - loss: 1.428 - ETA: 1:48 - loss: 1.428 - ETA: 1:48 - loss: 1.427 - ETA: 1:47 - loss: 1.428 - ETA: 1:47 - loss: 1.426 - ETA: 1:46 - loss: 1.426 - ETA: 1:46 - loss: 1.428 - ETA: 1:45 - loss: 1.433 - ETA: 1:45 - loss: 1.432 - ETA: 1:44 - loss: 1.433 - ETA: 1:44 - loss: 1.434 - ETA: 1:44 - loss: 1.435 - ETA: 1:43 - loss: 1.435 - ETA: 1:43 - loss: 1.435 - ETA: 1:42 - loss: 1.437 - ETA: 1:42 - loss: 1.437 - ETA: 1:41 - loss: 1.436 - ETA: 1:41 - loss: 1.436 - ETA: 1:41 - loss: 1.436 - ETA: 1:40 - loss: 1.436 - ETA: 1:40 - loss: 1.436 - ETA: 1:39 - loss: 1.436 - ETA: 1:39 - loss: 1.436 - ETA: 1:38 - loss: 1.436 - ETA: 1:38 - loss: 1.436 - ETA: 1:38 - loss: 1.436 - ETA: 1:37 - loss: 1.436 - ETA: 1:37 - loss: 1.437 - ETA: 1:36 - loss: 1.436 - ETA: 1:36 - loss: 1.435 - ETA: 1:35 - loss: 1.433 - ETA: 1:35 - loss: 1.433 - ETA: 1:35 - loss: 1.432 - ETA: 1:34 - loss: 1.433 - ETA: 1:34 - loss: 1.432 - ETA: 1:33 - loss: 1.432 - ETA: 1:33 - loss: 1.433 - ETA: 1:32 - loss: 1.432 - ETA: 1:32 - loss: 1.433 - ETA: 1:32 - loss: 1.431 - ETA: 1:31 - loss: 1.430 - ETA: 1:31 - loss: 1.431 - ETA: 1:30 - loss: 1.430 - ETA: 1:30 - loss: 1.430 - ETA: 1:29 - loss: 1.429 - ETA: 1:29 - loss: 1.426 - ETA: 1:29 - loss: 1.425 - ETA: 1:28 - loss: 1.425 - ETA: 1:28 - loss: 1.424 - ETA: 1:27 - loss: 1.424 - ETA: 1:27 - loss: 1.422 - ETA: 1:26 - loss: 1.422 - ETA: 1:26 - loss: 1.422 - ETA: 1:26 - loss: 1.421 - ETA: 1:25 - loss: 1.421 - ETA: 1:25 - loss: 1.421 - ETA: 1:24 - loss: 1.421 - ETA: 1:24 - loss: 1.419 - ETA: 1:23 - loss: 1.418 - ETA: 1:23 - loss: 1.419 - ETA: 1:23 - loss: 1.419 - ETA: 1:22 - loss: 1.419 - ETA: 1:22 - loss: 1.420 - ETA: 1:21 - loss: 1.418 - ETA: 1:21 - loss: 1.418 - ETA: 1:20 - loss: 1.416 - ETA: 1:20 - loss: 1.416 - ETA: 1:20 - loss: 1.416 - ETA: 1:19 - loss: 1.415 - ETA: 1:19 - loss: 1.416 - ETA: 1:18 - loss: 1.415 - ETA: 1:18 - loss: 1.415 - ETA: 1:17 - loss: 1.415 - ETA: 1:17 - loss: 1.415 - ETA: 1:17 - loss: 1.415 - ETA: 1:16 - loss: 1.415 - ETA: 1:16 - loss: 1.414 - ETA: 1:15 - loss: 1.414 - ETA: 1:15 - loss: 1.414 - ETA: 1:14 - loss: 1.413 - ETA: 1:14 - loss: 1.413 - ETA: 1:13 - loss: 1.412 - ETA: 1:13 - loss: 1.412 - ETA: 1:13 - loss: 1.411 - ETA: 1:12 - loss: 1.411 - ETA: 1:12 - loss: 1.412 - ETA: 1:11 - loss: 1.412 - ETA: 1:11 - loss: 1.411 - ETA: 1:10 - loss: 1.411 - ETA: 1:10 - loss: 1.411 - ETA: 1:10 - loss: 1.412 - ETA: 1:09 - loss: 1.412 - ETA: 1:09 - loss: 1.412 - ETA: 1:08 - loss: 1.409 - ETA: 1:08 - loss: 1.409 - ETA: 1:07 - loss: 1.407 - ETA: 1:07 - loss: 1.407 - ETA: 1:07 - loss: 1.408 - ETA: 1:06 - loss: 1.409 - ETA: 1:06 - loss: 1.410 - ETA: 1:05 - loss: 1.410 - ETA: 1:05 - loss: 1.410 - ETA: 1:04 - loss: 1.410 - ETA: 1:04 - loss: 1.411 - ETA: 1:04 - loss: 1.409 - ETA: 1:03 - loss: 1.409 - ETA: 1:03 - loss: 1.409 - ETA: 1:02 - loss: 1.408 - ETA: 1:02 - loss: 1.408 - ETA: 1:01 - loss: 1.408 - ETA: 1:01 - loss: 1.408 - ETA: 1:01 - loss: 1.407 - ETA: 1:00 - loss: 1.408 - ETA: 1:00 - loss: 1.407 - ETA: 59s - loss: 1.407 - ETA: 59s - loss: 1.40 - ETA: 58s - loss: 1.40 - ETA: 58s - loss: 1.40 - ETA: 58s - loss: 1.40 - ETA: 57s - loss: 1.40 - ETA: 57s - loss: 1.40 - ETA: 56s - loss: 1.40 - ETA: 56s - loss: 1.40 - ETA: 55s - loss: 1.40 - ETA: 55s - loss: 1.40 - ETA: 55s - loss: 1.40 - ETA: 54s - loss: 1.40 - ETA: 54s - loss: 1.40 - ETA: 53s - loss: 1.40 - ETA: 53s - loss: 1.40 - ETA: 52s - loss: 1.40 - ETA: 52s - loss: 1.40 - ETA: 52s - loss: 1.40 - ETA: 51s - loss: 1.40 - ETA: 51s - loss: 1.40 - ETA: 50s - loss: 1.39 - ETA: 50s - loss: 1.39 - ETA: 49s - loss: 1.39 - ETA: 49s - loss: 1.39 - ETA: 49s - loss: 1.39 - ETA: 48s - loss: 1.39 - ETA: 48s - loss: 1.39 - ETA: 47s - loss: 1.39 - ETA: 47s - loss: 1.40 - ETA: 46s - loss: 1.40 - ETA: 46s - loss: 1.39 - ETA: 46s - loss: 1.40 - ETA: 45s - loss: 1.39 - ETA: 45s - loss: 1.40 - ETA: 44s - loss: 1.39 - ETA: 44s - loss: 1.39 - ETA: 43s - loss: 1.39 - ETA: 43s - loss: 1.40 - ETA: 43s - loss: 1.40 - ETA: 42s - loss: 1.39 - ETA: 42s - loss: 1.39 - ETA: 41s - loss: 1.39 - ETA: 41s - loss: 1.40 - ETA: 40s - loss: 1.40 - ETA: 40s - loss: 1.40 - ETA: 39s - loss: 1.39 - ETA: 39s - loss: 1.39 - ETA: 39s - loss: 1.39 - ETA: 38s - loss: 1.39 - ETA: 38s - loss: 1.39 - ETA: 37s - loss: 1.39 - ETA: 37s - loss: 1.39 - ETA: 36s - loss: 1.39 - ETA: 36s - loss: 1.39 - ETA: 36s - loss: 1.39 - ETA: 35s - loss: 1.39 - ETA: 35s - loss: 1.3978"
     ]
    },
    {
     "name": "stdout",
     "output_type": "stream",
     "text": [
      "400/400 [==============================] - ETA: 34s - loss: 1.39 - ETA: 34s - loss: 1.39 - ETA: 33s - loss: 1.39 - ETA: 33s - loss: 1.39 - ETA: 33s - loss: 1.39 - ETA: 32s - loss: 1.39 - ETA: 32s - loss: 1.39 - ETA: 31s - loss: 1.39 - ETA: 31s - loss: 1.39 - ETA: 30s - loss: 1.39 - ETA: 30s - loss: 1.39 - ETA: 30s - loss: 1.39 - ETA: 29s - loss: 1.39 - ETA: 29s - loss: 1.39 - ETA: 28s - loss: 1.39 - ETA: 28s - loss: 1.39 - ETA: 27s - loss: 1.39 - ETA: 27s - loss: 1.40 - ETA: 27s - loss: 1.39 - ETA: 26s - loss: 1.39 - ETA: 26s - loss: 1.40 - ETA: 25s - loss: 1.40 - ETA: 25s - loss: 1.40 - ETA: 24s - loss: 1.40 - ETA: 24s - loss: 1.40 - ETA: 24s - loss: 1.40 - ETA: 23s - loss: 1.40 - ETA: 23s - loss: 1.40 - ETA: 22s - loss: 1.40 - ETA: 22s - loss: 1.40 - ETA: 21s - loss: 1.40 - ETA: 21s - loss: 1.40 - ETA: 21s - loss: 1.40 - ETA: 20s - loss: 1.40 - ETA: 20s - loss: 1.40 - ETA: 19s - loss: 1.40 - ETA: 19s - loss: 1.39 - ETA: 18s - loss: 1.39 - ETA: 18s - loss: 1.39 - ETA: 18s - loss: 1.39 - ETA: 17s - loss: 1.39 - ETA: 17s - loss: 1.39 - ETA: 16s - loss: 1.39 - ETA: 16s - loss: 1.39 - ETA: 15s - loss: 1.39 - ETA: 15s - loss: 1.39 - ETA: 15s - loss: 1.39 - ETA: 14s - loss: 1.39 - ETA: 14s - loss: 1.39 - ETA: 13s - loss: 1.39 - ETA: 13s - loss: 1.39 - ETA: 12s - loss: 1.39 - ETA: 12s - loss: 1.39 - ETA: 12s - loss: 1.39 - ETA: 11s - loss: 1.39 - ETA: 11s - loss: 1.39 - ETA: 10s - loss: 1.39 - ETA: 10s - loss: 1.39 - ETA: 9s - loss: 1.3957 - ETA: 9s - loss: 1.395 - ETA: 9s - loss: 1.395 - ETA: 8s - loss: 1.395 - ETA: 8s - loss: 1.394 - ETA: 7s - loss: 1.394 - ETA: 7s - loss: 1.393 - ETA: 6s - loss: 1.393 - ETA: 6s - loss: 1.393 - ETA: 6s - loss: 1.393 - ETA: 5s - loss: 1.393 - ETA: 5s - loss: 1.392 - ETA: 4s - loss: 1.392 - ETA: 4s - loss: 1.392 - ETA: 3s - loss: 1.393 - ETA: 3s - loss: 1.392 - ETA: 3s - loss: 1.392 - ETA: 2s - loss: 1.392 - ETA: 2s - loss: 1.392 - ETA: 1s - loss: 1.392 - ETA: 1s - loss: 1.392 - ETA: 0s - loss: 1.392 - ETA: 0s - loss: 1.392 - 232s 580ms/step - loss: 1.3928 - val_loss: 2.3388\n",
      "Epoch 10/12\n"
     ]
    },
    {
     "name": "stdout",
     "output_type": "stream",
     "text": [
      "318/400 [======================>.......] - ETA: 2:57 - loss: 1.320 - ETA: 2:56 - loss: 1.383 - ETA: 2:59 - loss: 1.335 - ETA: 2:58 - loss: 1.334 - ETA: 2:55 - loss: 1.365 - ETA: 2:53 - loss: 1.330 - ETA: 2:53 - loss: 1.350 - ETA: 2:52 - loss: 1.330 - ETA: 2:51 - loss: 1.332 - ETA: 2:50 - loss: 1.311 - ETA: 2:49 - loss: 1.321 - ETA: 2:49 - loss: 1.350 - ETA: 2:48 - loss: 1.356 - ETA: 2:47 - loss: 1.370 - ETA: 2:47 - loss: 1.371 - ETA: 2:46 - loss: 1.363 - ETA: 2:46 - loss: 1.350 - ETA: 2:45 - loss: 1.348 - ETA: 2:45 - loss: 1.359 - ETA: 2:44 - loss: 1.366 - ETA: 2:44 - loss: 1.365 - ETA: 2:43 - loss: 1.356 - ETA: 2:42 - loss: 1.355 - ETA: 2:42 - loss: 1.351 - ETA: 2:42 - loss: 1.340 - ETA: 2:41 - loss: 1.337 - ETA: 2:41 - loss: 1.335 - ETA: 2:40 - loss: 1.333 - ETA: 2:40 - loss: 1.333 - ETA: 2:39 - loss: 1.331 - ETA: 2:39 - loss: 1.334 - ETA: 2:38 - loss: 1.334 - ETA: 2:38 - loss: 1.334 - ETA: 2:37 - loss: 1.333 - ETA: 2:37 - loss: 1.334 - ETA: 2:36 - loss: 1.327 - ETA: 2:36 - loss: 1.322 - ETA: 2:35 - loss: 1.321 - ETA: 2:35 - loss: 1.320 - ETA: 2:35 - loss: 1.321 - ETA: 2:34 - loss: 1.319 - ETA: 2:34 - loss: 1.324 - ETA: 2:33 - loss: 1.323 - ETA: 2:33 - loss: 1.326 - ETA: 2:33 - loss: 1.323 - ETA: 2:32 - loss: 1.322 - ETA: 2:32 - loss: 1.323 - ETA: 2:31 - loss: 1.325 - ETA: 2:31 - loss: 1.319 - ETA: 2:31 - loss: 1.316 - ETA: 2:30 - loss: 1.321 - ETA: 2:30 - loss: 1.320 - ETA: 2:29 - loss: 1.319 - ETA: 2:29 - loss: 1.319 - ETA: 2:28 - loss: 1.317 - ETA: 2:28 - loss: 1.319 - ETA: 2:28 - loss: 1.315 - ETA: 2:27 - loss: 1.316 - ETA: 2:27 - loss: 1.316 - ETA: 2:26 - loss: 1.315 - ETA: 2:26 - loss: 1.313 - ETA: 2:25 - loss: 1.312 - ETA: 2:25 - loss: 1.308 - ETA: 2:24 - loss: 1.307 - ETA: 2:24 - loss: 1.306 - ETA: 2:23 - loss: 1.311 - ETA: 2:23 - loss: 1.314 - ETA: 2:23 - loss: 1.319 - ETA: 2:22 - loss: 1.318 - ETA: 2:22 - loss: 1.321 - ETA: 2:21 - loss: 1.323 - ETA: 2:21 - loss: 1.319 - ETA: 2:21 - loss: 1.321 - ETA: 2:20 - loss: 1.319 - ETA: 2:20 - loss: 1.315 - ETA: 2:19 - loss: 1.314 - ETA: 2:19 - loss: 1.311 - ETA: 2:18 - loss: 1.306 - ETA: 2:18 - loss: 1.307 - ETA: 2:18 - loss: 1.305 - ETA: 2:17 - loss: 1.304 - ETA: 2:17 - loss: 1.302 - ETA: 2:16 - loss: 1.301 - ETA: 2:16 - loss: 1.298 - ETA: 2:15 - loss: 1.294 - ETA: 2:15 - loss: 1.293 - ETA: 2:14 - loss: 1.291 - ETA: 2:14 - loss: 1.291 - ETA: 2:14 - loss: 1.293 - ETA: 2:13 - loss: 1.292 - ETA: 2:13 - loss: 1.293 - ETA: 2:12 - loss: 1.292 - ETA: 2:12 - loss: 1.292 - ETA: 2:11 - loss: 1.291 - ETA: 2:11 - loss: 1.291 - ETA: 2:11 - loss: 1.290 - ETA: 2:10 - loss: 1.289 - ETA: 2:10 - loss: 1.291 - ETA: 2:09 - loss: 1.292 - ETA: 2:09 - loss: 1.294 - ETA: 2:08 - loss: 1.297 - ETA: 2:08 - loss: 1.298 - ETA: 2:08 - loss: 1.297 - ETA: 2:07 - loss: 1.297 - ETA: 2:07 - loss: 1.298 - ETA: 2:06 - loss: 1.299 - ETA: 2:06 - loss: 1.300 - ETA: 2:05 - loss: 1.303 - ETA: 2:05 - loss: 1.303 - ETA: 2:04 - loss: 1.305 - ETA: 2:04 - loss: 1.305 - ETA: 2:04 - loss: 1.307 - ETA: 2:03 - loss: 1.306 - ETA: 2:03 - loss: 1.309 - ETA: 2:02 - loss: 1.308 - ETA: 2:02 - loss: 1.310 - ETA: 2:01 - loss: 1.308 - ETA: 2:01 - loss: 1.309 - ETA: 2:01 - loss: 1.307 - ETA: 2:00 - loss: 1.307 - ETA: 2:00 - loss: 1.309 - ETA: 1:59 - loss: 1.309 - ETA: 1:59 - loss: 1.312 - ETA: 1:58 - loss: 1.312 - ETA: 1:58 - loss: 1.314 - ETA: 1:57 - loss: 1.315 - ETA: 1:57 - loss: 1.315 - ETA: 1:57 - loss: 1.316 - ETA: 1:56 - loss: 1.317 - ETA: 1:56 - loss: 1.319 - ETA: 1:55 - loss: 1.320 - ETA: 1:55 - loss: 1.320 - ETA: 1:54 - loss: 1.319 - ETA: 1:54 - loss: 1.320 - ETA: 1:54 - loss: 1.320 - ETA: 1:53 - loss: 1.321 - ETA: 1:53 - loss: 1.322 - ETA: 1:52 - loss: 1.323 - ETA: 1:52 - loss: 1.324 - ETA: 1:51 - loss: 1.324 - ETA: 1:51 - loss: 1.325 - ETA: 1:51 - loss: 1.327 - ETA: 1:50 - loss: 1.328 - ETA: 1:50 - loss: 1.330 - ETA: 1:49 - loss: 1.329 - ETA: 1:49 - loss: 1.329 - ETA: 1:48 - loss: 1.328 - ETA: 1:48 - loss: 1.327 - ETA: 1:48 - loss: 1.326 - ETA: 1:47 - loss: 1.325 - ETA: 1:47 - loss: 1.325 - ETA: 1:46 - loss: 1.325 - ETA: 1:46 - loss: 1.325 - ETA: 1:45 - loss: 1.326 - ETA: 1:45 - loss: 1.327 - ETA: 1:45 - loss: 1.327 - ETA: 1:44 - loss: 1.326 - ETA: 1:44 - loss: 1.328 - ETA: 1:43 - loss: 1.328 - ETA: 1:43 - loss: 1.327 - ETA: 1:42 - loss: 1.325 - ETA: 1:42 - loss: 1.324 - ETA: 1:42 - loss: 1.323 - ETA: 1:41 - loss: 1.322 - ETA: 1:41 - loss: 1.321 - ETA: 1:40 - loss: 1.320 - ETA: 1:40 - loss: 1.318 - ETA: 1:39 - loss: 1.320 - ETA: 1:39 - loss: 1.322 - ETA: 1:39 - loss: 1.322 - ETA: 1:38 - loss: 1.322 - ETA: 1:38 - loss: 1.322 - ETA: 1:37 - loss: 1.324 - ETA: 1:37 - loss: 1.324 - ETA: 1:36 - loss: 1.324 - ETA: 1:36 - loss: 1.327 - ETA: 1:35 - loss: 1.325 - ETA: 1:35 - loss: 1.325 - ETA: 1:35 - loss: 1.324 - ETA: 1:34 - loss: 1.325 - ETA: 1:34 - loss: 1.326 - ETA: 1:33 - loss: 1.326 - ETA: 1:33 - loss: 1.326 - ETA: 1:33 - loss: 1.324 - ETA: 1:32 - loss: 1.323 - ETA: 1:32 - loss: 1.324 - ETA: 1:31 - loss: 1.325 - ETA: 1:31 - loss: 1.326 - ETA: 1:30 - loss: 1.327 - ETA: 1:30 - loss: 1.328 - ETA: 1:29 - loss: 1.328 - ETA: 1:29 - loss: 1.327 - ETA: 1:29 - loss: 1.328 - ETA: 1:28 - loss: 1.329 - ETA: 1:28 - loss: 1.328 - ETA: 1:27 - loss: 1.328 - ETA: 1:27 - loss: 1.328 - ETA: 1:26 - loss: 1.328 - ETA: 1:26 - loss: 1.329 - ETA: 1:26 - loss: 1.330 - ETA: 1:25 - loss: 1.329 - ETA: 1:25 - loss: 1.329 - ETA: 1:24 - loss: 1.330 - ETA: 1:24 - loss: 1.329 - ETA: 1:23 - loss: 1.328 - ETA: 1:23 - loss: 1.328 - ETA: 1:23 - loss: 1.327 - ETA: 1:22 - loss: 1.327 - ETA: 1:22 - loss: 1.327 - ETA: 1:21 - loss: 1.328 - ETA: 1:21 - loss: 1.327 - ETA: 1:20 - loss: 1.327 - ETA: 1:20 - loss: 1.326 - ETA: 1:20 - loss: 1.325 - ETA: 1:19 - loss: 1.325 - ETA: 1:19 - loss: 1.325 - ETA: 1:18 - loss: 1.325 - ETA: 1:18 - loss: 1.326 - ETA: 1:17 - loss: 1.326 - ETA: 1:17 - loss: 1.326 - ETA: 1:17 - loss: 1.325 - ETA: 1:16 - loss: 1.325 - ETA: 1:16 - loss: 1.324 - ETA: 1:15 - loss: 1.325 - ETA: 1:15 - loss: 1.326 - ETA: 1:14 - loss: 1.325 - ETA: 1:14 - loss: 1.325 - ETA: 1:14 - loss: 1.325 - ETA: 1:13 - loss: 1.324 - ETA: 1:13 - loss: 1.324 - ETA: 1:12 - loss: 1.324 - ETA: 1:12 - loss: 1.323 - ETA: 1:11 - loss: 1.323 - ETA: 1:11 - loss: 1.323 - ETA: 1:11 - loss: 1.322 - ETA: 1:10 - loss: 1.321 - ETA: 1:10 - loss: 1.320 - ETA: 1:09 - loss: 1.320 - ETA: 1:09 - loss: 1.319 - ETA: 1:08 - loss: 1.319 - ETA: 1:08 - loss: 1.318 - ETA: 1:08 - loss: 1.319 - ETA: 1:07 - loss: 1.319 - ETA: 1:07 - loss: 1.320 - ETA: 1:06 - loss: 1.319 - ETA: 1:06 - loss: 1.321 - ETA: 1:05 - loss: 1.321 - ETA: 1:05 - loss: 1.321 - ETA: 1:05 - loss: 1.321 - ETA: 1:04 - loss: 1.320 - ETA: 1:04 - loss: 1.320 - ETA: 1:03 - loss: 1.319 - ETA: 1:03 - loss: 1.318 - ETA: 1:02 - loss: 1.320 - ETA: 1:02 - loss: 1.319 - ETA: 1:01 - loss: 1.318 - ETA: 1:01 - loss: 1.319 - ETA: 1:01 - loss: 1.318 - ETA: 1:00 - loss: 1.317 - ETA: 1:00 - loss: 1.317 - ETA: 59s - loss: 1.317 - ETA: 59s - loss: 1.31 - ETA: 58s - loss: 1.31 - ETA: 58s - loss: 1.31 - ETA: 58s - loss: 1.31 - ETA: 57s - loss: 1.31 - ETA: 57s - loss: 1.31 - ETA: 56s - loss: 1.31 - ETA: 56s - loss: 1.31 - ETA: 55s - loss: 1.31 - ETA: 55s - loss: 1.31 - ETA: 55s - loss: 1.31 - ETA: 54s - loss: 1.31 - ETA: 54s - loss: 1.31 - ETA: 53s - loss: 1.31 - ETA: 53s - loss: 1.31 - ETA: 52s - loss: 1.31 - ETA: 52s - loss: 1.31 - ETA: 52s - loss: 1.31 - ETA: 51s - loss: 1.31 - ETA: 51s - loss: 1.31 - ETA: 50s - loss: 1.31 - ETA: 50s - loss: 1.31 - ETA: 49s - loss: 1.31 - ETA: 49s - loss: 1.31 - ETA: 49s - loss: 1.31 - ETA: 48s - loss: 1.31 - ETA: 48s - loss: 1.31 - ETA: 47s - loss: 1.31 - ETA: 47s - loss: 1.32 - ETA: 46s - loss: 1.31 - ETA: 46s - loss: 1.31 - ETA: 46s - loss: 1.31 - ETA: 45s - loss: 1.31 - ETA: 45s - loss: 1.32 - ETA: 44s - loss: 1.32 - ETA: 44s - loss: 1.32 - ETA: 43s - loss: 1.32 - ETA: 43s - loss: 1.32 - ETA: 43s - loss: 1.32 - ETA: 42s - loss: 1.31 - ETA: 42s - loss: 1.31 - ETA: 41s - loss: 1.32 - ETA: 41s - loss: 1.32 - ETA: 40s - loss: 1.32 - ETA: 40s - loss: 1.32 - ETA: 40s - loss: 1.32 - ETA: 39s - loss: 1.32 - ETA: 39s - loss: 1.32 - ETA: 38s - loss: 1.32 - ETA: 38s - loss: 1.32 - ETA: 37s - loss: 1.32 - ETA: 37s - loss: 1.32 - ETA: 37s - loss: 1.32 - ETA: 36s - loss: 1.32 - ETA: 36s - loss: 1.32 - ETA: 35s - loss: 1.32 - ETA: 35s - loss: 1.3245"
     ]
    },
    {
     "name": "stdout",
     "output_type": "stream",
     "text": [
      "400/400 [==============================] - ETA: 34s - loss: 1.32 - ETA: 34s - loss: 1.32 - ETA: 34s - loss: 1.32 - ETA: 33s - loss: 1.32 - ETA: 33s - loss: 1.32 - ETA: 32s - loss: 1.32 - ETA: 32s - loss: 1.32 - ETA: 31s - loss: 1.32 - ETA: 31s - loss: 1.32 - ETA: 30s - loss: 1.32 - ETA: 30s - loss: 1.32 - ETA: 30s - loss: 1.32 - ETA: 29s - loss: 1.32 - ETA: 29s - loss: 1.32 - ETA: 28s - loss: 1.32 - ETA: 28s - loss: 1.32 - ETA: 27s - loss: 1.32 - ETA: 27s - loss: 1.32 - ETA: 27s - loss: 1.32 - ETA: 26s - loss: 1.32 - ETA: 26s - loss: 1.32 - ETA: 25s - loss: 1.32 - ETA: 25s - loss: 1.32 - ETA: 24s - loss: 1.32 - ETA: 24s - loss: 1.32 - ETA: 24s - loss: 1.32 - ETA: 23s - loss: 1.32 - ETA: 23s - loss: 1.32 - ETA: 22s - loss: 1.32 - ETA: 22s - loss: 1.32 - ETA: 21s - loss: 1.32 - ETA: 21s - loss: 1.32 - ETA: 21s - loss: 1.32 - ETA: 20s - loss: 1.32 - ETA: 20s - loss: 1.32 - ETA: 19s - loss: 1.32 - ETA: 19s - loss: 1.32 - ETA: 18s - loss: 1.32 - ETA: 18s - loss: 1.32 - ETA: 18s - loss: 1.32 - ETA: 17s - loss: 1.32 - ETA: 17s - loss: 1.32 - ETA: 16s - loss: 1.32 - ETA: 16s - loss: 1.32 - ETA: 15s - loss: 1.32 - ETA: 15s - loss: 1.32 - ETA: 15s - loss: 1.32 - ETA: 14s - loss: 1.32 - ETA: 14s - loss: 1.32 - ETA: 13s - loss: 1.32 - ETA: 13s - loss: 1.32 - ETA: 12s - loss: 1.32 - ETA: 12s - loss: 1.32 - ETA: 12s - loss: 1.32 - ETA: 11s - loss: 1.32 - ETA: 11s - loss: 1.32 - ETA: 10s - loss: 1.32 - ETA: 10s - loss: 1.32 - ETA: 9s - loss: 1.3245 - ETA: 9s - loss: 1.325 - ETA: 9s - loss: 1.324 - ETA: 8s - loss: 1.324 - ETA: 8s - loss: 1.323 - ETA: 7s - loss: 1.323 - ETA: 7s - loss: 1.323 - ETA: 6s - loss: 1.323 - ETA: 6s - loss: 1.323 - ETA: 6s - loss: 1.322 - ETA: 5s - loss: 1.323 - ETA: 5s - loss: 1.323 - ETA: 4s - loss: 1.322 - ETA: 4s - loss: 1.323 - ETA: 3s - loss: 1.323 - ETA: 3s - loss: 1.325 - ETA: 3s - loss: 1.325 - ETA: 2s - loss: 1.325 - ETA: 2s - loss: 1.325 - ETA: 1s - loss: 1.325 - ETA: 1s - loss: 1.325 - ETA: 0s - loss: 1.324 - ETA: 0s - loss: 1.324 - 232s 580ms/step - loss: 1.3246 - val_loss: 2.3141\n",
      "Epoch 11/12\n"
     ]
    },
    {
     "name": "stdout",
     "output_type": "stream",
     "text": [
      "318/400 [======================>.......] - ETA: 2:57 - loss: 1.289 - ETA: 2:55 - loss: 1.151 - ETA: 2:56 - loss: 1.170 - ETA: 2:56 - loss: 1.290 - ETA: 2:53 - loss: 1.288 - ETA: 2:52 - loss: 1.287 - ETA: 2:52 - loss: 1.284 - ETA: 2:50 - loss: 1.325 - ETA: 2:50 - loss: 1.348 - ETA: 2:49 - loss: 1.316 - ETA: 2:48 - loss: 1.305 - ETA: 2:48 - loss: 1.303 - ETA: 2:47 - loss: 1.318 - ETA: 2:47 - loss: 1.305 - ETA: 2:46 - loss: 1.280 - ETA: 2:46 - loss: 1.274 - ETA: 2:45 - loss: 1.270 - ETA: 2:45 - loss: 1.264 - ETA: 2:44 - loss: 1.270 - ETA: 2:44 - loss: 1.271 - ETA: 2:43 - loss: 1.265 - ETA: 2:43 - loss: 1.260 - ETA: 2:42 - loss: 1.261 - ETA: 2:42 - loss: 1.277 - ETA: 2:41 - loss: 1.276 - ETA: 2:41 - loss: 1.278 - ETA: 2:40 - loss: 1.281 - ETA: 2:40 - loss: 1.277 - ETA: 2:40 - loss: 1.280 - ETA: 2:39 - loss: 1.282 - ETA: 2:39 - loss: 1.290 - ETA: 2:38 - loss: 1.297 - ETA: 2:38 - loss: 1.296 - ETA: 2:37 - loss: 1.310 - ETA: 2:37 - loss: 1.325 - ETA: 2:36 - loss: 1.323 - ETA: 2:36 - loss: 1.330 - ETA: 2:35 - loss: 1.328 - ETA: 2:35 - loss: 1.331 - ETA: 2:35 - loss: 1.326 - ETA: 2:34 - loss: 1.330 - ETA: 2:34 - loss: 1.330 - ETA: 2:33 - loss: 1.332 - ETA: 2:33 - loss: 1.330 - ETA: 2:32 - loss: 1.332 - ETA: 2:32 - loss: 1.329 - ETA: 2:32 - loss: 1.328 - ETA: 2:31 - loss: 1.329 - ETA: 2:31 - loss: 1.322 - ETA: 2:30 - loss: 1.331 - ETA: 2:30 - loss: 1.331 - ETA: 2:30 - loss: 1.332 - ETA: 2:29 - loss: 1.333 - ETA: 2:29 - loss: 1.331 - ETA: 2:28 - loss: 1.324 - ETA: 2:28 - loss: 1.324 - ETA: 2:27 - loss: 1.324 - ETA: 2:27 - loss: 1.327 - ETA: 2:26 - loss: 1.331 - ETA: 2:26 - loss: 1.332 - ETA: 2:26 - loss: 1.334 - ETA: 2:25 - loss: 1.330 - ETA: 2:25 - loss: 1.329 - ETA: 2:24 - loss: 1.329 - ETA: 2:24 - loss: 1.328 - ETA: 2:23 - loss: 1.325 - ETA: 2:23 - loss: 1.333 - ETA: 2:23 - loss: 1.329 - ETA: 2:22 - loss: 1.332 - ETA: 2:22 - loss: 1.329 - ETA: 2:21 - loss: 1.331 - ETA: 2:21 - loss: 1.334 - ETA: 2:20 - loss: 1.339 - ETA: 2:20 - loss: 1.337 - ETA: 2:20 - loss: 1.334 - ETA: 2:19 - loss: 1.332 - ETA: 2:19 - loss: 1.333 - ETA: 2:18 - loss: 1.332 - ETA: 2:18 - loss: 1.330 - ETA: 2:17 - loss: 1.329 - ETA: 2:17 - loss: 1.329 - ETA: 2:17 - loss: 1.328 - ETA: 2:16 - loss: 1.330 - ETA: 2:16 - loss: 1.329 - ETA: 2:15 - loss: 1.325 - ETA: 2:15 - loss: 1.325 - ETA: 2:14 - loss: 1.322 - ETA: 2:14 - loss: 1.320 - ETA: 2:14 - loss: 1.319 - ETA: 2:13 - loss: 1.323 - ETA: 2:13 - loss: 1.322 - ETA: 2:12 - loss: 1.324 - ETA: 2:12 - loss: 1.326 - ETA: 2:11 - loss: 1.325 - ETA: 2:11 - loss: 1.324 - ETA: 2:11 - loss: 1.324 - ETA: 2:10 - loss: 1.326 - ETA: 2:10 - loss: 1.324 - ETA: 2:09 - loss: 1.321 - ETA: 2:09 - loss: 1.320 - ETA: 2:08 - loss: 1.320 - ETA: 2:08 - loss: 1.319 - ETA: 2:08 - loss: 1.319 - ETA: 2:07 - loss: 1.319 - ETA: 2:07 - loss: 1.317 - ETA: 2:06 - loss: 1.319 - ETA: 2:06 - loss: 1.319 - ETA: 2:05 - loss: 1.321 - ETA: 2:05 - loss: 1.324 - ETA: 2:05 - loss: 1.323 - ETA: 2:04 - loss: 1.322 - ETA: 2:04 - loss: 1.326 - ETA: 2:03 - loss: 1.328 - ETA: 2:03 - loss: 1.327 - ETA: 2:02 - loss: 1.328 - ETA: 2:02 - loss: 1.328 - ETA: 2:02 - loss: 1.334 - ETA: 2:01 - loss: 1.333 - ETA: 2:01 - loss: 1.335 - ETA: 2:00 - loss: 1.336 - ETA: 2:00 - loss: 1.337 - ETA: 1:59 - loss: 1.337 - ETA: 1:59 - loss: 1.338 - ETA: 1:58 - loss: 1.337 - ETA: 1:58 - loss: 1.338 - ETA: 1:58 - loss: 1.338 - ETA: 1:57 - loss: 1.338 - ETA: 1:57 - loss: 1.340 - ETA: 1:56 - loss: 1.340 - ETA: 1:56 - loss: 1.339 - ETA: 1:55 - loss: 1.339 - ETA: 1:55 - loss: 1.340 - ETA: 1:55 - loss: 1.341 - ETA: 1:54 - loss: 1.343 - ETA: 1:54 - loss: 1.344 - ETA: 1:53 - loss: 1.343 - ETA: 1:53 - loss: 1.344 - ETA: 1:52 - loss: 1.345 - ETA: 1:52 - loss: 1.345 - ETA: 1:52 - loss: 1.343 - ETA: 1:51 - loss: 1.343 - ETA: 1:51 - loss: 1.342 - ETA: 1:50 - loss: 1.342 - ETA: 1:50 - loss: 1.340 - ETA: 1:49 - loss: 1.339 - ETA: 1:49 - loss: 1.337 - ETA: 1:49 - loss: 1.337 - ETA: 1:48 - loss: 1.338 - ETA: 1:48 - loss: 1.335 - ETA: 1:47 - loss: 1.335 - ETA: 1:47 - loss: 1.337 - ETA: 1:46 - loss: 1.337 - ETA: 1:46 - loss: 1.335 - ETA: 1:46 - loss: 1.333 - ETA: 1:45 - loss: 1.332 - ETA: 1:45 - loss: 1.330 - ETA: 1:44 - loss: 1.330 - ETA: 1:44 - loss: 1.329 - ETA: 1:43 - loss: 1.327 - ETA: 1:43 - loss: 1.327 - ETA: 1:42 - loss: 1.328 - ETA: 1:42 - loss: 1.328 - ETA: 1:42 - loss: 1.328 - ETA: 1:41 - loss: 1.327 - ETA: 1:41 - loss: 1.325 - ETA: 1:40 - loss: 1.325 - ETA: 1:40 - loss: 1.323 - ETA: 1:39 - loss: 1.324 - ETA: 1:39 - loss: 1.325 - ETA: 1:39 - loss: 1.325 - ETA: 1:38 - loss: 1.324 - ETA: 1:38 - loss: 1.323 - ETA: 1:37 - loss: 1.322 - ETA: 1:37 - loss: 1.322 - ETA: 1:36 - loss: 1.322 - ETA: 1:36 - loss: 1.323 - ETA: 1:36 - loss: 1.323 - ETA: 1:35 - loss: 1.323 - ETA: 1:35 - loss: 1.323 - ETA: 1:34 - loss: 1.324 - ETA: 1:34 - loss: 1.325 - ETA: 1:33 - loss: 1.325 - ETA: 1:33 - loss: 1.326 - ETA: 1:33 - loss: 1.328 - ETA: 1:32 - loss: 1.327 - ETA: 1:32 - loss: 1.328 - ETA: 1:31 - loss: 1.328 - ETA: 1:31 - loss: 1.328 - ETA: 1:30 - loss: 1.327 - ETA: 1:30 - loss: 1.328 - ETA: 1:30 - loss: 1.328 - ETA: 1:29 - loss: 1.327 - ETA: 1:29 - loss: 1.327 - ETA: 1:28 - loss: 1.327 - ETA: 1:28 - loss: 1.327 - ETA: 1:27 - loss: 1.327 - ETA: 1:27 - loss: 1.325 - ETA: 1:26 - loss: 1.326 - ETA: 1:26 - loss: 1.328 - ETA: 1:26 - loss: 1.328 - ETA: 1:25 - loss: 1.328 - ETA: 1:25 - loss: 1.327 - ETA: 1:24 - loss: 1.326 - ETA: 1:24 - loss: 1.325 - ETA: 1:23 - loss: 1.327 - ETA: 1:23 - loss: 1.326 - ETA: 1:23 - loss: 1.327 - ETA: 1:22 - loss: 1.328 - ETA: 1:22 - loss: 1.327 - ETA: 1:21 - loss: 1.326 - ETA: 1:21 - loss: 1.326 - ETA: 1:20 - loss: 1.326 - ETA: 1:20 - loss: 1.326 - ETA: 1:20 - loss: 1.326 - ETA: 1:19 - loss: 1.326 - ETA: 1:19 - loss: 1.325 - ETA: 1:18 - loss: 1.324 - ETA: 1:18 - loss: 1.324 - ETA: 1:17 - loss: 1.324 - ETA: 1:17 - loss: 1.323 - ETA: 1:17 - loss: 1.323 - ETA: 1:16 - loss: 1.323 - ETA: 1:16 - loss: 1.322 - ETA: 1:15 - loss: 1.321 - ETA: 1:15 - loss: 1.320 - ETA: 1:14 - loss: 1.320 - ETA: 1:14 - loss: 1.319 - ETA: 1:14 - loss: 1.318 - ETA: 1:13 - loss: 1.320 - ETA: 1:13 - loss: 1.321 - ETA: 1:12 - loss: 1.320 - ETA: 1:12 - loss: 1.321 - ETA: 1:11 - loss: 1.321 - ETA: 1:11 - loss: 1.320 - ETA: 1:11 - loss: 1.320 - ETA: 1:10 - loss: 1.322 - ETA: 1:10 - loss: 1.322 - ETA: 1:09 - loss: 1.323 - ETA: 1:09 - loss: 1.324 - ETA: 1:08 - loss: 1.323 - ETA: 1:08 - loss: 1.322 - ETA: 1:08 - loss: 1.322 - ETA: 1:07 - loss: 1.321 - ETA: 1:07 - loss: 1.320 - ETA: 1:06 - loss: 1.319 - ETA: 1:06 - loss: 1.319 - ETA: 1:05 - loss: 1.319 - ETA: 1:05 - loss: 1.320 - ETA: 1:05 - loss: 1.321 - ETA: 1:04 - loss: 1.320 - ETA: 1:04 - loss: 1.320 - ETA: 1:03 - loss: 1.318 - ETA: 1:03 - loss: 1.317 - ETA: 1:02 - loss: 1.317 - ETA: 1:02 - loss: 1.318 - ETA: 1:02 - loss: 1.318 - ETA: 1:01 - loss: 1.317 - ETA: 1:01 - loss: 1.319 - ETA: 1:00 - loss: 1.319 - ETA: 1:00 - loss: 1.319 - ETA: 59s - loss: 1.318 - ETA: 59s - loss: 1.31 - ETA: 59s - loss: 1.31 - ETA: 58s - loss: 1.32 - ETA: 58s - loss: 1.32 - ETA: 57s - loss: 1.32 - ETA: 57s - loss: 1.32 - ETA: 56s - loss: 1.32 - ETA: 56s - loss: 1.32 - ETA: 55s - loss: 1.32 - ETA: 55s - loss: 1.32 - ETA: 55s - loss: 1.32 - ETA: 54s - loss: 1.32 - ETA: 54s - loss: 1.32 - ETA: 53s - loss: 1.32 - ETA: 53s - loss: 1.32 - ETA: 52s - loss: 1.32 - ETA: 52s - loss: 1.32 - ETA: 52s - loss: 1.32 - ETA: 51s - loss: 1.32 - ETA: 51s - loss: 1.32 - ETA: 50s - loss: 1.32 - ETA: 50s - loss: 1.32 - ETA: 49s - loss: 1.32 - ETA: 49s - loss: 1.32 - ETA: 49s - loss: 1.31 - ETA: 48s - loss: 1.31 - ETA: 48s - loss: 1.31 - ETA: 47s - loss: 1.31 - ETA: 47s - loss: 1.31 - ETA: 46s - loss: 1.31 - ETA: 46s - loss: 1.31 - ETA: 46s - loss: 1.31 - ETA: 45s - loss: 1.31 - ETA: 45s - loss: 1.31 - ETA: 44s - loss: 1.32 - ETA: 44s - loss: 1.32 - ETA: 43s - loss: 1.32 - ETA: 43s - loss: 1.32 - ETA: 43s - loss: 1.32 - ETA: 42s - loss: 1.32 - ETA: 42s - loss: 1.32 - ETA: 41s - loss: 1.32 - ETA: 41s - loss: 1.31 - ETA: 40s - loss: 1.31 - ETA: 40s - loss: 1.31 - ETA: 40s - loss: 1.31 - ETA: 39s - loss: 1.31 - ETA: 39s - loss: 1.31 - ETA: 38s - loss: 1.31 - ETA: 38s - loss: 1.31 - ETA: 37s - loss: 1.31 - ETA: 37s - loss: 1.31 - ETA: 37s - loss: 1.31 - ETA: 36s - loss: 1.31 - ETA: 36s - loss: 1.31 - ETA: 35s - loss: 1.31 - ETA: 35s - loss: 1.3147"
     ]
    },
    {
     "name": "stdout",
     "output_type": "stream",
     "text": [
      "400/400 [==============================] - ETA: 34s - loss: 1.31 - ETA: 34s - loss: 1.31 - ETA: 34s - loss: 1.31 - ETA: 33s - loss: 1.31 - ETA: 33s - loss: 1.31 - ETA: 32s - loss: 1.31 - ETA: 32s - loss: 1.31 - ETA: 31s - loss: 1.31 - ETA: 31s - loss: 1.31 - ETA: 31s - loss: 1.31 - ETA: 30s - loss: 1.31 - ETA: 30s - loss: 1.30 - ETA: 29s - loss: 1.31 - ETA: 29s - loss: 1.30 - ETA: 28s - loss: 1.30 - ETA: 28s - loss: 1.30 - ETA: 27s - loss: 1.30 - ETA: 27s - loss: 1.30 - ETA: 27s - loss: 1.30 - ETA: 26s - loss: 1.30 - ETA: 26s - loss: 1.30 - ETA: 25s - loss: 1.30 - ETA: 25s - loss: 1.30 - ETA: 24s - loss: 1.30 - ETA: 24s - loss: 1.30 - ETA: 24s - loss: 1.30 - ETA: 23s - loss: 1.30 - ETA: 23s - loss: 1.30 - ETA: 22s - loss: 1.30 - ETA: 22s - loss: 1.30 - ETA: 21s - loss: 1.30 - ETA: 21s - loss: 1.30 - ETA: 21s - loss: 1.30 - ETA: 20s - loss: 1.30 - ETA: 20s - loss: 1.30 - ETA: 19s - loss: 1.31 - ETA: 19s - loss: 1.30 - ETA: 18s - loss: 1.31 - ETA: 18s - loss: 1.31 - ETA: 18s - loss: 1.31 - ETA: 17s - loss: 1.31 - ETA: 17s - loss: 1.31 - ETA: 16s - loss: 1.31 - ETA: 16s - loss: 1.31 - ETA: 15s - loss: 1.31 - ETA: 15s - loss: 1.31 - ETA: 15s - loss: 1.31 - ETA: 14s - loss: 1.31 - ETA: 14s - loss: 1.31 - ETA: 13s - loss: 1.31 - ETA: 13s - loss: 1.31 - ETA: 12s - loss: 1.31 - ETA: 12s - loss: 1.31 - ETA: 12s - loss: 1.31 - ETA: 11s - loss: 1.31 - ETA: 11s - loss: 1.31 - ETA: 10s - loss: 1.31 - ETA: 10s - loss: 1.31 - ETA: 9s - loss: 1.3111 - ETA: 9s - loss: 1.312 - ETA: 9s - loss: 1.312 - ETA: 8s - loss: 1.313 - ETA: 8s - loss: 1.313 - ETA: 7s - loss: 1.312 - ETA: 7s - loss: 1.311 - ETA: 6s - loss: 1.311 - ETA: 6s - loss: 1.311 - ETA: 6s - loss: 1.310 - ETA: 5s - loss: 1.310 - ETA: 5s - loss: 1.311 - ETA: 4s - loss: 1.312 - ETA: 4s - loss: 1.312 - ETA: 3s - loss: 1.312 - ETA: 3s - loss: 1.313 - ETA: 3s - loss: 1.314 - ETA: 2s - loss: 1.313 - ETA: 2s - loss: 1.313 - ETA: 1s - loss: 1.312 - ETA: 1s - loss: 1.313 - ETA: 0s - loss: 1.312 - ETA: 0s - loss: 1.312 - 232s 581ms/step - loss: 1.3126 - val_loss: 2.3167\n",
      "Epoch 12/12\n"
     ]
    },
    {
     "name": "stdout",
     "output_type": "stream",
     "text": [
      "318/400 [======================>.......] - ETA: 2:56 - loss: 1.584 - ETA: 2:53 - loss: 1.380 - ETA: 2:54 - loss: 1.366 - ETA: 2:54 - loss: 1.357 - ETA: 2:53 - loss: 1.365 - ETA: 2:52 - loss: 1.338 - ETA: 2:51 - loss: 1.322 - ETA: 2:50 - loss: 1.328 - ETA: 2:50 - loss: 1.313 - ETA: 2:49 - loss: 1.304 - ETA: 2:49 - loss: 1.307 - ETA: 2:48 - loss: 1.310 - ETA: 2:48 - loss: 1.292 - ETA: 2:47 - loss: 1.277 - ETA: 2:47 - loss: 1.290 - ETA: 2:46 - loss: 1.290 - ETA: 2:45 - loss: 1.289 - ETA: 2:45 - loss: 1.290 - ETA: 2:44 - loss: 1.303 - ETA: 2:44 - loss: 1.303 - ETA: 2:44 - loss: 1.306 - ETA: 2:43 - loss: 1.303 - ETA: 2:43 - loss: 1.297 - ETA: 2:42 - loss: 1.298 - ETA: 2:42 - loss: 1.287 - ETA: 2:41 - loss: 1.285 - ETA: 2:41 - loss: 1.294 - ETA: 2:40 - loss: 1.291 - ETA: 2:40 - loss: 1.297 - ETA: 2:39 - loss: 1.300 - ETA: 2:39 - loss: 1.304 - ETA: 2:38 - loss: 1.310 - ETA: 2:38 - loss: 1.307 - ETA: 2:37 - loss: 1.312 - ETA: 2:37 - loss: 1.310 - ETA: 2:37 - loss: 1.309 - ETA: 2:36 - loss: 1.308 - ETA: 2:36 - loss: 1.304 - ETA: 2:35 - loss: 1.306 - ETA: 2:35 - loss: 1.304 - ETA: 2:34 - loss: 1.300 - ETA: 2:34 - loss: 1.298 - ETA: 2:33 - loss: 1.292 - ETA: 2:33 - loss: 1.297 - ETA: 2:33 - loss: 1.294 - ETA: 2:32 - loss: 1.294 - ETA: 2:32 - loss: 1.296 - ETA: 2:31 - loss: 1.293 - ETA: 2:31 - loss: 1.291 - ETA: 2:30 - loss: 1.290 - ETA: 2:30 - loss: 1.286 - ETA: 2:30 - loss: 1.283 - ETA: 2:29 - loss: 1.279 - ETA: 2:29 - loss: 1.274 - ETA: 2:28 - loss: 1.273 - ETA: 2:28 - loss: 1.270 - ETA: 2:27 - loss: 1.268 - ETA: 2:27 - loss: 1.265 - ETA: 2:27 - loss: 1.265 - ETA: 2:26 - loss: 1.260 - ETA: 2:26 - loss: 1.258 - ETA: 2:25 - loss: 1.258 - ETA: 2:25 - loss: 1.259 - ETA: 2:25 - loss: 1.260 - ETA: 2:24 - loss: 1.260 - ETA: 2:24 - loss: 1.260 - ETA: 2:23 - loss: 1.259 - ETA: 2:23 - loss: 1.261 - ETA: 2:22 - loss: 1.262 - ETA: 2:22 - loss: 1.261 - ETA: 2:22 - loss: 1.260 - ETA: 2:21 - loss: 1.259 - ETA: 2:21 - loss: 1.257 - ETA: 2:20 - loss: 1.256 - ETA: 2:20 - loss: 1.259 - ETA: 2:19 - loss: 1.256 - ETA: 2:19 - loss: 1.256 - ETA: 2:18 - loss: 1.255 - ETA: 2:18 - loss: 1.253 - ETA: 2:18 - loss: 1.257 - ETA: 2:17 - loss: 1.262 - ETA: 2:17 - loss: 1.268 - ETA: 2:16 - loss: 1.267 - ETA: 2:16 - loss: 1.268 - ETA: 2:15 - loss: 1.270 - ETA: 2:15 - loss: 1.270 - ETA: 2:15 - loss: 1.272 - ETA: 2:14 - loss: 1.271 - ETA: 2:14 - loss: 1.272 - ETA: 2:13 - loss: 1.271 - ETA: 2:13 - loss: 1.270 - ETA: 2:12 - loss: 1.270 - ETA: 2:12 - loss: 1.269 - ETA: 2:11 - loss: 1.266 - ETA: 2:11 - loss: 1.268 - ETA: 2:11 - loss: 1.267 - ETA: 2:10 - loss: 1.265 - ETA: 2:10 - loss: 1.268 - ETA: 2:09 - loss: 1.267 - ETA: 2:09 - loss: 1.265 - ETA: 2:08 - loss: 1.266 - ETA: 2:08 - loss: 1.266 - ETA: 2:08 - loss: 1.265 - ETA: 2:07 - loss: 1.266 - ETA: 2:07 - loss: 1.265 - ETA: 2:06 - loss: 1.264 - ETA: 2:06 - loss: 1.262 - ETA: 2:05 - loss: 1.264 - ETA: 2:05 - loss: 1.264 - ETA: 2:05 - loss: 1.263 - ETA: 2:04 - loss: 1.264 - ETA: 2:04 - loss: 1.263 - ETA: 2:03 - loss: 1.261 - ETA: 2:03 - loss: 1.261 - ETA: 2:02 - loss: 1.261 - ETA: 2:02 - loss: 1.258 - ETA: 2:02 - loss: 1.257 - ETA: 2:01 - loss: 1.258 - ETA: 2:01 - loss: 1.261 - ETA: 2:00 - loss: 1.262 - ETA: 2:00 - loss: 1.261 - ETA: 1:59 - loss: 1.263 - ETA: 1:59 - loss: 1.263 - ETA: 1:59 - loss: 1.263 - ETA: 1:58 - loss: 1.266 - ETA: 1:58 - loss: 1.267 - ETA: 1:57 - loss: 1.269 - ETA: 1:57 - loss: 1.268 - ETA: 1:56 - loss: 1.267 - ETA: 1:56 - loss: 1.268 - ETA: 1:56 - loss: 1.266 - ETA: 1:55 - loss: 1.265 - ETA: 1:55 - loss: 1.265 - ETA: 1:54 - loss: 1.265 - ETA: 1:54 - loss: 1.264 - ETA: 1:53 - loss: 1.263 - ETA: 1:53 - loss: 1.261 - ETA: 1:53 - loss: 1.261 - ETA: 1:52 - loss: 1.260 - ETA: 1:52 - loss: 1.259 - ETA: 1:51 - loss: 1.260 - ETA: 1:51 - loss: 1.259 - ETA: 1:50 - loss: 1.259 - ETA: 1:50 - loss: 1.260 - ETA: 1:50 - loss: 1.259 - ETA: 1:49 - loss: 1.261 - ETA: 1:49 - loss: 1.261 - ETA: 1:48 - loss: 1.262 - ETA: 1:48 - loss: 1.262 - ETA: 1:47 - loss: 1.262 - ETA: 1:47 - loss: 1.261 - ETA: 1:46 - loss: 1.261 - ETA: 1:46 - loss: 1.261 - ETA: 1:46 - loss: 1.262 - ETA: 1:45 - loss: 1.264 - ETA: 1:45 - loss: 1.263 - ETA: 1:44 - loss: 1.263 - ETA: 1:44 - loss: 1.263 - ETA: 1:43 - loss: 1.261 - ETA: 1:43 - loss: 1.261 - ETA: 1:43 - loss: 1.261 - ETA: 1:42 - loss: 1.260 - ETA: 1:42 - loss: 1.259 - ETA: 1:41 - loss: 1.258 - ETA: 1:41 - loss: 1.259 - ETA: 1:40 - loss: 1.260 - ETA: 1:40 - loss: 1.262 - ETA: 1:40 - loss: 1.261 - ETA: 1:39 - loss: 1.260 - ETA: 1:39 - loss: 1.260 - ETA: 1:38 - loss: 1.260 - ETA: 1:38 - loss: 1.260 - ETA: 1:37 - loss: 1.260 - ETA: 1:37 - loss: 1.260 - ETA: 1:37 - loss: 1.259 - ETA: 1:36 - loss: 1.260 - ETA: 1:36 - loss: 1.260 - ETA: 1:35 - loss: 1.262 - ETA: 1:35 - loss: 1.263 - ETA: 1:34 - loss: 1.263 - ETA: 1:34 - loss: 1.263 - ETA: 1:34 - loss: 1.263 - ETA: 1:33 - loss: 1.263 - ETA: 1:33 - loss: 1.263 - ETA: 1:32 - loss: 1.264 - ETA: 1:32 - loss: 1.262 - ETA: 1:31 - loss: 1.262 - ETA: 1:31 - loss: 1.263 - ETA: 1:30 - loss: 1.264 - ETA: 1:30 - loss: 1.264 - ETA: 1:30 - loss: 1.264 - ETA: 1:29 - loss: 1.266 - ETA: 1:29 - loss: 1.264 - ETA: 1:28 - loss: 1.264 - ETA: 1:28 - loss: 1.265 - ETA: 1:27 - loss: 1.266 - ETA: 1:27 - loss: 1.268 - ETA: 1:27 - loss: 1.268 - ETA: 1:26 - loss: 1.267 - ETA: 1:26 - loss: 1.268 - ETA: 1:25 - loss: 1.268 - ETA: 1:25 - loss: 1.268 - ETA: 1:24 - loss: 1.269 - ETA: 1:24 - loss: 1.270 - ETA: 1:24 - loss: 1.272 - ETA: 1:23 - loss: 1.271 - ETA: 1:23 - loss: 1.272 - ETA: 1:22 - loss: 1.272 - ETA: 1:22 - loss: 1.272 - ETA: 1:21 - loss: 1.273 - ETA: 1:21 - loss: 1.272 - ETA: 1:21 - loss: 1.270 - ETA: 1:20 - loss: 1.271 - ETA: 1:20 - loss: 1.271 - ETA: 1:19 - loss: 1.270 - ETA: 1:19 - loss: 1.270 - ETA: 1:18 - loss: 1.269 - ETA: 1:18 - loss: 1.268 - ETA: 1:18 - loss: 1.268 - ETA: 1:17 - loss: 1.267 - ETA: 1:17 - loss: 1.266 - ETA: 1:16 - loss: 1.266 - ETA: 1:16 - loss: 1.265 - ETA: 1:15 - loss: 1.265 - ETA: 1:15 - loss: 1.264 - ETA: 1:15 - loss: 1.265 - ETA: 1:14 - loss: 1.265 - ETA: 1:14 - loss: 1.265 - ETA: 1:13 - loss: 1.265 - ETA: 1:13 - loss: 1.265 - ETA: 1:12 - loss: 1.266 - ETA: 1:12 - loss: 1.266 - ETA: 1:11 - loss: 1.266 - ETA: 1:11 - loss: 1.265 - ETA: 1:11 - loss: 1.265 - ETA: 1:10 - loss: 1.265 - ETA: 1:10 - loss: 1.264 - ETA: 1:09 - loss: 1.264 - ETA: 1:09 - loss: 1.264 - ETA: 1:08 - loss: 1.263 - ETA: 1:08 - loss: 1.263 - ETA: 1:08 - loss: 1.263 - ETA: 1:07 - loss: 1.261 - ETA: 1:07 - loss: 1.262 - ETA: 1:06 - loss: 1.261 - ETA: 1:06 - loss: 1.262 - ETA: 1:05 - loss: 1.262 - ETA: 1:05 - loss: 1.262 - ETA: 1:05 - loss: 1.262 - ETA: 1:04 - loss: 1.262 - ETA: 1:04 - loss: 1.263 - ETA: 1:03 - loss: 1.263 - ETA: 1:03 - loss: 1.263 - ETA: 1:02 - loss: 1.262 - ETA: 1:02 - loss: 1.262 - ETA: 1:02 - loss: 1.262 - ETA: 1:01 - loss: 1.262 - ETA: 1:01 - loss: 1.261 - ETA: 1:00 - loss: 1.261 - ETA: 1:00 - loss: 1.261 - ETA: 59s - loss: 1.261 - ETA: 59s - loss: 1.26 - ETA: 59s - loss: 1.26 - ETA: 58s - loss: 1.25 - ETA: 58s - loss: 1.25 - ETA: 57s - loss: 1.25 - ETA: 57s - loss: 1.25 - ETA: 56s - loss: 1.25 - ETA: 56s - loss: 1.25 - ETA: 56s - loss: 1.25 - ETA: 55s - loss: 1.25 - ETA: 55s - loss: 1.25 - ETA: 54s - loss: 1.25 - ETA: 54s - loss: 1.25 - ETA: 53s - loss: 1.25 - ETA: 53s - loss: 1.25 - ETA: 52s - loss: 1.25 - ETA: 52s - loss: 1.25 - ETA: 52s - loss: 1.25 - ETA: 51s - loss: 1.25 - ETA: 51s - loss: 1.25 - ETA: 50s - loss: 1.25 - ETA: 50s - loss: 1.25 - ETA: 49s - loss: 1.25 - ETA: 49s - loss: 1.25 - ETA: 49s - loss: 1.25 - ETA: 48s - loss: 1.25 - ETA: 48s - loss: 1.25 - ETA: 47s - loss: 1.25 - ETA: 47s - loss: 1.25 - ETA: 46s - loss: 1.25 - ETA: 46s - loss: 1.25 - ETA: 46s - loss: 1.25 - ETA: 45s - loss: 1.25 - ETA: 45s - loss: 1.25 - ETA: 44s - loss: 1.25 - ETA: 44s - loss: 1.25 - ETA: 43s - loss: 1.25 - ETA: 43s - loss: 1.25 - ETA: 43s - loss: 1.25 - ETA: 42s - loss: 1.25 - ETA: 42s - loss: 1.25 - ETA: 41s - loss: 1.25 - ETA: 41s - loss: 1.25 - ETA: 40s - loss: 1.25 - ETA: 40s - loss: 1.25 - ETA: 40s - loss: 1.25 - ETA: 39s - loss: 1.25 - ETA: 39s - loss: 1.25 - ETA: 38s - loss: 1.25 - ETA: 38s - loss: 1.25 - ETA: 37s - loss: 1.25 - ETA: 37s - loss: 1.25 - ETA: 37s - loss: 1.25 - ETA: 36s - loss: 1.25 - ETA: 36s - loss: 1.25 - ETA: 35s - loss: 1.25 - ETA: 35s - loss: 1.2505"
     ]
    },
    {
     "name": "stdout",
     "output_type": "stream",
     "text": [
      "400/400 [==============================] - ETA: 34s - loss: 1.25 - ETA: 34s - loss: 1.24 - ETA: 34s - loss: 1.24 - ETA: 33s - loss: 1.24 - ETA: 33s - loss: 1.24 - ETA: 32s - loss: 1.24 - ETA: 32s - loss: 1.24 - ETA: 31s - loss: 1.24 - ETA: 31s - loss: 1.24 - ETA: 31s - loss: 1.24 - ETA: 30s - loss: 1.24 - ETA: 30s - loss: 1.24 - ETA: 29s - loss: 1.24 - ETA: 29s - loss: 1.24 - ETA: 28s - loss: 1.24 - ETA: 28s - loss: 1.24 - ETA: 27s - loss: 1.24 - ETA: 27s - loss: 1.24 - ETA: 27s - loss: 1.24 - ETA: 26s - loss: 1.24 - ETA: 26s - loss: 1.24 - ETA: 25s - loss: 1.24 - ETA: 25s - loss: 1.24 - ETA: 24s - loss: 1.24 - ETA: 24s - loss: 1.24 - ETA: 24s - loss: 1.24 - ETA: 23s - loss: 1.24 - ETA: 23s - loss: 1.24 - ETA: 22s - loss: 1.24 - ETA: 22s - loss: 1.24 - ETA: 21s - loss: 1.24 - ETA: 21s - loss: 1.24 - ETA: 21s - loss: 1.24 - ETA: 20s - loss: 1.24 - ETA: 20s - loss: 1.24 - ETA: 19s - loss: 1.24 - ETA: 19s - loss: 1.24 - ETA: 18s - loss: 1.25 - ETA: 18s - loss: 1.25 - ETA: 18s - loss: 1.25 - ETA: 17s - loss: 1.25 - ETA: 17s - loss: 1.25 - ETA: 16s - loss: 1.25 - ETA: 16s - loss: 1.25 - ETA: 15s - loss: 1.25 - ETA: 15s - loss: 1.25 - ETA: 15s - loss: 1.25 - ETA: 14s - loss: 1.25 - ETA: 14s - loss: 1.25 - ETA: 13s - loss: 1.25 - ETA: 13s - loss: 1.25 - ETA: 12s - loss: 1.25 - ETA: 12s - loss: 1.25 - ETA: 12s - loss: 1.25 - ETA: 11s - loss: 1.25 - ETA: 11s - loss: 1.25 - ETA: 10s - loss: 1.25 - ETA: 10s - loss: 1.25 - ETA: 9s - loss: 1.2538 - ETA: 9s - loss: 1.253 - ETA: 9s - loss: 1.253 - ETA: 8s - loss: 1.254 - ETA: 8s - loss: 1.254 - ETA: 7s - loss: 1.255 - ETA: 7s - loss: 1.255 - ETA: 6s - loss: 1.255 - ETA: 6s - loss: 1.255 - ETA: 6s - loss: 1.254 - ETA: 5s - loss: 1.255 - ETA: 5s - loss: 1.255 - ETA: 4s - loss: 1.254 - ETA: 4s - loss: 1.255 - ETA: 3s - loss: 1.255 - ETA: 3s - loss: 1.254 - ETA: 3s - loss: 1.254 - ETA: 2s - loss: 1.254 - ETA: 2s - loss: 1.255 - ETA: 1s - loss: 1.255 - ETA: 1s - loss: 1.255 - ETA: 0s - loss: 1.255 - ETA: 0s - loss: 1.255 - 232s 580ms/step - loss: 1.2548 - val_loss: 2.3779\n",
      "--- 2791.6014688014984 seconds ---\n"
     ]
    }
   ],
   "source": [
    "import time\n",
    "start_time = time.time()\n",
    "hist = model.fit_generator(\n",
    "    generator =  train_gen,\n",
    "    epochs = 12, # 150\n",
    "    verbose = 1, \n",
    "    validation_data = valid_gen,\n",
    "    callbacks = [\n",
    "        EarlyStopping(monitor='val_loss', patience = 150, verbose = 0)\n",
    "    ]\n",
    ")\n",
    "print(\"--- %s seconds ---\" % (time.time() - start_time))"
   ]
  },
  {
   "cell_type": "code",
   "execution_count": 17,
   "metadata": {
    "_uuid": "9b4790925984514e64ca5a9b46de8b309062e0cf"
   },
   "outputs": [
    {
     "data": {
      "image/png": "[encoded data removed]",
      "text/plain": [
       "<Figure size 432x288 with 1 Axes>"
      ]
     },
     "metadata": {
      "needs_background": "light"
     },
     "output_type": "display_data"
    }
   ],
   "source": [
    "plt.plot(hist.history['loss'])\n",
    "plt.plot(hist.history['val_loss'])\n",
    "plt.title('Model loss')\n",
    "plt.ylabel('Loss')\n",
    "plt.xlabel('Epoch')\n",
    "_= plt.legend(['Train', 'Test'], loc='upper left')"
   ]
  },
  {
   "cell_type": "code",
   "execution_count": 18,
   "metadata": {},
   "outputs": [
    {
     "data": {
      "text/plain": [
       "3561"
      ]
     },
     "execution_count": 18,
     "metadata": {},
     "output_type": "execute_result"
    }
   ],
   "source": [
    "import gc\n",
    "# del train_gen\n",
    "# del valid_gen\n",
    "# del X_train\n",
    "# del y_train\n",
    "# del train_df\n",
    "gc.collect()\n"
   ]
  },
  {
   "cell_type": "code",
   "execution_count": 19,
   "metadata": {},
   "outputs": [],
   "source": [
    "model.save_weights('./trained_model.h5', overwrite=True)"
   ]
  },
  {
   "cell_type": "markdown",
   "metadata": {
    "_uuid": "c3340d6d6ce75585f90c98f1728b1cd664d7f33f"
   },
   "source": [
    "Load and normalize the test data"
   ]
  },
  {
   "cell_type": "code",
   "execution_count": 20,
   "metadata": {},
   "outputs": [],
   "source": [
    "def load_test(ts_length = 150000):\n",
    "    base_dir = DATA/'test'\n",
    "    test_files = [f for f in listdir(base_dir) if isfile(join(base_dir, f))]\n",
    "\n",
    "    ts = np.empty([len(test_files), ts_length])\n",
    "    ids = []\n",
    "    \n",
    "    i = 0\n",
    "    for f in tqdm_notebook(test_files):\n",
    "        ids.append(splitext(f)[0])\n",
    "        t_df = pd.read_csv(base_dir/f, dtype={\"acoustic_data\": np.int8})\n",
    "        ts[i, :] = t_df['acoustic_data'].values\n",
    "        i = i + 1\n",
    "\n",
    "    return ts, ids"
   ]
  },
  {
   "cell_type": "code",
   "execution_count": 21,
   "metadata": {
    "_uuid": "0f005579ea08913f4f68a3749bd761df6cef2b1b"
   },
   "outputs": [
    {
     "data": {
      "application/vnd.jupyter.widget-view+json": {
       "model_id": "59d8d7a203574fd5ac5c7f674e04ff2a",
       "version_major": 2,
       "version_minor": 0
      },
      "text/plain": [
       "HBox(children=(IntProgress(value=0, max=2624), HTML(value='')))"
      ]
     },
     "metadata": {},
     "output_type": "display_data"
    },
    {
     "name": "stdout",
     "output_type": "stream",
     "text": [
      "\n"
     ]
    }
   ],
   "source": [
    "test_data, test_ids = load_test()"
   ]
  },
  {
   "cell_type": "code",
   "execution_count": 22,
   "metadata": {
    "_uuid": "0c3b7a864a9f53af142a08883def46c3866c5464"
   },
   "outputs": [
    {
     "data": {
      "text/plain": [
       "(2624, 150000, 1)"
      ]
     },
     "execution_count": 22,
     "metadata": {},
     "output_type": "execute_result"
    }
   ],
   "source": [
    "X_test = ((test_data - X_train_mean)/ X_train_std)\n",
    "X_test = np.expand_dims(X_test, 2)\n",
    "X_test.shape"
   ]
  },
  {
   "cell_type": "markdown",
   "metadata": {
    "_uuid": "bf9b36929e5228d4d94b3b7ad1b9011bf088ac44"
   },
   "source": [
    "Load best model and predict"
   ]
  },
  {
   "cell_type": "code",
   "execution_count": 23,
   "metadata": {
    "_uuid": "435449fda2bf96635e67d69f56227e140c4cea99"
   },
   "outputs": [],
   "source": [
    "y_pred = model.predict(X_test)"
   ]
  },
  {
   "cell_type": "code",
   "execution_count": 24,
   "metadata": {
    "_uuid": "9aaf9fb44edba5879a75c68820527d9180d2b3c6"
   },
   "outputs": [],
   "source": [
    "submission_df = pd.DataFrame({'seg_id': test_ids, 'time_to_failure': y_pred[:, 0]})"
   ]
  },
  {
   "cell_type": "code",
   "execution_count": 25,
   "metadata": {
    "_uuid": "9b9d5c63161f637de2e39b59e8e4d7c2f3049581"
   },
   "outputs": [],
   "source": [
    "submission_df.to_csv(\"submission.csv\", index=False)"
   ]
  }
 ],
 "metadata": {
  "kernelspec": {
   "display_name": "TensorFlow",
   "language": "python",
   "name": "tf_gpu"
  },
  "language_info": {
   "codemirror_mode": {
    "name": "ipython",
    "version": 3
   },
   "file_extension": ".py",
   "mimetype": "text/x-python",
   "name": "python",
   "nbconvert_exporter": "python",
   "pygments_lexer": "ipython3",
   "version": "3.7.3"
  }
 },
 "nbformat": 4,
 "nbformat_minor": 1
}
